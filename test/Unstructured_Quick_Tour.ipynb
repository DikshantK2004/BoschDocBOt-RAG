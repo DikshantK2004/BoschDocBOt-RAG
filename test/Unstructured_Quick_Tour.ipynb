{
  "cells": [
    {
      "cell_type": "markdown",
      "metadata": {
        "id": "BP8bdWSbBRqw"
      },
      "source": [
        "## Quick Tour\n",
        "\n",
        "The following examples show how to get started with the `unstructured` library. See\n",
        "our [documentation page](https://unstructured-io.github.io/unstructured) for a full description\n",
        "of the features in the library.\n",
        "\n",
        "Another way to try out the `unstructured` library is by running a docker container -- compatible with either Intel/AMD or Apple Silicon! Check out the [instructions for using the docker image](https://github.com/Unstructured-IO/unstructured#dizzy-instructions-for-using-the-docker-image)."
      ]
    },
    {
      "cell_type": "code",
      "execution_count": 1,
      "metadata": {
        "id": "jZp37lfueaeZ",
        "colab": {
          "base_uri": "https://localhost:8080/"
        },
        "outputId": "12b23b34-332f-4fb2-f7b1-6adb0b0357ae"
      },
      "outputs": [
        {
          "output_type": "stream",
          "name": "stdout",
          "text": [
            "Selecting previously unselected package poppler-utils.\n",
            "(Reading database ... 121918 files and directories currently installed.)\n",
            "Preparing to unpack .../poppler-utils_22.02.0-2ubuntu0.4_amd64.deb ...\n",
            "Unpacking poppler-utils (22.02.0-2ubuntu0.4) ...\n",
            "Selecting previously unselected package tesseract-ocr-eng.\n",
            "Preparing to unpack .../tesseract-ocr-eng_1%3a4.00~git30-7274cfa-1.1_all.deb ...\n",
            "Unpacking tesseract-ocr-eng (1:4.00~git30-7274cfa-1.1) ...\n",
            "Selecting previously unselected package tesseract-ocr-osd.\n",
            "Preparing to unpack .../tesseract-ocr-osd_1%3a4.00~git30-7274cfa-1.1_all.deb ...\n",
            "Unpacking tesseract-ocr-osd (1:4.00~git30-7274cfa-1.1) ...\n",
            "Selecting previously unselected package tesseract-ocr.\n",
            "Preparing to unpack .../tesseract-ocr_4.1.1-2.1build1_amd64.deb ...\n",
            "Unpacking tesseract-ocr (4.1.1-2.1build1) ...\n",
            "Setting up tesseract-ocr-eng (1:4.00~git30-7274cfa-1.1) ...\n",
            "Setting up tesseract-ocr-osd (1:4.00~git30-7274cfa-1.1) ...\n",
            "Setting up poppler-utils (22.02.0-2ubuntu0.4) ...\n",
            "Setting up tesseract-ocr (4.1.1-2.1build1) ...\n",
            "Processing triggers for man-db (2.10.2-1) ...\n",
            "\u001b[2K     \u001b[90m━━━━━━━━━━━━━━━━━━━━━━━━━━━━━━━━━━━━━━━━\u001b[0m \u001b[32m4.5/4.5 MB\u001b[0m \u001b[31m37.9 MB/s\u001b[0m eta \u001b[36m0:00:00\u001b[0m\n",
            "\u001b[?25h\u001b[31mERROR: pip's dependency resolver does not currently take into account all the packages that are installed. This behaviour is the source of the following dependency conflicts.\n",
            "imageio 2.31.6 requires pillow<10.1.0,>=8.3.2, but you have pillow 10.3.0 which is incompatible.\u001b[0m\u001b[31m\n",
            "\u001b[2K     \u001b[90m━━━━━━━━━━━━━━━━━━━━━━━━━━━━━━━━━━━━━━━━\u001b[0m \u001b[32m1.8/1.8 MB\u001b[0m \u001b[31m20.3 MB/s\u001b[0m eta \u001b[36m0:00:00\u001b[0m\n",
            "\u001b[2K     \u001b[90m━━━━━━━━━━━━━━━━━━━━━━━━━━━━━━━━━━━━━━━━\u001b[0m \u001b[32m431.4/431.4 kB\u001b[0m \u001b[31m34.0 MB/s\u001b[0m eta \u001b[36m0:00:00\u001b[0m\n",
            "\u001b[2K     \u001b[90m━━━━━━━━━━━━━━━━━━━━━━━━━━━━━━━━━━━━━━━━\u001b[0m \u001b[32m274.7/274.7 kB\u001b[0m \u001b[31m28.3 MB/s\u001b[0m eta \u001b[36m0:00:00\u001b[0m\n",
            "\u001b[2K     \u001b[90m━━━━━━━━━━━━━━━━━━━━━━━━━━━━━━━━━━━━━━━━\u001b[0m \u001b[32m981.5/981.5 kB\u001b[0m \u001b[31m55.2 MB/s\u001b[0m eta \u001b[36m0:00:00\u001b[0m\n",
            "\u001b[?25h  Preparing metadata (setup.py) ... \u001b[?25l\u001b[?25hdone\n",
            "\u001b[2K     \u001b[90m━━━━━━━━━━━━━━━━━━━━━━━━━━━━━━━━━━━━━━━━\u001b[0m \u001b[32m3.4/3.4 MB\u001b[0m \u001b[31m56.7 MB/s\u001b[0m eta \u001b[36m0:00:00\u001b[0m\n",
            "\u001b[2K     \u001b[90m━━━━━━━━━━━━━━━━━━━━━━━━━━━━━━━━━━━━━━━━\u001b[0m \u001b[32m244.3/244.3 kB\u001b[0m \u001b[31m22.7 MB/s\u001b[0m eta \u001b[36m0:00:00\u001b[0m\n",
            "\u001b[2K     \u001b[90m━━━━━━━━━━━━━━━━━━━━━━━━━━━━━━━━━━━━━━━━\u001b[0m \u001b[32m290.4/290.4 kB\u001b[0m \u001b[31m24.9 MB/s\u001b[0m eta \u001b[36m0:00:00\u001b[0m\n",
            "\u001b[2K     \u001b[90m━━━━━━━━━━━━━━━━━━━━━━━━━━━━━━━━━━━━━━━━\u001b[0m \u001b[32m7.5/7.5 MB\u001b[0m \u001b[31m57.8 MB/s\u001b[0m eta \u001b[36m0:00:00\u001b[0m\n",
            "\u001b[2K     \u001b[90m━━━━━━━━━━━━━━━━━━━━━━━━━━━━━━━━━━━━━━━━\u001b[0m \u001b[32m471.6/471.6 kB\u001b[0m \u001b[31m33.9 MB/s\u001b[0m eta \u001b[36m0:00:00\u001b[0m\n",
            "\u001b[2K     \u001b[90m━━━━━━━━━━━━━━━━━━━━━━━━━━━━━━━━━━━━━━━━\u001b[0m \u001b[32m2.4/2.4 MB\u001b[0m \u001b[31m73.6 MB/s\u001b[0m eta \u001b[36m0:00:00\u001b[0m\n",
            "\u001b[2K     \u001b[90m━━━━━━━━━━━━━━━━━━━━━━━━━━━━━━━━━━━━━━━━\u001b[0m \u001b[32m15.9/15.9 MB\u001b[0m \u001b[31m25.1 MB/s\u001b[0m eta \u001b[36m0:00:00\u001b[0m\n",
            "\u001b[2K     \u001b[90m━━━━━━━━━━━━━━━━━━━━━━━━━━━━━━━━━━━━━━━━\u001b[0m \u001b[32m60.1/60.1 kB\u001b[0m \u001b[31m6.6 MB/s\u001b[0m eta \u001b[36m0:00:00\u001b[0m\n",
            "\u001b[2K     \u001b[90m━━━━━━━━━━━━━━━━━━━━━━━━━━━━━━━━━━━━━━━━\u001b[0m \u001b[32m101.8/101.8 kB\u001b[0m \u001b[31m11.0 MB/s\u001b[0m eta \u001b[36m0:00:00\u001b[0m\n",
            "\u001b[2K     \u001b[90m━━━━━━━━━━━━━━━━━━━━━━━━━━━━━━━━━━━━━━━━\u001b[0m \u001b[32m5.6/5.6 MB\u001b[0m \u001b[31m76.2 MB/s\u001b[0m eta \u001b[36m0:00:00\u001b[0m\n",
            "\u001b[2K     \u001b[90m━━━━━━━━━━━━━━━━━━━━━━━━━━━━━━━━━━━━━━━━\u001b[0m \u001b[32m19.2/19.2 MB\u001b[0m \u001b[31m56.4 MB/s\u001b[0m eta \u001b[36m0:00:00\u001b[0m\n",
            "\u001b[2K     \u001b[90m━━━━━━━━━━━━━━━━━━━━━━━━━━━━━━━━━━━━━━━━\u001b[0m \u001b[32m5.9/5.9 MB\u001b[0m \u001b[31m76.3 MB/s\u001b[0m eta \u001b[36m0:00:00\u001b[0m\n",
            "\u001b[2K     \u001b[90m━━━━━━━━━━━━━━━━━━━━━━━━━━━━━━━━━━━━━━━━\u001b[0m \u001b[32m159.9/159.9 kB\u001b[0m \u001b[31m16.4 MB/s\u001b[0m eta \u001b[36m0:00:00\u001b[0m\n",
            "\u001b[2K     \u001b[90m━━━━━━━━━━━━━━━━━━━━━━━━━━━━━━━━━━━━━━━━\u001b[0m \u001b[32m80.8/80.8 kB\u001b[0m \u001b[31m8.8 MB/s\u001b[0m eta \u001b[36m0:00:00\u001b[0m\n",
            "\u001b[2K     \u001b[90m━━━━━━━━━━━━━━━━━━━━━━━━━━━━━━━━━━━━━━━━\u001b[0m \u001b[32m49.3/49.3 kB\u001b[0m \u001b[31m4.8 MB/s\u001b[0m eta \u001b[36m0:00:00\u001b[0m\n",
            "\u001b[2K     \u001b[90m━━━━━━━━━━━━━━━━━━━━━━━━━━━━━━━━━━━━━━━━\u001b[0m \u001b[32m114.6/114.6 kB\u001b[0m \u001b[31m12.6 MB/s\u001b[0m eta \u001b[36m0:00:00\u001b[0m\n",
            "\u001b[2K     \u001b[90m━━━━━━━━━━━━━━━━━━━━━━━━━━━━━━━━━━━━━━━━\u001b[0m \u001b[32m46.0/46.0 kB\u001b[0m \u001b[31m5.4 MB/s\u001b[0m eta \u001b[36m0:00:00\u001b[0m\n",
            "\u001b[2K     \u001b[90m━━━━━━━━━━━━━━━━━━━━━━━━━━━━━━━━━━━━━━━━\u001b[0m \u001b[32m42.2/42.2 kB\u001b[0m \u001b[31m4.7 MB/s\u001b[0m eta \u001b[36m0:00:00\u001b[0m\n",
            "\u001b[?25h  Preparing metadata (setup.py) ... \u001b[?25l\u001b[?25hdone\n",
            "\u001b[2K     \u001b[90m━━━━━━━━━━━━━━━━━━━━━━━━━━━━━━━━━━━━━━━━\u001b[0m \u001b[32m56.4/56.4 kB\u001b[0m \u001b[31m6.1 MB/s\u001b[0m eta \u001b[36m0:00:00\u001b[0m\n",
            "\u001b[2K     \u001b[90m━━━━━━━━━━━━━━━━━━━━━━━━━━━━━━━━━━━━━━━━\u001b[0m \u001b[32m112.5/112.5 kB\u001b[0m \u001b[31m11.2 MB/s\u001b[0m eta \u001b[36m0:00:00\u001b[0m\n",
            "\u001b[2K     \u001b[90m━━━━━━━━━━━━━━━━━━━━━━━━━━━━━━━━━━━━━━━━\u001b[0m \u001b[32m86.8/86.8 kB\u001b[0m \u001b[31m7.3 MB/s\u001b[0m eta \u001b[36m0:00:00\u001b[0m\n",
            "\u001b[2K     \u001b[90m━━━━━━━━━━━━━━━━━━━━━━━━━━━━━━━━━━━━━━━━\u001b[0m \u001b[32m2.3/2.3 MB\u001b[0m \u001b[31m75.9 MB/s\u001b[0m eta \u001b[36m0:00:00\u001b[0m\n",
            "\u001b[2K     \u001b[90m━━━━━━━━━━━━━━━━━━━━━━━━━━━━━━━━━━━━━━━━\u001b[0m \u001b[32m79.5/79.5 kB\u001b[0m \u001b[31m8.5 MB/s\u001b[0m eta \u001b[36m0:00:00\u001b[0m\n",
            "\u001b[2K     \u001b[90m━━━━━━━━━━━━━━━━━━━━━━━━━━━━━━━━━━━━━━━━\u001b[0m \u001b[32m21.3/21.3 MB\u001b[0m \u001b[31m55.5 MB/s\u001b[0m eta \u001b[36m0:00:00\u001b[0m\n",
            "\u001b[2K     \u001b[90m━━━━━━━━━━━━━━━━━━━━━━━━━━━━━━━━━━━━━━━━\u001b[0m \u001b[32m2.8/2.8 MB\u001b[0m \u001b[31m70.9 MB/s\u001b[0m eta \u001b[36m0:00:00\u001b[0m\n",
            "\u001b[2K     \u001b[90m━━━━━━━━━━━━━━━━━━━━━━━━━━━━━━━━━━━━━━━━\u001b[0m \u001b[32m117.0/117.0 kB\u001b[0m \u001b[31m14.2 MB/s\u001b[0m eta \u001b[36m0:00:00\u001b[0m\n",
            "\u001b[?25h  Preparing metadata (setup.py) ... \u001b[?25l\u001b[?25hdone\n",
            "  Building wheel for langdetect (setup.py) ... \u001b[?25l\u001b[?25hdone\n",
            "  Building wheel for iopath (setup.py) ... \u001b[?25l\u001b[?25hdone\n",
            "  Building wheel for antlr4-python3-runtime (setup.py) ... \u001b[?25l\u001b[?25hdone\n"
          ]
        }
      ],
      "source": [
        "# Install Requirements\n",
        "!apt-get -qq install poppler-utils tesseract-ocr\n",
        "# Upgrade Pillow to latest version\n",
        "%pip install -q --user --upgrade pillow\n",
        "# Install Python Packages\n",
        "%pip install -q unstructured[\"all-docs\"]==0.12.5\n",
        "# NOTE: you may also upgrade to the latest version with the command below,\n",
        "#       though a more recent version of unstructured will not have been tested with this notebook\n",
        "# %pip install -q --upgrade unstructured"
      ]
    },
    {
      "cell_type": "markdown",
      "metadata": {
        "id": "Aq7KaO6NtYXY"
      },
      "source": [
        "See our [example docs page](https://github.com/Unstructured-IO/unstructured/tree/main/example-docs) to find example docs used in this tutorial. You can also upload your own files by clicking on “Choose Files” on the left panel then select and upload the file to Colab."
      ]
    },
    {
      "cell_type": "code",
      "execution_count": 2,
      "metadata": {
        "id": "F2JBqRZgtq2Z",
        "colab": {
          "base_uri": "https://localhost:8080/"
        },
        "outputId": "431646bf-fb3a-4ee4-c42a-8e049809b5e9"
      },
      "outputs": [
        {
          "output_type": "stream",
          "name": "stdout",
          "text": [
            "--2024-05-23 16:50:02--  https://raw.githubusercontent.com/Unstructured-IO/unstructured/main/example-docs/example-10k.html\n",
            "Resolving raw.githubusercontent.com (raw.githubusercontent.com)... 185.199.110.133, 185.199.108.133, 185.199.109.133, ...\n",
            "Connecting to raw.githubusercontent.com (raw.githubusercontent.com)|185.199.110.133|:443... connected.\n",
            "HTTP request sent, awaiting response... 200 OK\n",
            "Length: 2456707 (2.3M) [text/plain]\n",
            "Saving to: ‘example-docs/example-10k.html’\n",
            "\n",
            "\rexample-10k.html      0%[                    ]       0  --.-KB/s               \rexample-10k.html    100%[===================>]   2.34M  --.-KB/s    in 0.07s   \n",
            "\n",
            "2024-05-23 16:50:02 (31.4 MB/s) - ‘example-docs/example-10k.html’ saved [2456707/2456707]\n",
            "\n",
            "--2024-05-23 16:50:03--  https://raw.githubusercontent.com/Unstructured-IO/unstructured/main/example-docs/layout-parser-paper-fast.pdf\n",
            "Resolving raw.githubusercontent.com (raw.githubusercontent.com)... 185.199.108.133, 185.199.109.133, 185.199.110.133, ...\n",
            "Connecting to raw.githubusercontent.com (raw.githubusercontent.com)|185.199.108.133|:443... connected.\n",
            "HTTP request sent, awaiting response... 200 OK\n",
            "Length: 172270 (168K) [application/octet-stream]\n",
            "Saving to: ‘example-docs/layout-parser-paper-fast.pdf’\n",
            "\n",
            "layout-parser-paper 100%[===================>] 168.23K  --.-KB/s    in 0.03s   \n",
            "\n",
            "2024-05-23 16:50:03 (4.97 MB/s) - ‘example-docs/layout-parser-paper-fast.pdf’ saved [172270/172270]\n",
            "\n"
          ]
        }
      ],
      "source": [
        "!mkdir -p example-docs\n",
        "# Install example-10k.html and layout-parser-paper.pdf\n",
        "!wget  https://raw.githubusercontent.com/Unstructured-IO/unstructured/main/example-docs/example-10k.html -P example-docs\n",
        "!wget  https://raw.githubusercontent.com/Unstructured-IO/unstructured/main/example-docs/layout-parser-paper-fast.pdf -P example-docs"
      ]
    },
    {
      "cell_type": "code",
      "execution_count": 3,
      "metadata": {
        "id": "huxQF-koB_8t",
        "colab": {
          "base_uri": "https://localhost:8080/"
        },
        "outputId": "fbee17c5-00a9-4675-ba6b-29c3b12db7e3"
      },
      "outputs": [
        {
          "output_type": "stream",
          "name": "stderr",
          "text": [
            "[nltk_data] Downloading package punkt to /root/nltk_data...\n",
            "[nltk_data]   Unzipping tokenizers/punkt.zip.\n",
            "[nltk_data] Downloading package averaged_perceptron_tagger to\n",
            "[nltk_data]     /root/nltk_data...\n",
            "[nltk_data]   Unzipping taggers/averaged_perceptron_tagger.zip.\n"
          ]
        },
        {
          "output_type": "execute_result",
          "data": {
            "text/plain": [
              "True"
            ]
          },
          "metadata": {},
          "execution_count": 3
        }
      ],
      "source": [
        "# Install NLTK Data\n",
        "import nltk\n",
        "nltk.download('punkt')\n",
        "nltk.download('averaged_perceptron_tagger')"
      ]
    },
    {
      "cell_type": "markdown",
      "metadata": {
        "id": "zNtvbgOeCHg0"
      },
      "source": [
        "### HTML Parsing\n",
        "\n",
        "You can parse an HTML document using the following workflow:"
      ]
    },
    {
      "cell_type": "code",
      "execution_count": null,
      "metadata": {
        "id": "4JpZp1Cy8kFC",
        "colab": {
          "base_uri": "https://localhost:8080/",
          "height": 35
        },
        "outputId": "ad981712-00d1-428c-ea4c-4aeb87009fe7"
      },
      "outputs": [
        {
          "output_type": "execute_result",
          "data": {
            "text/plain": [
              "'\\nfrom google.colab import drive\\ndrive.mount(\\'/content/drive/\\')\\ndoc = HTMLDocument.from_file(\"drive/MyDrive/your-filename.html\")\\n'"
            ],
            "application/vnd.google.colaboratory.intrinsic+json": {
              "type": "string"
            }
          },
          "metadata": {},
          "execution_count": 4
        }
      ],
      "source": [
        "from unstructured.documents.html import HTMLDocument\n",
        "\n",
        "doc = HTMLDocument.from_file(\"example-docs/example-10k.html\")\n",
        "\n",
        "# This is how you would use a document from your google Drive\n",
        "\"\"\"\n",
        "from google.colab import drive\n",
        "drive.mount('/content/drive/')\n",
        "doc = HTMLDocument.from_file(\"drive/MyDrive/your-filename.html\")\n",
        "\"\"\""
      ]
    },
    {
      "cell_type": "markdown",
      "metadata": {
        "id": "ZhUj4fniKBKN"
      },
      "source": [
        "The third page of output looks like the following:"
      ]
    },
    {
      "cell_type": "code",
      "execution_count": null,
      "metadata": {
        "id": "a3wq02uiKGoa",
        "colab": {
          "base_uri": "https://localhost:8080/"
        },
        "outputId": "13849fe3-b6e2-4e5f-ed28-69b69a241130"
      },
      "outputs": [
        {
          "output_type": "stream",
          "name": "stdout",
          "text": [
            "SPECIAL NOTE REGARDING FORWARD-LOOKING STATEMENTS\n",
            "\n",
            "This report contains statements that do not relate to historical or current facts but are “forward-looking” statements. These statements relate to analyses and other information based on forecasts of future results and estimates of amounts not yet determinable. These statements may also relate to future events or trends, our future prospects and proposed new products, services, developments or business strategies, among other things. These statements can generally (although not always) be identified by their use of terms and phrases such as anticipate, appear, believe, could, would, estimate, expect, indicate, intent, may, plan, predict, project, pursue, will continue and other similar terms and phrases, as well as the use of the future tense.\n",
            "\n",
            "Actual results could differ materially from those expressed or implied in our forward-looking statements. Our future financial condition and results of operations, as well as any forward-looking statements, are subject to change and to inherent known and unknown risks and uncertainties. You should not assume at any point in the future that the forward-looking statements in this report are still valid. We do not intend, and undertake no obligation, to update our forward-looking statements to reflect future events or circumstances.\n"
          ]
        }
      ],
      "source": [
        "print(doc.pages[2])"
      ]
    },
    {
      "cell_type": "code",
      "execution_count": null,
      "metadata": {
        "id": "X2jIJGn6GM-d",
        "colab": {
          "base_uri": "https://localhost:8080/"
        },
        "outputId": "58856d74-a183-44da-db39-f252dd8d11a4"
      },
      "outputs": [
        {
          "output_type": "execute_result",
          "data": {
            "text/plain": [
              "[<unstructured.documents.html.HTMLTitle at 0x7fc2ebf462c0>,\n",
              " <unstructured.documents.html.HTMLNarrativeText at 0x7fc2ebf46410>,\n",
              " <unstructured.documents.html.HTMLNarrativeText at 0x7fc2ebf464a0>]"
            ]
          },
          "metadata": {},
          "execution_count": 6
        }
      ],
      "source": [
        "doc.pages[2].elements"
      ]
    },
    {
      "cell_type": "markdown",
      "metadata": {
        "id": "ab9bqf94GO9Z"
      },
      "source": [
        "You can see that the parser successfully differentiated between titles and narrative text."
      ]
    },
    {
      "cell_type": "markdown",
      "metadata": {
        "id": "vfurRdAnGagZ"
      },
      "source": [
        "### PDF Parsing\n",
        "\n",
        "There are two strategies availalbe for parsing PDF documents: \"fast\" and \"hi_res.\" The default strategy is \"hi_res\"\n",
        "\n",
        "If your main objective is extracting text from a \"clean\" PDF, i.e. one that does not include text in images that require OCR), go with the \"fast\" option.\n",
        "\n",
        "Otherwise, if your PDF may have images with text to extract, or, you prefer to have better structured Elements that better characterize the text items within the document, go with with the \"hi_res\" option.\n",
        "\n",
        "Naturally, \"fast\" is faster than \"hi_res\" -- by an order of magnitude!"
      ]
    },
    {
      "cell_type": "code",
      "execution_count": null,
      "metadata": {
        "id": "E_WN7p3JGcLJ",
        "outputId": "fa68bd30-e37a-4db3-e688-513625352ad3",
        "colab": {
          "base_uri": "https://localhost:8080/",
          "height": 86,
          "referenced_widgets": [
            "6a8777b297dc4ac2960f20492abd4d89",
            "a01cad02053249d6981e6add2e368e18",
            "f26fd77b87e546e0a9aca43b5ea8c79b",
            "cf16412b1ccf4bb6b1f68f5a69378580",
            "d3eda0b269e14d669b05441dd2b16acd",
            "58f74fce72924e82b54cd74e823842b7",
            "df19b3f0297d4488a4287477463b6f4d",
            "c00081e86d4943f4973cd037fcc35343",
            "f717638b6ba74e84afc9f99f2e4afdb4",
            "ece89bc313094d18b062ab1880e47329",
            "e8a31fd6f14143bc8486b80218999726"
          ]
        }
      },
      "outputs": [
        {
          "output_type": "stream",
          "name": "stderr",
          "text": [
            "WARNING:unstructured:This function will be deprecated in a future release and `unstructured` will simply use the DEFAULT_MODEL from `unstructured_inference.model.base` to set default model name\n"
          ]
        },
        {
          "output_type": "display_data",
          "data": {
            "text/plain": [
              "yolox_l0.05.onnx:   0%|          | 0.00/217M [00:00<?, ?B/s]"
            ],
            "application/vnd.jupyter.widget-view+json": {
              "version_major": 2,
              "version_minor": 0,
              "model_id": "6a8777b297dc4ac2960f20492abd4d89"
            }
          },
          "metadata": {}
        }
      ],
      "source": [
        "from unstructured.partition.pdf import partition_pdf\n",
        "\n",
        "# elements = partition_pdf(\"tata.pdf\")\n",
        "\n",
        "elements_fast = partition_pdf(\"tata.pdf\",\n",
        "    chunking_strategy=\"by_title\",\n",
        "    strategy=\"hi_res\",\n",
        "    extract_images_in_pdf=True,                            # mandatory to set as ``True``\n",
        "    extract_image_block_types=[\"Image\", \"Table\"],          # optional\n",
        "    extract_image_block_to_payload=False,                  # optional\n",
        "    extract_image_block_output_dir=\"/content/data\",\n",
        "  )"
      ]
    },
    {
      "cell_type": "markdown",
      "metadata": {
        "id": "Z0CELStYKNUD"
      },
      "source": [
        "Let's examine the types of elements returned for both the \"hi_res\" and \"fast\" strategies:"
      ]
    },
    {
      "cell_type": "code",
      "execution_count": 19,
      "metadata": {
        "id": "peiuDBlv2imF",
        "colab": {
          "base_uri": "https://localhost:8080/",
          "height": 34
        },
        "outputId": "78e3541b-f075-4ef4-aaa7-3a241e79025c"
      },
      "outputs": [
        {
          "output_type": "display_data",
          "data": {
            "text/plain": [
              "Counter({unstructured.documents.elements.CompositeElement: 692})"
            ]
          },
          "metadata": {}
        }
      ],
      "source": [
        "from collections import Counter\n",
        "\n",
        "# display(Counter(type(element) for element in elements))\n",
        "# print(\"\")\n",
        "# The composition of elements can be different for elements derived with the \"fast\" strategy\n",
        "display(Counter(type(element) for element in elements_fast))"
      ]
    },
    {
      "cell_type": "code",
      "source": [
        "display(*[(type(element), element.text) for element in elements_fast])"
      ],
      "metadata": {
        "id": "lAApaXf2ZCEI",
        "outputId": "38c98b1d-edf1-4d77-9fce-f3cb018a5f92",
        "colab": {
          "base_uri": "https://localhost:8080/",
          "height": 1000
        }
      },
      "execution_count": 20,
      "outputs": [
        {
          "output_type": "display_data",
          "data": {
            "text/plain": [
              "(unstructured.documents.elements.CompositeElement,\n",
              " 'OWNER’S MANUAL\\n\\nRevision: Rev 00/SEPT 2021\\n\\nCUSTOMER ASSISTANCE\\n\\nIn our constant endeavour to provide assistance and complete service backup, TATA MOTORS has established an all India cus- tomer assistance centre.\\n\\nIn case you have a query regarding any aspect of your vehicle, our Customer Assistance Centre will be glad to assist you on our Toll Free no. 1800 209 8282')"
            ]
          },
          "metadata": {}
        },
        {
          "output_type": "display_data",
          "data": {
            "text/plain": [
              "(unstructured.documents.elements.CompositeElement,\n",
              " 'ii\\n\\nYou can also approach nearest TATA MOTORS dealer.\\n\\nA separate Dealer network address booklet is provided with the Owner’s manual.\\n\\nTATA MOTORS 24X7 Roadside Assistance Program offers tech- nical help in the event of a breakdown. Call the toll-free Road- side Assistance.\\n\\nFor additional information, refer to \"24X7 Roadside Assis- tance\" section in the Owner’s manual.')"
            ]
          },
          "metadata": {}
        },
        {
          "output_type": "display_data",
          "data": {
            "text/plain": [
              "(unstructured.documents.elements.CompositeElement,\n",
              " \"FOREWORD\\n\\nDear Customer,\\n\\nWelcome to the TATA MOTORS family.\\n\\nWe congratulate you on the purchase of your new vehicle and are privileged to have you as our valued customer.\\n\\nWe urge you to read this Owner's Manual carefully and familiarize yourself with the equipment descriptions and operating instructions before driving.\")"
            ]
          },
          "metadata": {}
        },
        {
          "output_type": "display_data",
          "data": {
            "text/plain": [
              "(unstructured.documents.elements.CompositeElement,\n",
              " 'Always carry out prescribed service / maintenance work as well as any required repairs at an authorized TATA MOTORS Dealers or Authorized Service Centre’s (TASCs). Use only genuine parts for continued reliability, safety and performance of your vehicle.\\n\\nYou are welcome to contact our dealer or Customer Assistance toll free no. (1800 209 8282) in case of any query or support required.\\n\\nWe wish you a safe and pleasant driving experience.')"
            ]
          },
          "metadata": {}
        },
        {
          "output_type": "display_data",
          "data": {
            "text/plain": [
              "(unstructured.documents.elements.CompositeElement,\n",
              " 'iii\\n\\nIMPORTANT INFORMATION •\\n\\nBefore driving, read this Owner’s manual carefully and familiarize yourself with your vehicle. For your own safety and a longer ve-hicle life, follow the instructions, ‘Warnings’ and ‘Notes’ in this manual. Ignoring them could result in damage to the or personal injury to you or others.\\n\\nThe Owner’s manual and other booklets are important documents and should always be kept in the vehicle. If you sell the vehicle, always pass on the documents to the new owner.')"
            ]
          },
          "metadata": {}
        },
        {
          "output_type": "display_data",
          "data": {
            "text/plain": [
              "(unstructured.documents.elements.CompositeElement,\n",
              " \"This Owner's Manual describes all variants of the model and all standard/optional equipment of your vehicle available at the time of printing. Please note that your vehicle may not be equipped with all features described.\")"
            ]
          },
          "metadata": {}
        },
        {
          "output_type": "display_data",
          "data": {
            "text/plain": [
              "(unstructured.documents.elements.CompositeElement,\n",
              " 'TATA MOTORS PASSENGER VEHICLE LIMITED reserves the right to introduce changes in the design, equipment and technical features without any obligation to install them on the vehicles previously sold. The equipment in your vehicle may therefore differ from that shown in the descriptions and illustrations.')"
            ]
          },
          "metadata": {}
        },
        {
          "output_type": "display_data",
          "data": {
            "text/plain": [
              "(unstructured.documents.elements.CompositeElement,\n",
              " 'Do not carry out any modification including fitment of non-genuine accessories on your vehicle. Safety, handling, performance and durability, may otherwise be adversely affected and may violate government regulations. TATA MOTORS PASSENGER VEHICLE LIMITED no liability for damage resulting from the modifications or use of non-genuine accessories.')"
            ]
          },
          "metadata": {}
        },
        {
          "output_type": "display_data",
          "data": {
            "text/plain": [
              "(unstructured.documents.elements.CompositeElement,\n",
              " 'All rights reserved. The information in this manual shall not be copied, translated or otherwise reproduced, in whole or inpart without written permission from TATA MOTORS.\\n\\nCopyright\\n\\n2021\\n\\nTATA MOTORS\\n\\niv\\n\\n01. SAFETY\\n\\nImportant Information\\n\\nSeat Belts\\n\\nChild Restraint System (CRS)\\n\\nSupplementary Restraint System (srs) (airbags) (if equipped)\\n\\nChild Lock (if equipped)\\n\\nAnti-theft Device Immobilizer / PEPS\\n\\nAnti-lock Braking System (ABS)\\n\\nElectronic Brake Force Distribution (EBD)')"
            ]
          },
          "metadata": {}
        },
        {
          "output_type": "display_data",
          "data": {
            "text/plain": [
              "(unstructured.documents.elements.CompositeElement,\n",
              " 'Brake Sway Control (bsc)\\n\\nStuck Mode Recovery (traction Pro) (if applica- ble)\\n\\n02. OPENING AND CLOSING\\n\\nKeys\\n\\nSmart Key (if available)\\n\\nSmart Key Features\\n\\nFlip Key\\n\\nFlip Key Features\\n\\n1\\n\\n4\\n\\n7\\n\\n12\\n\\n18\\n\\n19\\n\\n20\\n\\n21\\n\\n21\\n\\n21\\n\\n25\\n\\n27\\n\\n28\\n\\n29\\n\\n30\\n\\nDoors\\n\\nWindows\\n\\nTail Gate Opening\\n\\nFuel Lid\\n\\n03. DASHBOARD AND FEATURES\\n\\nCockpit\\n\\nInstrument Cluster (TFT Screen)\\n\\nInstrument Cluster (LCD Screen)\\n\\nTell Tales\\n\\nAudio Reminders (as available)\\n\\nCombi-switch (RH Stalk) (if available)')"
            ]
          },
          "metadata": {}
        },
        {
          "output_type": "display_data",
          "data": {
            "text/plain": [
              "(unstructured.documents.elements.CompositeElement,\n",
              " 'Head Lamp Leveling Rotary Switch\\n\\nCombi-switch (LH Stalk) (if available)\\n\\nDashboard Controls\\n\\nSteering Mounted Controls (LHS) (if available)\\n\\nSteering Mounted Controls (RHS) (if available)\\n\\nMic (if available)\\n\\nInfotainment System Display (if available)\\n\\nSpeakers & Tweeter (if available)\\n\\nCONTENTS\\n\\n31\\n\\n32\\n\\n36\\n\\n37\\n\\n39\\n\\n40\\n\\n56\\n\\n68\\n\\n75\\n\\n76\\n\\n77\\n\\n77\\n\\n79\\n\\n80\\n\\n81\\n\\n83\\n\\n83\\n\\n84\\n\\nv\\n\\nCONTENTS\\n\\nUsb Port (if available)\\n\\nPower Socket (if available)\\n\\nAntenna\\n\\nRoof Grab Handle\\n\\nRoof Lamp\\n\\nBoot Lamp (if available)')"
            ]
          },
          "metadata": {}
        },
        {
          "output_type": "display_data",
          "data": {
            "text/plain": [
              "(unstructured.documents.elements.CompositeElement,\n",
              " 'Front Lamp\\n\\nTail Lamp\\n\\n04. STOWAGE AREAS\\n\\nStorage Compartment\\n\\nHooks (if available)\\n\\nTag Holder (if available)\\n\\nFront Seat Back Pockets (if available)\\n\\n05. CLIMATE CONTROL\\n\\nAir Distribution\\n\\nAir Vents\\n\\nElectronic Temperature Control (etc) (if avail- able)\\n\\nvi\\n\\n85\\n\\n85\\n\\n86\\n\\n86\\n\\n87\\n\\n87\\n\\n88\\n\\n88\\n\\n89\\n\\n94\\n\\n95\\n\\n95\\n\\n97\\n\\n98\\n\\n98\\n\\nFully Automatic Temperature Control (FATC) (if available)\\n\\n06. STARTING AND DRIVING\\n\\nPre Driving Checks\\n\\nDriving Tips\\n\\nSeat Adjustments\\n\\nRear View Mirrors')"
            ]
          },
          "metadata": {}
        },
        {
          "output_type": "display_data",
          "data": {
            "text/plain": [
              "(unstructured.documents.elements.CompositeElement,\n",
              " 'Orvm Folding (as applicable)\\n\\nSun Visors (if available)\\n\\nElectric Power Assisted Steering (EPAS)\\n\\nSteering Wheel Adjustment\\n\\nSteering Lock And Ignition Switch (if available)\\n\\nStarting And Stopping (without PEPS)\\n\\nStarting And Stopping (PEPS) (if available)\\n\\nEngine Passive Start - Conditions\\n\\nEngine Passive Stop - Conditions\\n\\nGear Shifting\\n\\nReverse Gear\\n\\nDriving\\n\\n100\\n\\n107\\n\\n108\\n\\n110\\n\\n114\\n\\n115\\n\\n116\\n\\n116\\n\\n117\\n\\n118\\n\\n119\\n\\n120\\n\\n121\\n\\n122\\n\\n122\\n\\n123\\n\\n123\\n\\nAutomated Manual Transmission (AMT) (If fit- ted)')"
            ]
          },
          "metadata": {}
        },
        {
          "output_type": "display_data",
          "data": {
            "text/plain": [
              "(unstructured.documents.elements.CompositeElement,\n",
              " 'Starting The Engine\\n\\nBraking\\n\\nDrive Mode\\n\\nCurrent Gear Indication\\n\\nGear Recommendation\\n\\nIdle Stop Start (iss) (if available)\\n\\nParking Brake\\n\\nVehicle Parking\\n\\nReverse Park Assist With Sensor (if available)\\n\\nRear View Camera (if available)\\n\\n07. EMERGENCY AND BREAKDOWN ASSISTANCE\\n\\nEmergency Equipment\\n\\nSpare Wheel Removal Process\\n\\nIn Case Of Flat Tyre\\n\\nPuncture Repair Kit (if available)\\n\\nJump Starting Your Car')"
            ]
          },
          "metadata": {}
        },
        {
          "output_type": "display_data",
          "data": {
            "text/plain": [
              "(unstructured.documents.elements.CompositeElement,\n",
              " 'Towing\\n\\n124\\n\\n129\\n\\n130\\n\\n131\\n\\n131\\n\\n132\\n\\n133\\n\\n138\\n\\n139\\n\\n140\\n\\n142\\n\\n149\\n\\n151\\n\\n151\\n\\n155\\n\\n162\\n\\n164\\n\\nFuses\\n\\nBulb Specification\\n\\n24 X 7 Road Assistance\\n\\n08. MAINTENANCE\\n\\nMaintenance And Service\\n\\nEngine Compartment (MT)\\n\\nEngine Compartment (AMT)\\n\\nEngine Oil Level\\n\\nBrake Fluid Level\\n\\nEngine Coolant Level\\n\\nChecking Amt Oil Reservoir Level\\n\\nWindshield Washer Fluid Level\\n\\nBattery\\n\\nSpark Plug (petrol)\\n\\nTyres\\n\\nSmart Key Battery Replacement (For PEPS variant)\\n\\nOn Board Diagnostic (OBD II) System')"
            ]
          },
          "metadata": {}
        },
        {
          "output_type": "display_data",
          "data": {
            "text/plain": [
              "(unstructured.documents.elements.CompositeElement,\n",
              " 'Service Instructions\\n\\nCONTENTS\\n\\n166\\n\\n171\\n\\n173\\n\\n177\\n\\n178\\n\\n178\\n\\n180\\n\\n181\\n\\n181\\n\\n182\\n\\n183\\n\\n183\\n\\n185\\n\\n185\\n\\n188\\n\\n189\\n\\n190\\n\\nvii\\n\\nCONTENTS\\n\\nService Schedule\\n\\nVehicle Parking For Long Duration (Non - Use Maintenance)\\n\\n09. TECHNICAL INFORMATION\\n\\nFuel Specification\\n\\nLubricant Specification\\n\\nTechnical Specifications\\n\\nVehicle Dimensions\\n\\nAggregate Identification Numbers\\n\\n10. VEHICLE CARE AND VALUE ADDED SERVICES\\n\\nCar Care\\n\\nFast Tag\\n\\nValue Care - Amc\\n\\nExtended Warranty\\n\\nValue Added Services')"
            ]
          },
          "metadata": {}
        },
        {
          "output_type": "display_data",
          "data": {
            "text/plain": [
              "(unstructured.documents.elements.CompositeElement,\n",
              " 'Vehicle Exterior Enrichment\\n\\nVehicle Interior Enrichment\\n\\nviii\\n\\n191\\n\\n196\\n\\n197\\n\\n198\\n\\n200\\n\\n203\\n\\n204\\n\\n205\\n\\n207\\n\\n208\\n\\n212\\n\\n214\\n\\n216\\n\\n217\\n\\n11. WARRANTY - TERMS AND CONDITIONS\\n\\nVehicle Warranty: Terms And Conditions\\n\\n12. ENVIRONMENT SAFETY\\n\\nEnvironmental Safety\\n\\n219\\n\\n221\\n\\nIMPORTANT INFORMATION\\n\\nIn this Owner’s Manual, you will find the text under the heading “WARNING” and “NOTE” which highlights important infor- mation. Pay particular attention to these highlighted messages.')"
            ]
          },
          "metadata": {}
        },
        {
          "output_type": "display_data",
          "data": {
            "text/plain": [
              "(unstructured.documents.elements.CompositeElement,\n",
              " 'NOTE\\n\\nIndicates additional information that will assist you in gaining the optimum ben- efit and care for your vehicle.\\n\\nWARNING\\n\\nIndicates procedures or information that must be followed precisely in order to avoid the possibility of severe personal injury and serious damage to the vehi- cle.')"
            ]
          },
          "metadata": {}
        },
        {
          "output_type": "display_data",
          "data": {
            "text/plain": [
              "(unstructured.documents.elements.CompositeElement,\n",
              " 'Safe Driving\\n\\nSafety consciousness not only ensures your safety and the safety of other road users, but it also helps to reduce the wear and tear on your vehicle.\\n\\nSafe driving depends on:\\n\\nHow quickly you make decisions to avoid an accident.\\n\\nYour ability to concentrate.\\n\\nHow well you can see and judge ob- jects.\\n\\nHow well familiar you are with your ve- hicle controls and its capabilities.\\n\\ntest')"
            ]
          },
          "metadata": {}
        },
        {
          "output_type": "display_data",
          "data": {
            "text/plain": [
              "(unstructured.documents.elements.CompositeElement,\n",
              " 'NOTE\\n\\nFatigue is a result of physical or mental exertion that impairs judgment. Driver fatigue may be due to inadequate sleep, extended work hours, strenuous work or non-work activities or combina- tion of other factors. Take rest at regular intervals.\\n\\nSAFETY')"
            ]
          },
          "metadata": {}
        },
        {
          "output_type": "display_data",
          "data": {
            "text/plain": [
              "(unstructured.documents.elements.CompositeElement,\n",
              " 'Safety Tips\\n\\nAlways take into account the road con- ditions, weather conditions, vehicle speed in order to prevent accidents.\\n\\nTurn ‘ON’ the side indicators at least 30 meters before taking a turn or changing the lane.\\n\\nDecelerate to a safe speed before tak- ing turn. Do not apply brakes during cornering.\\n\\nWhen overtaking other vehicles, watch out for the oncoming vehicle.')"
            ]
          },
          "metadata": {}
        },
        {
          "output_type": "display_data",
          "data": {
            "text/plain": [
              "(unstructured.documents.elements.CompositeElement,\n",
              " 'Never drive under the influence of al- cohol or drugs.\\n\\nIf your vehicle is equipped with info- tainment/navigation system, set and make changes to your travel route only when the vehicle is parked.\\n\\nProgram radio presets with the vehicle parked, and use your programmed presets to make radio use quicker and simpler.\\n\\n1\\n\\nSAFETY')"
            ]
          },
          "metadata": {}
        },
        {
          "output_type": "display_data",
          "data": {
            "text/plain": [
              "(unstructured.documents.elements.CompositeElement,\n",
              " 'Driving Through Water\\n\\nDo not drive through flooded areas. Judge the depth of water before driving through it. Otherwise, water may enter the vehicle interior or the engine compartment. If at all the situation demands that you have to drive through water then;\\n\\nKeep engine in higher RPM and crawl the vehicle in low gear.\\n\\nFlowing or rushing water creates strong forces. Driving through flowing water could cause the vehicle to about trying to drive through flowing water.')"
            ]
          },
          "metadata": {}
        },
        {
          "output_type": "display_data",
          "data": {
            "text/plain": [
              "(unstructured.documents.elements.CompositeElement,\n",
              " 'Lightly apply the brake pedal to dry the liners until the brakes work normally once you are out of water.\\n\\nWARNING\\n\\nDo not attempt to start the engine if ve- hicle gets flooded due to water. Tow the vehicle to a safe place. Contact a near- est TATA MOTORS Authorised Service Centre\\n\\n2\\n\\nDriving on a Rainy Day')"
            ]
          },
          "metadata": {}
        },
        {
          "output_type": "display_data",
          "data": {
            "text/plain": [
              "(unstructured.documents.elements.CompositeElement,\n",
              " 'Check wiper blades, lights and brakes for proper functioning and condition.\\n\\nCheck the tyre treads depth, the con- dition of the tread and tyre.\\n\\nAvoid harsh braking and sharp turns. It may cause loss of control and lead to a skid.\\n\\nFor slowing down, shift to lower gears and brake gently.\\n\\nKeep lights ‘ON’ if visibility is poor.')"
            ]
          },
          "metadata": {}
        },
        {
          "output_type": "display_data",
          "data": {
            "text/plain": [
              "(unstructured.documents.elements.CompositeElement,\n",
              " 'Driving on Wet Roads\\n\\nOn wet road or during light showers, “Aquaplaning” can occur. “Aquaplaning” is the loss of direct contact between the road surface and the vehicle’s tires due to a water film forming between them. Steering or braking the vehicle can be very difficult, and loss of control can occur. There is no hard and fast rule about aquaplaning. The best advice is to slow down when the road is wet.')"
            ]
          },
          "metadata": {}
        },
        {
          "output_type": "display_data",
          "data": {
            "text/plain": [
              "(unstructured.documents.elements.CompositeElement,\n",
              " 'NOTE\\n\\nIf you have driven for a long time in heavy rain without braking, there may be a delayed reaction from the brakes when braking for the first time. You have to press the brake pedal more firmly. Maintain a greater distance from the ve- hicle in front.')"
            ]
          },
          "metadata": {}
        },
        {
          "output_type": "display_data",
          "data": {
            "text/plain": [
              "(unstructured.documents.elements.CompositeElement,\n",
              " 'Night Driving\\n\\nEnsure that all lights are working and windshield, window glasses are clean.\\n\\nDrive more slowly at night than in the daytime, as the visual range is re- stricted at night. Maintain a speed such that you can stop within illuminated distance of head lamps.\\n\\nDo not use the high beam unless in- evitable. It may dazzle the driver of the oncoming vehicle, thus causing an ac- cident.\\n\\nUse head lamp main/dip beam to alert other road users on turns/ cross roads.')"
            ]
          },
          "metadata": {}
        },
        {
          "output_type": "display_data",
          "data": {
            "text/plain": [
              "(unstructured.documents.elements.CompositeElement,\n",
              " 'Use side indicators for lane change or turning.\\n\\nDriving on Gradients\\n\\nWhen climbing gradient, the vehicle may begin to slow down and show a lack of power. If this happens, shift to a lower gear and apply power smoothly so that there is no loss of traction. When driving down a hill, the engine braking should be used by shifting into a lower gear. Do not drive in neutral gear or switch off the engine.')"
            ]
          },
          "metadata": {}
        },
        {
          "output_type": "display_data",
          "data": {
            "text/plain": [
              "(unstructured.documents.elements.CompositeElement,\n",
              " 'WARNING\\n\\nOn long and steep gradients you must reduce the load on the brakes by shift- ing early to a lower gear. This allows you to take advantage of the engine braking effect and helps avoid over- heating of service brakes resulting in re- duced braking efficiency.')"
            ]
          },
          "metadata": {}
        },
        {
          "output_type": "display_data",
          "data": {
            "text/plain": [
              "(unstructured.documents.elements.CompositeElement,\n",
              " 'Driving on Highway\\n\\nStopping distance progressively, in- creases with vehicle speed. Maintain a sufficient distance between your vehicle and the vehicle ahead.\\n\\nFor long distance driving, perform safety checks before starting a trip and take rest at certain intervals to prevent fatigue.\\n\\nSAFETY\\n\\n3\\n\\nSAFETY')"
            ]
          },
          "metadata": {}
        },
        {
          "output_type": "display_data",
          "data": {
            "text/plain": [
              "(unstructured.documents.elements.CompositeElement,\n",
              " 'SEAT BELTS\\n\\nThis section of user manual describes your vehicle’s seat belt, airbag and Child restraints system. Please read and follow all these instructions carefully to minimise risk of severe injury or death.\\n\\nSeat belts are the primary restraints system in the vehicle. All occupants, including the driver, should always wear their seat belts to minimize the risk of injury.')"
            ]
          },
          "metadata": {}
        },
        {
          "output_type": "display_data",
          "data": {
            "text/plain": [
              "(unstructured.documents.elements.CompositeElement,\n",
              " 'Sit back and adjust the front seat. Make sure that your seat is adjusted to a good driving position and the back of the seat is upright.')"
            ]
          },
          "metadata": {}
        },
        {
          "output_type": "display_data",
          "data": {
            "text/plain": [
              "(unstructured.documents.elements.CompositeElement,\n",
              " 'Buckling the Shoulder Seat Belt\\n\\nGrasp the tongue then slowly pull out the seat belt over the shoulder and across the chest. When the seat belt is long enough to fit, insert the tongue into the lock buckle until you hear a “CLICK” which indicates that the seat belt is securely locked.\\n\\nPosition the lap portion of seat belt across your pelvic bone, below your\\n\\n4')"
            ]
          },
          "metadata": {}
        },
        {
          "output_type": "display_data",
          "data": {
            "text/plain": [
              "(unstructured.documents.elements.CompositeElement,\n",
              " 'abdomen. To remove slack, pull up a bit on the shoulder seat belt. To loosen the lap portion seat belt if it is too tight, tilt the tongue and pull on the lap seat belt. A snug seat belt reduces the risk of sliding under the seat belt in a colli- sion. Ensure that the seat belt running over the body (shoulder segment and lap segment) does not have any twist. Twisted seat belt may not offer effec- tive protection when required.')"
            ]
          },
          "metadata": {}
        },
        {
          "output_type": "display_data",
          "data": {
            "text/plain": [
              "(unstructured.documents.elements.CompositeElement,\n",
              " 'Releasing the Seat Belt\\n\\nTo release the seat belt, push the red but- ton on the lock buckle. The seat belt will automatically retract to its stowed position. If necessary, slide the tongue down the webbing to allow the seat belt to retract fully.\\n\\nNOTE\\n\\nThe above image is for reference pur- pose only.')"
            ]
          },
          "metadata": {}
        },
        {
          "output_type": "display_data",
          "data": {
            "text/plain": [
              "(unstructured.documents.elements.CompositeElement,\n",
              " 'Fixed Rear Centre Lap Seat Belt\\n\\nWhen buckling, make sure you hear a click confirming that the tab is latched into the seat belt lock. To tighten it, pull the loose end through the buckle until the seat belt is comfortably adjusted around the hips.')"
            ]
          },
          "metadata": {}
        },
        {
          "output_type": "display_data",
          "data": {
            "text/plain": [
              "(unstructured.documents.elements.CompositeElement,\n",
              " 'WARNING\\n\\nEach seating position and seat belt assembly must only be used by one occupant. It is not recommended to put a seat belt around a child, being carried on an occupant’s lap.\\n\\nBe careful not to damage or tamper the seat belt webbing or hardware. Inspect the seat belt system period- ically, checking for cuts, frays, or loose parts. A frayed or torn seat belt could rip apart in a collision and leave you with no protection.')"
            ]
          },
          "metadata": {}
        },
        {
          "output_type": "display_data",
          "data": {
            "text/plain": [
              "(unstructured.documents.elements.CompositeElement,\n",
              " 'If the seat belt webbing or hardware is damaged, get it replaced immedi- ately at TATA Motors Authorized service centre.\\n\\nDo not insert any items such as coins, clips, etc. into the seat belt buckles, and be careful not to spill liquids into these parts. If foreign materials get into a seat belt buckle, the seat belt will not work properly.\\n\\nDo not wear seat belts over hard, sharp or fragile items in clothing, such as pens, keys, spectacles etc.')"
            ]
          },
          "metadata": {}
        },
        {
          "output_type": "display_data",
          "data": {
            "text/plain": [
              "(unstructured.documents.elements.CompositeElement,\n",
              " 'Do not use any accessories on seat belts or modify in any way the seat belt system. Devices claiming to im- prove occupant comfort or reposi- tion the seat belt can reduce the protection provided by the seat belt and increase the chance of serious injury in a collision.\\n\\nSeat Belts with Pre-tensioner (if equipped)')"
            ]
          },
          "metadata": {}
        },
        {
          "output_type": "display_data",
          "data": {
            "text/plain": [
              "(unstructured.documents.elements.CompositeElement,\n",
              " 'You can use the pre-tensioner seat belts in the same manner as ordinary seat belts. The seat belt pre-tensioner system works in conjunction with the SUPPLEMENTARY RESTRAINTS SYSTEM (SRS-Airbags). In the event of a collision, as may be nec-\\n\\nSAFETY\\n\\nessary, pre-tensioner tightens the seat belt so that it fits the occupant’s body more snugly. When pre-tensioner activates, there could be some noise and release of smoke. This is normal and there are no health hazards or fire risk.')"
            ]
          },
          "metadata": {}
        },
        {
          "output_type": "display_data",
          "data": {
            "text/plain": [
              "(unstructured.documents.elements.CompositeElement,\n",
              " 'WARNING\\n\\nIn a collision, the pre-tensioner seat belt assembly mechanisms becomes hot during activation. Do not touch the pre- tensioner seat belt assemblies for sev- eral minutes after they have been activated.\\n\\nIf the vehicle has been involved in a colli- sion, get it inspected immediately at au- thorized TATA MOTORS SERVICE Center.')"
            ]
          },
          "metadata": {}
        },
        {
          "output_type": "display_data",
          "data": {
            "text/plain": [
              "(unstructured.documents.elements.CompositeElement,\n",
              " 'Seat Belts With Load Limiter (if equipped)\\n\\nYou can use the load limiter seat belts in the same manner as ordinary seat belts. The seat belt load limiter system works in conjunction with the SUPPLEMENTARY RESTRAINTS SYSTEM (SRS-Airbags).\\n\\n5\\n\\nSAFETY\\n\\nIn the event of a collision, as may be nec- essary, load limiter reduces the load on the rib cage region of the occupant. If the ve- hicle has been involved in a collision, get it inspected immediately at Authorised TATA MOTORS SERVICE Center.')"
            ]
          },
          "metadata": {}
        },
        {
          "output_type": "display_data",
          "data": {
            "text/plain": [
              "(unstructured.documents.elements.CompositeElement,\n",
              " 'Use of Seat Belts for Pregnant Woman\\n\\nWARNING\\n\\nPregnant woman must wear a cor- rectly positioned seat belt. It is safer for mother as well as unborn child.\\n\\nPregnant woman should wear the lap part of the seat belt across the Pelvic Bone and as snug across the hips as possible. Keep the seat belt low so that it does not come across the abdomen. That way the strong bones of the hips will take the force if there is a collision.\\n\\n6\\n\\nSeat Belt Warning Lamp\\n\\nFor Driver For Front seat')"
            ]
          },
          "metadata": {}
        },
        {
          "output_type": "display_data",
          "data": {
            "text/plain": [
              "(unstructured.documents.elements.CompositeElement,\n",
              " 'passenger\\n\\nThe seat belt warning lamp reminds you to fasten the seat belt.\\n\\nIf the driver does not fasten seat belt, seat belt reminder lamp will blink and a buzzer will sound for predefined du- ration until the driver seat belt is buck- led.\\n\\nIf front passenger seat is occupied by adult and does not fasten seat belt, seat belt reminder lamp will blink and a buzzer will sound for predefined du- ration until the front passenger seat belt is buckled.')"
            ]
          },
          "metadata": {}
        },
        {
          "output_type": "display_data",
          "data": {
            "text/plain": [
              "(unstructured.documents.elements.CompositeElement,\n",
              " 'If this system is also provided for other than Front row seats, applicable above warning will appear until seat belts are buckled.\\n\\nIf front passenger seat is occupied by child, system may detect occupancy and warn with front passenger seat belt warning. It is not taken to mean child can occupy front passenger seat and use seat belt. Please refer CRS section for recommended seating po- sition.')"
            ]
          },
          "metadata": {}
        },
        {
          "output_type": "display_data",
          "data": {
            "text/plain": [
              "(unstructured.documents.elements.CompositeElement,\n",
              " 'NOTE\\n\\nUsing unauthorized after-market seat cover may affect function of occupant sensor. TATA MOTORS does not rec- ommended any non-validated seat cover on seats.\\n\\nCHILD RESTRAINT SYSTEM (CRS)\\n\\nTATA MOTORS strongly recommends the use of Child Restraint Systems (CRS) for all children up to age of 12 years and to be placed at recommended positions only. Children travelling without recommended CRS and seated at other positions may face serious injuries in case of a collision.')"
            ]
          },
          "metadata": {}
        },
        {
          "output_type": "display_data",
          "data": {
            "text/plain": [
              "(unstructured.documents.elements.CompositeElement,\n",
              " 'CRS can be installed in the vehicle using seat belts and/or ISOFIX only (if equipped) or ISOFIX with Top Tether (if equipped) or ISOFIX with support leg.\\n\\nIf the child seat is equipped with support leg(s), always fit the support leg(s) directly to the floor. Never fit support leg(s) to a footrest or on any other object.\\n\\nThe harness system of CRS holds the child in place, and in a collision, acts to keep the child positioned in the seat and reduce the risk of injuries.')"
            ]
          },
          "metadata": {}
        },
        {
          "output_type": "display_data",
          "data": {
            "text/plain": [
              "(unstructured.documents.elements.CompositeElement,\n",
              " 'All children below age of two years must always ride in a rear-facing infant CRS.\\n\\nKeep children in a forward-facing CRS with a harness until they reach the size or weight limit allowed by your CRS manu-\\n\\nfacturer.\\n\\nOnce your child outgrows the forward-fac- ing CRS, your child is ready for a booster seat.')"
            ]
          },
          "metadata": {}
        },
        {
          "output_type": "display_data",
          "data": {
            "text/plain": [
              "(unstructured.documents.elements.CompositeElement,\n",
              " 'Selection and Installation of CRS\\n\\nAlways select the CRS that complies with latest safety standards (AIS072 / ECE R44). The CRS are classified according to the child’s size, height and weight. Select the appropriate CRS for your child. Ensure that the CRS is securely installed in the vehicle and subsequently child fits prop- erly in it and wears harness of CRS. For installation, please refer CRS manufac- turer’s instruction manual.\\n\\nSAFETY\\n\\n7\\n\\nSAFETY')"
            ]
          },
          "metadata": {}
        },
        {
          "output_type": "display_data",
          "data": {
            "text/plain": [
              "(unstructured.documents.elements.CompositeElement,\n",
              " 'NOTE\\n\\nThe above images are for reference purpose only.\\n\\n8\\n\\nRecommended CRS Position as per the Vehicle Matrix\\n\\nThe suitability of seat position for carriage of children and recommended category of CRS is shown in the table below as per the child group.')"
            ]
          },
          "metadata": {}
        },
        {
          "output_type": "display_data",
          "data": {
            "text/plain": [
              "(unstructured.documents.elements.CompositeElement,\n",
              " 'X - Seat Position not suitable for children in this age group.\\n\\nU - Suitable for “universal” category re- straints approved for use in this age group.\\n\\nL - Suitable for particular child restraints. These restraints may be of the specific ve- hicle, restricted or semi-universal cate- gories.\\n\\nUniversal is a category in the AIS072 / ECE R44 norm.\\n\\nWARNING\\n\\nIf a child is seated in the front seat it may cause serious injury or even death during any collision.\\n\\nGroup\\n\\n0\\n\\n0+\\n\\nI\\n\\nII\\n\\nIII\\n\\nMass Group')"
            ]
          },
          "metadata": {}
        },
        {
          "output_type": "display_data",
          "data": {
            "text/plain": [
              "(unstructured.documents.elements.CompositeElement,\n",
              " 'Up to 10 kg Up to 13 kg\\n\\n9 to 18 kg\\n\\n15 to 25 kg\\n\\n22 to 36 kg\\n\\nAge Group\\n\\nUp to 9 months Up to 24 months 9 months to 48 months Approx. 3 to 7 years Approx. 6 to 12 years\\n\\nFront Passen- ger\\n\\nX\\n\\nX\\n\\nX\\n\\nX\\n\\nX\\n\\nRear Out- board L H\\n\\nU\\n\\nU,L\\n\\nU,L\\n\\nU\\n\\nU\\n\\nRear Out- board R H\\n\\nU\\n\\nU,L\\n\\nU,L\\n\\nU\\n\\nU\\n\\nSAFETY\\n\\nRear Center\\n\\nX\\n\\nX\\n\\nX\\n\\nX\\n\\nX\\n\\n9\\n\\nSAFETY')"
            ]
          },
          "metadata": {}
        },
        {
          "output_type": "display_data",
          "data": {
            "text/plain": [
              "(unstructured.documents.elements.CompositeElement,\n",
              " 'WARNING\\n\\nIf your vehicle is equipped with a front passenger Airbag (PAB) and does not have PAB deactivation switch, do not in- stall a rear-facing CRS in the front pas- senger seat. If the PAB inflates, a child in a rear facing CRS could be seriously injured or killed.\\n\\nIf you install a CRS in the rear seat, slide the front seat far enough forward so that the child’s feet do not touch the front seat- back. This will help avoid injury to the child in the event of a collision.')"
            ]
          },
          "metadata": {}
        },
        {
          "output_type": "display_data",
          "data": {
            "text/plain": [
              "(unstructured.documents.elements.CompositeElement,\n",
              " 'NOTE\\n\\nChildren could be endangered in a col- lision if their CRS is not properly se- cured in the vehicle. Be sure to secure the child in the restraint system accord- ing to the manufacturer’s instructions.\\n\\n10')"
            ]
          },
          "metadata": {}
        },
        {
          "output_type": "display_data",
          "data": {
            "text/plain": [
              "(unstructured.documents.elements.CompositeElement,\n",
              " 'WARNING\\n\\nDo not use an infant carrier or a child safety seat that “hooks“ over a seat- back, it will not provide adequate pro- tection in a collision.\\n\\nAfter a collision, we recommend to get seat belts, seats, ISOFIX and top-tether anchorages (as may be applicable) inves- tigated at TATA MOTORS Authorised serv- ice centre.\\n\\nNOTE\\n\\nCRS in a closed vehicle can become very hot. To prevent burns, check the seating surface and buckles before placing your child in CRS.')"
            ]
          },
          "metadata": {}
        },
        {
          "output_type": "display_data",
          "data": {
            "text/plain": [
              "(unstructured.documents.elements.CompositeElement,\n",
              " 'WARNING\\n\\nDo not leave unattended children in your vehicle.\\n\\nDo not modify CRS in any way.\\n\\nNOTE\\n\\nDo not install a booster seat or a booster cushion with only the lap strap of the seat belt.\\n\\nDo not install a booster seat or a booster cushion with a seat belt that is slack or twisted.\\n\\nDo not put the safety seat belt under your child’s arm or behind its back.\\n\\nDo not use pillows, books or towels to boost your child’s height.\\n\\nMake sure that your children sit in an upright position.')"
            ]
          },
          "metadata": {}
        },
        {
          "output_type": "display_data",
          "data": {
            "text/plain": [
              "(unstructured.documents.elements.CompositeElement,\n",
              " 'Do not allow children to stand up or kneel on either the rear or the front seats. An unrestrained child could suffer serious or fatal injuries during a collision.\\n\\nDo not leave any toys or other ob- jects loose in the CRS or on the seat while the vehicle is in motion.\\n\\nEach CRS should be used for one child only.')"
            ]
          },
          "metadata": {}
        },
        {
          "output_type": "display_data",
          "data": {
            "text/plain": [
              "(unstructured.documents.elements.CompositeElement,\n",
              " 'If the airbag SRS warning indicator in the instrument cluster illuminates continu- ously, it means that there is malfunction in the system. Remove the CRS from front passenger seat and contact your TATA MOTORS authorised service center.\\n\\nSAFETY\\n\\nNOTE\\n\\nThe above images are for reference purpose only.\\n\\n11\\n\\nSAFETY\\n\\nSUPPLEMENTARY SYSTEM equipped)\\n\\n(SRS)')"
            ]
          },
          "metadata": {}
        },
        {
          "output_type": "display_data",
          "data": {
            "text/plain": [
              "(unstructured.documents.elements.CompositeElement,\n",
              " 'RESTRAINT (if\\n\\n(AIRBAGS)\\n\\nThe airbag ‘SRS’ system comprises of the following components depending upon the provided safety features in your vehicle.\\n\\nSeat belt Pre-tensioners..\\n\\nSeat belt with load limiters.\\n\\nDriver Airbag.\\n\\nFront Passenger Airbag.\\n\\nAirbag ‘SRS’ ECU (Electronic Control Unit).\\n\\nCollision Sensors.\\n\\nSRS wiring harness.')"
            ]
          },
          "metadata": {}
        },
        {
          "output_type": "display_data",
          "data": {
            "text/plain": [
              "(unstructured.documents.elements.CompositeElement,\n",
              " 'SRS Warning lamp\\n\\nThe System is active when ignition switch is in the “ON” position or the ignition mode is “ON”.\\n\\nAirbags are designed to inflate in collisions when required. In the event of a collision, the collision sensors will detect signals, and if the Airbag ECU judges that the sig- nals represent a severe collision, will trig- ger the airbags. The inflated Airbags\\n\\n12')"
            ]
          },
          "metadata": {}
        },
        {
          "output_type": "display_data",
          "data": {
            "text/plain": [
              "(unstructured.documents.elements.CompositeElement,\n",
              " 'provide a cushion to the occupants. The Airbag inflates and deflates so quickly that you may not even realize that it has acti- vated. The Airbag will neither hinder your view nor make it harder to exit the vehicle.\\n\\nAirbag inflation is virtually instantaneous and occurs with considerable force, ac- companied by loud noise and smoke, which is normal. The inflated airbag, to- gether with seat belts, limit the movement of an occupant, thereby reducing the risk of injury.')"
            ]
          },
          "metadata": {}
        },
        {
          "output_type": "display_data",
          "data": {
            "text/plain": [
              "(unstructured.documents.elements.CompositeElement,\n",
              " 'When an airbag inflates, you may see some smoke-like particles. The particles are a normal by-product of the process that generates the non-toxic gas used for airbag inflation. These airborne particles may irritate the skin, eyes, nose, or throat. If you have skin or eye irritation, rinse the area with water. For nose or throat irrita- tion, move to fresh air. Also sometimes the smoke can cause breathing problems. In such cases, it is recommended to get fresh air promptly.')"
            ]
          },
          "metadata": {}
        },
        {
          "output_type": "display_data",
          "data": {
            "text/plain": [
              "(unstructured.documents.elements.CompositeElement,\n",
              " 'After inflation, airbag provides a gradual cushioning effect for the occupant there-\\n\\nafter deflates. It is not advisable to drive your vehicle after the airbags have been deployed. If you are involved in another collision, the airbags will not be in place to protect you.\\n\\nNOTE\\n\\nThe above image is for reference pur- pose only.')"
            ]
          },
          "metadata": {}
        },
        {
          "output_type": "display_data",
          "data": {
            "text/plain": [
              "(unstructured.documents.elements.CompositeElement,\n",
              " 'NOTE\\n\\nOpen your windows and doors as soon as possible after collision to re\\n\\nduce prolonged exposure to the smoke and powder released by the inflating Airbag.\\n\\nDo not touch the Airbag container’s internal components immediately after an Airbag has inflated. The parts that come into contact with an inflating Airbag may be very hot.\\n\\nAlways wash exposed skin areas thoroughly with lukewarm water and mild soap.')"
            ]
          },
          "metadata": {}
        },
        {
          "output_type": "display_data",
          "data": {
            "text/plain": [
              "(unstructured.documents.elements.CompositeElement,\n",
              " 'The driver airbag is mounted in the centre of the steering wheel. The front passenger airbag is located inside the dashboard in front of the passenger seat. The vehicle fit- ted with the airbags have suitable indica- tions on steering wheel and on dash board. The word ‘AIRBAG’ is embossed on the airbag covers.')"
            ]
          },
          "metadata": {}
        },
        {
          "output_type": "display_data",
          "data": {
            "text/plain": [
              "(unstructured.documents.elements.CompositeElement,\n",
              " 'WARNING\\n\\nEven in vehicles with Airbags, you and your passengers must always wear the seat belts provided. In\\n\\norder to minimize the risk and sever- ity of injury in the event of a collision.\\n\\nALWAYS use seat belts and CRS – during every trip and at all times. Even with airbags, you can be seri- ously injured or killed in a collision if you are not wearing seat belt prop- erly or not wearing seat belt when airbag inflates.')"
            ]
          },
          "metadata": {}
        },
        {
          "output_type": "display_data",
          "data": {
            "text/plain": [
              "(unstructured.documents.elements.CompositeElement,\n",
              " 'You and your passengers should never sit or lean unnecessarily close to the Airbags.\\n\\nMove your seat as far back as pos- sible from front Airbags, while still maintaining control of the vehicle.\\n\\nAll occupants should sit upright with the seatback in an upright position, centred on the seat cushion with their seat belt on, legs comfortably extended and their feet on the floor until the vehicle is parked and the engine is turned off.')"
            ]
          },
          "metadata": {}
        },
        {
          "output_type": "display_data",
          "data": {
            "text/plain": [
              "(unstructured.documents.elements.CompositeElement,\n",
              " 'If an occupant is out of position dur- ing collision, the rapidly deploying Airbag may forcefully contact the\\n\\nSAFETY\\n\\noccupant causing serious or fatal in- juries.\\n\\nDo not allow the front passenger to place their feet or legs on the dash- board.\\n\\nNot Recommended Seating Position\\n\\n13\\n\\nSAFETY\\n\\n14\\n\\nNOTE\\n\\nAll images are for reference purpose only.')"
            ]
          },
          "metadata": {}
        },
        {
          "output_type": "display_data",
          "data": {
            "text/plain": [
              "(unstructured.documents.elements.CompositeElement,\n",
              " 'WARNING\\n\\nNever place your arm over the airbag as a deploying airbag can re- sult in serious arm fractures or other injuries.\\n\\nDo not place or stick any item/s in the vehicle, except at designated lo- cations (such as utility bins, cup/bot- tle holders, Boot space etc). Loose items may act as a projectile during a collision and cause severe to fatal injuries.')"
            ]
          },
          "metadata": {}
        },
        {
          "output_type": "display_data",
          "data": {
            "text/plain": [
              "(unstructured.documents.elements.CompositeElement,\n",
              " 'Please be aware that any unse- cured item in your vehicle, such as your pet, unsecured CRS or a lap- top, can become a potential hazard in the event of a collision or sudden stop, causing injuries to occupants in the vehicle.\\n\\nCoat hooks (if provided), must be used only for that purpose. Never hang heavy items on to those hooks. This may lead to severe to fatal injuries.\\n\\nALWAYS contact your TATA MO- TORS authorised service centre if the vehicle is damaged, even if airbag has not inflated.')"
            ]
          },
          "metadata": {}
        },
        {
          "output_type": "display_data",
          "data": {
            "text/plain": [
              "(unstructured.documents.elements.CompositeElement,\n",
              " 'ALWAYS contact your TATA MO- TORS authorised service centre if any part of an airbag module cover shows sign of cracking or damage.\\n\\nWARNING\\n\\nIf your SRS malfunctions, the Airbag may not inflate properly during a colli- sion thereby increasing risk of serious injury or death. If any of the following conditions occur, your SRS is mal-func- tioning: •\\n\\nThe SRS warning lamp does not turn ‘ON’ when the ignition switch is placed in the ‘ON’ position for few seconds.')"
            ]
          },
          "metadata": {}
        },
        {
          "output_type": "display_data",
          "data": {
            "text/plain": [
              "(unstructured.documents.elements.CompositeElement,\n",
              " 'SAFETY\\n\\nThe SRS warning lamp stays ‘ON’ after illuminating\\n\\nThe SRS warning lamp comes ‘ON’/stays ‘ON’ while the vehicle is in motion.\\n\\nThe SRS warning lamp blinks when the engine is running.\\n\\nWe recommend the customer to imme- diately visit TATA MOTORS authorised service centre and get the SRS system inspected if any of the above conditions occur.')"
            ]
          },
          "metadata": {}
        },
        {
          "output_type": "display_data",
          "data": {
            "text/plain": [
              "(unstructured.documents.elements.CompositeElement,\n",
              " 'WARNING\\n\\nNever make any modifications to your vehicle. The modifications car- ried out, but not limited to the vehi- cle frame, bumpers, front fenders, ride height, suspension, seat belts, interior trims, steering wheel (espe- cially holders), are not acceptable. This will affect the intended perform- ance of SRS system.\\n\\n15')"
            ]
          },
          "metadata": {}
        },
        {
          "output_type": "display_data",
          "data": {
            "text/plain": [
              "(unstructured.documents.elements.CompositeElement,\n",
              " 'SAFETY\\n\\nFitment of bull bars is strictly prohib- ited, unless authorised by TATA MO- TORS. This will affect the intended performance of SRS system.\\n\\nIf you need to make any modifica- tions to accommodate any disability you may have, please contact your Authorized TATA MOTORS Dealer for necessary guidance.\\n\\nDo not tamper with SRS in any way. This will lead to unexpected per- formance of system and may cause serious injury or death.\\n\\n16')"
            ]
          },
          "metadata": {}
        },
        {
          "output_type": "display_data",
          "data": {
            "text/plain": [
              "(unstructured.documents.elements.CompositeElement,\n",
              " 'Airbag Warning Sticker on Front Pas- senger Sun Visor\\n\\nThe Airbag Warning Symbol on sun visor reminds extreme hazards associated with the use of rearward-facing child restraint on front passenger seat during airbag de- ployment.\\n\\nIt is not taken to mean child can occupy front passenger seat and use seat belt. Please refer CRS section for recom-\\n\\nmended seating position.')"
            ]
          },
          "metadata": {}
        },
        {
          "output_type": "display_data",
          "data": {
            "text/plain": [
              "(unstructured.documents.elements.CompositeElement,\n",
              " 'WARNING\\n\\nNever use a rearward facing child re- straint on a seat protected by an active Airbag in front of it, Death or serious in- jury to the child can occur.\\n\\nAirbags Deployment Conditions\\n\\nWhen should not deploy?')"
            ]
          },
          "metadata": {}
        },
        {
          "output_type": "display_data",
          "data": {
            "text/plain": [
              "(unstructured.documents.elements.CompositeElement,\n",
              " 'front airbags\\n\\n(if equipped)\\n\\nMinor frontal collision: Seat belt (if worn) offers adequate occupant protection in low severity collisions. The airbags are trig- gered only when there is a collision severe enough to trigger the airbags. Deployment of frontal airbags is not beneficial in low severity collisions.\\n\\nSide collision: During a side collision, oc- cupants tend to move sideways. There- fore, deploying frontal airbags in such situations will not benefit the occupants.')"
            ]
          },
          "metadata": {}
        },
        {
          "output_type": "display_data",
          "data": {
            "text/plain": [
              "(unstructured.documents.elements.CompositeElement,\n",
              " 'Rear collision: During a rear collision, oc- cupants tend to move (rearwards) away from frontal airbags. Therefore, deploying frontal airbags in such situations will not benefit the occupant protection. Head re- straints and seat belts provide occupant protection during a rear collision.\\n\\nRollovers collision: During a rollover col- lision, unbelted occupants may float inside the passenger compartment. This will in- crease the risk of injuries and may prove to be fatal. Wearing seat belts provide')"
            ]
          },
          "metadata": {}
        },
        {
          "output_type": "display_data",
          "data": {
            "text/plain": [
              "(unstructured.documents.elements.CompositeElement,\n",
              " 'highly effective occupant protection during rollover collision. Front airbags are not de- signed to deploy in a rollover as frontal airbags cannot offer any protection in rollover collision.\\n\\nWhen front airbags deploy with minor or no visible vehicle damage?')"
            ]
          },
          "metadata": {}
        },
        {
          "output_type": "display_data",
          "data": {
            "text/plain": [
              "(unstructured.documents.elements.CompositeElement,\n",
              " 'The airbags are triggered only when there is a collision severe enough to trigger the airbags. The extent of vehicle damage is not always the correct indicator for airbag deployment. In some extreme/rare condi- tions; of rough road driving, running into a curb or hitting other fixed objects; the airbags may deploy depending upon the severity of collision. In some of these con- ditions, damage to the vehicle may be minor or not be readily visible.')"
            ]
          },
          "metadata": {}
        },
        {
          "output_type": "display_data",
          "data": {
            "text/plain": [
              "(unstructured.documents.elements.CompositeElement,\n",
              " 'When front airbags not deploy, even with exterior visible vehicle damage?\\n\\nThe airbags are triggered only when there is a collision severe enough to trigger the airbags. The amount of visible vehicle damage is not always the correct indicator for airbag deployment. Some collisions can result in visible damage but no airbag')"
            ]
          },
          "metadata": {}
        },
        {
          "output_type": "display_data",
          "data": {
            "text/plain": [
              "(unstructured.documents.elements.CompositeElement,\n",
              " 'SAFETY\\n\\ndeployment because the airbags would not have been needed or would not have provided protection even if they had de- ployed.\\n\\nSeat belts, if worn, offer adequate occu- pant protection in such cases.\\n\\n17')"
            ]
          },
          "metadata": {}
        },
        {
          "output_type": "display_data",
          "data": {
            "text/plain": [
              "(unstructured.documents.elements.CompositeElement,\n",
              " 'SAFETY\\n\\nCHILD LOCK (if equipped)\\n\\nBoth the rear doors of the vehicle are pro- vided with a child proof lock. Push the lock lever located on vertical face of the door downward before closing the door. The door which has been locked by activating the child lock cannot be opened from in- side, it can be opened only from the out- side.\\n\\n18')"
            ]
          },
          "metadata": {}
        },
        {
          "output_type": "display_data",
          "data": {
            "text/plain": [
              "(unstructured.documents.elements.CompositeElement,\n",
              " 'NOTE\\n\\nLift the lock lever upward to deacti- vate the childproof lock when not re- quired.\\n\\nChild safety lever to be used for safety of child for preventing them to open rear door while seating in pas- senger seat to avoid accident while vehicle is running.')"
            ]
          },
          "metadata": {}
        },
        {
          "output_type": "display_data",
          "data": {
            "text/plain": [
              "(unstructured.documents.elements.CompositeElement,\n",
              " 'ANTI-THEFT DEVICE IMMOBILIZER / PEPS\\n\\nImmobilizer system is designed to pre-vent vehicle theft by electronically disabling the engine ignition system. The engine can be started only with vehicle’s original Immobi- lizer ignition key which has an electronic identification programmed code.')"
            ]
          },
          "metadata": {}
        },
        {
          "output_type": "display_data",
          "data": {
            "text/plain": [
              "(unstructured.documents.elements.CompositeElement,\n",
              " 'NOTE\\n\\nUse only Flip key, the other should be kept in a safe location. Note down “key Tag no.” information (and keep it safe) which required while getting new/spare keys. Remember that it is not possible to prepare new/spare keys without the “key Tag number.” Take pre- caution about Flip key, as without Flip key vehicle cannot be started.\\n\\nis\\n\\nVehicle Condition\\n\\nIgnition OFF\\n\\nIgnition ON\\n\\nIgnition ON\\n\\nIgnition ON\\n\\nImmobilizer Lamp Sta- tus\\n\\nBlinking\\n\\nOFF\\n\\nON\\n\\nBlinking\\n\\nVehicle State\\n\\nLocked')"
            ]
          },
          "metadata": {}
        },
        {
          "output_type": "display_data",
          "data": {
            "text/plain": [
              "(unstructured.documents.elements.CompositeElement,\n",
              " 'Unlocked\\n\\nLocked\\n\\nUnlocked\\n\\nSAFETY\\n\\nMeaning / Function Of The State\\n\\nVehicle Immobilized and awaiting electronic key Normal condition and ready to start the vehi- cle •\\n\\nProblem with key (Wrong key used to start vehicle)\\n\\nProblem with Immobilizer system. Con- tact a TATA MOTORS Authorized Serv- ice Centre.\\n\\nContact a TATA MOTORS Authorized Serv- ice Centre immediately.\\n\\n19')"
            ]
          },
          "metadata": {}
        },
        {
          "output_type": "display_data",
          "data": {
            "text/plain": [
              "(unstructured.documents.elements.CompositeElement,\n",
              " 'SAFETY\\n\\nANTI-LOCK BRAKING SYSTEM (ABS)\\n\\nABS regulates brake pres- sure in such a way that the wheels do not lock when you brake. This allows you to continue steering the vehicle when braking.\\n\\nThe ABS warning lamp in the instrument cluster lights up when the ignition is switched on. It goes out when the engine is running.')"
            ]
          },
          "metadata": {}
        },
        {
          "output_type": "display_data",
          "data": {
            "text/plain": [
              "(unstructured.documents.elements.CompositeElement,\n",
              " 'WARNING\\n\\nIf ABS is faulty, the wheels could lock when braking. The steer ability and braking characteristics may be severely impaired. There is an increased danger of skidding and accidents.\\n\\nDrive on carefully. Have ABS checked immediately at a TATA MO- TORS Authorized Service Centre as soon as possible.\\n\\n20')"
            ]
          },
          "metadata": {}
        },
        {
          "output_type": "display_data",
          "data": {
            "text/plain": [
              "(unstructured.documents.elements.CompositeElement,\n",
              " 'While Braking\\n\\nIf ABS intervenes: continue to press the brake pedal vigorously until the braking situation is over.\\n\\nTo make a full brake application: press the brake pedal with full force.\\n\\nIf ABS intervenes when braking, you will feel a pulsing in the brake pedal. The pul- sating brake pedal can be an indication of hazardous road conditions, and functions as a reminder to take extra care while driv- ing.')"
            ]
          },
          "metadata": {}
        },
        {
          "output_type": "display_data",
          "data": {
            "text/plain": [
              "(unstructured.documents.elements.CompositeElement,\n",
              " 'WARNING\\n\\nThe stopping distance required for vehicles with ABS may be slightly more than conventional brake sys- tem but ABS will still offer the advan- tage of helping you maintain directional control.\\n\\nHowever, remember that ABS will not compensate for bad road or weather conditions or poor driver judgment. Drive within safety mar- gins taking into consideration into\\n\\nconsideration prevailing weather and traffic conditions.\\n\\nELECTRONIC BRAKE FORCE DIS- TRIBUTION (EBD)')"
            ]
          },
          "metadata": {}
        },
        {
          "output_type": "display_data",
          "data": {
            "text/plain": [
              "(unstructured.documents.elements.CompositeElement,\n",
              " 'EBD monitors and controls the brake pressure on the rear wheels to improve driving stability while braking.\\n\\nEBD provides optimal braking pressure distribution between front and rear wheels to optimize braking distance and to ensure vehicle stability by means of lowering braking pressure increase at rear wheels.')"
            ]
          },
          "metadata": {}
        },
        {
          "output_type": "display_data",
          "data": {
            "text/plain": [
              "(unstructured.documents.elements.CompositeElement,\n",
              " 'WARNING\\n\\nIf EBD is malfunctioning, the rear wheels can lock, e.g. under full braking. This increases the risk of skidding and an accident.\\n\\nYou should therefore adapt your driving style to the different handling characteristics. Have the brake sys- tem checked immediately at a TATA MOTORS Authorized Service Cen- tre as soon as possible.\\n\\nBRAKE SWAY CONTROL (BSC)\\n\\nDetects tendency of instability during Brak- ing in ABS-alone vehicles by monitoring in- dividual wheel.')"
            ]
          },
          "metadata": {}
        },
        {
          "output_type": "display_data",
          "data": {
            "text/plain": [
              "(unstructured.documents.elements.CompositeElement,\n",
              " 'Enhances vehicle stability by controlling braking pressure on individual wheels dur- ing partial braking.\\n\\nSAFETY')"
            ]
          },
          "metadata": {}
        },
        {
          "output_type": "display_data",
          "data": {
            "text/plain": [
              "(unstructured.documents.elements.CompositeElement,\n",
              " 'STUCK MODE RECOVERY (TRAC- TION PRO) (if applicable)\\n\\nTraction Pro mode helps the driver to get the vehicle moving if one of the front wheels is continuously spinning because of low grip from the road surface. This sit- uation may arise due to road undulation, snow, mud, or any low friction surface. These situations are automatically identi- fied by ABS driven Traction Pro mode and pop-up windows on the infotainment sys- tem support the driver.')"
            ]
          },
          "metadata": {}
        },
        {
          "output_type": "display_data",
          "data": {
            "text/plain": [
              "(unstructured.documents.elements.CompositeElement,\n",
              " 'Driver can activate the Traction pro mode and take the vehicle out of the stuck situ- ation without any external assistance. Once activated, the driver will be guided of further steps via the infotainment unit itself.\\n\\nTraction pro mode can be used only in the forward direction and cannot be used if both front wheels are spinning.\\n\\nCAUTION\\n\\nPlease use Traction Pro Mode cau- tiously in extreme conditions where vehicle digs deep into the ground\\n\\n21')"
            ]
          },
          "metadata": {}
        },
        {
          "output_type": "display_data",
          "data": {
            "text/plain": [
              "(unstructured.documents.elements.CompositeElement,\n",
              " 'SAFETY\\n\\nwhich can cause vehicle body to touch the ground.\\n\\nDuring activation of Traction Pro Mode, service brake may not deliver normal braking performance at very low speed. In case vehicle rolls back on slope please be ready to use hand brake.\\n\\nDo not press brake and accelerator pedal together except where Trac- tion Pro Mode is activated\\n\\nIf vehicle is stuck with one wheel continu- ously spinning, you will receive the notifi- cation pop up (in below image) to activate the Traction Pro Mode.')"
            ]
          },
          "metadata": {}
        },
        {
          "output_type": "display_data",
          "data": {
            "text/plain": [
              "(unstructured.documents.elements.CompositeElement,\n",
              " '22\\n\\nIn case you select “yes”, Traction Pro Mode will be activated and you can follow the instructions to take the vehicle out of stuck situation\\n\\nIf vehicle comes out of stuck situation, no- tification pop up as seen in below image.\\n\\nAlso, you can deactivate Traction Pro\\n\\nMode at any point of time of activation by pressing deactivate button which results in notification pop up as seen in the below image.')"
            ]
          },
          "metadata": {}
        },
        {
          "output_type": "display_data",
          "data": {
            "text/plain": [
              "(unstructured.documents.elements.CompositeElement,\n",
              " 'In case there is any system temperature high is identified during the operation of Traction Pro Mode, Traction Pro Mode will be disabled temporarily for around 2 min- utes.\\n\\nIf the terrain is beyond physical limit of the Traction Pro Mode, notification pop up as described in below image will be displayed on the infotainment system. Please take external aid to tow the car in this situation.\\n\\nSAFETY\\n\\n23\\n\\n24')"
            ]
          },
          "metadata": {}
        },
        {
          "output_type": "display_data",
          "data": {
            "text/plain": [
              "(unstructured.documents.elements.CompositeElement,\n",
              " 'KEYS\\n\\nA key is an electronic access and authori- zation system available as a standard fea- ture with your vehicle.\\n\\nUnlocking Principle\\n\\nThe transponder in the ignition key carries a Unique Identification Code (UID). The vehicle unlocks when the code on the key matches with the code on the Engine Man- agement Sys-tem (EMS). In case of PEPS variant, Immobilizer function is provided by PEPS ECU.')"
            ]
          },
          "metadata": {}
        },
        {
          "output_type": "display_data",
          "data": {
            "text/plain": [
              "(unstructured.documents.elements.CompositeElement,\n",
              " 'Engine Starting\\n\\nWhen the key is inserted and the ignition is switched to ‘ON’, all codes are commu- nicated within key, Immobilizer and EMS. The engine will start only if all the codes match.\\n\\nLoss Of Keys\\n\\nIf one of the keys is lost, Contact the TATA MOTORS Authorized Dealer/Service Cen- ter immediately.')"
            ]
          },
          "metadata": {}
        },
        {
          "output_type": "display_data",
          "data": {
            "text/plain": [
              "(unstructured.documents.elements.CompositeElement,\n",
              " 'WARNING\\n\\nDo not turn ‘ON’ ignition switch by using key with any type of metal wound around its grip or in contact with it. This may be detected as ab- normal condition by immobilizer and prevent engine from starting.\\n\\nDo not leave the key in high temper- ature areas. The transponder in it will behave abnormally when reused.')"
            ]
          },
          "metadata": {}
        },
        {
          "output_type": "display_data",
          "data": {
            "text/plain": [
              "(unstructured.documents.elements.CompositeElement,\n",
              " 'Do not try to start the vehicle when the Immobilizer indicator lamp on the instrument cluster is glowing. In this condition the vehicle will not start and the vehicle’s battery will also be drained due to frequent cranking.\\n\\nOPENING AND CLOSING\\n\\n25\\n\\nOPENING AND CLOSING\\n\\nTypes Of Key\\n\\nSn\\n\\nName\\n\\n1\\n\\nMechanical key\\n\\n2\\n\\nSmart Key (PEPS)\\n\\n3\\n\\nFlip Key\\n\\n26\\n\\nRemote Key\\n\\n1.\\n\\n2.\\n\\n1.\\n\\n2.\\n\\n3.\\n\\n4.\\n\\n1.\\n\\n2.\\n\\n3.\\n\\n4.\\n\\nDescription\\n\\nLocking all doors\\n\\nUnlocking all doors\\n\\nLocking all doors\\n\\nApproach light')"
            ]
          },
          "metadata": {}
        },
        {
          "output_type": "display_data",
          "data": {
            "text/plain": [
              "(unstructured.documents.elements.CompositeElement,\n",
              " 'Tail gate opening\\n\\nUnlocking all doors\\n\\nUnlock\\n\\nApproach Light /follow me\\n\\nLock\\n\\nKey blade in / out button\\n\\nSMART KEY (if available)\\n\\nKeep the smart key with user to perform the passive access. It is used for locking, unlocking and starting the vehicle.\\n\\n1.\\n\\nLocking all doors\\n\\n2.\\n\\nApproach Light\\n\\n3.\\n\\nTail gate opening\\n\\n4.\\n\\nUnlocking all doors')"
            ]
          },
          "metadata": {}
        },
        {
          "output_type": "display_data",
          "data": {
            "text/plain": [
              "(unstructured.documents.elements.CompositeElement,\n",
              " 'Locking All Doors\\n\\nPress the lock button once (1) to lock all the doors of the vehicle.\\n\\nSuccessful lock will be indicated by two flashes of turn signal indicators.\\n\\nApproach Light\\n\\nThis feature helps to find and reach the parked vehicle.\\n\\nWhen you press approach light button (2) once, position lamps or low beam and po- sition lamps will turn ‘ON’.\\n\\nTo switch ‘OFF’ the approach lights, press and release the same button or it automat- ically turns ‘OFF’ after certain time.')"
            ]
          },
          "metadata": {}
        },
        {
          "output_type": "display_data",
          "data": {
            "text/plain": [
              "(unstructured.documents.elements.CompositeElement,\n",
              " 'Tail Gate Opening\\n\\nPress the tail gate opening button once (3) to unlock the tailgate.\\n\\nOPENING AND CLOSING\\n\\nUnlocking All Doors\\n\\nPress the unlock button once (4) to unlock all the doors.\\n\\nSuccessful unlock will be indicated by one flashes of turn signal indicators.\\n\\nNOTE\\n\\nIf smart key battery is low/drained or ve- hicle battery is low/drained, user can unlock and enter into vehicle by using mechanical key blade, which is present inside the smart key.\\n\\n27\\n\\nOPENING AND CLOSING')"
            ]
          },
          "metadata": {}
        },
        {
          "output_type": "display_data",
          "data": {
            "text/plain": [
              "(unstructured.documents.elements.CompositeElement,\n",
              " 'Key Blade In/out\\n\\nSlide the knob (1) to release the key. Pull the key blade (2) out.\\n\\n28\\n\\nSMART KEY FEATURES\\n\\nForce Panic ON Operation\\n\\nWhen vehicle is in OFF condition, if we press lock button and unlock button simul- taneously, Force panic operation gets ac- tivated. In this case, turn indicators of vehicle start flashing and horn will blow au- tomatically.\\n\\nForce Panic OFF Operation\\n\\nBy pressing any button of smart key, Force panic operation gets deactivated.')"
            ]
          },
          "metadata": {}
        },
        {
          "output_type": "display_data",
          "data": {
            "text/plain": [
              "(unstructured.documents.elements.CompositeElement,\n",
              " 'Vehicle Search\\n\\nIn vehicle locked condition, if lock button on smart key is pressed, the turn indica- tors of vehicle flashes 4 times.\\n\\nAutomatic Activation Of Immobilizer\\n\\nIf smart key is not found within the passen- ger compartment, engine will be immobi- lized and vehicle cannot start.\\n\\nAuto Locking / Unlocking Of Doors / Auto Relock\\n\\nIn PEPS variants, door will get unlocked when ignition is OFF by pressing Start Stop switch.')"
            ]
          },
          "metadata": {}
        },
        {
          "output_type": "display_data",
          "data": {
            "text/plain": [
              "(unstructured.documents.elements.CompositeElement,\n",
              " 'Anti-grab / Anti-scan Coding\\n\\nThe remote control set of this security sys- tem is protected against the use of devices called ‘scanners’ and ‘grabbers’ which can record and reproduce some types of re- mote codes.')"
            ]
          },
          "metadata": {}
        },
        {
          "output_type": "display_data",
          "data": {
            "text/plain": [
              "(unstructured.documents.elements.CompositeElement,\n",
              " 'Important\\n\\nDon’t operate Unlock button of remote in the vicinity of your vehicle, as it could lead to an unintentional unlock- ing your vehicle.\\n\\nFor battery, replacement procedure refer ‘MAINTENANCE’ section.\\n\\nDo not remove the battery connection of the vehicle while the vehicle has been locked by remote.')"
            ]
          },
          "metadata": {}
        },
        {
          "output_type": "display_data",
          "data": {
            "text/plain": [
              "(unstructured.documents.elements.CompositeElement,\n",
              " 'Smart Key Precautions\\n\\n1.\\n\\nIf smart key is close to radio transmitter such as radio station or an airport which can interfere with normal opera- tion of the transmitter.\\n\\n2.\\n\\nIf smart key is near a mobile two way radio system or a cellular phone, then it will not work properly.\\n\\n3.\\n\\nIf another vehicle’s smart key is being\\n\\noperated close to your vehicle, signal will fluctuate.\\n\\nWARNING\\n\\nKeep smart key away from electromag- netic materials that blocks electromag- netic waves to the key surface.')"
            ]
          },
          "metadata": {}
        },
        {
          "output_type": "display_data",
          "data": {
            "text/plain": [
              "(unstructured.documents.elements.CompositeElement,\n",
              " 'FLIP KEY\\n\\n1.\\n\\nUnlock\\n\\n2.\\n\\nApproach Light /follow me/trunk lid\\n\\n3.\\n\\nLock\\n\\n4.\\n\\nKey blade in / out button\\n\\n1. Unlocking All Doors\\n\\nTo unlock all doors, press unlock push-but- ton (1) once. Unlocking will be confirmed by single flash of turn indicators.\\n\\n2. Approach Light / Follow Me\\n\\nPress approach light button (2) once, low beam, park and roof lamp will turn ‘ON’ for')"
            ]
          },
          "metadata": {}
        },
        {
          "output_type": "display_data",
          "data": {
            "text/plain": [
              "(unstructured.documents.elements.CompositeElement,\n",
              " 'OPENING AND CLOSING\\n\\n60 seconds (default setting). This feature helps to find and reach the parked vehicle or to reach home in dark/ cloudy condition after parking. Red LED will be flashed on the remote. To switch ‘OFF’ the approach lights, press and release the same button or it automatically turns ‘OFF’ after 60 sec- onds.')"
            ]
          },
          "metadata": {}
        },
        {
          "output_type": "display_data",
          "data": {
            "text/plain": [
              "(unstructured.documents.elements.CompositeElement,\n",
              " 'Tail Gate Opening (if equipped)\\n\\nElectric Tail gate opening can be done through long press (4 sec) approach light button on remote key.\\n\\n3. Locking All Doors\\n\\nTo lock all doors, press lock push-button (3) once. Locking will be con-firmed by two flashes of turn indicators.\\n\\nIf lock button is pressed on the remote key with the driver door open, locking-unlock- ing takes place with audible warning sound. If any other door is open, the vehi- cle gets locked but indicators do not flash.')"
            ]
          },
          "metadata": {}
        },
        {
          "output_type": "display_data",
          "data": {
            "text/plain": [
              "(unstructured.documents.elements.CompositeElement,\n",
              " '4. Folding Key Blade In / Out\\n\\nPress button (4) to flip out the key blade. For folding, press the button (4) and fold the key blade inside.\\n\\n29\\n\\nOPENING AND CLOSING\\n\\nNOTE\\n\\nKey Blade should not be folded without pressing the button. Also, it should not be forced in any direction apart from folding direction to avoid damage to Flip Mechanism.')"
            ]
          },
          "metadata": {}
        },
        {
          "output_type": "display_data",
          "data": {
            "text/plain": [
              "(unstructured.documents.elements.CompositeElement,\n",
              " 'Manual Operation Of Central Door Locking / Unlocking\\n\\nAll doors can be locked / unlocked operat- ing driver door using either key blade from outside or knob from inside.\\n\\n30\\n\\nFLIP KEY FEATURES\\n\\nVehicle Search\\n\\nIn vehicle locked condition if lock button on remote key is pressed the turn indicators of vehicle flashes 4 times.')"
            ]
          },
          "metadata": {}
        },
        {
          "output_type": "display_data",
          "data": {
            "text/plain": [
              "(unstructured.documents.elements.CompositeElement,\n",
              " 'Force Panic ON Operation\\n\\nForce Panic ON operation When vehicle is in OFF condition, if we press lock button and unlock button simultaneously, Force panic operation gets activated. In this case, turn indicators of vehicle start flash- ing and horn will blow automatically. Force Panic OFF operation.\\n\\nForce Panic OFF Operation\\n\\nBy pressing any button of flip key, Force panic operation gets deactivated')"
            ]
          },
          "metadata": {}
        },
        {
          "output_type": "display_data",
          "data": {
            "text/plain": [
              "(unstructured.documents.elements.CompositeElement,\n",
              " 'Automatic Activation Of Immobilizer\\n\\nIf key is removed from ignition, the engine will be immobilized automatically even if you forget to lock the vehicle.')"
            ]
          },
          "metadata": {}
        },
        {
          "output_type": "display_data",
          "data": {
            "text/plain": [
              "(unstructured.documents.elements.CompositeElement,\n",
              " 'Auto Locking / Unlocking Of Doors / Auto Relock\\n\\nVehicle doors get automatically locked when all doors are closed and the vehicle\\n\\nspeed crosses 10 kmph.\\n\\nWhen ignition key is taken out all the doors get automatically unlocked.\\n\\nAlso, when unlocked with remote key and if no door is opened within 30 seconds, ve- hicle doors get automatically locked.')"
            ]
          },
          "metadata": {}
        },
        {
          "output_type": "display_data",
          "data": {
            "text/plain": [
              "(unstructured.documents.elements.CompositeElement,\n",
              " 'Anti-grab / Anti-scan Coding\\n\\nThe remote control set of this security sys- tem is protected against the use of devices called ‘scanners’ and ‘grabbers’ which can record and reproduce some types of re- mote codes.')"
            ]
          },
          "metadata": {}
        },
        {
          "output_type": "display_data",
          "data": {
            "text/plain": [
              "(unstructured.documents.elements.CompositeElement,\n",
              " 'Important\\n\\nDon’t operate Unlock push-button of re- mote while in the vicinity of your vehicle, as it could lead to an unintentional unlock- ing your vehicle.\\n\\nDon’t use discharged batteries in remote, as it could damage the remote.\\n\\nFor battery replacement procedure refer maintenance section.\\n\\nDon’t remove the battery connection of the vehicle while the vehicle has been locked by remote.\\n\\nDOORS')"
            ]
          },
          "metadata": {}
        },
        {
          "output_type": "display_data",
          "data": {
            "text/plain": [
              "(unstructured.documents.elements.CompositeElement,\n",
              " 'Door Lock And Unlock With Key (if available)\\n\\nThe front doors can be locked or un- locked from outside using the key blade.\\n\\nInsert the key in the slot and turn it clock- wise to lock and anticlockwise to unlock the door.\\n\\nDoor Locking And Unlocking Using Door Handle Switch (DHS)\\n\\nTo lock/unlock all the doors without oper- ating smart key button/ key blade. Press the door handle switch (DHS) provided on the driver door to lock/unlock all the four doors including Tail gate.')"
            ]
          },
          "metadata": {}
        },
        {
          "output_type": "display_data",
          "data": {
            "text/plain": [
              "(unstructured.documents.elements.CompositeElement,\n",
              " 'NOTE\\n\\nAuthentication range for smart key ranges from 1 to 1.5 meters from outside the respective door or tail gate.\\n\\nOPENING AND CLOSING\\n\\nPassive entry works only when igni- tion is off.\\n\\nRear Door Opening\\n\\nDoor opening handle is provided on the side of the window.\\n\\nTo open the door, press the lever provided inside the handle and pull.\\n\\n31\\n\\nOPENING AND CLOSING')"
            ]
          },
          "metadata": {}
        },
        {
          "output_type": "display_data",
          "data": {
            "text/plain": [
              "(unstructured.documents.elements.CompositeElement,\n",
              " 'Locking Without A Key From Inside\\n\\nAll the doors can also be locked from in- side by pressing lever on driver door and independently on other doors respectively.\\n\\n32\\n\\nOpening The Doors From Inside\\n\\nAll doors can be opened from inside. To open, pull the door opening lever. All doors can be unlocked by pulling the inside re- lease lever to the intermediate position. When it is further articulated will unlatch the door and can be opened.\\n\\nWINDOWS\\n\\nPower Windows (if available)\\n\\n1.')"
            ]
          },
          "metadata": {}
        },
        {
          "output_type": "display_data",
          "data": {
            "text/plain": [
              "(unstructured.documents.elements.CompositeElement,\n",
              " 'Front Window Winding Switch (Left)\\n\\n2.\\n\\nFront Window Winding Switch (Right)\\n\\n3.\\n\\nRear Window Winding Switch (Left)\\n\\n4.\\n\\nRear Window Winding Switch (Right)\\n\\n5.\\n\\nInhibit Switch\\n\\nWindow glasses on all four doors can be operated by switches provided on the main control panel located on the driver’s arm rest. They work only when the key is in the ‘IGN ON’ position.\\n\\nNOTE\\n\\nPower windows can be operated for 30 seconds in ‘IGN OFF’ and ‘KEY OUT’ positions, provided the doors are closed.')"
            ]
          },
          "metadata": {}
        },
        {
          "output_type": "display_data",
          "data": {
            "text/plain": [
              "(unstructured.documents.elements.CompositeElement,\n",
              " 'Express Down (if available)\\n\\nWindow glasses can be opened by a sin- gle long press of the switch. Express down feature is provided for the driver’s door only.\\n\\nIndividual Switches\\n\\nIndividual window winding switches have been provided on the front passenger and rear doors.\\n\\nGlasses are wound up or down by pulling or pressing the switch.\\n\\nOPENING AND CLOSING\\n\\nWARNING\\n\\nWhile raising the glass, take care to avoid fingers/hands getting trapped be- tween glass and the door frame.\\n\\nInhibit Switch')"
            ]
          },
          "metadata": {}
        },
        {
          "output_type": "display_data",
          "data": {
            "text/plain": [
              "(unstructured.documents.elements.CompositeElement,\n",
              " 'Inhibit Switch ON\\n\\nWhen switch is pressed, Amber light turns ‘ON’. The individual switches provided on rear and front passenger door\\n\\n33\\n\\nOPENING AND CLOSING\\n\\ncannot be operated. However, it can be operated from the switches on driver’s arm rest\\n\\nInhibit Switch OFF\\n\\nWhen switch is pressed, Amber light turns ‘OFF’. The individual switches provided on rear and front passenger door can be operated. It can also be operated from the switches on driver’s arm rest. .')"
            ]
          },
          "metadata": {}
        },
        {
          "output_type": "display_data",
          "data": {
            "text/plain": [
              "(unstructured.documents.elements.CompositeElement,\n",
              " 'WARNING\\n\\nIf children operate the windows they could be get trapped, particularly if they are left unsupervised. There is a risk of injury.\\n\\nActivate the window inhibit feature when children are travel-ling. When leaving the vehicle, always take the key with you and lock the vehicle. Never leave children unsupervised in the vehicle.\\n\\n34\\n\\nManual Window Winding (if available)\\n\\nUse window winder handle for lowering or raising up window glasses manually where power windows are not provided.')"
            ]
          },
          "metadata": {}
        },
        {
          "output_type": "display_data",
          "data": {
            "text/plain": [
              "(unstructured.documents.elements.CompositeElement,\n",
              " 'Opening The Bonnet\\n\\n1.\\n\\nMake sure that the engine is switched off and vehicle is in neutral gear with the parking brake applied.\\n\\n2.\\n\\nPull the bonnet release lever. The bon- net will pop up slightly.\\n\\nFor MT\\n\\nFor AMT\\n\\n3.\\n\\nLift the bonnet slightly and with your finger and slide the secondary lock lever located under the center of the bonnet')"
            ]
          },
          "metadata": {}
        },
        {
          "output_type": "display_data",
          "data": {
            "text/plain": [
              "(unstructured.documents.elements.CompositeElement,\n",
              " 'NOTE\\n\\nMake sure that the wiper arms are not raised and not operate before you lift up the bonnet to avoid damaging the wiper arms and the bonnet.\\n\\n4.\\n\\nLift the bonnet up. Pull the bonnet stay rod from its clip and put the free end into the slot provided on frame.\\n\\nOPENING AND CLOSING')"
            ]
          },
          "metadata": {}
        },
        {
          "output_type": "display_data",
          "data": {
            "text/plain": [
              "(unstructured.documents.elements.CompositeElement,\n",
              " 'WARNING\\n\\nThe stay rod can be hot enough to burn your finger right after driving. Touch the rod after it becomes cool enough.\\n\\nPut the stay rod into the hole cor- rectly. If the rod drops off, your body may be caught below the bonnet.\\n\\nDeactivate the Idle Stop Start (ISS) function for any operation to be per- formed in the Engine compartment.\\n\\n35\\n\\nOPENING AND CLOSING')"
            ]
          },
          "metadata": {}
        },
        {
          "output_type": "display_data",
          "data": {
            "text/plain": [
              "(unstructured.documents.elements.CompositeElement,\n",
              " 'Closing\\n\\n1.\\n\\nTo close the bonnet, hold the bon-net by one hand, disengage the stay rod and clamp it back properly.\\n\\n2.\\n\\nLower the bonnet close to the bumper, then let it drop down.\\n\\nWARNING\\n\\nMake sure that the bonnet is correctly locked or it can fly up unexpectedly when you drive.\\n\\n36\\n\\nTAIL GATE OPENING\\n\\nNOTE\\n\\nSome variants may have multiple op- tions.\\n\\nOption I\\n\\nTo release the tailgate, press the tail gate button on the remote.')"
            ]
          },
          "metadata": {}
        },
        {
          "output_type": "display_data",
          "data": {
            "text/plain": [
              "(unstructured.documents.elements.CompositeElement,\n",
              " 'NOTE\\n\\nPress the tail gate button on smart key and press the tail gate door handle\\n\\nswitch within 30 seconds to open it.\\n\\nOption II\\n\\nIf the vehicle is locked, tail gate is closed and tail gate DHS switch is pressed with valid smart key in the authentication range the tail gate gets unlatched.\\n\\nOn closing the tail gate door, it gets locked. While closing the tail gate, if doors are in locked condition and valid smart key is in- side the trunk, then tail gate gets unlocked.')"
            ]
          },
          "metadata": {}
        },
        {
          "output_type": "display_data",
          "data": {
            "text/plain": [
              "(unstructured.documents.elements.CompositeElement,\n",
              " 'NOTE\\n\\nOnce tail gate is opened, it will not get locked automatically with other doors.\\n\\nIf the doors are unlocked, the tail gate can be unlocked via tail gate handle switch without smart key.\\n\\nDo not keep the smart key in the boot when you close the tail gate.\\n\\nWARNING\\n\\nTail gate can’t be locked using mechan- ical key/ flip key/ smart key. It has to be locked by slamming it.\\n\\nOption III')"
            ]
          },
          "metadata": {}
        },
        {
          "output_type": "display_data",
          "data": {
            "text/plain": [
              "(unstructured.documents.elements.CompositeElement,\n",
              " 'Emergency Tailgate Opening\\n\\nIn emergency situation like key or vehicle battery is discharged or electrical malfunc- tioning, you can unlock the tailgate from in- side as per procedure given below:\\n\\n1.\\n\\nOpen driver door using mechanical key.\\n\\n2.\\n\\nOpen the rear door.\\n\\n3.\\n\\nFold the rear seat.\\n\\n4.\\n\\nAnd access the tailgate opening lever from inside.\\n\\n5.\\n\\nTurn the lever clockwise to unlatch and open the tailgate.\\n\\nNOTE\\n\\nThis can be used in emergency situa- tion when you are inside the vehicle.')"
            ]
          },
          "metadata": {}
        },
        {
          "output_type": "display_data",
          "data": {
            "text/plain": [
              "(unstructured.documents.elements.CompositeElement,\n",
              " 'OPENING AND CLOSING\\n\\nFUEL LID\\n\\nTo release the fuel flap, pull the lever lo- cated at the right hand side below the driver seat.\\n\\nFor opening, open the fuel cap, turn it counter clockwise.\\n\\nFor closing, turn the fuel cap clockwise and gently push the fuel flap till it gets locked.\\n\\n37\\n\\nOPENING AND CLOSING')"
            ]
          },
          "metadata": {}
        },
        {
          "output_type": "display_data",
          "data": {
            "text/plain": [
              "(unstructured.documents.elements.CompositeElement,\n",
              " 'WARNING\\n\\nFuel vapor is extremely hazardous. Always switch ‘OFF’ the engine be- fore refueling and never refill near sparks or open flames. Do not use cell phone when you fill fuel.\\n\\nDo not continue adding fuel after the automatic shut ‘OFF’ function is op- erated if it is equipped on the fuel station. Overfilling the fuel tank could damage the fuel system.\\n\\n38')"
            ]
          },
          "metadata": {}
        },
        {
          "output_type": "display_data",
          "data": {
            "text/plain": [
              "(unstructured.documents.elements.CompositeElement,\n",
              " 'NOTE\\n\\nTo fill up the fuel, the Engine must be stopped by turning OFF the Igni- tion Key / Start-Stop button. If the Engine is in Idle Stop Start (ISS) mode, it may restart automatically while filling the fuel.\\n\\nRemove the fuel filler cap slowly, and wait for any hissing to stop. The fuel may be under pressure and may spray out.\\n\\nIf fuel cap needs replacement, make sure that it is replaced by a genuine cap at the TATA MOTORS author- ized service center.\\n\\nCOCKPIT')"
            ]
          },
          "metadata": {}
        },
        {
          "output_type": "display_data",
          "data": {
            "text/plain": [
              "(unstructured.documents.elements.CompositeElement,\n",
              " 'DASHBOARD AND FEATURES\\n\\n1 A.C. Air vent 2 Airbag (PAB) 3 4 Steering controls (if available) 5 6 Combi-Switch 7 Horn pad 8 Fascia switch (if available) 9 Driver side Utility pocket 10 Start - Stop switch (if available) 11 Airbag (DAB) 12 Controls 13 Foot Rest 14 USB Port 15 Parking Brake Lever 16 Glove box 17 Gear shift lever 18 ETC / FATC (as available) 19 Hazard Warning switch 20 Center air vent\\n\\nInfotainment Display (if available)\\n\\nInstrument Cluster\\n\\n39\\n\\nDASHBOARD AND FEATURES')"
            ]
          },
          "metadata": {}
        },
        {
          "output_type": "display_data",
          "data": {
            "text/plain": [
              "(unstructured.documents.elements.CompositeElement,\n",
              " 'INSTRUMENT CLUSTER (TFT Screen)\\n\\nNOTE: All indicators shown may not be applicable to your vehicle.\\n\\n40\\n\\nSpeedometer\\n\\nSpeedometer indicates the vehicle speed in kmph.\\n\\nNOTE\\n\\nAt every key IN and ignition ON, the In- strument Cluster needles and gauges move to max. and return to ‘0‘ position. This is a welcome strategy and a self- check feature.\\n\\nTachometer\\n\\nTachometer indicates engine speed in rev- olutions per min (rpm).')"
            ]
          },
          "metadata": {}
        },
        {
          "output_type": "display_data",
          "data": {
            "text/plain": [
              "(unstructured.documents.elements.CompositeElement,\n",
              " 'WARNING\\n\\nDo not drive the vehicle with a high en- gine rpm. This may cause damage to the engine and reduce its life.\\n\\nFuel Gauge\\n\\nWhen the ignition switch is in “ON” posi- tion, fuel gauge gives an approximate in-\\n\\nDASHBOARD AND FEATURES\\n\\ndication of the amount of fuel in the fuel tank. In indication window, “F” stands for full and “E” stands for empty.\\n\\nWhen fuel in the tank nears empty, low fuel warning tell-tale light glows. Fill fuel as soon as possible.')"
            ]
          },
          "metadata": {}
        },
        {
          "output_type": "display_data",
          "data": {
            "text/plain": [
              "(unstructured.documents.elements.CompositeElement,\n",
              " 'NOTE\\n\\nDo a check of the fuel level when the vehicle is stationary on a level road.\\n\\nThe fuel level displayed can vary when you drive on inclines, curves,\\n\\n41\\n\\nDASHBOARD AND FEATURES\\n\\nbrake and accelerate suddenly. This is due to the movement of fuel in the tank. The low fuel warning lamp may turn to ON or OFF earlier or later than usual.')"
            ]
          },
          "metadata": {}
        },
        {
          "output_type": "display_data",
          "data": {
            "text/plain": [
              "(unstructured.documents.elements.CompositeElement,\n",
              " 'WARNING\\n\\nIf there is any defect in the system, Low fuel warning symbol will blink. Take your vehicle to the nearest TATA MOTORS Authorized Dealer/Service Center.')"
            ]
          },
          "metadata": {}
        },
        {
          "output_type": "display_data",
          "data": {
            "text/plain": [
              "(unstructured.documents.elements.CompositeElement,\n",
              " 'Temperature Gauge\\n\\nWhen the ignition switch is in the “ON” po- sition, this gauge indicates the engine coolant temperature.\\n\\nThe indicator should be within the normal, acceptable temperature range i.e. be- tween “H” and “C”. If the indicator ap- proaches “H”, overheating is indicated by a RED progress bar.\\n\\nIf the coolant temperature is very high, the\\n\\n42')"
            ]
          },
          "metadata": {}
        },
        {
          "output_type": "display_data",
          "data": {
            "text/plain": [
              "(unstructured.documents.elements.CompositeElement,\n",
              " 'engine coolant temperature tell-tale light flashes and you will hear an audio warn- ing. In this case, stop the vehicle, switch the engine ‘OFF’ and allow it to cool down for some time. Contact the nearest TATA MOTORS Authorized service centre im- mediately for rectification.\\n\\nWARNING\\n\\nThe red progress bar indicates over heating due to high coolant temperature that may damage the engine. If you continue to drive the vehicle in this case, it can result in severe engine damage or even fire.')"
            ]
          },
          "metadata": {}
        },
        {
          "output_type": "display_data",
          "data": {
            "text/plain": [
              "(unstructured.documents.elements.CompositeElement,\n",
              " 'Driver Information System\\n\\nDriver Information\\n\\nOdometer\\n\\nTrip meter A & B\\n\\nClock\\n\\nService reminder\\n\\nSystem Image\\n\\nDASHBOARD AND FEATURES')"
            ]
          },
          "metadata": {}
        },
        {
          "output_type": "display_data",
          "data": {
            "text/plain": [
              "(unstructured.documents.elements.CompositeElement,\n",
              " 'Description\\n\\nThis indicates distance travelled by the vehicle. The odometer reading does not return to “0” when maximum value is reached; the display will freeze the maximum value.\\n\\nThe trip meter can be used to measure the distance trav- elled on short trips or between fuel stops. It can be reset to “0”. The trip meter reading becomes “0.0” after it crosses 9999.9 km.')"
            ]
          },
          "metadata": {}
        },
        {
          "output_type": "display_data",
          "data": {
            "text/plain": [
              "(unstructured.documents.elements.CompositeElement,\n",
              " 'Indicates current time in AM/PM mode. Clock time can be changed using steering wheel switches on the steering wheel. Whenever the battery terminals or related fuses are con- nected, you must reset the clock time. This feature is available when ignition switch is in ‘ON’ position. NOTE: Clock settings can also be changed through info- tainment system. For more information, refer infotainment manual.')"
            ]
          },
          "metadata": {}
        },
        {
          "output_type": "display_data",
          "data": {
            "text/plain": [
              "(unstructured.documents.elements.CompositeElement,\n",
              " 'This indicates how many days/kilometres are left till serv- ice is due. If service is overdue, it will display “0” km or “0” days and a spanner symbol will blink every time ignition is ON for a few seconds. Never reset the display between\\n\\n43\\n\\nDASHBOARD AND FEATURES\\n\\nDriver Information\\n\\nDoor Ajar\\n\\nCurrent gear position (indicator)\\n\\nGear Recommenda- tion\\n\\n44')"
            ]
          },
          "metadata": {}
        },
        {
          "output_type": "display_data",
          "data": {
            "text/plain": [
              "(unstructured.documents.elements.CompositeElement,\n",
              " 'System Image\\n\\nDescription service intervals as it may give incorrect readings. The in- formation is retained in the service interval display even after the vehicle battery is disconnected. NOTE: This option is for indicative purpose only. Keep track of your odometer reading and follow the mainte- nance schedule.\\n\\nRespective door open display pop up come for few sec and then telltale with respective door open shall be dis- played.')"
            ]
          },
          "metadata": {}
        },
        {
          "output_type": "display_data",
          "data": {
            "text/plain": [
              "(unstructured.documents.elements.CompositeElement,\n",
              " 'Current gear engaged by the transmission shall be dis- played on DIS. NOTE: If “F” is displayed it means a defect in the system is detected Contact the nearest TATA MOTORS Author- ized service centre immediately to rectify the problem.\\n\\nIn case of a manual transmission, the gear number will be displayed when the clutch is fully released.\\n\\nUp or down arrow will be displayed on DIS to shift a gear up or down. No arrow shall be displayed when the selected gear is as per the Vehicle dynamics.')"
            ]
          },
          "metadata": {}
        },
        {
          "output_type": "display_data",
          "data": {
            "text/plain": [
              "(unstructured.documents.elements.CompositeElement,\n",
              " 'Driver Information\\n\\nNight time Illumina- tion control\\n\\nDrive Mode (AMT)\\n\\nSystem Image\\n\\nDASHBOARD AND FEATURES\\n\\nDescription\\n\\nDashboard Illumination in Night time can be controlled in 5 steps as per user’s convenience using SET and MODE button. Refer settings flow.\\n\\nApplicable to AMT variant of the vehicle. “M” indicates Manual Drive mode. “A” indicated Automatic Drive mode.\\n\\n45\\n\\nDASHBOARD AND FEATURES')"
            ]
          },
          "metadata": {}
        },
        {
          "output_type": "display_data",
          "data": {
            "text/plain": [
              "(unstructured.documents.elements.CompositeElement,\n",
              " 'Instantaneous Fuel Economy (IFE)\\n\\nTo reach the Instant Fuel Economy in the\\n\\nInstrument cluster. Press the ton on the RHS of the steering wheel.\\n\\nbut-\\n\\nIFE display does not show Fuel Economy of last drive.\\n\\nThe display does not show actual value unless vehicle is moving.\\n\\nThe indication on the display screen may be delayed if fuel consumption is affected by driving pattern.\\n\\nNOTE\\n\\nIFE will vary frequently as per driving pattern.\\n\\n46')"
            ]
          },
          "metadata": {}
        },
        {
          "output_type": "display_data",
          "data": {
            "text/plain": [
              "(unstructured.documents.elements.CompositeElement,\n",
              " 'Power And Torque\\n\\nIndicates the value of Power and Torque delivered by engine in the particular driv- ing condition.\\n\\nAverage Fuel Economy (AFE)\\n\\nTrip A\\n\\nTrip B\\n\\nAFE value is an estimate of fuel economy. It may vary significantly based upon driv- ing conditions, driving habits and condition of the vehicle.\\n\\nTo see the average fuel economy in the in-\\n\\nstrument cluster, press the on the RHS of the steering wheel.')"
            ]
          },
          "metadata": {}
        },
        {
          "output_type": "display_data",
          "data": {
            "text/plain": [
              "(unstructured.documents.elements.CompositeElement,\n",
              " 'switch\\n\\nTrip time, Average speed and Trip distance will reset to ‘0’ when respective Trip meter is reset.')"
            ]
          },
          "metadata": {}
        },
        {
          "output_type": "display_data",
          "data": {
            "text/plain": [
              "(unstructured.documents.elements.CompositeElement,\n",
              " 'NOTE\\n\\nAverage Fuel Economy, Trip time and Average speed will get reset to ‘0’ when Battery is removed and refitted. Average Fuel Economy will be dis- played as ‘—.—‘for initial 0.5 km of re- spective trip. Once 0.5 km distance is covered, Average Fuel Economy will be displayed. Even after 0.5 km distance covered for particular trip, if Average Fuel Economy is displayed as ‘—.—‘, then take your vehicle to TATA MOTORS Authorized Dealer/Service Center.')"
            ]
          },
          "metadata": {}
        },
        {
          "output_type": "display_data",
          "data": {
            "text/plain": [
              "(unstructured.documents.elements.CompositeElement,\n",
              " 'Distance To Empty (DTE)\\n\\nThe above DTE screen indicates an ap- proximate distance in ‘km’ that your vehi- cle can travel with available fuel in tank.\\n\\nTo reach the Distance to Empty in the In-\\n\\nstrument cluster. Press the')"
            ]
          },
          "metadata": {}
        },
        {
          "output_type": "display_data",
          "data": {
            "text/plain": [
              "(unstructured.documents.elements.CompositeElement,\n",
              " 'but-\\n\\ntons on RHS of the steering wheel.\\n\\nDTE values may vary significantly based on driving conditions, driving habits, and condition of the vehicle. It is an estimate value of the available driving distance.\\n\\nIf low fuel warning light glows, fill the fuel tank immediately regardless of the DTE figure.')"
            ]
          },
          "metadata": {}
        },
        {
          "output_type": "display_data",
          "data": {
            "text/plain": [
              "(unstructured.documents.elements.CompositeElement,\n",
              " 'NOTE\\n\\nIf DTE is displayed as ‘—-‘, then take your vehicle to the TATA MO- TORS Authorized Dealer/Service Center.\\n\\nThe DTE will update with a new value when fuel is added for more than 7 litres at a time.\\n\\nInfotainment Information On Instru- ment Cluster Display Unit\\n\\nThe instrument cluster will display informa- tion like media, navigation and FM.\\n\\nDASHBOARD AND FEATURES\\n\\nSetting Screen\\n\\nUser can enter into setting by pressing se-\\n\\nlect button screen.\\n\\nwhile being in setting\\n\\n47')"
            ]
          },
          "metadata": {}
        },
        {
          "output_type": "display_data",
          "data": {
            "text/plain": [
              "(unstructured.documents.elements.CompositeElement,\n",
              " 'DASHBOARD AND FEATURES\\n\\nTo change the option by pressing button on RHS of the steering wheel.\\n\\nNOTE\\n\\nIn the Setting menu if there is no user input for 10 sec the previous screen shall be displayed.\\n\\nIllumination Screen\\n\\nUser can select illumination setting by scroll down & pressing set button on the RHS of the steering wheel.\\n\\n48\\n\\nTo increase the illumination from 20% to\\n\\n100% in five steps by pressing on RHS of the steering wheel.')"
            ]
          },
          "metadata": {}
        },
        {
          "output_type": "display_data",
          "data": {
            "text/plain": [
              "(unstructured.documents.elements.CompositeElement,\n",
              " 'button\\n\\nTo decrease the illumination from 100% to\\n\\n20% in five steps by pressing RHS of the steering wheel.\\n\\nbutton on\\n\\nIllumination setting\\n\\nIf parking lamp is OFF, the option is greyed out and can not be selectable\\n\\nIlluminated Key Ring\\n\\nWhen the vehicle is unlocked, the illumi- nated key ring glows up. This helps to lo- cate ignition switch in the dark.')"
            ]
          },
          "metadata": {}
        },
        {
          "output_type": "display_data",
          "data": {
            "text/plain": [
              "(unstructured.documents.elements.CompositeElement,\n",
              " 'Outside Ambient Temperature\\n\\nThis displays outside ambient temperature reading with an accuracy of ±1 °C.\\n\\nThe temperature sensor is located at the front bumper. Therefore the temperature reading can be affected by heat reflection from the road surface, engine heat and the exhaust from surrounding traffic.\\n\\nIf outside temperature falls below -1°C, a “snowflake” symbol appears beside the\\n\\noutside temperature reading.')"
            ]
          },
          "metadata": {}
        },
        {
          "output_type": "display_data",
          "data": {
            "text/plain": [
              "(unstructured.documents.elements.CompositeElement,\n",
              " 'NOTE\\n\\nFor an accurate temperature reading, make sure the vehicle speed is above 30 kmph.\\n\\nWARNING\\n\\nIf display shows OAT temp as “- - “, take your car to the TATA authorized service center.\\n\\nService Reminder Setting\\n\\nService reminder reset option will be en- abled only in service due/overdue condi- tion only.\\n\\nUser can reset the service reminder sym- buttons & bol by pressing up\\n\\n/ down\\n\\nand select\\n\\nset buttons.')"
            ]
          },
          "metadata": {}
        },
        {
          "output_type": "display_data",
          "data": {
            "text/plain": [
              "(unstructured.documents.elements.CompositeElement,\n",
              " 'NOTE\\n\\nIn the Setting menu if there is no user input for 10 sec the previous screen shall be displayed.\\n\\nDASHBOARD AND FEATURES\\n\\nClock\\n\\nClock indicates current time in 12 / 24 hours mode.\\n\\nClock mode can be changed either through Instrument Cluster setting screen (If clock option not grey out by default) or through Infotainment sys- tem setting screen, refer infotainment system manual for this.')"
            ]
          },
          "metadata": {}
        },
        {
          "output_type": "display_data",
          "data": {
            "text/plain": [
              "(unstructured.documents.elements.CompositeElement,\n",
              " 'Clock Setting\\n\\nUser can select clock setting by scroll down & pressing set button in setting screen.\\n\\n49\\n\\nDASHBOARD AND FEATURES\\n\\nUp and down button to be used for scrolling through fields of 24 hour format/hour/minute/AM/PM.\\n\\nSelect button into required field and exit from that.\\n\\nto be used to enter\\n\\nUp and down button to be used for changing the values.\\n\\n50\\n\\nDASHBOARD AND FEATURES')"
            ]
          },
          "metadata": {}
        },
        {
          "output_type": "display_data",
          "data": {
            "text/plain": [
              "(unstructured.documents.elements.CompositeElement,\n",
              " 'Display Messages On Instrument Cluster\\n\\nBelow messages may be displayed in the screen for three seconds based on the priority and after display time is over some warnings will be shown with minimized tell tale symbol.\\n\\nInterrupts Messages\\n\\nNOTE: All messages may not be applicable to your vehicle.\\n\\n51\\n\\nDASHBOARD AND FEATURES\\n\\nSn 1 2 3 4 5 6 7 8 9')"
            ]
          },
          "metadata": {}
        },
        {
          "output_type": "display_data",
          "data": {
            "text/plain": [
              "(unstructured.documents.elements.CompositeElement,\n",
              " 'Alert\\n\\nRotate steering wheel (In ESCL jam condition) Key Fob battery Low Smart key out of range Drive Alert - Tea Break Steering Failure, Please Stop Driving Steering Failure, Please Visit Garage Pedal Press Alert Clutch Happy Birthday Align Steering wheel\\n\\n52')"
            ]
          },
          "metadata": {}
        },
        {
          "output_type": "display_data",
          "data": {
            "text/plain": [
              "(unstructured.documents.elements.CompositeElement,\n",
              " 'Interrupts Messages On Instrument Cluster\\n\\nPress Start Button While Turning Wheel Smart Key Battery Low Replace Battery Smart Key Out of Range Take a Break Steering Failure Stop the Vehicle Safely Steering Failure Contact Service Center Press Clutch Pedal to Start Engine Happy Birthday Align Steering wheel\\n\\nWarning Messages\\n\\nSn 1 2 3 4\\n\\nAlert\\n\\nFuel Level Low State Fasten seat belt co-driver Fasten Seat Belt - Driver Speed Limit Warning\\n\\nDASHBOARD AND FEATURES')"
            ]
          },
          "metadata": {}
        },
        {
          "output_type": "display_data",
          "data": {
            "text/plain": [
              "(unstructured.documents.elements.CompositeElement,\n",
              " 'Warning Messages On Instrument Cluster\\n\\nFuel Level Low Fasten Co-Driver Seat Belt Fasten Driver Seat Belt Over Speeding Detected Slow Down\\n\\n53\\n\\nDASHBOARD AND FEATURES\\n\\nInformation Messages\\n\\nSr.no 1 2 3\\n\\n4\\n\\n5 6\\n\\nAlert\\n\\nPark Brake Engaged Traction Control Off Auto Headlamp Resume to Target Speed Not Possible in Current Gear Cruise Override ISS-Start the Engine\\n\\n54\\n\\nInformation Messages On Instrument Cluster\\n\\nPark Brake Engaged TCS Turned Off Auto Headlamp Activated')"
            ]
          },
          "metadata": {}
        },
        {
          "output_type": "display_data",
          "data": {
            "text/plain": [
              "(unstructured.documents.elements.CompositeElement,\n",
              " 'Change Gear to Resume Cruise Speed\\n\\nCruise Override Auto Stop Start the Engine\\n\\nSr.no 7 8 9 10 11 12 13\\n\\nAlert\\n\\nAuto Start Enabled Low Battery Charge Auto Start Enabled Low Brake Assist Vacuum Auto Start Enabled High Cabin Temperature Auto Start Enabled Low Coolant Temperature Auto Start Enabled Start Vehicle Rolling Auto Start-Stop Enabled Text Alert Auto Start-Stop Disabled Text Alert\\n\\nDASHBOARD AND FEATURES')"
            ]
          },
          "metadata": {}
        },
        {
          "output_type": "display_data",
          "data": {
            "text/plain": [
              "(unstructured.documents.elements.CompositeElement,\n",
              " 'Information Messages On Instrument Cluster\\n\\nAutonomous Start Enabled - Battery SOC Low Autonomous Start Enabled - Brake Vacuum Low Autonomous Start Enabled – Cabin Temp high Autonomous Start Enabled – Coolant Temp Low Auto Start Enabled Vehicle Rolling Auto Start- Stop Enabled Auto Start- Stop Disabled\\n\\n55\\n\\nDASHBOARD AND FEATURES\\n\\nINSTRUMENT CLUSTER (LCD Screen)\\n\\nNOTE: All indicators shown may not be applicable to your vehicle\\n\\n56\\n\\nSpeedometer\\n\\nSpeedometer indicates the vehicle speed in kmph.')"
            ]
          },
          "metadata": {}
        },
        {
          "output_type": "display_data",
          "data": {
            "text/plain": [
              "(unstructured.documents.elements.CompositeElement,\n",
              " 'NOTE\\n\\nWhenever you turn the ignition on, the Instrument Cluster needles and gauges move to maximum value and return to ‘0’ position. This is a welcome strategy and a self-check feature.\\n\\nTachometer\\n\\nTachometer indicates engine speed in rev- olutions per min (rpm).\\n\\nWARNING\\n\\nDo not drive the vehicle with high en- gine rpm. This may cause damage to the engine and reduce its life.\\n\\nFuel Gauge\\n\\nWhen the ignition switch is in “ON” posi- tion, fuel gauge gives an approximate in-')"
            ]
          },
          "metadata": {}
        },
        {
          "output_type": "display_data",
          "data": {
            "text/plain": [
              "(unstructured.documents.elements.CompositeElement,\n",
              " 'DASHBOARD AND FEATURES\\n\\ndication of the amount of fuel in the fuel tank. “F” stands for full and “E” stands for empty.\\n\\nWhen fuel in the tank nears empty, low fuel warning tell-tale light glows. Fill fuel as soon as possible.')"
            ]
          },
          "metadata": {}
        },
        {
          "output_type": "display_data",
          "data": {
            "text/plain": [
              "(unstructured.documents.elements.CompositeElement,\n",
              " 'NOTE\\n\\nDo a check of the fuel level when the vehicle is stationary on a plain surface.\\n\\nThe fuel level displayed can vary when you drive on inclines, curves, brake and accelerate suddenly. This is due to the movement of fuel in the tank. The low fuel warning lamp may turn to ON or OFF earlier or later than usual.\\n\\n57\\n\\nDASHBOARD AND FEATURES')"
            ]
          },
          "metadata": {}
        },
        {
          "output_type": "display_data",
          "data": {
            "text/plain": [
              "(unstructured.documents.elements.CompositeElement,\n",
              " 'WARNING\\n\\nIf there is any fault in the system, Low fuel warning symbol will start blinking. Take your vehicle to the nearest TATA MOTORS Authorized Dealer/Service Center.\\n\\nTemperature Gauge\\n\\nWhen the ignition switch is in the “ON” po- sition, this gauge indicates the engine coolant temperature.\\n\\nThe indicator should stay within the nor- mal, acceptable temperature range be- tween “H” and “C”. If the indicator approaches “H”, overheating is indicated by a red bar.')"
            ]
          },
          "metadata": {}
        },
        {
          "output_type": "display_data",
          "data": {
            "text/plain": [
              "(unstructured.documents.elements.CompositeElement,\n",
              " 'If the coolant temperature reading is very high, the engine coolant temperature tell- tale light flashes with an audible buzzer. In this case, stop the vehicle, switch ‘OFF’ the engine and cool it down for some time. Contact the nearest TATA MOTORS Au-\\n\\n58\\n\\nthorized Dealer/Service Center immedi- ately for rectification.')"
            ]
          },
          "metadata": {}
        },
        {
          "output_type": "display_data",
          "data": {
            "text/plain": [
              "(unstructured.documents.elements.CompositeElement,\n",
              " 'WARNING\\n\\nThe red progress bar indicates over- heating, due to high coolant tempera- ture which may damage the engine. Continuing to drive the vehicle in this case can result in severe engine dam- age or even fire.\\n\\nDriver Information System (DIS)\\n\\nDriver Information\\n\\nSystem Image\\n\\nOdometer\\n\\nTrip meter A & B\\n\\nClock\\n\\nDoor Ajar\\n\\nService reminder')"
            ]
          },
          "metadata": {}
        },
        {
          "output_type": "display_data",
          "data": {
            "text/plain": [
              "(unstructured.documents.elements.CompositeElement,\n",
              " 'DASHBOARD AND FEATURES\\n\\nDescription Indicates distance travelled by a vehicle. The Odometer reading does not re- turn to “0” when maximum value is reached, the display will freeze to maximum value.\\n\\nThe trip meter can be used to measure the distance travelled on short trips or between fuel stops. It can be reset to “0”. The Trip meter reading becomes “0.0” after it crosses 9999.9 km.')"
            ]
          },
          "metadata": {}
        },
        {
          "output_type": "display_data",
          "data": {
            "text/plain": [
              "(unstructured.documents.elements.CompositeElement,\n",
              " 'Indicates current time in AM/PM mode. Clock time can be changed using ‘SET’ & ‘MODE’ knob. Whenever the battery terminals or related fuses are connected, you must reset the clock time. This feature is available when ignition switch is in ON position. NOTE: Clock settings can also be changed through infotainment system. For more information, refer infotainment manual.\\n\\nThis warning will be indicated when the driver’s door or front passenger door is open.')"
            ]
          },
          "metadata": {}
        },
        {
          "output_type": "display_data",
          "data": {
            "text/plain": [
              "(unstructured.documents.elements.CompositeElement,\n",
              " 'This indicates how many days/kilometres are left till service is due. If service is overdue, it will display “0” km or “0” days and a spanner symbol will blink every time ignition is ON for a few seconds. Never reset the display between service intervals as it may give incorrect readings. The information is retained in the service interval display even after the vehicle battery is disconnected. NOTE: This option is for indicative purpose only. Keep track of your odometer reading and follow the')"
            ]
          },
          "metadata": {}
        },
        {
          "output_type": "display_data",
          "data": {
            "text/plain": [
              "(unstructured.documents.elements.CompositeElement, 'maintenance schedule.')"
            ]
          },
          "metadata": {}
        },
        {
          "output_type": "display_data",
          "data": {
            "text/plain": [
              "(unstructured.documents.elements.CompositeElement,\n",
              " '59\\n\\nDASHBOARD AND FEATURES\\n\\nDriver Information\\n\\nSystem Image\\n\\nCurrent gear position indicator\\n\\nGear Recommendation\\n\\n60')"
            ]
          },
          "metadata": {}
        },
        {
          "output_type": "display_data",
          "data": {
            "text/plain": [
              "(unstructured.documents.elements.CompositeElement,\n",
              " 'Description\\n\\nCurrent gear engaged by the transmission shall be displayed on Driver Infor- mation System. NOTE: If “F” is displayed it means a ‘Fault’ condition. Contact the nearest TATA MO- TORS authorized service centre immediately In case of manual transmission, the gear number shall be displayed even when the clutch is fully released.\\n\\nUp or down arrow will be displayed indicating for a gear change. No arrow shall be displayed when the selected gear is as per the vehicle dy- namics.')"
            ]
          },
          "metadata": {}
        },
        {
          "output_type": "display_data",
          "data": {
            "text/plain": [
              "(unstructured.documents.elements.CompositeElement,\n",
              " 'Instantaneous Fuel Economy (IFE)\\n\\nMonitor the IFE bar graph to achieve bet- ter fuel economy.\\n\\nIFE display does not show Fuel Economy of last drive.\\n\\nThe above image indicates real time fuel economy when the ignition is turned ‘ON’.\\n\\nThe display does not show actual value unless vehicle is moving.\\n\\nThe indication on the display may be de- layed if fuel consumption is affected by driving pattern.')"
            ]
          },
          "metadata": {}
        },
        {
          "output_type": "display_data",
          "data": {
            "text/plain": [
              "(unstructured.documents.elements.CompositeElement,\n",
              " 'NOTE\\n\\nIFE will vary frequently as per driv- ing pattern.\\n\\nIFE display does not show Fuel Economy of last drive.')"
            ]
          },
          "metadata": {}
        },
        {
          "output_type": "display_data",
          "data": {
            "text/plain": [
              "(unstructured.documents.elements.CompositeElement,\n",
              " 'Average Fuel Economy (AFE)\\n\\nTrip time, average speed and trip distance will reset to ‘0’ when respective trip meter is reset.\\n\\nAverage Fuel Economy will be displayed as ‘—.—‘for initial 0.5 km of respective trip. Once 0.5 km distance is covered, Average Fuel Economy will be displayed.\\n\\nEven after 0.5 km distance covered for particular trip, if Average fuel economy is displayed as ‘—.—‘, then take your vehicle to the nearest TATA MOTORS authorized service centre.\\n\\nDASHBOARD AND FEATURES')"
            ]
          },
          "metadata": {}
        },
        {
          "output_type": "display_data",
          "data": {
            "text/plain": [
              "(unstructured.documents.elements.CompositeElement,\n",
              " 'NOTE\\n\\nAFE value is an estimate of fuel economy. It may vary significantly based upon driving conditions, driv- ing habits and condition of vehicle.\\n\\nAverage Fuel Consumption will get reset to ‘0’ when Battery is removed and refitted.\\n\\n61\\n\\nDASHBOARD AND FEATURES')"
            ]
          },
          "metadata": {}
        },
        {
          "output_type": "display_data",
          "data": {
            "text/plain": [
              "(unstructured.documents.elements.CompositeElement,\n",
              " 'Distance To Empty (DTE)\\n\\nThe above image indicates an approxi- mate distance in ‘km’ that your vehicle can travel with available fuel in tank.\\n\\nDTE values may vary significantly based on driving conditions, driving habits, and condition of the vehicle. It is an estimate value of the available driving distance.\\n\\nThe DTE figure will update with a new value when fuel is added for more than seven litres at a time.')"
            ]
          },
          "metadata": {}
        },
        {
          "output_type": "display_data",
          "data": {
            "text/plain": [
              "(unstructured.documents.elements.CompositeElement,\n",
              " 'If low fuel warning light glows, fill fuel im- mediately regardless of the DTE figure dis- played.\\n\\nNOTE\\n\\nIf DTE is displayed as ‘—-‘, then take your vehicle to the TATA MOTORS Au- thorized Dealer/Service Center.\\n\\n62')"
            ]
          },
          "metadata": {}
        },
        {
          "output_type": "display_data",
          "data": {
            "text/plain": [
              "(unstructured.documents.elements.CompositeElement,\n",
              " 'Outside Ambient Temperature\\n\\nThis displays outside ambient temperature reading with an accuracy of ±1 °C. Since the temperature sensor is located at the front bumper of the vehicle, the tempera- ture reading can be affected by heat reflec- tion from the road surface, engine heat and the exhaust from surrounding traffic.\\n\\nDriver Information System (DIS) Setting\\n\\nDASHBOARD AND FEATURES\\n\\n63\\n\\nDASHBOARD AND FEATURES')"
            ]
          },
          "metadata": {}
        },
        {
          "output_type": "display_data",
          "data": {
            "text/plain": [
              "(unstructured.documents.elements.CompositeElement,\n",
              " 'Driver Information System (DIS) Setting\\n\\nInstrument cluster’s brightness intensity and backlight intensity will turn on after the Parking lamp is ON.\\n\\nWARNING\\n\\nThe clock and illumination settings should be changed only when the vehi- cle is in stationary condition for safety purposes.\\n\\nIllumination setting procedure\\n\\nFor illumination setting short Press SET button with position lamp ON.\\n\\nChange illumination levels by short pressing SET button.\\n\\n64\\n\\nClock Setting')"
            ]
          },
          "metadata": {}
        },
        {
          "output_type": "display_data",
          "data": {
            "text/plain": [
              "(unstructured.documents.elements.CompositeElement,\n",
              " 'NOTE\\n\\nIf parking lamp is ON and by short pressing SET button you can enter into illumination setting.\\n\\nIf user want go to clock screen then user has to short press SET button.\\n\\nIf user is in Illumination setting then Short press MODE will go to clock setting.\\n\\nIf user want clock in 24/12 hour for- mat, in any screen on Long press MODE button, clock changes to 12/24 hour format respectively.\\n\\nDASHBOARD AND FEATURES\\n\\n65\\n\\nDASHBOARD AND FEATURES')"
            ]
          },
          "metadata": {}
        },
        {
          "output_type": "display_data",
          "data": {
            "text/plain": [
              "(unstructured.documents.elements.CompositeElement,\n",
              " 'Display Messages On Instrument Cluster\\n\\nBelow messages can be displayed on the screen for four seconds based on the priority.\\n\\n1.Gear number Up/down Auto/Manual\\n\\n6.Text info and warning\\n\\n2.Mode display\\n\\n7.Color tell tale\\n\\n3.Driver Information display\\n\\n8.Fuel gauge\\n\\n4.Temperature gauge\\n\\n9.Instantaneous Fuel Economy\\n\\n5.Clock\\n\\n10.Odometer / Trip A and B\\n\\nNOTE: All messages may not be applicable to your vehicle\\n\\n66\\n\\nSn 1 2 3 4 5 6 7 8 9 10 11 12 13 14 15 16 17 18 19 20')"
            ]
          },
          "metadata": {}
        },
        {
          "output_type": "display_data",
          "data": {
            "text/plain": [
              "(unstructured.documents.elements.CompositeElement,\n",
              " 'Information Speed Limit Warning Service Reminder Days Service Reminder Km Fuel Level Low State Key Fob battery Low Smart key out of range Rotate steering wheel (In ESCL jam condition) Resume to Target Speed Not Possible in Current Gear Cruise Override Cruise is Resuming to set speed Cruise Off Press CLUTCH Please Crank Autonomous Start Enabled - Battery SOC Low Autonomous Start Enabled - Brake Vacuum Low Autonomous Start Enabled – Cabin Temp high Autonomous Start Enabled – Coolant Temp Low Drive')"
            ]
          },
          "metadata": {}
        },
        {
          "output_type": "display_data",
          "data": {
            "text/plain": [
              "(unstructured.documents.elements.CompositeElement,\n",
              " 'Alert1 - Tea Break Cruise Cancelled Owner’s Birthday')"
            ]
          },
          "metadata": {}
        },
        {
          "output_type": "display_data",
          "data": {
            "text/plain": [
              "(unstructured.documents.elements.CompositeElement,\n",
              " 'DASHBOARD AND FEATURES\\n\\nString On Lcd Screen OVERSPEED SERVICE DUE SERVICE DUE LOW FUEL KEY BATT LOW KEY OUT OF RANGE ROTATE STEERING UNABLE TO RESUME CRUISE OVERRIDE CRUISE RESUMED CRUISE OFF PRESS CLUTCH PLZ CRANK AUTOSTART AUTOSTART AUTOSTART AUTOSTART TAKE A BREAK CRUISE CANCELLED HAPPY BIRTHDAY\\n\\n67\\n\\nDASHBOARD AND FEATURES\\n\\nTELL TALES\\n\\nWarning Lamps\\n\\nColor\\n\\nMalfunction Indication Lamp (MIL)\\n\\nAmber\\n\\nCheck Engine Lamp\\n\\nAmber\\n\\nImmobilizer (if avail- able)\\n\\nRed\\n\\nTurn Signal\\n\\nGreen\\n\\n68\\n\\nIndicator')"
            ]
          },
          "metadata": {}
        },
        {
          "output_type": "display_data",
          "data": {
            "text/plain": [
              "(unstructured.documents.elements.CompositeElement,\n",
              " 'Remarks\\n\\n1.\\n\\nThe lamp comes on when ignition is switched ‘ON’. Once engine is started, it turns ‘OFF’.\\n\\n2.\\n\\n1.\\n\\nIt remains ‘ON’ for any engine related fault that may increase emission levels of the vehicle beyond the regulatory norms. Contact the TATA MO- TORS Authorized Dealer/Service Center for rectification. The lamp comes on when ignition is switched ‘ON’. Once engine is started, it turns ‘OFF’.\\n\\n2.\\n\\n1.')"
            ]
          },
          "metadata": {}
        },
        {
          "output_type": "display_data",
          "data": {
            "text/plain": [
              "(unstructured.documents.elements.CompositeElement,\n",
              " 'Illuminates continuously if a fault arises in Engine Management System. Contact the TATA MOTORS Authorized Dealer/Service Center. The lamp comes on when the system disables the engine start if the orig- inal key is not used.\\n\\n2.\\n\\nLamp blinks: Vehicle is in immobilized condition when key is not inserted.\\n\\n3.\\n\\nLamp ON: Problem with key/system. Contact TATA MOTORS Authorized Dealer/Service Center.')"
            ]
          },
          "metadata": {}
        },
        {
          "output_type": "display_data",
          "data": {
            "text/plain": [
              "(unstructured.documents.elements.CompositeElement,\n",
              " '4. Indicates direction indicated by the turn signal. While you operate the left/right turn indicator, the turn signal blinks along with the buzzer (when ignition is ‘ON’). The direction indicator arrow on the in- strument cluster flashes along with the selected external indicator lights. Both tell-tale lights will blink simultaneously when the hazard switch is pressed ir- respective of whether the ignition ON or OFF. A tick-tock sound will be heard in both cases.')"
            ]
          },
          "metadata": {}
        },
        {
          "output_type": "display_data",
          "data": {
            "text/plain": [
              "(unstructured.documents.elements.CompositeElement,\n",
              " 'Lamp OFF: Normal condition (Authenticated user) and engine will start.\\n\\nWarning Lamps\\n\\nHigh Beam\\n\\nLow Oil Pressure indi- cator\\n\\nBattery charging\\n\\nAirbag status\\n\\nPark Brake / Brake Fluid Low / EBD mal- function\\n\\nColor\\n\\nBlue\\n\\nRed\\n\\nRed\\n\\nRed\\n\\nRed\\n\\nIndicator\\n\\nDASHBOARD AND FEATURES')"
            ]
          },
          "metadata": {}
        },
        {
          "output_type": "display_data",
          "data": {
            "text/plain": [
              "(unstructured.documents.elements.CompositeElement,\n",
              " 'Remarks\\n\\nThe lamp comes on when the high beam headlamps are switched ‘ON’ or flashed.\\n\\n1.\\n\\nThe lamp comes on when ignition is switched ‘ON’ and goes ‘OFF’ once required engine oil pressure is developed after starting the engine.\\n\\n2.\\n\\nIf the low oil pressure indicator does not glow or remains ‘ON’ when the engine is running, it indicates a fault in the electrical circuit/lubrication system. Contact the nearest TATA MOTORS Authorized service centre to rectify the issue.')"
            ]
          },
          "metadata": {}
        },
        {
          "output_type": "display_data",
          "data": {
            "text/plain": [
              "(unstructured.documents.elements.CompositeElement,\n",
              " 'The lamp comes on when ignition is switched ‘ON’. Once engine is started, it turns ‘OFF’. If it remains ‘ON’ while the engine is running, it indicates that the battery is not getting charged or having the lower charge. In such cases attempt to charge the battery 3000 engine rpm for 15 min and see if battery telltale goes off after one ignition ON-OFF. Even after 15 minutes, charging the battery telltale keeps ‘ON’ then switch off all unnecessary electrical equipment and contact the nearest TATA')"
            ]
          },
          "metadata": {}
        },
        {
          "output_type": "display_data",
          "data": {
            "text/plain": [
              "(unstructured.documents.elements.CompositeElement,\n",
              " 'MOTORS Authorized service centre. The lamp comes on when ignition is switched ‘ON’ and goes ‘OFF’. If it con- tinuously blinks then contact the TATA MOTORS Authorized Dealer/Service Center immediately. The lamp comes on momentarily when ignition is switched ‘ON’. Once park- ing brake is released, it turns ‘OFF’. If it remains ‘ON’, then it indicates: 1.')"
            ]
          },
          "metadata": {}
        },
        {
          "output_type": "display_data",
          "data": {
            "text/plain": [
              "(unstructured.documents.elements.CompositeElement,\n",
              " 'Brake fluid level is low.\\n\\n2.\\n\\nEBD malfunctioning.\\n\\n69\\n\\nDASHBOARD AND FEATURES\\n\\nWarning Lamps\\n\\nColor\\n\\nCruise Control lamp (if available)\\n\\nGreen\\n\\nHigh Coolant Temper- ature\\n\\nRed\\n\\nABS\\n\\nAmber\\n\\nSPORT (if available)\\n\\nAmber\\n\\n70\\n\\nIndicator')"
            ]
          },
          "metadata": {}
        },
        {
          "output_type": "display_data",
          "data": {
            "text/plain": [
              "(unstructured.documents.elements.CompositeElement,\n",
              " 'Remarks The lamp comes on when ignition is switched ‘ON’. Once engine is started, it turns ‘OFF’. The Cruise Control is used to indicate the status of cruise control system to the driver. If the lamp is on, it indicates that the cruise control feature is acti- vated. The lamp comes on when ignition is switched ‘ON’. Once engine is started, it turns ‘OFF’. If the engine overheats due to higher coolant temperatures, this indicator blinks along with an audible buzzer. Contact your nearest TATA')"
            ]
          },
          "metadata": {}
        },
        {
          "output_type": "display_data",
          "data": {
            "text/plain": [
              "(unstructured.documents.elements.CompositeElement,\n",
              " 'MOTORS authorized service Centre immediately. When the engine coolant tempera- ture reaches the maximum limit, the tell-tale lights blink with a RED colour and you will hear an audio warning. Note: Do not remove the radiator pressure cap from the radiator when the engine is hot. Do not restart the engine until the problem has been duly at- tended. The ABS warning lamp in the instrument cluster lights up when the ignition is switched on. It goes off after 2-3 seconds if system is healthy. The')"
            ]
          },
          "metadata": {}
        },
        {
          "output_type": "display_data",
          "data": {
            "text/plain": [
              "(unstructured.documents.elements.CompositeElement,\n",
              " 'lamp remains on if there is any malfunction in ABS. Normal braking sys- tem will be operational without assistance of ABS. Contact the TATA MO- TORS Authorized Dealer/Service Center immediately.')"
            ]
          },
          "metadata": {}
        },
        {
          "output_type": "display_data",
          "data": {
            "text/plain": [
              "(unstructured.documents.elements.CompositeElement,\n",
              " 'This symbol comes ON when SPORT driving mode is activated when more torque is required\\n\\n.\\n\\nWarning Lamps\\n\\nLow Fuel indicator\\n\\nDriver Seat belt indi- cator\\n\\nKey Not Detected (if available)\\n\\nPress Clutch Pedal to Start Engine (if avail- able)\\n\\nWater in fuel indicator (Diesel)\\n\\nColor\\n\\nAmber\\n\\nRed\\n\\nAmber\\n\\nAmber\\n\\nAmber\\n\\nIndicator\\n\\nDASHBOARD AND FEATURES')"
            ]
          },
          "metadata": {}
        },
        {
          "output_type": "display_data",
          "data": {
            "text/plain": [
              "(unstructured.documents.elements.CompositeElement,\n",
              " 'Remarks The lamp comes on when ignition is switched ‘ON’. Once engine is started, it turns ‘OFF’. The symbol lights up continuously if fuel level in the tank is low. Fuel needs to be filled immediately. Note: The tell-tale warning light will start flashing if there is any fault in the fuel system. Contact the nearest TATA MOTORS Authorized Dealer/Service Center immediately. The driver seatbelt warning indicator remains ON, when ignition is turned ON. The warning lamp remains ON as long as the')"
            ]
          },
          "metadata": {}
        },
        {
          "output_type": "display_data",
          "data": {
            "text/plain": [
              "(unstructured.documents.elements.CompositeElement,\n",
              " 'driver seatbelt is not fastened. If seatbelt remains unbuckled and vehicle goes above 15 kmph, then final audio warning will go on for 90 seconds. Note: Once the seatbelt is fastened the buzzer and warning lamp turns OFF. Seatbelt reminder gets OFF when reverse gear is engaged.')"
            ]
          },
          "metadata": {}
        },
        {
          "output_type": "display_data",
          "data": {
            "text/plain": [
              "(unstructured.documents.elements.CompositeElement,\n",
              " 'This lamp comes on when the Valid Smart key is not detected inside the ve- hicle.\\n\\nThis lamp comes on with IGN ON till user presses the clutch pedal to start the engine.\\n\\nThe lamp remains on if excess water is accumulated in the fuel filter. When this lamp blinks along with chime contact the nearest TATA MOTORS Au- thorized Dealer/Service Center to drain the water immediately to avoid seri\\n\\n71\\n\\nDASHBOARD AND FEATURES\\n\\nWarning Lamps\\n\\nColor\\n\\nDaytime running lamps DRL (if avail- able)\\n\\nGreen')"
            ]
          },
          "metadata": {}
        },
        {
          "output_type": "display_data",
          "data": {
            "text/plain": [
              "(unstructured.documents.elements.CompositeElement,\n",
              " 'Door Ajar lamp (if available)\\n\\nWhite / Red\\n\\nFront Passenger Seat belt indicator\\n\\nRed\\n\\nSpeed limit warning indicator\\n\\nAmber\\n\\n72\\n\\nIndicator\\n\\nRemarks\\n\\nous damage to the fuel injection system.\\n\\nThe lamp comes on when ignition is switched ‘ON’. Once engine is started, it turns ‘OFF’. This lamp comes on when the Daytime Running lamp is ‘ON’. Note: parking lamp should be on start the DRL lamp.\\n\\nAll four door and Tail gate are indicated independently when the respective door or tail gate is open.')"
            ]
          },
          "metadata": {}
        },
        {
          "output_type": "display_data",
          "data": {
            "text/plain": [
              "(unstructured.documents.elements.CompositeElement,\n",
              " 'The co-driver seatbelt warning indicator turns ON when ignition is turned ON. If front passenger seat is occupied by adult, the warning lamp remains ON as long as the co-driver seatbelt is not fastened. If seatbelt remains unbuckled and vehicle goes above 15 kmph, then final audio warning will go on for 90 seconds. Note: Once the seatbelt is fastened the buzzer and warning lamp turns OFF. Seatbelt reminder gets OFF when reverse gear is engaged.')"
            ]
          },
          "metadata": {}
        },
        {
          "output_type": "display_data",
          "data": {
            "text/plain": [
              "(unstructured.documents.elements.CompositeElement,\n",
              " 'When the vehicle speed crosses 80 kmph, then speed limit warning indicator turns ‘ON’ along with an audio chime for every two minutes (audible warn- ing).\\n\\nWarning Lamps\\n\\nECO (if available)\\n\\nCITY\\n\\nDPF (if available)\\n\\nColor\\n\\nGreen\\n\\nWhite / Blue\\n\\nAmber\\n\\nIndicator')"
            ]
          },
          "metadata": {}
        },
        {
          "output_type": "display_data",
          "data": {
            "text/plain": [
              "(unstructured.documents.elements.CompositeElement,\n",
              " 'DASHBOARD AND FEATURES\\n\\nRemarks If vehicle speed crosses 120 kmph, the speed limit warning indicator flashes along with an audio warning continuously, until the vehicle speed is above 120 kmph. If vehicle speed is between 80 kmph and 120 kmph, then the audio warning will become less frequent but the speed limit warning Indicator will remain ‘ON’ continuously. When the vehicle speed is reduced below 80 kmph, then the speed limit warning indicator and the audio warning will turn off.')"
            ]
          },
          "metadata": {}
        },
        {
          "output_type": "display_data",
          "data": {
            "text/plain": [
              "(unstructured.documents.elements.CompositeElement,\n",
              " 'The lamp comes on when ignition is switched ‘ON’. Once engine is started, it turns ‘OFF’. When ECO lamp is ON, it indicates the car is in ‘Economy’ drive mode, which helps to achieve a better fuel economy.\\n\\nThe lamp comes on when ignition is switched ‘ON’. Once engine is started, it turns ‘OFF’. If CITY lamp is ON, it indicates ‘City’ drive mode, which helps to achieve op- timum torque and fuel economy.')"
            ]
          },
          "metadata": {}
        },
        {
          "output_type": "display_data",
          "data": {
            "text/plain": [
              "(unstructured.documents.elements.CompositeElement,\n",
              " 'The DPF warning light or symbol switches ‘ON’ continuously to indicate that the DPF needs to eliminate the trapped pollutants (particulate matter) through the re-generation procedure. The warning light or symbol switch ‘ON’ only when driving conditions require the driver to be notified. DPF ‘ON’ does not indicate a malfunction. To switch off the warning light or symbol, keep the car running on road until regeneration is complete (ideally at 3rd gear, 50-80 kmph, with engine speed over 2000 rpm).')"
            ]
          },
          "metadata": {}
        },
        {
          "output_type": "display_data",
          "data": {
            "text/plain": [
              "(unstructured.documents.elements.CompositeElement,\n",
              " 'The process normally takes about 20 minutes.')"
            ]
          },
          "metadata": {}
        },
        {
          "output_type": "display_data",
          "data": {
            "text/plain": [
              "(unstructured.documents.elements.CompositeElement,\n",
              " '73\\n\\nDASHBOARD AND FEATURES\\n\\nWarning Lamps\\n\\nColor\\n\\nEPAS\\n\\nAmber\\n\\nAMT Fault (If avail- able)\\n\\nAmber\\n\\n74')"
            ]
          },
          "metadata": {}
        },
        {
          "output_type": "display_data",
          "data": {
            "text/plain": [
              "(unstructured.documents.elements.CompositeElement,\n",
              " 'Indicator\\n\\nRemarks The warning light or symbol remains off during the entire DPF regeneration procedure If the procedure is not followed, MIL lamp will switch ON, along with DPF lamp on Instrument cluster. Note: Please follow the above-recommended DPF regeneration procedure to avoid MIL lamp switch ‘ON’. In case, MIL lamp switch ON, please contact nearest TATA authorized service centre to restore DPF operation.')"
            ]
          },
          "metadata": {}
        },
        {
          "output_type": "display_data",
          "data": {
            "text/plain": [
              "(unstructured.documents.elements.CompositeElement,\n",
              " 'Illuminates momentarily when ignition is switched ‘ON’. Illuminates when there is a fault in the EPAS. Contact a TATA MOTORS Authorised Service Centre immediately.\\n\\nIlluminates momentarily when ignition is switched ‘ON’. Illuminates continuously when there is a fault in Automatic Manual Transmission system. Contact a TATA MOTORS authorized Service Centre immediately.\\n\\nAUDIO REMINDERS (as available)')"
            ]
          },
          "metadata": {}
        },
        {
          "output_type": "display_data",
          "data": {
            "text/plain": [
              "(unstructured.documents.elements.CompositeElement,\n",
              " 'Key-in Reminder/audio Warning\\n\\nIf you forget the key inside the vehicle when you leave the ignition in ‘OFF’ posi- tion, an audio warning will sound. Remove key to stop the warning.\\n\\nIf no key is detected in the vehicle\\n\\nIf the vehicle is in ACC ON/IGN ON and the customer takes the smart key out of the vehicle and closes the last door, an audio warning will be sounded for nine times to alert that the key is not in the ve- hicle.')"
            ]
          },
          "metadata": {}
        },
        {
          "output_type": "display_data",
          "data": {
            "text/plain": [
              "(unstructured.documents.elements.CompositeElement,\n",
              " 'NOTE\\n\\nIn this condition customer needs to bring the smart key inside the vehicle.\\n\\nParking Lamp ‘ON’ Reminder\\n\\nIf you forget to turn OFF the park lamp, an audio warning will be started. Switched OFF the park lamps to stop the warning.\\n\\nNOTE\\n\\nDo not forget to turn OFF your park lamp as it may drain the vehicle’s bat- tery.')"
            ]
          },
          "metadata": {}
        },
        {
          "output_type": "display_data",
          "data": {
            "text/plain": [
              "(unstructured.documents.elements.CompositeElement,\n",
              " 'Parking Brake ‘ON’ Reminder\\n\\nIf Park Brake is applied and vehicle is driven, Telltale will turn ‘ON’ and buzzer will provide audio warning continuously. Disengage the park brake to stop audio warning.\\n\\nReverse Gear Reminder\\n\\nIf reverse gear is engaged, the buzzer sound will alert you.\\n\\nDriver Seat Belt Reminder\\n\\nIf seatbelt is not fastened and vehicle goes above 15 kmph, then final audio warning will go on for 90 seconds. Seat belt tell-tale light will blicks when audio alarm is active.')"
            ]
          },
          "metadata": {}
        },
        {
          "output_type": "display_data",
          "data": {
            "text/plain": [
              "(unstructured.documents.elements.CompositeElement,\n",
              " 'Front Passenger Seat Belt Re-minder\\n\\nIf front passenger has not fastened seat- belt and if vehicle speed goes above 15 kmph, then final audio warning will go on for 90 seconds. Seat belt tell-tale light will\\n\\nDASHBOARD AND FEATURES\\n\\nblicks when audio alarm is active.\\n\\nNOTE\\n\\nFasten the seatbelt to stop audio warn- ing.\\n\\nDoor Open Reminder\\n\\nIf any door is open and the user tries to lock the vehicle, one flash with a beep sound will indicate that a door is open.')"
            ]
          },
          "metadata": {}
        },
        {
          "output_type": "display_data",
          "data": {
            "text/plain": [
              "(unstructured.documents.elements.CompositeElement,\n",
              " 'Engine Coolant Temperature High Chime\\n\\nThe engine coolant temperature tell-tale warning light along with an audio warning will alert the driver if the coolant tempera- ture is high.\\n\\nSpeed Limit Chime\\n\\nWhen speed of the vehicle is greater than 80 kmph, an audio warning will sound at periodic interval of 120 seconds.\\n\\nWhen vehicle speed crosses 120 kmph, continuous audio warning (beeps) will sound.\\n\\nDrive Mode Chime\\n\\nWhen user switches drive mode from city\\n\\n75')"
            ]
          },
          "metadata": {}
        },
        {
          "output_type": "display_data",
          "data": {
            "text/plain": [
              "(unstructured.documents.elements.CompositeElement,\n",
              " 'DASHBOARD AND FEATURES\\n\\nto eco or eco to city, a single audio warn- ing will sound.\\n\\nElectronic Steering Column Lock (ESCL) Chime\\n\\nThis feature informs the driver to rotate steering wheel when ESCL gets engaged accidentally.\\n\\nWIF (Water in fuel)/FFC(fuel Filter Clog ) Chime\\n\\nIf water is detected in fuel buzzer shall sound to alert you.\\n\\nAmt Fault Reminder\\n\\nIf Fault occur in AMT, 3 second audio warning will alert you.\\n\\n76')"
            ]
          },
          "metadata": {}
        },
        {
          "output_type": "display_data",
          "data": {
            "text/plain": [
              "(unstructured.documents.elements.CompositeElement,\n",
              " 'COMBI-SWITCH (RH Stalk) (if avail- able)\\n\\n1. Left Turn Signal\\n\\nMove the lever fully upward.\\n\\n2. Right Turn Signal\\n\\nMove the lever fully downward.')"
            ]
          },
          "metadata": {}
        },
        {
          "output_type": "display_data",
          "data": {
            "text/plain": [
              "(unstructured.documents.elements.CompositeElement,\n",
              " 'NOTE\\n\\nWhen the turn is completed, the signal will cancel and the lever will return to its normal position.\\n\\n3. High Beam\\n\\nMove the lever forward to select the high beam function.\\n\\nPull the lever back to normal for low beam.\\n\\n4. High Beam Flash (spring Return)\\n\\nTo flash the high beam, pull the lever to- wards you from the normal position. It will return to its normal position when you re- lease it.\\n\\n5. Headlamp Rotary Switch\\n\\nOFF Position\\n\\nAll lamps will remain ‘OFF’.')"
            ]
          },
          "metadata": {}
        },
        {
          "output_type": "display_data",
          "data": {
            "text/plain": [
              "(unstructured.documents.elements.CompositeElement,\n",
              " 'Parking Lamp\\n\\nRotate stalk to turn ‘ON’ the Parking lamps.\\n\\nLow Beam\\n\\nRotate stalk to turn ‘ON’ the Low Beam function.')"
            ]
          },
          "metadata": {}
        },
        {
          "output_type": "display_data",
          "data": {
            "text/plain": [
              "(unstructured.documents.elements.CompositeElement,\n",
              " 'Auto Light\\n\\nThe headlights will be au- tomatically switched ON depending on ambient light conditions\\n\\n(while entering a tunnel or when it is twi- light).\\n\\n6. Day Time Running Lamps (DRL)\\n\\nDay time Running Lamps (DRL) are used to increase the visibility of the vehicle to other drivers during daytime.\\n\\n1.\\n\\nTo activate and deactivate DRL, keep the ignition switch is ‘ON’ position and switch the parking lamp ON-OFF twice.\\n\\n2.')"
            ]
          },
          "metadata": {}
        },
        {
          "output_type": "display_data",
          "data": {
            "text/plain": [
              "(unstructured.documents.elements.CompositeElement,\n",
              " 'Activation and Deactivation of DRL can be done by DRL soft switch, which is available on the Infotainment Display.\\n\\n7. Lane Change Signal\\n\\nTo signal a lane change, move the lever slightly up or down to the point where the turn signal light begins to flash for six times, but the lever does not latch. The turn signal will flash six times automati- cally.')"
            ]
          },
          "metadata": {}
        },
        {
          "output_type": "display_data",
          "data": {
            "text/plain": [
              "(unstructured.documents.elements.CompositeElement,\n",
              " 'HEAD LAMP LEVELING ROTARY SWITCH\\n\\nInner rotary switch on right hand stalk is provided for head lamp leveling. With the inner rotary switch, Head lamp leveling can be done with head lamp in Low Beam and in ‘ON’ position. Select correct posi- tion before start of trip, when the vehicle is stationary. Depending on the number of passengers and luggage in the vehicle headlamp focus may change. This can be adjusted by rotating the knob to one of the three level positions.\\n\\nDASHBOARD AND FEATURES')"
            ]
          },
          "metadata": {}
        },
        {
          "output_type": "display_data",
          "data": {
            "text/plain": [
              "(unstructured.documents.elements.CompositeElement,\n",
              " 'COMBI-SWITCH (LH Stalk) (if avail- able)\\n\\n0 ‘off’ Position\\n\\nThe wiper is switched ‘OFF’.\\n\\n1 Intermittent Wipe\\n\\nPush the stalk upwards to oper- ate intermittent wipe.\\n\\nInner rotary switch on left hand stalk is provided for intermittent front wiper delay. The switch has five delay timers. Push the stalk towards position (1) for single wipe.\\n\\n77\\n\\nDASHBOARD AND FEATURES\\n\\n2 Slow Wipe\\n\\nPush the stalk towards position (2) for con- tinuous slow wipe.')"
            ]
          },
          "metadata": {}
        },
        {
          "output_type": "display_data",
          "data": {
            "text/plain": [
              "(unstructured.documents.elements.CompositeElement,\n",
              " '3 Fast Wipe\\n\\nPush the stalk towards position (3) for con- tinuous fast wipe.\\n\\n4 Flick Wipe (spring return)\\n\\nPull the stalk downwards and hold it for continuous wipe, the wiper continuously wipes across the wind- shield at low speed till the stalk is re- leased.\\n\\n5 Front Windshield Washer\\n\\nPull the lever little longer, to spray the washer fluid on the windshield.\\n\\nThe windshield wipers will operate for three cycles after the lever is released and for one more cycle after five sec- onds.')"
            ]
          },
          "metadata": {}
        },
        {
          "output_type": "display_data",
          "data": {
            "text/plain": [
              "(unstructured.documents.elements.CompositeElement,\n",
              " 'NOTE\\n\\nWhen you crank the engine, the supply to washer motor is momentarily cut off.\\n\\n78\\n\\nAuto Front Wipe\\n\\nIf your vehicle is fitted with rain and light sensor, the wipers will automatically wipe the windscreen, if it senses rainfall. Make sure that the wiper stalk is in Auto position.\\n\\nNOTE\\n\\nWhen you crank the engine, the supply to washer motor is momentarily cut off.\\n\\n6 Rear Wash And Wipe')"
            ]
          },
          "metadata": {}
        },
        {
          "output_type": "display_data",
          "data": {
            "text/plain": [
              "(unstructured.documents.elements.CompositeElement,\n",
              " 'Rear Windshield / Wiper And Washer (spring return)\\n\\nTurn the rotary knob clockwise and release to operate rear windshield wash and wipe. The wind- shield wipers will operate for three cycles.\\n\\nRear Wipe\\n\\nTurn the rotary knob counter clockwise such that it aligns its positions with arrow mark to operate rear windshield wiper continuously.\\n\\nNOTE\\n\\nRear wiper will not work as long as tail- gate is open.')"
            ]
          },
          "metadata": {}
        },
        {
          "output_type": "display_data",
          "data": {
            "text/plain": [
              "(unstructured.documents.elements.CompositeElement,\n",
              " 'Rear Windshield/ Wiper And Washer Switch\\n\\nTurn the rotary knob counter clockwise such that it aligns its positions with the arrow mark and hold it to operate rear windshield wash and wipe function. It will return to ‘Rear wipe’ posi- tion as soon as it is released and contin- ues to wipe.\\n\\nNOTE\\n\\nWhen you reverse the car with front wipers in ‘ON’ condition, the rear wiper will also be ‘ON’ (if provided).')"
            ]
          },
          "metadata": {}
        },
        {
          "output_type": "display_data",
          "data": {
            "text/plain": [
              "(unstructured.documents.elements.CompositeElement,\n",
              " 'WARNING\\n\\nIf you operate wash and wipe function for more than 15 seconds the controller cuts off the supply to the washer motors to avoid overheating.\\n\\nRain/light Sensor (if available)\\n\\nThe integrated rain and light sensor is mounted on front windshield glass to sense rain and light.\\n\\nAs per the input from sensor, the wipe and light functions will work automatically.\\n\\nDASHBOARD CONTROLS\\n\\nFascia switches are provided on driver side dashboard.\\n\\n1.\\n\\nFront Fog lamp switch\\n\\n2.\\n\\nECO mode\\n\\n3.')"
            ]
          },
          "metadata": {}
        },
        {
          "output_type": "display_data",
          "data": {
            "text/plain": [
              "(unstructured.documents.elements.CompositeElement,\n",
              " 'Idle stop start switch (ISS)\\n\\nDASHBOARD AND FEATURES')"
            ]
          },
          "metadata": {}
        },
        {
          "output_type": "display_data",
          "data": {
            "text/plain": [
              "(unstructured.documents.elements.CompositeElement,\n",
              " 'Front Fog Lamps (if available)\\n\\nThe front fog lamps are located on the front bumper. In poor visibility conditions due to fog, snow or rain, the fog lamps make visibility better and make it easier for other road users to see you. It turns to ‘ON’ when the fog lamp switch is turned on when the ignition is ‘ON’ and when the po- sition and parking/ head lamp is ‘ON’. An indicator on the instrument cluster will come on when the front fog light is ‘ON’.')"
            ]
          },
          "metadata": {}
        },
        {
          "output_type": "display_data",
          "data": {
            "text/plain": [
              "(unstructured.documents.elements.CompositeElement,\n",
              " 'Fog Lamp As Cornering Lamp\\n\\nThe front fog lamps also function as cor-\\n\\n79\\n\\nDASHBOARD AND FEATURES\\n\\nnering lamps to light up the area to the side of the vehicle, making night-time parking and turning safer.\\n\\nEco Mode(if available)\\n\\nRefer Starting and Driving section.\\n\\nIdle Stop Start Switch (ISS) (if avail- able)\\n\\nYour car is equipped with push Button on right side of the dashboard to Enable OR Disable ISS function.\\n\\nFor more details refer ‘starting & driving” section.\\n\\n80')"
            ]
          },
          "metadata": {}
        },
        {
          "output_type": "display_data",
          "data": {
            "text/plain": [
              "(unstructured.documents.elements.CompositeElement,\n",
              " 'STEERING MOUNTED CONTROLS (LHS) (if available)\\n\\n1. Volume\\n\\nPress above switch to in- crease or decrease volume of music system / radio.\\n\\n2. Seek Forward/backward\\n\\nPress above switch to change radio channels.\\n\\n3. Receive Calls/PTT (Push to Talk)\\n\\nPress above switch to accept incoming call when a cell phone\\n\\nis connected via Bluetooth.')"
            ]
          },
          "metadata": {}
        },
        {
          "output_type": "display_data",
          "data": {
            "text/plain": [
              "(unstructured.documents.elements.CompositeElement,\n",
              " 'Voice Recognition\\n\\nTo start, press the voice activation button provided on the steering wheel. The sys- tem mutes/ pauses the currently played audio and you will hear a beep sound to indicate the activation of the voice recog- nition feature. The system displays the Voice Recognition screen on Infotainment to indicate activation of the feature.')"
            ]
          },
          "metadata": {}
        },
        {
          "output_type": "display_data",
          "data": {
            "text/plain": [
              "(unstructured.documents.elements.CompositeElement,\n",
              " 'NOTE\\n\\nThe system will start recognizing your voice command only after the beep. So, speak your command only after you hear the voice activa- tion beep.\\n\\nFor more information related to steering mounted controls, refer the infotainment manual. ((Refer link - http://service.tatamotors.com/con- tent/owners-manual )if applicable)\\n\\n4. Mute/phone Reject\\n\\nPress above switch to reject or hang up a phone call. It is also used to mute the volume of music system/radio.\\n\\n5. Source')"
            ]
          },
          "metadata": {}
        },
        {
          "output_type": "display_data",
          "data": {
            "text/plain": [
              "(unstructured.documents.elements.CompositeElement,\n",
              " 'Press above switch to select the required source in the infotain- ment system i.e. USB, AM, FM and Bluetooth.\\n\\nSTEERING MOUNTED CONTROLS (RHS) (if available)\\n\\nInstrumentation Controls(IC)\\n\\n1. Instrumentation Controls Scroll LH\\n\\nPress above switch to scroll LH on Instrument Cluster display\\n\\n2. Instrumentation Controls Scroll RH\\n\\nPress above switch to scroll RH on Instrument Cluster display.')"
            ]
          },
          "metadata": {}
        },
        {
          "output_type": "display_data",
          "data": {
            "text/plain": [
              "(unstructured.documents.elements.CompositeElement,\n",
              " 'DASHBOARD AND FEATURES\\n\\n2. OK / Select & Long Press for Set- tings\\n\\nPress the above switch to select the option and long press it (ap- prox. three seconds) to go directly to the instrument cluster settings.\\n\\n3. Cruise Set (reset) Using Speed In- crease (decrease) Switch\\n\\nPress the cruise control mas- ter switch on steering wheel.\\n\\nAccelerate the vehicle to the de-sired speed.\\n\\nMake sure that the Clutch and Brake pedals are not pressed.')"
            ]
          },
          "metadata": {}
        },
        {
          "output_type": "display_data",
          "data": {
            "text/plain": [
              "(unstructured.documents.elements.CompositeElement,\n",
              " 'Press the ‘SET’ button on steering wheel switch to set the desired cruise speed. The cruise control indicator on instrument cluster will turn ‘ON’.\\n\\nRemove your foot from the accelerator pedal.\\n\\nOnce Cruise control is activated the vehi- cle automatically maintains the stored speed.\\n\\n81\\n\\nDASHBOARD AND FEATURES')"
            ]
          },
          "metadata": {}
        },
        {
          "output_type": "display_data",
          "data": {
            "text/plain": [
              "(unstructured.documents.elements.CompositeElement,\n",
              " 'NOTE\\n\\nMinimum gear and speed requirements for setting the cruise.\\n\\n4. Changing the Set Cruise Speed\\n\\nThe set cruise speed can be adjusted using the buttons ‘+’ (to increase) or ‘-’ (to decrease) on steer- ing wheel.')"
            ]
          },
          "metadata": {}
        },
        {
          "output_type": "display_data",
          "data": {
            "text/plain": [
              "(unstructured.documents.elements.CompositeElement,\n",
              " 'The speed increases and decreases on a single press.\\n\\nThe changed speed will be shown on the speedometer.\\n\\nKeeping the switch pressed increases or decreases the speed continuously till the switch is released or maximum/ minimum speed limit for particular gear is reached.\\n\\nThe set speed can also be increased by pressing the accelerator pedal till the de- sired speed is achieved and then pressing the ‘SET’ button.')"
            ]
          },
          "metadata": {}
        },
        {
          "output_type": "display_data",
          "data": {
            "text/plain": [
              "(unstructured.documents.elements.CompositeElement,\n",
              " 'The set speed can also be decreased by pressing the brake pedal (The cruise indi- cator will turn OFF) and slowing down to\\n\\n82\\n\\ndesired speed and then pressing the ‘SET’ button (The cruise control indicator will turn ‘ON’ again).\\n\\n5. Cruise Control Master Switch\\n\\nCruise speed can be resumed only if cruise control is deacti- vated by applying the brake. To resume the previously set cruise speed, accelerate the vehicle to a speed is as per gear selected as below:\\n\\n3rd gear approx. 30Kmph to 80Kmph')"
            ]
          },
          "metadata": {}
        },
        {
          "output_type": "display_data",
          "data": {
            "text/plain": [
              "(unstructured.documents.elements.CompositeElement,\n",
              " '4th gear approx. 40kmph to 120Kmph\\n\\n5th gear approx. 50kmph to 140Kmph\\n\\n6. Cruise Control Deactivating Switch\\n\\nThere are two ways to deacti- vate cruise control:\\n\\nApplying brake / clutch.\\n\\nPress deactivation switch on Steering Wheel.')"
            ]
          },
          "metadata": {}
        },
        {
          "output_type": "display_data",
          "data": {
            "text/plain": [
              "(unstructured.documents.elements.CompositeElement,\n",
              " 'NOTE\\n\\nWhen the vehicle will come out of cruise automatically- when threshold require\\n\\nment of required power and torque is not met, vehicle might come out of cruise control and manual intervention might be required. It normally happen when vehicle runs at gradient and sharp turning with slope.\\n\\nNOTE\\n\\nFor more information related to steering mounted controls, refer the infotainment manual. ((Refer http://service.tatamotors.com/content/o wners-manual )if applicable)\\n\\nlink')"
            ]
          },
          "metadata": {}
        },
        {
          "output_type": "display_data",
          "data": {
            "text/plain": [
              "(unstructured.documents.elements.CompositeElement,\n",
              " 'MIC (if available)\\n\\nMic is provided near the roof lamp.\\n\\nINFOTAINMENT SYSTEM DISPLAY (if available)\\n\\nOption I\\n\\nDASHBOARD AND FEATURES\\n\\nOption II\\n\\nNOTE\\n\\nFor more information, refer infotainment manual. Refer link - https://cars.tatamotors.com/service/ow ners/owners-manual) For compatible list of phones, refer link: https://cars.tatamotors.com/service/ow ners/phone-bluetooth-compatibility- with-car-infotainment-system\\n\\n83\\n\\nDASHBOARD AND FEATURES')"
            ]
          },
          "metadata": {}
        },
        {
          "output_type": "display_data",
          "data": {
            "text/plain": [
              "(unstructured.documents.elements.CompositeElement,\n",
              " 'Master /force Reset Process\\n\\nIf your infotainment system touch screen becomes unresponsive or shows some unusual behavior, then you can restart it to potentially resolve the issue. Follow some basic steps given below and you can restart the system.\\n\\nTo restart the infotainment system\\n\\n1.')"
            ]
          },
          "metadata": {}
        },
        {
          "output_type": "display_data",
          "data": {
            "text/plain": [
              "(unstructured.documents.elements.CompositeElement,\n",
              " 'Park the vehicle.\\n\\n2.\\n\\nHold the Steering wheel Mute button (long press) for more than 10 secs and then release the button as soon as the display goes blank.\\n\\n3.\\n\\nThe step above will trigger the infotain- ment system restart procedure. Wait until the system restarts.\\n\\n4.\\n\\nWhen you Hold the Steering wheel Mute button for more than 15 sec, sys- tem aborts restart process and display turns ON.')"
            ]
          },
          "metadata": {}
        },
        {
          "output_type": "display_data",
          "data": {
            "text/plain": [
              "(unstructured.documents.elements.CompositeElement,\n",
              " 'NOTE\\n\\nIt is preferable to do one Ignition OFF to ON cycle after Master/Force\\n\\n84\\n\\nreset to synchronize vehicle settings with the TATA Infotainment System.\\n\\nIf the reboot does not work or mas- ter/force resets are required on a weekly or daily basis, vehicle shall be taken to dealership. There, the dealer can update your firmware or inspect the system for hardware problem.')"
            ]
          },
          "metadata": {}
        },
        {
          "output_type": "display_data",
          "data": {
            "text/plain": [
              "(unstructured.documents.elements.CompositeElement,\n",
              " 'Force/Master reset keeps the stored data, such as call history, text mes- sage information, and previously paired phones as it is.\\n\\nSPEAKERS & TWEETER (if avail- able)\\n\\n1.\\n\\nTweeter\\n\\n2.\\n\\nSpeaker\\n\\nSpeakers and Tweeters are available in models with infotainment system. Provi- sions are given for music system and speakers on versions without infotainment system.\\n\\nUSB PORT (if available)\\n\\nConnect your pen drives to this socket for playing music tracks through the vehicle’s music system.')"
            ]
          },
          "metadata": {}
        },
        {
          "output_type": "display_data",
          "data": {
            "text/plain": [
              "(unstructured.documents.elements.CompositeElement,\n",
              " 'POWER SOCKET (if available)\\n\\nThe power socket will work when the igni- tion switch is in the “ACC” or “ON” posi- tion. This socket can be used to provide 12V (10A) power for electrical acces- sories.\\n\\nFor front passenger\\n\\nDASHBOARD AND FEATURES\\n\\nFor rear passenger\\n\\nNOTE\\n\\nUse of unapproved electrical acces- sories can cause damage to your vehicle’s electrical system.\\n\\nMake sure that any electrical acces- sories you use are de-signed to plug into this type of socket and rating.\\n\\n85')"
            ]
          },
          "metadata": {}
        },
        {
          "output_type": "display_data",
          "data": {
            "text/plain": [
              "(unstructured.documents.elements.CompositeElement,\n",
              " 'DASHBOARD AND FEATURES\\n\\nANTENNA\\n\\nAntenna is located on the roof. Turn the antenna anticlockwise to remove it from the vehicle, if required.\\n\\nNOTE\\n\\nPlease keep vehicle Antenna position in maximum upward direction to get good quality Tuner reception.\\n\\n86\\n\\nROOF GRAB HANDLE\\n\\nOption I\\n\\nOption II\\n\\nGrab handles are installed on the roof for all seats except for the driver’s seat. These help the passengers to position them- selves comfortably during the journey.')"
            ]
          },
          "metadata": {}
        },
        {
          "output_type": "display_data",
          "data": {
            "text/plain": [
              "(unstructured.documents.elements.CompositeElement,\n",
              " 'ROOF LAMP\\n\\nInterior roof lighting lamp is provided on the roof with inbuilt switch.\\n\\nThe switch has three positions:\\n\\nON - The lamp will turn ‘ON’ as long as the switch is in this po- sition.\\n\\nDOOR - In this position the lamp turns to ‘ON’ when either of the doors are opened. When the last door is closed, the lamp will turn ‘OFF’ with dimming. This helps settling in the seat and inserting the key in the ignition switch.')"
            ]
          },
          "metadata": {}
        },
        {
          "output_type": "display_data",
          "data": {
            "text/plain": [
              "(unstructured.documents.elements.CompositeElement,\n",
              " 'When the key is turned to the ‘IGN’ posi- tion, the lamp goes ‘OFF’ immediately.\\n\\nOFF - In this position, the lamp will remain ‘OFF’.\\n\\nDASHBOARD AND FEATURES\\n\\nBOOT LAMP (if available)\\n\\nBoot lamp is provided in the rear luggage compartment to illuminate the luggage area.\\n\\nIt will switch on whenever any door or tail- gate is open.\\n\\n87\\n\\nDASHBOARD AND FEATURES\\n\\nFRONT LAMP\\n\\n1.\\n\\nPosition /Turn indicator lamp\\n\\n2.\\n\\nHigh beam lamp\\n\\n3.\\n\\nFront fog lamp (if available)\\n\\n4.\\n\\nLow beam lamp\\n\\n5.')"
            ]
          },
          "metadata": {}
        },
        {
          "output_type": "display_data",
          "data": {
            "text/plain": [
              "(unstructured.documents.elements.CompositeElement,\n",
              " 'DRL (if available)\\n\\n88\\n\\nTAIL LAMP\\n\\n1.\\n\\nReverse lamp (on LH lamp only)\\n\\n2.\\n\\nStop lamp\\n\\n3.\\n\\nPosition lamp\\n\\n4.\\n\\nTurn indicator\\n\\n5.\\n\\nHigh mounted Stop Lamp (CHMSL)\\n\\nSTORAGE COMPARTMENT\\n\\n&hTab\\n\\n1.\\n\\nGlove box\\n\\n2.\\n\\nDriver side coin box\\n\\n3.\\n\\nUtility pockets on front doors\\n\\n4.\\n\\n5.\\n\\n6.\\n\\nUtility pockets on rear doors\\n\\nCentre console\\n\\nStowage for rear passenger\\n\\n7.\\n\\nSTOWAGE AREAS\\n\\nTailgate Compartment (Luggage)\\n\\n89\\n\\nSTOWAGE AREAS\\n\\nGlove Box')"
            ]
          },
          "metadata": {}
        },
        {
          "output_type": "display_data",
          "data": {
            "text/plain": [
              "(unstructured.documents.elements.CompositeElement,\n",
              " 'Opening And Closing\\n\\nTo open - Pull the lever to open the glove box flap.\\n\\nTo close - Lift glove box flap until it en- gages.\\n\\nGlove Box Illumination (if available)\\n\\nThe glove box lamp illuminates when the glove box flap is opened.\\n\\n90\\n\\nNOTE\\n\\nMake sure that glove box flap is closed while driving.\\n\\nStowage Detail (if available)\\n\\nFollowing items can be stowage in glove box.\\n\\n1.\\n\\niPad\\n\\n2.\\n\\nVisiting card\\n\\n3.\\n\\nPen holder\\n\\n4.')"
            ]
          },
          "metadata": {}
        },
        {
          "output_type": "display_data",
          "data": {
            "text/plain": [
              "(unstructured.documents.elements.CompositeElement,\n",
              " 'Mobile Phone\\n\\nCooling Facility (if available)\\n\\nOn selected models glove box is provided with a cooling facility. It cools the glove box only when the front A/C is ON. Shut OFF the vent by rotating the knob, whenever cooling is not required.\\n\\nDriver Side Coin Box\\n\\nStowage is provided on RH side of steer- ing wheel for Coin, mobile and wallet.\\n\\nUtility Pockets On Front Doors\\n\\nUtility pockets are provided on front doors and it can be used to keep following items.\\n\\n1.\\n\\nMagazine / paper / books\\n\\n2.')"
            ]
          },
          "metadata": {}
        },
        {
          "output_type": "display_data",
          "data": {
            "text/plain": [
              "(unstructured.documents.elements.CompositeElement,\n",
              " 'Suitable water bottle\\n\\n3.\\n\\nUmbrella\\n\\nNOTE\\n\\nRemove the water from umbrella and fold it properly before storing it in um- brella holder.\\n\\nSTOWAGE AREAS\\n\\nUtility Pockets On Rear Doors\\n\\nUtility pockets are available on rear doors and it can be used to keep following items.\\n\\n1.\\n\\nSuitable water bottle\\n\\n2.\\n\\nMagazine / paper / books\\n\\n91\\n\\nSTOWAGE AREAS\\n\\nCenter Console\\n\\nFollowing items can be stowage in Center console.\\n\\nPen holder\\n\\nCup holder\\n\\nCoin box\\n\\n92')"
            ]
          },
          "metadata": {}
        },
        {
          "output_type": "display_data",
          "data": {
            "text/plain": [
              "(unstructured.documents.elements.CompositeElement,\n",
              " 'Cup Holder For Front Passenger\\n\\nSpace for cup holder are provided in cen- tre console.\\n\\nStowage For Rear Passenger (if avail- able)\\n\\nStowage for the rear passenger is avail- able on rear side of floor console between the front passenger seats. It can be used to keep phone and small items.\\n\\nNOTE\\n\\nApplicable for models where rear vents is not provided.')"
            ]
          },
          "metadata": {}
        },
        {
          "output_type": "display_data",
          "data": {
            "text/plain": [
              "(unstructured.documents.elements.CompositeElement,\n",
              " 'Tailgate Compartment (luggage)\\n\\nStore the luggage in tailgate compartment. You can keep suitcase, bags, etc.\\n\\nDo not put any object on Luggage cover as it may obstruct driver’s rear visibility.')"
            ]
          },
          "metadata": {}
        },
        {
          "output_type": "display_data",
          "data": {
            "text/plain": [
              "(unstructured.documents.elements.CompositeElement,\n",
              " 'WARNING\\n\\nDistribute the items of luggage as evenly as possible.\\n\\nPosition heavy loads towards rear seat and low down in the trunk as possible.\\n\\nDo not allow occupants to travel in the luggage compartment.\\n\\nDo not place anything on luggage cover as it could obstruct driver’s rear view. Also in case of an acci- dent or sudden braking, it could\\n\\nSTOWAGE AREAS\\n\\ncause an injury to occupants.\\n\\nNOTE\\n\\nLuggage cover is designed only for hid- ing the luggage compartment.\\n\\n93\\n\\nSTOWAGE AREAS')"
            ]
          },
          "metadata": {}
        },
        {
          "output_type": "display_data",
          "data": {
            "text/plain": [
              "(unstructured.documents.elements.CompositeElement,\n",
              " 'HOOKS (if available)\\n\\nCoat Hook\\n\\nCoat hanger is provided for rear passen- ger on right side grab handle.\\n\\nNOTE\\n\\nThe coat hook is not designed to carry heavy objects or lug-gage items.\\n\\nDo not hang hard, sharp-edged or fragile objects on the coat hook.\\n\\n94\\n\\nCollapsible Hook\\n\\nCollapsible hook is provided for hanging small carry bags etc.\\n\\nNOTE\\n\\nDo not use these hooks for securing luggage like using nets etc. in the boot.\\n\\nCarrier Hook\\n\\nCarrier hook is provided for hanging small carry bags etc.')"
            ]
          },
          "metadata": {}
        },
        {
          "output_type": "display_data",
          "data": {
            "text/plain": [
              "(unstructured.documents.elements.CompositeElement,\n",
              " 'TAG HOLDER (if available)\\n\\nTag holder is provided near the front wind- shield for ease of displaying toll, parking tickets, ID’s, passes, labels etc.\\n\\nFRONT SEAT BACK POCKETS (if available)\\n\\nRear pockets are provided behind the front seats for keeping small magazines /Note- book etc.\\n\\nSTOWAGE AREAS\\n\\n95\\n\\n96\\n\\nAIR DISTRIBUTION\\n\\nAir Distribution- The air is distributed through the vents in the passenger compartment as shown below:\\n\\nCLIMATE CONTROL\\n\\n97\\n\\nCLIMATE CONTROL')"
            ]
          },
          "metadata": {}
        },
        {
          "output_type": "display_data",
          "data": {
            "text/plain": [
              "(unstructured.documents.elements.CompositeElement,\n",
              " 'AIR VENTS\\n\\nAir vents are available on the dashboard. The direction of air flow can be adjusted using sliders on the respective vents.\\n\\nCentre Air Vents (Front)\\n\\n98\\n\\nSide Air Vent (Front)\\n\\nELECTRONIC CONTROL (ETC) (if available)\\n\\nTEMPERATURE\\n\\n1.\\n\\nAir Distribution Mode -Center and side\\n\\n2.\\n\\nAir Distribution Mode- center, side and foot well\\n\\n3.\\n\\nAir Distribution Mode -foot well\\n\\n4.\\n\\nBlower Speed Control\\n\\n5.\\n\\nAC ON/OFF Switch\\n\\n6.\\n\\nAir Distribution Mode- defroster & foot well\\n\\n7.')"
            ]
          },
          "metadata": {}
        },
        {
          "output_type": "display_data",
          "data": {
            "text/plain": [
              "(unstructured.documents.elements.CompositeElement,\n",
              " 'Max. Defrost button\\n\\n8.\\n\\nFresh / Recirculation air mode\\n\\n9.')"
            ]
          },
          "metadata": {}
        },
        {
          "output_type": "display_data",
          "data": {
            "text/plain": [
              "(unstructured.documents.elements.CompositeElement,\n",
              " 'OFF Switch\\n\\n1. Air Distribution Mode -center And Side\\n\\nThis is to select the air distribu- tion pattern directs air through the center and side air vents.\\n\\n2. Air Distribution Mode Center, Side And Foot Well\\n\\nThis is to select the air distribu- tion pattern directs air through the center and side and foot well air vents.\\n\\n3. Air Distribution Mode -foot Well\\n\\nThis is to select the air distribu- tion pattern directs air through the foot well air vent.\\n\\n4. Blower Speed Control')"
            ]
          },
          "metadata": {}
        },
        {
          "output_type": "display_data",
          "data": {
            "text/plain": [
              "(unstructured.documents.elements.CompositeElement,\n",
              " 'Press the Blower Speed control down but-\\n\\nton to decrease the blower speed and press the blower speed control up but-\\n\\nton\\n\\nfor increase the blower speed.\\n\\n5. Ac On/off\\n\\nPress the button to switch ON/OFF the AC. The indica- tor lamp in the button will light up when AC is ON.')"
            ]
          },
          "metadata": {}
        },
        {
          "output_type": "display_data",
          "data": {
            "text/plain": [
              "(unstructured.documents.elements.CompositeElement,\n",
              " 'NOTE\\n\\nThe AC can be switched ‘ON’ only if the blower is ‘ON’ and engine is running.\\n\\nWhen AC is switched ‘ON’, engine idling RPM increases marginally to adjust the AC compressor load.\\n\\nWhen desired temperature is achieved Ac compressor will self-displace optimum re- frigerant flow.')"
            ]
          },
          "metadata": {}
        },
        {
          "output_type": "display_data",
          "data": {
            "text/plain": [
              "(unstructured.documents.elements.CompositeElement,\n",
              " 'NOTE\\n\\nCondensate may drip from the un- derside of the vehicle when it is in cooling mode. Traces of water on the ground are normal and are not a sign of leakage or malfunction.\\n\\nVentilate the vehicle for a brief pe- riod during warm weather. This will')"
            ]
          },
          "metadata": {}
        },
        {
          "output_type": "display_data",
          "data": {
            "text/plain": [
              "(unstructured.documents.elements.CompositeElement,\n",
              " 'CLIMATE CONTROL\\n\\nspeed up the cooling process and the desired vehicle interior temper- ature will be reached quickly.\\n\\nDo not cover the air vents or air in- take grilles in the vehicle interior.\\n\\nIf the AC is not used for a long pe- riod, such as during winter, it may not give the best performance when you start using it again. Operate the AC at least once a month to main- tain optimum performance.')"
            ]
          },
          "metadata": {}
        },
        {
          "output_type": "display_data",
          "data": {
            "text/plain": [
              "(unstructured.documents.elements.CompositeElement,\n",
              " 'While you start the vehicle after a long duration (more than 15 days), follow the procedure for better AC performance:\\n\\nStart the vehicle and allow the engine to idle for 2-3 minutes. AC should be off in this period.\\n\\nSwitch the AC on and run it for another 2~3 minutes while the engine idles. This circulates the refrigerant and oil to lubricate the internal parts of the air-con- ditioning system.\\n\\n99')"
            ]
          },
          "metadata": {}
        },
        {
          "output_type": "display_data",
          "data": {
            "text/plain": [
              "(unstructured.documents.elements.CompositeElement,\n",
              " 'CLIMATE CONTROL\\n\\n6. Air Distribution Mode- Defroster & Foot Well\\n\\nThis is to select the air dis- tribution pattern directs air through the foot well air vent and also through defrost.\\n\\n7. Max. Defrost Button\\n\\nThis button directs the main airflow towards windscreen for faster defrosting. (It also overrides any mode selection you may have made.)')"
            ]
          },
          "metadata": {}
        },
        {
          "output_type": "display_data",
          "data": {
            "text/plain": [
              "(unstructured.documents.elements.CompositeElement,\n",
              " 'NOTE\\n\\nFor your safety make sure you have a clear view through all the windows before driving.\\n\\nWhen “Air Distribution Mode - De- froster & Foot Well” or “Air distribu- tion mode - Defroster” is pressed, system may switch on AC and move to optimum demisting/defrosting\\n\\nfresh\\n\\nair\\n\\nfor\\n\\n100\\n\\n8. Fresh / Recirculation Air Mode\\n\\nPress the switch to activate / deactivate air recirculation mode. Press to ‘ON’ or ‘OFF’\\n\\n9. Off Button\\n\\nPress the OFF button to switch the system ‘OFF’.')"
            ]
          },
          "metadata": {}
        },
        {
          "output_type": "display_data",
          "data": {
            "text/plain": [
              "(unstructured.documents.elements.CompositeElement,\n",
              " 'FULLY AUTOMATIC TEMPERA- TURE CONTROL (FATC) (if avail- able)\\n\\nFATC system controls the in-cabin temper- ature of the vehicle automatically and pro- vides maximum passenger convenience regardless of outside weather conditions.\\n\\n1.\\n\\nRear window demister button\\n\\n2.\\n\\nMaximum Defrost button\\n\\n3.\\n\\nAir Distribution mode - Defroster\\n\\n4.\\n\\nBlower speed control down button\\n\\n5.\\n\\nBlower speed up control button\\n\\n6.\\n\\nTemperature control knob\\n\\n7.\\n\\nAuto ON selection button\\n\\n8.\\n\\nAC button\\n\\n9.')"
            ]
          },
          "metadata": {}
        },
        {
          "output_type": "display_data",
          "data": {
            "text/plain": [
              "(unstructured.documents.elements.CompositeElement,\n",
              " 'Fresh Air / Recirculation button\\n\\n10.\\n\\nOFF button\\n\\nDisplay Unit\\n\\nFATC display is shown on main display screen.\\n\\nFATC functions can be controlled using both the FATC control panel and the touch screen display.\\n\\nWhenever the user presses any push but-\\n\\nton or turns the rotary knob, then the dis- play unit will show the relevant Climate In- formation.\\n\\nAlso, when the display is not in climate mode then climate information will be dis- played on the all-time display available on the top bar.')"
            ]
          },
          "metadata": {}
        },
        {
          "output_type": "display_data",
          "data": {
            "text/plain": [
              "(unstructured.documents.elements.CompositeElement,\n",
              " 'Fatc Controls\\n\\n1. Rear Window Demister Button\\n\\nThis button turns the rear win- dow demister ON or OFF. The system will be deactivated after 15 min of continuous operation.\\n\\nNOTE\\n\\nRear Demister works only when Engine is Running.\\n\\n2. Max Defrost Button\\n\\nThis button directs the main airflow towards windscreen for faster defrosting. (It also overrides any mode selection you may have made.)\\n\\nWhen you turn off the button, the system returns to its former settings.\\n\\nCLIMATE CONTROL')"
            ]
          },
          "metadata": {}
        },
        {
          "output_type": "display_data",
          "data": {
            "text/plain": [
              "(unstructured.documents.elements.CompositeElement,\n",
              " 'NOTE\\n\\nFor your safety make sure you have a clear view through all the windows be- fore driving.\\n\\n3. Air Distribution Mode Button\\n\\nIn AUTO mode, the FATC sys- tem will regulate the mode au- tomatically. However, user override is possible with the use of MODE button to select the desired airflow mode.\\n\\nEach time you press the MODE button, the display shows the mode selected.')"
            ]
          },
          "metadata": {}
        },
        {
          "output_type": "display_data",
          "data": {
            "text/plain": [
              "(unstructured.documents.elements.CompositeElement,\n",
              " 'Directs air through the center and side air vents Directs air through the center, side and foot well vents Directs air through the foot well air vents Directs air through the defroster & foot well vents (De-fault fresh air mode)\\n\\nDirects air through the defroster vents (Default fresh air mode)\\n\\n101')"
            ]
          },
          "metadata": {}
        },
        {
          "output_type": "display_data",
          "data": {
            "text/plain": [
              "(unstructured.documents.elements.CompositeElement,\n",
              " 'CLIMATE CONTROL\\n\\n4. Blower Speed Control Down Button\\n\\nPress the Blower Speed con- trol down button to decrease the blower speed.\\n\\n5. Blower Speed Control Up Button\\n\\nPress the Blower Speed con- trol up button to increase the blower speed.\\n\\n6. Temperature Control Knob')"
            ]
          },
          "metadata": {}
        },
        {
          "output_type": "display_data",
          "data": {
            "text/plain": [
              "(unstructured.documents.elements.CompositeElement,\n",
              " 'Turning the temperature control knob clockwise increases the temperature of the air. The desired temperature will be in- creased by steps of 0.5ºC. User can select temperature range from 18ºC to 30ºC. Turning the knob in the anticlockwise di- rection reduces temperature.\\n\\nWhen you set the temperature to its lower limit (Lo) or its upper limit (Hi), the system runs at full cooling or heating only. It does- n’t regulate the interior temperature.\\n\\n102\\n\\n7. Auto On Selection Button')"
            ]
          },
          "metadata": {}
        },
        {
          "output_type": "display_data",
          "data": {
            "text/plain": [
              "(unstructured.documents.elements.CompositeElement,\n",
              " 'To put the automatic climate control in fully automatic mode:\\n\\nPress the ‘AUTO’ button.\\n\\n1.\\n\\nSet the desired temperature by turning temperature control knob. The display will show all the functions during ‘AUTO’ mode.\\n\\n2.\\n\\nThe system automatically selects the proper mix of conditioned and / or heated air that will, as quickly as pos- sible, raise or lower the interior temper- ature to your preference.\\n\\n3.')"
            ]
          },
          "metadata": {}
        },
        {
          "output_type": "display_data",
          "data": {
            "text/plain": [
              "(unstructured.documents.elements.CompositeElement,\n",
              " 'When you set the temperature to its lower limit (Lo) or its upper limit (Hi), the system runs at full cooling or heat- ing only. It does not regulate the inte- rior temperature.')"
            ]
          },
          "metadata": {}
        },
        {
          "output_type": "display_data",
          "data": {
            "text/plain": [
              "(unstructured.documents.elements.CompositeElement,\n",
              " 'Semi-automatic Operation\\n\\nYou can manually select various functions\\n\\nof the climate control system when it is in fully automatic mode. All other features re- main automatically controlled. Making any manual selection causes the word ‘AUTO’ in the display to go OFF and the overrid- den setting is displayed. System will re- main in semiautomatic mode till ‘AUTO’ is pressed again.\\n\\n8. Ac ON/OFF Button')"
            ]
          },
          "metadata": {}
        },
        {
          "output_type": "display_data",
          "data": {
            "text/plain": [
              "(unstructured.documents.elements.CompositeElement,\n",
              " 'Press the AC ON/OFF but- ton to turn the air condition- ing ON or OFF. The AC icon activated on the display when the AC is ON.\\n\\n9. Fresh Air / Recirculation Button\\n\\n1.\\n\\nWhen the recirculation button or LED is switched ‘ON’, air from the vehicle’s interior is sent throughout the system.\\n\\n2.\\n\\nWhen is switched to ‘OFF’, air from outside en- ters into the cabin (fresh mode). When- ever discomfort is felt, switch to fresh air mode.\\n\\nthe recirculation button')"
            ]
          },
          "metadata": {}
        },
        {
          "output_type": "display_data",
          "data": {
            "text/plain": [
              "(unstructured.documents.elements.CompositeElement,\n",
              " 'NOTE\\n\\nThe outside air intakes for the climate control systems are at the base of wind- screen. Keep this area clear from leaves and other debris.\\n\\nUse recirculation mode for faster heating and cooling. However, keeping the system in recirculation mode - particularly when the AC is in OFF - can cause fogging of windows.')"
            ]
          },
          "metadata": {}
        },
        {
          "output_type": "display_data",
          "data": {
            "text/plain": [
              "(unstructured.documents.elements.CompositeElement,\n",
              " 'NOTE\\n\\nWhen reverse gear is selected, air inlet may switch to recirculation mode if it is in fresh air mode, to prevent exhaust fumes from entering the cabin.\\n\\n10. “OFF” Button\\n\\nPress the OFF button to switch the system ‘OFF’. OFF will be displayed on the infotainment screen.\\n\\nHvac Sensors\\n\\nHVAC system is fitted with three sensors\\n\\n1.\\n\\n2.\\n\\nA solar sensor on windshield glass at the top center.\\n\\nIn-car sensor on HVAC control panel.\\n\\n3.')"
            ]
          },
          "metadata": {}
        },
        {
          "output_type": "display_data",
          "data": {
            "text/plain": [
              "(unstructured.documents.elements.CompositeElement,\n",
              " 'CLIMATE CONTROL\\n\\nOutside Ambient Temperature (OAT) sensor located under the front bumper grill.\\n\\nNOTE\\n\\nDo not cover or spill any liquid on sensors.\\n\\nDo not cover sensor, this may cause the sensor to malfunction. This may lead to FATC not functioning to de- sired level.\\n\\n103\\n\\nCLIMATE CONTROL\\n\\nFunction And Setting\\n\\nFunctions Settings\\n\\nControl Knob Posi- tion\\n\\n(6)\\n\\n(7)\\n\\nTemperature\\n\\nAuto\\n\\nNormal heat- ing\\n\\nDesired Temp Auto\\n\\nQuick heat- ing\\n\\nN o r m a l Cooling\\n\\nQuick Cool- ing\\n\\nDemisting')"
            ]
          },
          "metadata": {}
        },
        {
          "output_type": "display_data",
          "data": {
            "text/plain": [
              "(unstructured.documents.elements.CompositeElement,\n",
              " 'Defrosting\\n\\nTo the extreme right until temp ‘HI’ Desired Tem- perature To the extreme left until temp ‘LO’ To the right up, to the desired temperature To the right up, to the desired temperature\\n\\nOFF\\n\\nAuto\\n\\nOFF\\n\\nOFF\\n\\nOFF\\n\\n104\\n\\n(1) R e a r demister\\n\\n(2) M a x i m u m Defrost\\n\\nOFF\\n\\nOFF\\n\\nOFF\\n\\nOFF\\n\\nOFF\\n\\nOFF\\n\\nOFF\\n\\nOFF\\n\\nAs Desired ON\\n\\nAs Desired ON\\n\\n(3) Air distribu- tion\\n\\nButton Position\\n\\n(4) B l o w e r Down D e s i r e d Speed\\n\\n(5)\\n\\n(8)\\n\\nBlower Up A/C\\n\\nD e s i r e d Speed\\n\\nAs sired\\n\\nde-\\n\\nNA')"
            ]
          },
          "metadata": {}
        },
        {
          "output_type": "display_data",
          "data": {
            "text/plain": [
              "(unstructured.documents.elements.CompositeElement,\n",
              " 'M a speed\\n\\nx\\n\\nAC ON\\n\\nD e s i r e d Speed\\n\\nD e s i r e d Speed\\n\\nAC ON\\n\\nNA\\n\\nM a speed\\n\\nx\\n\\nAC ON\\n\\nD e s i r e d speed\\n\\nD e s i r e d speed\\n\\nAC ON\\n\\nNA\\n\\nM a speed\\n\\nx\\n\\nAC ON\\n\\n(9) Fresh air/ recir- culation\\n\\nOFF\\n\\nOFF\\n\\nON\\n\\nON\\n\\nOFF\\n\\nOFF\\n\\nFully Automatic Temperature Control (FATC) Adjusted By Infotainment System\\n\\nAC set in Auto mode\\n\\nBlower Speed\\n\\nFATC settings on Head Unit\\n\\nCLIMATE CONTROL\\n\\n105\\n\\n106\\n\\nPRE DRIVING CHECKS')"
            ]
          },
          "metadata": {}
        },
        {
          "output_type": "display_data",
          "data": {
            "text/plain": [
              "(unstructured.documents.elements.CompositeElement,\n",
              " 'Make Sure That\\n\\nWindshield, windows, mirrors, lights, and reflectors are clean and unob- structed.\\n\\nTool kit, jack & handle, warning trian- gle, owner’s manual, first aid kit and vehicle documents are available and stored at their locations.')"
            ]
          },
          "metadata": {}
        },
        {
          "output_type": "display_data",
          "data": {
            "text/plain": [
              "(unstructured.documents.elements.CompositeElement,\n",
              " 'WARNING\\n\\nDo not put any mat on the floor carpet near control pedals area.\\n\\nAll doors, engine bonnet and tail gate are securely closed and latched.\\n\\nAll occupants should always wear seat belts or suitable CRS as applicable while travelling.\\n\\nObjects, luggage or loads are se-cured correctly against slipping or tipping.\\n\\nRear seat is securely latched.\\n\\nThere is sufficient fuel for the trip.')"
            ]
          },
          "metadata": {}
        },
        {
          "output_type": "display_data",
          "data": {
            "text/plain": [
              "(unstructured.documents.elements.CompositeElement,\n",
              " 'Daily Check\\n\\nTyres for unusual wear, cracks or dam- age and embedded foreign material such as nails, stones, etc.\\n\\nTraces of fluid and oil below vehicle.\\n\\nNOTE\\n\\nWater dripping below the car is normal. This is due to the usage of air condition- ing system.\\n\\nAll lamps, wipers, wiper blades and horn for proper operation.\\n\\nAll switches, gauges and tell tales are working properly.\\n\\nAdjust\\n\\nSeats, head restraints and steering wheel position.\\n\\nAdjust all the mirrors before you start the car.')"
            ]
          },
          "metadata": {}
        },
        {
          "output_type": "display_data",
          "data": {
            "text/plain": [
              "(unstructured.documents.elements.CompositeElement,\n",
              " 'Weekly Check\\n\\nEngine oil level\\n\\nCoolant level\\n\\nBrake fluid level\\n\\nSTARTING AND DRIVING\\n\\nWindshield washer fluid level\\n\\nBattery electrolyte level\\n\\nFuel level\\n\\nNOTE\\n\\nTyre pressure should always be meas- ured in cold conditions. Do a check of the tyre pressure and condition after every 15 days, including the spare tyre.\\n\\n107\\n\\nSTARTING AND DRIVING\\n\\nDRIVING TIPS\\n\\nFuel consumption, engine, transmission, brake and tyre wear are mainly affected by the below factors:\\n\\nOperating conditions of your vehicle')"
            ]
          },
          "metadata": {}
        },
        {
          "output_type": "display_data",
          "data": {
            "text/plain": [
              "(unstructured.documents.elements.CompositeElement,\n",
              " 'Your personal driving style\\n\\nOperating Conditions\\n\\nAvoid frequent starts and stops as these actions increase the fuel con- sumption of the vehicle.\\n\\nAlways ensure correct tyre pressure.\\n\\nDo not carry any unnecessary weight.\\n\\nRegularly service your vehicle and ad- here to the recommended service maintenance schedule.')"
            ]
          },
          "metadata": {}
        },
        {
          "output_type": "display_data",
          "data": {
            "text/plain": [
              "(unstructured.documents.elements.CompositeElement,\n",
              " 'Personal Driving Style\\n\\nDo not press the accelerator pedal when starting the engine.\\n\\nDo not warm up the engine when the vehicle is stationary.\\n\\nAlways adapt your driving style to suit the prevailing road, weather condi- tions, and maintain a safe distance from the vehicle in front. Drive care-\\n\\n108\\n\\nfully.\\n\\nAvoid frequent, sudden acceleration and braking.\\n\\nSelect appropriate gear according to varying speeds and load conditions.')"
            ]
          },
          "metadata": {}
        },
        {
          "output_type": "display_data",
          "data": {
            "text/plain": [
              "(unstructured.documents.elements.CompositeElement,\n",
              " 'NOTE\\n\\nDo not rest your foot on the clutch pedal while driving.\\n\\nSwitch ‘OFF’ the engine in stationary traffic or at signals.\\n\\nKeep an eye on the vehicle’s fuel con- sumption.\\n\\nSafety systems are merely aids de- signed to assist driving. You are re- sponsible for the distance between the vehicles in front, for vehicle speed and anticipating braking in good time.')"
            ]
          },
          "metadata": {}
        },
        {
          "output_type": "display_data",
          "data": {
            "text/plain": [
              "(unstructured.documents.elements.CompositeElement,\n",
              " 'WARNING\\n\\nYou could lose control of your vehi- cle if you try to adjust the driver’s seat, head restraint, mirror, steering wheel and fasten the seat belt while\\n\\ndriving. There is a risk of an acci- dent.')"
            ]
          },
          "metadata": {}
        },
        {
          "output_type": "display_data",
          "data": {
            "text/plain": [
              "(unstructured.documents.elements.CompositeElement,\n",
              " 'Press the clutch fully while shifting the gears. The reverse gear should be engaged only when the vehicle is stationary. Trans-mission may get damage by trying to shift into re- verse gear while the vehicle is mov- ing. Wait for 5 seconds after declutching to ensure smooth en- gagement of the reverse gear or shift into one of the forward gears for a moment while clutch is pressed fully. This will avoid grinding of re- verse gear while shifting.\\n\\nRecommended Speeds\\n\\nFuel\\n\\nEconomy\\n\\nGear\\n\\n1 2 3 4 5')"
            ]
          },
          "metadata": {}
        },
        {
          "output_type": "display_data",
          "data": {
            "text/plain": [
              "(unstructured.documents.elements.CompositeElement,\n",
              " 'Petrol Speed(kmph) 20 35 55 75 95\\n\\nGood Driving Practices\\n\\nSlow down before you shift to a lower gear. This helps the engine to keep a lower rpm and result in less wear and tear of the engine components.\\n\\nAvoid frequent brake application which can cause overheating of brakes.\\n\\nSlow down the vehicle when you drive in cross winds to get better control over the vehicle.')"
            ]
          },
          "metadata": {}
        },
        {
          "output_type": "display_data",
          "data": {
            "text/plain": [
              "(unstructured.documents.elements.CompositeElement,\n",
              " 'Avoid high speed when cornering or turning.\\n\\nPress the clutch fully while shifting gears.\\n\\nMake sure that vehicle is completely stationary before you attempt to shift in reverse gear.\\n\\nDrive slowly on wet roads.\\n\\nYou can get extra braking from the en- gine by shifting to a lower gear. This can help you to maintain a safe speed and prevent your brakes from over- heating specially while going down a hill.')"
            ]
          },
          "metadata": {}
        },
        {
          "output_type": "display_data",
          "data": {
            "text/plain": [
              "(unstructured.documents.elements.CompositeElement,\n",
              " 'Tips For Obtaining Better Fuel Effi- ciency\\n\\nAlways maintain the specified tyre pressure during fuel top-ups and also before a long trip. Vehicle running with low tyre pressure will consume more fuel than the one running with specified tyre pressure.\\n\\nKeep the vehicle clean. Get rid of the unwanted stuff lying in the boot etc., to reduce weight.\\n\\nRegularly inspect your vehicle for any leakages, worn out wires, damaged by rat bites etc.\\n\\nAlways follow periodic & regular serv-')"
            ]
          },
          "metadata": {}
        },
        {
          "output_type": "display_data",
          "data": {
            "text/plain": [
              "(unstructured.documents.elements.CompositeElement,\n",
              " 'STARTING AND DRIVING\\n\\nice schedule of the vehicle.\\n\\nIn places with high dust content. Clean the air filter element at every 5000 km.\\n\\nAnticipate the road conditions and drive in a smooth manner.\\n\\nDo not accelerate excessively when you are in lower gears (1st or 2nd). Be gentle on the accelerator when you are in traffic. In lower gears, opening up the throttle will increase the engine rpm while keeping the vehicle at lower speeds. This reduces the fuel effi- ciency of the vehicle.')"
            ]
          },
          "metadata": {}
        },
        {
          "output_type": "display_data",
          "data": {
            "text/plain": [
              "(unstructured.documents.elements.CompositeElement,\n",
              " 'Be in the maximum possible higher gear at a given speed. This reduces the engine operating speeds which means the engine is running at lower rpm (Revolutions per Minute) for the same vehicle speed. Lesser the num- ber of engine revolution lesser the fuel burned.\\n\\nAvoid harsh braking.\\n\\nMaintain healthy driving habits & while decelerating, do coasting in gear and not in neutral or with clutch pedal pressed.\\n\\n109')"
            ]
          },
          "metadata": {}
        },
        {
          "output_type": "display_data",
          "data": {
            "text/plain": [
              "(unstructured.documents.elements.CompositeElement,\n",
              " 'STARTING AND DRIVING\\n\\nUse the car AC only when you require. For cooling, keep the blower speeds low, as at higher blower speeds, the AC consumes more electric power which is ultimately drawn from engine by burning fuel.')"
            ]
          },
          "metadata": {}
        },
        {
          "output_type": "display_data",
          "data": {
            "text/plain": [
              "(unstructured.documents.elements.CompositeElement,\n",
              " 'Avoid unnecessary extra electrical loading on the car.\\n\\nStop the engine wisely at traffic sig- nals. Switch ‘OFF’ the engine at the traffic signal only if the stoppage time is high (typically more than 30 sec).\\n\\nWhen you drive on highways, close all the windows. This reduces the drag on the vehicle and improves fuel effi- ciency.\\n\\nDo not over speed. Follow the speed limits. With increasing speed, the en- gine rpm increases to overcome exter- nal air resistance and this reduces fuel efficiency.')"
            ]
          },
          "metadata": {}
        },
        {
          "output_type": "display_data",
          "data": {
            "text/plain": [
              "(unstructured.documents.elements.CompositeElement,\n",
              " 'Running-in Period\\n\\nThe purpose of running in a car is to give time for the mechanical parts to settle so that they work efficiently. This involves gentle acceleration and not revving the en-\\n\\n110\\n\\ngine too much. This is done by changing gears early for the first 1,500 – 1,800 km. This will increase the life of the engine.\\n\\nThe more you look after the engine when it is new, the more satisfied you will be with its performance in the future.')"
            ]
          },
          "metadata": {}
        },
        {
          "output_type": "display_data",
          "data": {
            "text/plain": [
              "(unstructured.documents.elements.CompositeElement,\n",
              " 'Do not exceed the following road speeds during running in period.\\n\\nGear\\n\\n1 2 3 4 5\\n\\nPetrol Speed(kmph) 20 35 55 75 95\\n\\nAvoid heavy loads, e.g. driving at full throt- tle, during this period. Change gears judi- ciously.\\n\\nNOTE\\n\\nAvoid excessive revving up of engine rpm. Do not keep engine at idling for long duration.\\n\\nSEAT ADJUSTMENTS\\n\\nFront Seat Adjustments\\n\\nFollowing seat adjustments can be carried out manually.\\n\\n1.')"
            ]
          },
          "metadata": {}
        },
        {
          "output_type": "display_data",
          "data": {
            "text/plain": [
              "(unstructured.documents.elements.CompositeElement,\n",
              " 'Backrest recliner adjustment lever\\n\\n2.\\n\\nSeat height adjustment lever (if avail- able)\\n\\n3.\\n\\nSeat forward / rearward adjustment lever\\n\\nWARNING\\n\\nDo not adjust the driver’s seat while driving. Adjusting the seat while driving could cause the driver to lose control of the vehicle.')"
            ]
          },
          "metadata": {}
        },
        {
          "output_type": "display_data",
          "data": {
            "text/plain": [
              "(unstructured.documents.elements.CompositeElement,\n",
              " 'Seat Backrest Angle Adjustment\\n\\nTo change the seat back rest angle, lean forward slightly and pull up the lever (1). Adjust seat backrest until it reaches de- sired comfortable position. Make sure that lever returns to its original position and seat is securely latched.\\n\\nNOTE\\n\\nAdjust the seat backrest until your arms are slightly angled when holding the steering wheel.')"
            ]
          },
          "metadata": {}
        },
        {
          "output_type": "display_data",
          "data": {
            "text/plain": [
              "(unstructured.documents.elements.CompositeElement,\n",
              " 'WARNING\\n\\nDo not travel in a moving vehicle with the seat backrest in an excessively re- clined position as this can be danger- ous.\\n\\nSeat Height Adjustment (if available)\\n\\nTo raise the seat, pull and continue pump- ing the lever (2) in the upward direction until the seat is at the desired height.\\n\\nTo lower the seat, pump the lever down- ward until the seat is at desired height.')"
            ]
          },
          "metadata": {}
        },
        {
          "output_type": "display_data",
          "data": {
            "text/plain": [
              "(unstructured.documents.elements.CompositeElement,\n",
              " 'Seat Forward/rearward Adjustment\\n\\nLift lever (3) and slide the seat forward or to the rear. Release lever and make sure that seat is securely latched.\\n\\nNOTE\\n\\nAdjust the driver seat position in such a way that the driver will be able to oper- ate the control pedals comfortably.\\n\\nSTARTING AND DRIVING')"
            ]
          },
          "metadata": {}
        },
        {
          "output_type": "display_data",
          "data": {
            "text/plain": [
              "(unstructured.documents.elements.CompositeElement,\n",
              " 'Head Restraint (if available)\\n\\nAdjust the head restraint so that it is as close to the head as possible and the cen- ter of the head restraint supports the back of the head at eye level. This will reduce the risk of injury to the head and neck in the event of an accident or similar situa- tion.\\n\\n111\\n\\nSTARTING AND DRIVING\\n\\nWARNING\\n\\nDo not drive the vehicle without the seat head restraints. Head restraints are in- tended to help reduce injuries during an accident.')"
            ]
          },
          "metadata": {}
        },
        {
          "output_type": "display_data",
          "data": {
            "text/plain": [
              "(unstructured.documents.elements.CompositeElement,\n",
              " 'Front Passenger Seat Sensor\\n\\nAn occupant detection sensor is installed in the front passenger seat to detect whether the seat is occupied or not and if occupied, it will activate the seat belt re- minder warnings. The sensor does not have any control on the deployment of airbags.\\n\\nWARNING\\n\\nAny modification in the seat material or addition of seat cover may damage or\\n\\n112\\n\\naffect the performance of the sensor.\\n\\nRear Seats\\n\\nRear seat folding')"
            ]
          },
          "metadata": {}
        },
        {
          "output_type": "display_data",
          "data": {
            "text/plain": [
              "(unstructured.documents.elements.CompositeElement,\n",
              " 'Rear Seat Folding (complete Seat 100%)\\n\\nTo fold the seat:\\n\\nPress the backrest release knobs pro- vided on both sides at the same time.\\n\\nFold the backrest seat forward. Move the driver and front passenger seat for- ward if necessary.')"
            ]
          },
          "metadata": {}
        },
        {
          "output_type": "display_data",
          "data": {
            "text/plain": [
              "(unstructured.documents.elements.CompositeElement,\n",
              " 'WARNING\\n\\nIf the rear bench seat and seat backrest are not latched properly, they could fold forwards during hard braking or in the event of a collision.\\n\\nThe vehicle occupant would thereby be pushed into the seat belt by the rear bench seat or by the seat back- rest. The seat belt can no longer offer the intended level of protection and could even cause injuries.')"
            ]
          },
          "metadata": {}
        },
        {
          "output_type": "display_data",
          "data": {
            "text/plain": [
              "(unstructured.documents.elements.CompositeElement,\n",
              " 'STARTING AND DRIVING\\n\\nObjects or loads in the trunk cannot be restrained by the seat backrest. There is an increased risk of injury.\\n\\nBefore every trip, make sure that the seat backrests and the rear bench seat/rear seat are engaged and se- curely latched.\\n\\n113\\n\\nSTARTING AND DRIVING\\n\\nREAR VIEW MIRRORS')"
            ]
          },
          "metadata": {}
        },
        {
          "output_type": "display_data",
          "data": {
            "text/plain": [
              "(unstructured.documents.elements.CompositeElement,\n",
              " 'Inside Rear View Mirror (IRVM)\\n\\nTo adjust the mirror move the mirror up, down or sideways manually to obtain the best rear view.\\n\\nWhen you drive at night, set the selector tab to select anti-glare mode (if available) to reduce glare from the headlights of ve- hicles behind you.\\n\\n114\\n\\nNOTE\\n\\nUse antiglare position only when neces- sary, as it reduces rear view clarity.')"
            ]
          },
          "metadata": {}
        },
        {
          "output_type": "display_data",
          "data": {
            "text/plain": [
              "(unstructured.documents.elements.CompositeElement,\n",
              " 'Outer Rear View Mirrors (ORVM)\\n\\nYou can adjust the outer rear view mirrors manually (By hand) or remotely by knob. Adjust the outside rear view mirrors to de- sired position.\\n\\nNOTE\\n\\nObjects visible in mirror are actually closer than they appear. Always make sure of the actual distance from the road users traveling behind by glancing over your shoulder.')"
            ]
          },
          "metadata": {}
        },
        {
          "output_type": "display_data",
          "data": {
            "text/plain": [
              "(unstructured.documents.elements.CompositeElement,\n",
              " 'Motorized ORVM Adjustment (if avail- able)\\n\\nThe switch to adjust the motorized mirrors is located on the driver’s door. You can ad- just the mirrors when the ignition switch is in the “ACC” or “ON” position.\\n\\nTo Adjust The Mirrors:\\n\\n1.\\n\\nMove the mirror selection switch to L (for left side) and R (for right side) to select the mirror you wish to ad-just.\\n\\n2.\\n\\nUse the four positions of the knob to adjust the rear view mirrors to required position.\\n\\nORVM FOLDING (as applicable)')"
            ]
          },
          "metadata": {}
        },
        {
          "output_type": "display_data",
          "data": {
            "text/plain": [
              "(unstructured.documents.elements.CompositeElement,\n",
              " 'Option 1: Manual Folding\\n\\nORVMs can be folded or unfolded manu- ally. This is applicable only for vehicles which are not equipped with motorized folding provision.\\n\\nOption 2: Auto Folding By Smart Key\\n\\nWhen you lock the vehicle, ORVMs will be folded automatically.\\n\\nWhen you unlock the vehicle, ORVMs will be unfolded automatically.\\n\\nIn case to repeated usage, Mirror Fold- ing/Un-folding will stop functioning and will')"
            ]
          },
          "metadata": {}
        },
        {
          "output_type": "display_data",
          "data": {
            "text/plain": [
              "(unstructured.documents.elements.CompositeElement,\n",
              " 'STARTING AND DRIVING\\n\\nbe reactivated after delay of 2 mins. Dur- ing that period avoid repeated pressing of Switch.\\n\\nOption 3: Auto Folding By Knob\\n\\nTo fold / unfold the ORVMs, keep the Se- lector switch in center position (i.e. neither ‘L’ nor ‘R, position) and then toggle down. This will operate when the ignition switch is in the “ACC” or “ON” position.\\n\\n115\\n\\nSTARTING AND DRIVING')"
            ]
          },
          "metadata": {}
        },
        {
          "output_type": "display_data",
          "data": {
            "text/plain": [
              "(unstructured.documents.elements.CompositeElement,\n",
              " 'SUN VISORS (if available)\\n\\nThe sun visors can be pulled down to block the glare coming through the wind- shield.\\n\\nTo block the glare from side windows, pull down the sun visor and release it from re- tainer. Swing the sun visor to the side.')"
            ]
          },
          "metadata": {}
        },
        {
          "output_type": "display_data",
          "data": {
            "text/plain": [
              "(unstructured.documents.elements.CompositeElement,\n",
              " 'Vanity Mirror (if available)\\n\\nVanity mirror is provided on the back of the front passenger side sun visor.\\n\\n116\\n\\nELECTRIC POWER ASSISTED STEERING (EPAS)\\n\\nSteering System is tuned in such a way that steering effort will slightly get heavy at high speed to have better control on vehi- cle whereas it will get lighter at low speed to reduce the driver effort in parking.')"
            ]
          },
          "metadata": {}
        },
        {
          "output_type": "display_data",
          "data": {
            "text/plain": [
              "(unstructured.documents.elements.CompositeElement,\n",
              " 'In EPAS system, the steering effort be- comes heavier as the vehicle speed in- creases and becomes lighter as the vehicle speed decreases for better control of the vehicle at different vehicle speeds.\\n\\nIf the engine is ‘OFF’ or if the EPAS sys- tem becomes inoperative, the vehicle still can be steered with more steering effort.\\n\\nThis EPAS system is available with the fol- lowing assist features\\n\\n1.\\n\\nSpeed sensitive assist control\\n\\n2.\\n\\nActive return control')"
            ]
          },
          "metadata": {}
        },
        {
          "output_type": "display_data",
          "data": {
            "text/plain": [
              "(unstructured.documents.elements.CompositeElement,\n",
              " 'NOTE\\n\\nA click noise may be heard from the EPAS relay after the ignition switch is turned ON or OFF position.\\n\\nThe steering wheel may not un-lock normally in some cases when igni- tion key turned ‘ON’ or ‘ISS’ button pressed. If this happens, turn the steering wheel to the right or left slightly to unlock the steering wheel while turning the ignition key or pressing ISS button.\\n\\nContact the nearest TATA author- ized service center if in case of the above scenarios.')"
            ]
          },
          "metadata": {}
        },
        {
          "output_type": "display_data",
          "data": {
            "text/plain": [
              "(unstructured.documents.elements.CompositeElement,\n",
              " 'WARNING\\n\\nBelow are the symptoms of the system malfunction. Then, take your vehicle to the nearest TATA MOTORS service center and have the EPAS system checked as soon as possible. •\\n\\nThe EPAS warning lamp illuminate.\\n\\nEPAS motor noise may be heard when the vehicle is driven at low speeds.\\n\\nIf the EPAS system does not oper- ate normally, the warning light will il\\n\\nluminate on the instrument cluster. The steering wheel rotation may be- come difficult to control or operate.')"
            ]
          },
          "metadata": {}
        },
        {
          "output_type": "display_data",
          "data": {
            "text/plain": [
              "(unstructured.documents.elements.CompositeElement,\n",
              " 'STEERING WHEEL ADJUSTMENT\\n\\nYou can adjust the steering wheel position to suit your convenience.\\n\\nThe Tilt lever is located offset to the steer- ing column.\\n\\nTo Adjust The Steering Wheel\\n\\n1.\\n\\nAdjust the seat to a comfortable posi- tion.\\n\\n2.\\n\\nPush “Tilt lever” completely down to unlock the steering column.\\n\\n3.\\n\\nAdjust the steering wheel to the de- sired position.')"
            ]
          },
          "metadata": {}
        },
        {
          "output_type": "display_data",
          "data": {
            "text/plain": [
              "(unstructured.documents.elements.CompositeElement,\n",
              " 'STARTING AND DRIVING\\n\\n4.\\n\\nPull Tilt lever up completely to lock the steering column.\\n\\n5.\\n\\nMake sure that steering wheel is fixed at desired position by gently pushing the wheel in up & down direction.\\n\\nNOTE\\n\\nAfter adjustment, sometimes the lock Tilt lever may not lock the steer- ing wheel.\\n\\nIt is not a malfunction; this occurs when there is mismatch in gear teeth engagement of tilt mecha- nism. In this case adjust the steering wheel again & then lock the\\n\\nSteering wheel.')"
            ]
          },
          "metadata": {}
        },
        {
          "output_type": "display_data",
          "data": {
            "text/plain": [
              "(unstructured.documents.elements.CompositeElement,\n",
              " 'NOTE\\n\\nWhen adjusting the steering wheel, make sure that: •\\n\\nYou can operate control pedals without any obstacles.\\n\\nYou can see all the displays in the instrument cluster clearly.\\n\\n117\\n\\nSTARTING AND DRIVING\\n\\nWARNING\\n\\nBefore you start the car, make sure the steering wheel position is locked. Do not unlock or adjust the steering wheel while the vehicle is in motion.')"
            ]
          },
          "metadata": {}
        },
        {
          "output_type": "display_data",
          "data": {
            "text/plain": [
              "(unstructured.documents.elements.CompositeElement,\n",
              " 'NOTE\\n\\nTo prevent serious accidents , the steering effort may Increase sud- denly in case if the operation of the EPAS system detects Malfunction during self diagnosis.\\n\\nWhen steered for a prolonged pe- riod, the steering effort will increase to prevent overheating and damage to the steering system.\\n\\n118')"
            ]
          },
          "metadata": {}
        },
        {
          "output_type": "display_data",
          "data": {
            "text/plain": [
              "(unstructured.documents.elements.CompositeElement,\n",
              " 'STEERING LOCK AND IGNITION SWITCH (if available)\\n\\nThe ignition switch has the following four positions:\\n\\nLOCK - This is the normal parking posi- tion. Key from lock can be removed in this position only.\\n\\n“LOCK” position prevents normal use of the steering wheel after the key is re- moved.\\n\\nTo release the steering lock, put the key in the slot and turn it clockwise to one click (ACC).')"
            ]
          },
          "metadata": {}
        },
        {
          "output_type": "display_data",
          "data": {
            "text/plain": [
              "(unstructured.documents.elements.CompositeElement,\n",
              " 'ACC - Accessories such as the infotain- ment system can be operated, but the en- ‘OFF’. Steering gets gine unlocked.\\n\\nremains\\n\\nON - This is the normal operating position. All electrical systems are ‘ON’.\\n\\nSTART - Turn the key further clockwise to the START position, (spring loaded) to start the engine. As soon as the engine starts, release the ignition key, which re- turns to ON position. While cranking, all accessories will be momentarily ‘OFF’.')"
            ]
          },
          "metadata": {}
        },
        {
          "output_type": "display_data",
          "data": {
            "text/plain": [
              "(unstructured.documents.elements.CompositeElement,\n",
              " 'Illuminated Key Ring (if available)\\n\\nWhen the vehicle is unlocked, the illumi- nated key ring glows. This helps to locate ignition switch in the dark.\\n\\nSTARTING AND STOPPING (with- out PEPS)\\n\\nStarting The Engine\\n\\nMake sure that parking brake is engaged and vehicle is in neutral gear.\\n\\nPress the clutch pedal fully and crank the engine. Do not press the accelerator pedal when starting the engine.')"
            ]
          },
          "metadata": {}
        },
        {
          "output_type": "display_data",
          "data": {
            "text/plain": [
              "(unstructured.documents.elements.CompositeElement,\n",
              " 'NOTE\\n\\nThe Starter protection system fit- ted in this vehicle does not allow you to crank the engine until you fully press the clutch pedal.\\n\\nRelease the key as soon as the engine starts. Repeat if engine does not start.\\n\\nNOTE\\n\\nThe Starter protection system switches off the starter when it is continuously cranked for more than 10 secs. In such a case, get the key back to ‘OFF’ position & wait for 30')"
            ]
          },
          "metadata": {}
        },
        {
          "output_type": "display_data",
          "data": {
            "text/plain": [
              "(unstructured.documents.elements.CompositeElement,\n",
              " 'secs.\\n\\ntur- For vehicle equipped with bocharger, after you start the en- gine, run the engine at idle speed for 30 seconds. Do not press accel- erator pedal while starting the en- the to avoid damage gine turbocharger.\\n\\nto\\n\\nStarting Off\\n\\nTo start off, press the clutch pedal fully and shift into 1st gear.\\n\\nAfter releasing the parking brake, gradu- ally release the clutch and slowly press the accelerator.')"
            ]
          },
          "metadata": {}
        },
        {
          "output_type": "display_data",
          "data": {
            "text/plain": [
              "(unstructured.documents.elements.CompositeElement,\n",
              " 'NOTE\\n\\nWhen shifting or starting off, do not race the engine. Racing the engine can shorten engine life and affect smooth shifting.\\n\\nStopping The Vehicle\\n\\nFor vehicle equipped with turbocharger, turn the key to ‘ACC’ position to switch off')"
            ]
          },
          "metadata": {}
        },
        {
          "output_type": "display_data",
          "data": {
            "text/plain": [
              "(unstructured.documents.elements.CompositeElement,\n",
              " 'STARTING AND DRIVING\\n\\nthe engine. Before switching off the en- gine, run the engine at idle speed for 30 seconds and then switch off. This will allow the engine oil to lubricate the turbocharger, till its speed is fully reduced and also allow the unit to cool down.\\n\\nWARNING\\n\\nDo not switch off the ignition while driving.\\n\\nFor vehicle equipped with tur- bocharger, do not switch the engine off when it is running at high speed. This will lead to premature tur- bocharger bearing wear.')"
            ]
          },
          "metadata": {}
        },
        {
          "output_type": "display_data",
          "data": {
            "text/plain": [
              "(unstructured.documents.elements.CompositeElement,\n",
              " 'If you switch off the ignition while driving, safety-relevant functions are only available with limitations, or not at all. This could affect the power steering and the brake boosting ef- fect. You will require considerably more effort to steer and brake. There is a risk of an accident.\\n\\n119\\n\\nSTARTING AND DRIVING\\n\\nSTARTING AND STOPPING (PEPS) (if available)\\n\\nEngine Passive Start/stop\\n\\nStart/Stop switch is provided on the dash- board towards the right side of steering wheel.')"
            ]
          },
          "metadata": {}
        },
        {
          "output_type": "display_data",
          "data": {
            "text/plain": [
              "(unstructured.documents.elements.CompositeElement,\n",
              " 'Start/stop Button\\n\\nThe start/stop button or Push to Start But- ton is a main component of Passive (En- gine) Start and Stop system. It is used to control ACC, IGN outputs as well as to start and stop the engine.\\n\\n120')"
            ]
          },
          "metadata": {}
        },
        {
          "output_type": "display_data",
          "data": {
            "text/plain": [
              "(unstructured.documents.elements.CompositeElement,\n",
              " 'NOTE\\n\\nIf smart key is inside the vehicle and on pressing start stop switch, if start stop switch green LED blinks more than 10 sec. duration then contact authorized TATA MOTORS dealer.\\n\\nIf ESCL (Electronic Column Steer- ing Lock) is not unlocked properly, then vehicle doesn’t go into ACC mode')"
            ]
          },
          "metadata": {}
        },
        {
          "output_type": "display_data",
          "data": {
            "text/plain": [
              "(unstructured.documents.elements.CompositeElement,\n",
              " 'Backup Start\\n\\nTo start the engine when smart key battery voltage is low, the user needs to press start/stop button two times with an interval of 2.5 seconds after pressing the clutch with valid smart key near immobilizer an- tenna (on key symbol in Centre Console).\\n\\nEmergency Start\\n\\nIf the engine is switched from ON to OFF and start/stop button is pressed with clutch pressed within 5 seconds, engine gets cranked.')"
            ]
          },
          "metadata": {}
        },
        {
          "output_type": "display_data",
          "data": {
            "text/plain": [
              "(unstructured.documents.elements.CompositeElement,\n",
              " 'NOTE\\n\\nIf ESCL (Electronic Column Steering Lock) is not unlocked properly, then En- gine will not get cranked.\\n\\nENGINE PASSIVE START - CONDI- TIONS\\n\\nSingle Press Start\\n\\n1.\\n\\nBring the smart key with you and sit in the driver seat.\\n\\n2.\\n\\nPress the clutch pedal and then press the start/stop switch.\\n\\n3.\\n\\nGreen colour LED on start/stop button will turn ON.\\n\\n4.\\n\\nOnce engine is started successfully, the green colour LED on start/stop but- ton stays ON.\\n\\nTwo Step Start')"
            ]
          },
          "metadata": {}
        },
        {
          "output_type": "display_data",
          "data": {
            "text/plain": [
              "(unstructured.documents.elements.CompositeElement,\n",
              " 'Step 1\\n\\n1.\\n\\nHave the smart key with you and sit on the driver’s seat.\\n\\n2.\\n\\nPress the start/stop button without pressing clutch pedal.\\n\\n3.\\n\\nAmber colour LED on start/stop switch turns ON.\\n\\n4.\\n\\nEngine will remain OFF and all electri- cal equipment and infotainment sys- is tem can be used. Steering un-locked.')"
            ]
          },
          "metadata": {}
        },
        {
          "output_type": "display_data",
          "data": {
            "text/plain": [
              "(unstructured.documents.elements.CompositeElement,\n",
              " 'Step 2\\n\\n1.\\n\\nPress the clutch pedal and then press start/stop button to start the engine.\\n\\n2.\\n\\nGreen colour LED on start/stop button will turn ON.\\n\\n3.\\n\\nOnce engine start successfully, green colour LED on start/stop switch will re- main ON.\\n\\nThree Step Start')"
            ]
          },
          "metadata": {}
        },
        {
          "output_type": "display_data",
          "data": {
            "text/plain": [
              "(unstructured.documents.elements.CompositeElement,\n",
              " 'Step 1\\n\\n1.\\n\\nHave the smart key with you and sit on the driver’s seat.\\n\\n2.\\n\\nPress the start/stop button without pressing clutch pedal.\\n\\n3.\\n\\nAmber colour LED on start/stop button will turn ON.\\n\\n4.\\n\\nLimited information will be dis-played on instrument cluster and steering will be unlocked. Engine remains OFF.\\n\\nStep 2\\n\\n1.\\n\\nPress the start/stop button without pressing clutch pedal again.\\n\\n2.\\n\\nGreen colour LED on start/stop button will turn ON.')"
            ]
          },
          "metadata": {}
        },
        {
          "output_type": "display_data",
          "data": {
            "text/plain": [
              "(unstructured.documents.elements.CompositeElement,\n",
              " 'STARTING AND DRIVING\\n\\n3.\\n\\nEngine will remain OFF but all electri- cal equipment and infotainment sys- tem can be used.\\n\\nStep 3\\n\\n1.\\n\\nPress the clutch pedal and then press start/stop button to start the engine.\\n\\n2.\\n\\nGreen colour LED on start/stop button will turn ON.\\n\\n3.\\n\\nOnce the engine is started success- fully, the green colour LED on start/stop button stays ON.\\n\\n121\\n\\nSTARTING AND DRIVING\\n\\nENGINE PASSIVE STOP - CONDI- TIONS')"
            ]
          },
          "metadata": {}
        },
        {
          "output_type": "display_data",
          "data": {
            "text/plain": [
              "(unstructured.documents.elements.CompositeElement,\n",
              " 'Single Press Stop\\n\\nIGN is ON and engine is running.\\n\\nPress the start/stop button with or with- out clutch.\\n\\nACC and IGN turns OFF.\\n\\nLED on start/stop switch turns OFF.\\n\\nSingle Long Press Stop\\n\\nIGN is ON and engine is running.\\n\\nVehicle is in running condition i.e. wheel rpm >10 RPM or wheel sensor faulty.\\n\\nPress the start/stop button for more than three seconds.\\n\\nIGN returns OFF, ACC remains ON.\\n\\nAmber colour LED on start/stop switch turns ON.')"
            ]
          },
          "metadata": {}
        },
        {
          "output_type": "display_data",
          "data": {
            "text/plain": [
              "(unstructured.documents.elements.CompositeElement,\n",
              " 'WARNING\\n\\nWhen vehicle is in OFF mode (ACC, IGN and Crank OFF) and user tries to lock the vehicle from outside by press\\n\\n122\\n\\ning any door handle switch and if PEPS detects that the smart key is left inside the vehicle, an audio warning/ chime is sounded.\\n\\nNOTE\\n\\nIf clutch pedal is pressed for more than 3 minutes, then release the clutch/brake pedal and again press clutch/brake pedal with start stop button to crank the engine.')"
            ]
          },
          "metadata": {}
        },
        {
          "output_type": "display_data",
          "data": {
            "text/plain": [
              "(unstructured.documents.elements.CompositeElement,\n",
              " 'GEAR SHIFTING\\n\\nThe gearshift pattern is as shown on the gear lever knob. Gear shifting should al- ways be done with the clutch pedal fully pressed.\\n\\nNOTE\\n\\nGear recommendation is dis-played when the clutch pedal is fully re- leased.\\n\\nIf “F” is displayed in DIS of instru- ment cluster, it means ‘Fault’ condi- tion. Contact TATA MOTORS')"
            ]
          },
          "metadata": {}
        },
        {
          "output_type": "display_data",
          "data": {
            "text/plain": [
              "(unstructured.documents.elements.CompositeElement,\n",
              " 'Authorized Dealer/Service Center.\\n\\nPress the clutch fully when gear shifting. The reverse gear should be engaged only when the vehicle is stationary.\\n\\nUse the clutch only to shift gears and do not use it when vehicle is stationary on a slope, as the car will roll down due to gravity.\\n\\nIf all doors are closed when the ve- hicle is in ACC/IGN/RUN mode and if PEPS does not detect the smart key inside the car, then an audio warning is given.')"
            ]
          },
          "metadata": {}
        },
        {
          "output_type": "display_data",
          "data": {
            "text/plain": [
              "(unstructured.documents.elements.CompositeElement,\n",
              " 'Do not rest your hand on the shift lever during driving; Pressure trans- mitted from your hand may result in premature wear of the transaxle in- ternal gear shift mechanism\\n\\nREVERSE GEAR\\n\\nTo engage reverse gear, shift to reverse position as shown on the gear lever knob.\\n\\nSTARTING AND DRIVING\\n\\nDRIVING')"
            ]
          },
          "metadata": {}
        },
        {
          "output_type": "display_data",
          "data": {
            "text/plain": [
              "(unstructured.documents.elements.CompositeElement,\n",
              " 'Climbing Sharp Gradients On Loose Surfaces\\n\\nStart off smoothly in a suitable gear. Accel- erate smoothly so that there is no loss of traction by over-revving of the engine.\\n\\nChoose a smooth slope and select the ap- propriate gear so that gear changing in the middle of the climb is not required.\\n\\nChanging gears in the middle of the climb can cause loss of momentum and engine stalling. Shifting to lower gear has to be done cautiously to avoid loss of traction.')"
            ]
          },
          "metadata": {}
        },
        {
          "output_type": "display_data",
          "data": {
            "text/plain": [
              "(unstructured.documents.elements.CompositeElement,\n",
              " 'Under no conditions should the vehicle be moved diagonally across a hill. The dan- ger is in loss of traction and side-ways slip- page, possibly resulting in toppling over. If unavoidable, choose a mild angle and keep the vehicle moving.\\n\\nIf the tyres start to slip within few feet at the end of the climb, keep the vehicle sta- ble by steering left and right. It gives in- creased grip to the tyres.\\n\\nIf the vehicle stalls or losses headway while climbing a steep hill, make a quick\\n\\n123')"
            ]
          },
          "metadata": {}
        },
        {
          "output_type": "display_data",
          "data": {
            "text/plain": [
              "(unstructured.documents.elements.CompositeElement,\n",
              " 'STARTING AND DRIVING\\n\\nshift to reverse and allow the vehicle to move back with the help of engine brak- ing.\\n\\nDescending Sharp Gradients\\n\\nDepending on the severity of the gradient, shift into appropriate gear. Use engine braking judiciously without over-revving the engine.\\n\\nBrake gently in such situations.')"
            ]
          },
          "metadata": {}
        },
        {
          "output_type": "display_data",
          "data": {
            "text/plain": [
              "(unstructured.documents.elements.CompositeElement,\n",
              " 'WARNING\\n\\nWhen descending on sharp gradients, do not turn the ignition key to the ‘OFF’ position. The braking assist and steer- ing assist may malfunction and the emission control system may be dam- aged.\\n\\n124\\n\\nAUTOMATED MANUAL TRANSMIS- SION (AMT) (If fitted)\\n\\nTransmission (AMT) Gearbox offers a choice of three driving modes:\\n\\n1.\\n\\nAutomated mode with the gear lever in position ‘A’.\\n\\n2.\\n\\nManual mode with the gear lever in po- sition ‘M’.')"
            ]
          },
          "metadata": {}
        },
        {
          "output_type": "display_data",
          "data": {
            "text/plain": [
              "(unstructured.documents.elements.CompositeElement,\n",
              " 'Starting\\n\\n1.\\n\\nEngage the parking brake firmly. Press Brake pedal.\\n\\n2.\\n\\nPut the ignition ‘ON’\\n\\n3.\\n\\nWhile the brake pedal is pressed, bring the shifter lever to Neutral - ‘N’. Check ‘N on instrument cluster.\\n\\nCrank to start the engine with the brake pedal still pressed.\\n\\nNOTE\\n\\nIf push button is pressed with brake pedal is pressed and gear is in A mode, the vehicle will not start. It will start within 10 seconds if gear shifter is moved from A to N with the brake pedal\\n\\ncontinuously pressed.”')"
            ]
          },
          "metadata": {}
        },
        {
          "output_type": "display_data",
          "data": {
            "text/plain": [
              "(unstructured.documents.elements.CompositeElement,\n",
              " 'Stopping\\n\\nThe vehicle can be stopped by depressing the brake pedal regardless of the gear po- sition. This is because the clutch is auto- the matically disengaged engine from stalling.\\n\\nto prevent\\n\\nIf the gearshift lever is in the ‘A’ position, the gear will be down shifted to ‘1st’ when the vehicle stops. Also, if the gearshift lever is in the ‘M’ position, the gear will be down shifted to ‘1st’ when the vehicle stops.')"
            ]
          },
          "metadata": {}
        },
        {
          "output_type": "display_data",
          "data": {
            "text/plain": [
              "(unstructured.documents.elements.CompositeElement,\n",
              " 'NOTE\\n\\n‘Auto’ mode will give optimum engine Torque and Power output. Drive the ve- hicle in ‘Auto’ mode to get max fuel economy. Exhaust fan in the engine compartment will remain ‘ON’ for a short while after IGN is switched ‘OFF’.\\n\\nGear Shifter Driving Modes\\n\\nNeutral\\n\\nVehicle is in neutral gear position. This will\\n\\nbe indicated\\n\\non instrument cluster.')"
            ]
          },
          "metadata": {}
        },
        {
          "output_type": "display_data",
          "data": {
            "text/plain": [
              "(unstructured.documents.elements.CompositeElement,\n",
              " 'WARNING\\n\\nAlways make sure to keep the gear shift lever in the “N” position, when the engine is running and vehicle is stationary.\\n\\nDo not shift the lever in “N” position, even momentarily, when the vehicle\\n\\nSTARTING AND DRIVING\\n\\nis in motion.\\n\\nReverse\\n\\nReverse gear will be engaged only when vehicle is stationary and brake pedal pressed. An audio signal indicates when\\n\\nreverse gear is engaged. cated on instrument cluster.\\n\\nwill be indi-\\n\\n125\\n\\nSTARTING AND DRIVING')"
            ]
          },
          "metadata": {}
        },
        {
          "output_type": "display_data",
          "data": {
            "text/plain": [
              "(unstructured.documents.elements.CompositeElement,\n",
              " 'Auto Mode\\n\\nAuto mode will be engaged only when ve- hicle is stationary and brake pedal pressed. An audio signal indicates when\\n\\nAutomatic gear is engaged. dicated in instrument cluster.\\n\\nwill be in-\\n\\nGear Upshift and Downshift will be done automatically while driving.\\n\\n126')"
            ]
          },
          "metadata": {}
        },
        {
          "output_type": "display_data",
          "data": {
            "text/plain": [
              "(unstructured.documents.elements.CompositeElement,\n",
              " 'Manual Mode\\n\\nShift gear lever to left for engaging manual mode. An audio signal indicates when\\n\\nmanual mode is engaged. dicated in instrument cluster.\\n\\nwill be in-\\n\\nIn manual mode, driver should select the desired gear by shifting lever to,')"
            ]
          },
          "metadata": {}
        },
        {
          "output_type": "display_data",
          "data": {
            "text/plain": [
              "(unstructured.documents.elements.CompositeElement,\n",
              " '+ Upshift the gears.\\n\\nDownshift the gears.\\n\\nPush the gearshift lever to the ‘+’ direction and release it. Every time the lever is op- erated, upshifting takes place 1 step in the order of 1st > 2nd > 3rd > 4th > 5th gear.\\n\\nPull the gearshift lever to the ‘–’ direction and release it. Every time the lever is op- erated, downshifting takes place in the order 5th > 4th > 3rd > 2nd > 1st gear.\\n\\nNOTE')"
            ]
          },
          "metadata": {}
        },
        {
          "output_type": "display_data",
          "data": {
            "text/plain": [
              "(unstructured.documents.elements.CompositeElement,\n",
              " 'Down shifting of gear occurs automati- cally while braking/engine rpm reduc- tion.\\n\\nIn manual mode, gears are not shifted au- tomatically unless the engine RPM thresh- old is reached.')"
            ]
          },
          "metadata": {}
        },
        {
          "output_type": "display_data",
          "data": {
            "text/plain": [
              "(unstructured.documents.elements.CompositeElement,\n",
              " 'Creeping Feature\\n\\nCreeping function allows the car move- ment without accelerator Pedal pressed when the brake pedal is released.\\n\\nThis functionality is generally used in park- ing maneuvers, with 1st or ‘R’ gear en- gaged, in this situations the driver enters and exits from creeping just by pressing the Acc. pedal.')"
            ]
          },
          "metadata": {}
        },
        {
          "output_type": "display_data",
          "data": {
            "text/plain": [
              "(unstructured.documents.elements.CompositeElement,\n",
              " 'NOTE\\n\\nCreeping function will not operate when vehicle is in standstill condition on in- clined surface.\\n\\nCreep feature is enabled for Manual as well as Auto Mode for first and reverse gear.\\n\\nAfter vehicle cranking and brake pedal released vehicle starts moving without pressing accelerator Pedal.\\n\\nWhenever accelerator pedal is pressed creep function will be dis- abled.\\n\\nWhenever driver door is opened and / or parking brake is engaged, creep function will be disabled.')"
            ]
          },
          "metadata": {}
        },
        {
          "output_type": "display_data",
          "data": {
            "text/plain": [
              "(unstructured.documents.elements.CompositeElement,\n",
              " 'Kick Down Feature\\n\\nIn Automatic mode, while driving at a con- stant speed if the accelerator pedal is quickly pressed the AMT downshifts the gear (if required). It ensures optimum ac- celeration to complete overtaking in mini- mal time.\\n\\nSTARTING AND DRIVING')"
            ]
          },
          "metadata": {}
        },
        {
          "output_type": "display_data",
          "data": {
            "text/plain": [
              "(unstructured.documents.elements.CompositeElement,\n",
              " 'Driving\\n\\n1.\\n\\nWith the engine running and brake pedal pressed, depending on your re- quirement shift the lever on R, D or M. Check the position engaged on the In- strument Cluster display.\\n\\n2.\\n\\nRelease the parking brake.\\n\\n3.\\n\\nRelease the brake pedal and press the accelerator pedal gently.\\n\\nNOTE\\n\\nUse right foot only to operate brake or accelerator pedal. Do not operate accelerator and brake pedal simultaneously. Do not use your left leg to operate the pedals while driving AMT vehicle.')"
            ]
          },
          "metadata": {}
        },
        {
          "output_type": "display_data",
          "data": {
            "text/plain": [
              "(unstructured.documents.elements.CompositeElement,\n",
              " 'NOTE\\n\\nIf displayed on the Instrument Clus- ter display, it means ‘Fault condition. Contact a TATA MOTORS Authorized Service Centre immediately.\\n\\n127\\n\\nSTARTING AND DRIVING\\n\\nAmt Instruction Sticker\\n\\nFollow the instructions provided on the sticker before driving the vehicle.')"
            ]
          },
          "metadata": {}
        },
        {
          "output_type": "display_data",
          "data": {
            "text/plain": [
              "(unstructured.documents.elements.CompositeElement,\n",
              " 'Parking\\n\\nAMT does not have a parking position. The vehicle can be parked with the gearshift lever in any position.\\n\\n1.\\n\\nApply the parking brake firmly.\\n\\n2.\\n\\nPress the brake pedal and shift the gearshift lever to the ‘R’ position on a downhill slope, or to the Auto ‘A’ mode or the ‘M’ position in the manual ‘M’ mode on an uphill slope or flat road\\n\\n128')"
            ]
          },
          "metadata": {}
        },
        {
          "output_type": "display_data",
          "data": {
            "text/plain": [
              "(unstructured.documents.elements.CompositeElement,\n",
              " 'and confirm the gear position by checking the gear position indicator on instrument cluster. Gear engagement (R or A) can be done with ignition ON/engine running condition only.\\n\\n3.\\n\\nTurn the key to ‘ACC’ position to switch off the engine. Before switching off the engine, run the engine in idle condition for at least 30 seconds and then switch off. This will allow the engine oil to lu- bricate the turbocharger, till its speed is fully reduced and also allow the unit to cool down.')"
            ]
          },
          "metadata": {}
        },
        {
          "output_type": "display_data",
          "data": {
            "text/plain": [
              "(unstructured.documents.elements.CompositeElement,\n",
              " 'WARNING\\n\\nA quick burst on the accelerator before turning off the engine serves absolutely no practical purpose, it wastes fuel and is damaging especially to turbocharged engine.\\n\\nWARNING\\n\\nDo not switch the engine off when it is running at high speed. This will lead to premature turbocharger bearing wear.')"
            ]
          },
          "metadata": {}
        },
        {
          "output_type": "display_data",
          "data": {
            "text/plain": [
              "(unstructured.documents.elements.CompositeElement,\n",
              " 'NOTE\\n\\nThe AMT vehicle will shift itself into Neutral as a precautionary measure, if the vehicle is stationary and one or both of the front wheels spin on a low friction surface (e.g. Snow, mud, soft sand etc). AMT symbol will glow in the instrument cluster indicating an intervention from the Transmission Control Unit. Following steps need to be carried out sequentially in order to manoeuvre the vehicle in such a situation. 1.')"
            ]
          },
          "metadata": {}
        },
        {
          "output_type": "display_data",
          "data": {
            "text/plain": [
              "(unstructured.documents.elements.CompositeElement,\n",
              " 'Shift the gear shift lever to Neutral position and switch the ignition off.\\n\\n2.\\n\\nPress the brake pedal and crank the engine again.\\n\\n3.\\n\\nWith the engine running, shift the gear position in Auto mode.\\n\\n4.\\n\\nMarch the vehicle with low input from the accelerator pedal as this will ensure that the wheels do not spin.\\n\\nDriving (AMT)')"
            ]
          },
          "metadata": {}
        },
        {
          "output_type": "display_data",
          "data": {
            "text/plain": [
              "(unstructured.documents.elements.CompositeElement,\n",
              " 'Climbing Sharp Gradients\\n\\nApply the parking brake firmly so that the vehicle does not roll backwards.\\n\\nShift the gearshift lever to the “A” position while depressing the brake pedal. Make sure that the gear position indicator in the instrument cluster displays ‘1st’ gear.\\n\\nRelease the brake pedal and depress the accelerator pedal gradually, and when the vehicle starts to move, release the parking brake and depress the accelerator pedal to start off.')"
            ]
          },
          "metadata": {}
        },
        {
          "output_type": "display_data",
          "data": {
            "text/plain": [
              "(unstructured.documents.elements.CompositeElement,\n",
              " 'On climbing sharp gradients, never hold the vehicle at a stop using only the accel- erator pedal or the creeping function. If you perform this operation for a certain pe- riod of time, this can also cause excessive damage to the clutch.')"
            ]
          },
          "metadata": {}
        },
        {
          "output_type": "display_data",
          "data": {
            "text/plain": [
              "(unstructured.documents.elements.CompositeElement,\n",
              " 'WARNING\\n\\nTry not to hold the brake pedal down too long or too often while going down a steep or long hill.\\n\\nThis could cause the brakes to over- heat, resulting in reduced braking effi- ciency. Failure to take this precaution could result in loss of vehicle control.')"
            ]
          },
          "metadata": {}
        },
        {
          "output_type": "display_data",
          "data": {
            "text/plain": [
              "(unstructured.documents.elements.CompositeElement,\n",
              " 'Descending Sharp Gradients\\n\\nDepress the brake pedal and shift the gear shift lever to the ‘A’ position. Make sure that the gear position indicator in the in- strumental cluster displays ‘1st’ gear.\\n\\nRelease the brake pedal and depress the accelerator pedal slowly. Even if the accel- erator pedal is not depressed, the clutch will be engaged when the vehicle speed increases.')"
            ]
          },
          "metadata": {}
        },
        {
          "output_type": "display_data",
          "data": {
            "text/plain": [
              "(unstructured.documents.elements.CompositeElement,\n",
              " 'WARNING\\n\\nWhen descending on sharp gradients, NEVER turn the ignition key to the ‘OFF’ position. Emission control system damage may result.\\n\\nSTARTING AND DRIVING\\n\\nSTARTING THE ENGINE\\n\\nMake sure that parking brake is engaged and vehicle is in neutral gear.\\n\\nPress the clutch pedal fully and crank the engine. Do not press the accelerator pedal when starting the engine.\\n\\nRelease the key as soon as the engine starts. Repeat if engine does not start.')"
            ]
          },
          "metadata": {}
        },
        {
          "output_type": "display_data",
          "data": {
            "text/plain": [
              "(unstructured.documents.elements.CompositeElement,\n",
              " 'WARNING\\n\\nThe engine emits poisonous exhaust gases such as carbon monoxide. Inhal- ing these exhaust gases leads to poi- soning. There is a risk of serious health problems. Therefore, never leave the engine running in enclosed spaces without sufficient ventilation.\\n\\nNOTE\\n\\nAfter starting, run the engine in idle speed for at least 30 seconds. Do not press accelerator pedal while starting the engine to avoid damage to tur- bocharger.\\n\\n129\\n\\nSTARTING AND DRIVING')"
            ]
          },
          "metadata": {}
        },
        {
          "output_type": "display_data",
          "data": {
            "text/plain": [
              "(unstructured.documents.elements.CompositeElement,\n",
              " 'BRAKING\\n\\nYour vehicle has vacuum assisted brakes.\\n\\nThe distance needed to bring the vehicle to a halt increases with the speed of the vehicle. Start applying brake anticipating the distance and slow down gradually.')"
            ]
          },
          "metadata": {}
        },
        {
          "output_type": "display_data",
          "data": {
            "text/plain": [
              "(unstructured.documents.elements.CompositeElement,\n",
              " 'WARNING\\n\\nDo not use the brake pedal as a footrest.\\n\\nIf you rest your foot on the brake pedal while driving, the braking sys- tem can overheat and cause fading of brake pads. This in-creases the stopping distance and can even cause the braking system to fail. There is a risk of an accident.\\n\\nDo not press the brake pedal and the accelerator pedal at the same time.')"
            ]
          },
          "metadata": {}
        },
        {
          "output_type": "display_data",
          "data": {
            "text/plain": [
              "(unstructured.documents.elements.CompositeElement,\n",
              " 'If you have driven for a long time in heavy rain without braking, there may be a de- layed reaction from the brakes when you brake for the first time. This may also occur after the vehicle has been washed.\\n\\n130\\n\\nBrake performance may become poor and unpredictable if brakes are wet.')"
            ]
          },
          "metadata": {}
        },
        {
          "output_type": "display_data",
          "data": {
            "text/plain": [
              "(unstructured.documents.elements.CompositeElement,\n",
              " 'After you drive through water or if you wash the underside of the vehicle, test the brakes at slow speeds to see if the brakes work fine. If the brakes are less effective than normal, dry them by repeatedly ap- plying the brakes at slow speeds until the brakes have regained their normal effec- tiveness.\\n\\nCheck traffic conditions before doing the above activity.')"
            ]
          },
          "metadata": {}
        },
        {
          "output_type": "display_data",
          "data": {
            "text/plain": [
              "(unstructured.documents.elements.CompositeElement,\n",
              " 'Braking On Downhill Gradients\\n\\nWhen you drive on downhill slopes, re- duce the load on the brakes by shifting to a lower gear. This is called as engine brak- ing and aids to reduce overheating and wear of brakes.\\n\\nWARNING\\n\\nDo not shift to lower gears on a slip- pery road surface to in-crease the engine’s braking effect. By doing so, the tyres could lose their grip.\\n\\nThere is an increased danger of skidding and accidents.\\n\\nDRIVE MODE')"
            ]
          },
          "metadata": {}
        },
        {
          "output_type": "display_data",
          "data": {
            "text/plain": [
              "(unstructured.documents.elements.CompositeElement,\n",
              " 'Drive mode selection\\n\\nThese modes can be used to adjust en- gine characteristics and vehicle perform- ance in line with desired requirement.\\n\\nDrive mode selection switch is provided on center console for activation.\\n\\nAccording Engine type the car is equipped with ‘City’ (Default) and ‘Eco’.\\n\\nCity is being default mode in each ignition cycle.\\n\\nDrive Mode\\n\\nCITY')"
            ]
          },
          "metadata": {}
        },
        {
          "output_type": "display_data",
          "data": {
            "text/plain": [
              "(unstructured.documents.elements.CompositeElement,\n",
              " 'ECO\\n\\nPerformance Increased engine Torque and Power output for BAL- ANCED perform- ance Optimum engine Torque and Power output for FUEL EFFICIENT per- formance\\n\\nSTARTING AND DRIVING\\n\\nCURRENT GEAR INDICATION\\n\\nThe Driver Information display (DIS) in the Instrument Cluster indicates the current gear position engaged.\\n\\nor\\n\\n.\\n\\n131\\n\\nSTARTING AND DRIVING\\n\\nGEAR RECOMMENDATION\\n\\nUp or down arrow will be displayed in DIS, recommending whenever gear should be shifted to up or down\\n\\nor\\n\\n.\\n\\n132')"
            ]
          },
          "metadata": {}
        },
        {
          "output_type": "display_data",
          "data": {
            "text/plain": [
              "(unstructured.documents.elements.CompositeElement,\n",
              " 'IDLE STOP START (ISS) (if avail- able)\\n\\nIdle Stop Start system is a Green Environ- ment initiative.\\n\\nYour vehicle is equipped with fuel saving ISS feature to shut off the engine to con- serve fuel and emit less carbon dioxide.\\n\\nISS function\\n\\nSTARTING AND DRIVING\\n\\n133\\n\\nSTARTING AND DRIVING')"
            ]
          },
          "metadata": {}
        },
        {
          "output_type": "display_data",
          "data": {
            "text/plain": [
              "(unstructured.documents.elements.CompositeElement,\n",
              " 'Working\\n\\nStarting the vehicle initially will be by con- ventional method (key start or push button start). When the vehicle is stationary and engine is idle (in a traffic light, traffic jam, toll gate, etc.) it will turn-off automatically. When the clutch pedal is pressed, the en- gine will restart automatically. Engine may also restart automatically without Clutch pedal press due to other preconditions which are captured below.')"
            ]
          },
          "metadata": {}
        },
        {
          "output_type": "display_data",
          "data": {
            "text/plain": [
              "(unstructured.documents.elements.CompositeElement,\n",
              " 'Sequence Of Functions\\n\\n1.\\n\\nVehicle started through Ignition key or Push button switch.\\n\\n2.\\n\\nVehicle is in standstill and Engine is running.\\n\\n3.\\n\\nVehicle moves forward and exceeds speed threshold values.\\n\\n4.\\n\\nWhen vehicle is to be stopped (sce- nario: Red signal), press the brake and then, press the clutch. The vehicle comes to a halt. Shift the gear to neu- tral and release the clutch. Engine will be automatically stopped.\\n\\n5.\\n\\nWhen you want to move (Scenario:\\n\\n134')"
            ]
          },
          "metadata": {}
        },
        {
          "output_type": "display_data",
          "data": {
            "text/plain": [
              "(unstructured.documents.elements.CompositeElement,\n",
              " 'Green signal), Press Clutch pedal to start.\\n\\n6.\\n\\nEngine will automatically start when Clutch is pressed fully.\\n\\nThis system enables the ISS functions au- tomatically when Ignition is turned ON. If you do not want to use this feature, you can switch it off by pressing the ISS OFF switch provided in the vehicle.')"
            ]
          },
          "metadata": {}
        },
        {
          "output_type": "display_data",
          "data": {
            "text/plain": [
              "(unstructured.documents.elements.CompositeElement,\n",
              " 'Following Conditions Will Prevent Iss Function Standby / Not Enabled\\n\\nEngine hood (bonnet) is open\\n\\nReverse Gear is engaged.\\n\\nOutside temperature is too low or too high\\n\\nBattery system is unhealthy\\n\\nEngine coolant temperature is too low\\n\\nDriver presence is not detected (Seat\\n\\nbelt is not fastened)\\n\\nDriver door is open\\n\\nAny system fault\\n\\nWarning light will be displayed on the in- strument cluster to indicate the heathy sta- tus of this function.')"
            ]
          },
          "metadata": {}
        },
        {
          "output_type": "display_data",
          "data": {
            "text/plain": [
              "(unstructured.documents.elements.CompositeElement,\n",
              " 'Special Feature Of Automatic Restart\\n\\nThis system is equipped with a special fea- ture of Automatic Restart. Under certain conditions, the Engine will automatically restart on its own in order to meet your Safety and Comfort requirements.\\n\\nThis can occur especially when the vehicle is standstill and following conditions oc- curred,\\n\\nBattery is being discharged too low.\\n\\nVehicle started rolling forwards/ back- wards\\n\\nBrake has been pressed repeatedly for several times/brake Pressure too low')"
            ]
          },
          "metadata": {}
        },
        {
          "output_type": "display_data",
          "data": {
            "text/plain": [
              "(unstructured.documents.elements.CompositeElement,\n",
              " 'When the Cabin temperature is too hot/too cold\\n\\nDefrost button is pressed')"
            ]
          },
          "metadata": {}
        },
        {
          "output_type": "display_data",
          "data": {
            "text/plain": [
              "(unstructured.documents.elements.CompositeElement,\n",
              " 'NOTE\\n\\nYour vehicle is equipped with ISS function which may automatically Stop and Restart the engine. Do not panic and follow the messages on the display to understand the event.\\n\\nUse an alternator that has been ap- proved by Tata Motors. Otherwise your ISS function may not work. Contact nearest Tata Motors author- ized dealer for alternator replace- ment.\\n\\nISS will be available only when dri- ver’s seat belt is fastened at all times.')"
            ]
          },
          "metadata": {}
        },
        {
          "output_type": "display_data",
          "data": {
            "text/plain": [
              "(unstructured.documents.elements.CompositeElement,\n",
              " 'Use a battery that has been ap- proved by Tata Motors. Otherwise your ISS function may not work as intended. Contact nearest Tata Mo- tors authorised dealer for battery re- placement or any issues in battery.\\n\\nISS function may not be active when the Safety (Example: Seat Belt) and Comfort (Example: AC in high demand) conditions are not\\n\\nmet. Do not panic and follow the messages on the display to under- stand the event.')"
            ]
          },
          "metadata": {}
        },
        {
          "output_type": "display_data",
          "data": {
            "text/plain": [
              "(unstructured.documents.elements.CompositeElement,\n",
              " 'Do not remove the Battery Sensor from Battery. Removal of Battery sensor will result loss of function. Function will be automatically re- stored when the vehicle is parked for a period of three hours.\\n\\nIn the event of traffic, ISS function may work with delay in auto-stop which is intended logic.\\n\\nUse a battery sensor that has been approved by Tata Motors. Otherwise your ISS function may not work as intended. Contact nearest Tata Mo- tors authorized dealer for battery sensor replacement.')"
            ]
          },
          "metadata": {}
        },
        {
          "output_type": "display_data",
          "data": {
            "text/plain": [
              "(unstructured.documents.elements.CompositeElement,\n",
              " 'Engine will be automatically started again when the following safety con- ditions are met: driver presence, gear in neutral, bonnet and doors should be closed. In case if any of these criteria are not met, a mes- sage will pop-up on the screen to in\\n\\nSTARTING AND DRIVING\\n\\ndicate the user to start the car man- ually.\\n\\nTo fill up fuel, the engine must be stopped by turning OFF the ignition key / ISS button.\\n\\nSwitch the engine off before you perform any operation in the engine compartment.\\n\\n135')"
            ]
          },
          "metadata": {}
        },
        {
          "output_type": "display_data",
          "data": {
            "text/plain": [
              "(unstructured.documents.elements.CompositeElement,\n",
              " 'STARTING AND DRIVING\\n\\nFrequently Asked Questions\\n\\n1. What are the advantages of this fea- ture? This feature helps to reduce the fuel con- sumption, CO2 emission by automatically shutting down the Engine when the Vehi- cle is in standstill conditions like traffic sig- nal, Traffic jam, etc.\\n\\n2. When the Vehicle is in Engine Idle stop start Phase, how can I start the Ve- hicle to move? Simply press the Clutch fully down to Start the Vehicle. No need to use Key / Push Start Switch.')"
            ]
          },
          "metadata": {}
        },
        {
          "output_type": "display_data",
          "data": {
            "text/plain": [
              "(unstructured.documents.elements.CompositeElement,\n",
              " '3. Can I start the Engine only by press- ing the Clutch Pedal for the first time when I enter in Vehicle? No. Always the first start has to be through Ignition Key or Push button.\\n\\n4. How can I activate / deactivate this feature? This feature will be active as default when Ignition is ON. If you wish to switch it OFF, press the ISS switch.\\n\\n136\\n\\n5. Whether AC will work when the En- gine is in Idle stop start mode?')"
            ]
          },
          "metadata": {}
        },
        {
          "output_type": "display_data",
          "data": {
            "text/plain": [
              "(unstructured.documents.elements.CompositeElement,\n",
              " 'No. AC function will not be available when the Engine is in Idle stop start mode. Only Blower will be functional.\\n\\n6. How to start the Engine if feeling too hot / too cold when Engine is in Idle stop start mode? In the event of higher temperature differ- ence, Engine will automatically restart without any user input. As an alternate user can start the Vehicle by pressing the Clutch pedal fully.')"
            ]
          },
          "metadata": {}
        },
        {
          "output_type": "display_data",
          "data": {
            "text/plain": [
              "(unstructured.documents.elements.CompositeElement,\n",
              " '7. What will happen If press the Clutch continuously in traffic signals? System will not shut down the Engine au- tomatically when the Clutch is pressed continuously.\\n\\n8. Whether I am allowed to crank the Vehicle normally when the system is in Idle stop start mode? Yes. You can perform the normal cranking by switching off and Switch ON the Ignition Key / Push button.\\n\\n9. Whether the vehicle will stop and')"
            ]
          },
          "metadata": {}
        },
        {
          "output_type": "display_data",
          "data": {
            "text/plain": [
              "(unstructured.documents.elements.CompositeElement,\n",
              " 'restart when the Vehicle in Gear condi- tion?\\n\\nNo. Idle Stop and Start function will not work when the Gear level is not in Neutral.\\n\\nSmart Alternator Management\\n\\nSmart Alternator management (applicable if equipped with Intelligent Alternator Con- trol feature) – a Green Environment initia- tive.\\n\\nYour vehicle is equipped with fuel saving smart alternator management system to recuperate the brake energy to charge the Battery to help conserve fuel, CO2.')"
            ]
          },
          "metadata": {}
        },
        {
          "output_type": "display_data",
          "data": {
            "text/plain": [
              "(unstructured.documents.elements.CompositeElement,\n",
              " 'Working\\n\\nWhen the Vehicle is running, if the accel- eration demand is higher than threshold, smart alternator management system will allow the Battery discharge to reduce the load on the Engine.\\n\\nWhen the Vehicle is in deceleration and the accelerator demand is lower than threshold, smart alternator management system recuperates the brake energy and charges the Battery.\\n\\nBattery discharge and charge behavior is dynamic behavior during the Vehicle run- ning.')"
            ]
          },
          "metadata": {}
        },
        {
          "output_type": "display_data",
          "data": {
            "text/plain": [
              "(unstructured.documents.elements.CompositeElement,\n",
              " 'Following Conditions Will Prevent Smart Alternator Function Standby / Not Enabled\\n\\nHead Lamp ON (Low / High)\\n\\nBattery System is unhealthy\\n\\nAny System fault.\\n\\nAlternator function\\n\\nSTARTING AND DRIVING\\n\\n137\\n\\nSTARTING AND DRIVING')"
            ]
          },
          "metadata": {}
        },
        {
          "output_type": "display_data",
          "data": {
            "text/plain": [
              "(unstructured.documents.elements.CompositeElement,\n",
              " 'Frequently Asked Questions\\n\\n1. What are the advantages of this fea- ture? This feature helps to reduce the fuel con- sumption, CO2 emission by balancing the Battery discharge and charge during the Vehicle running.\\n\\n2. Do I need to adjust my driving pat- tern to enable this function? No. This smart function will automatically perform this smart alternator function and adjust to your driving pattern.')"
            ]
          },
          "metadata": {}
        },
        {
          "output_type": "display_data",
          "data": {
            "text/plain": [
              "(unstructured.documents.elements.CompositeElement,\n",
              " '3. Is there any issue to my Battery charging due to this function when I follow aggressive driving cycle? No. This smart function is capable enough to manage the Battery charging according to your drive cycle.\\n\\n4. Do I see any variation in my head lamp performance when the Battery charge / discharge behavior which is dynamic? No. This smart function will accommodate the charge / discharge behavior according to the head lamp status.\\n\\n138')"
            ]
          },
          "metadata": {}
        },
        {
          "output_type": "display_data",
          "data": {
            "text/plain": [
              "(unstructured.documents.elements.CompositeElement,\n",
              " '5. Do I see any perceivable variation in my system function when this function executed? No. This smart function won’t create any functional issue to the vehicle sys-tem. You may see some difference in air flow of blower when it is in higher speed when this function is active. But this won’t affect the quality of the vehicle function.\\n\\nWARNING\\n\\nDeactivate the Idle Stop Start (ISS) function for any operation to be per- formed in the Engine compartment.')"
            ]
          },
          "metadata": {}
        },
        {
          "output_type": "display_data",
          "data": {
            "text/plain": [
              "(unstructured.documents.elements.CompositeElement,\n",
              " 'PARKING BRAKE\\n\\nMechanical parking brake acting on the rear wheels is provided on the vehicle.\\n\\nParking brake applied\\n\\nTo apply the parking brake, pull the lever up fully. The parking brake tell-tale light comes on in the instrument cluster.\\n\\nParking brake released\\n\\nTo release it, pull the lever up slightly, press the release button and push the lever down. The parking brake tell-tale in the instrument cluster will turn ‘OFF’ when the lever is fully released.')"
            ]
          },
          "metadata": {}
        },
        {
          "output_type": "display_data",
          "data": {
            "text/plain": [
              "(unstructured.documents.elements.CompositeElement,\n",
              " 'NOTE\\n\\nApply the parking brake properly before leaving the vehicle and release it before moving.\\n\\nVEHICLE PARKING\\n\\nPark the vehicle in a safe place. Switch on the indicator signal before turning to park.\\n\\nApply the parking brake.\\n\\nMake sure that all window glasses are closed and all lamps are turned ‘OFF’.\\n\\nAt night, put on the parking lights if re- quired.\\n\\nRemove the key from the ignition switch and lock the vehicle.\\n\\nUse wheel chocks if the vehicle is parked on a slope.')"
            ]
          },
          "metadata": {}
        },
        {
          "output_type": "display_data",
          "data": {
            "text/plain": [
              "(unstructured.documents.elements.CompositeElement,\n",
              " 'NOTE\\n\\nWhen parking on a downhill gradient, place the gear lever in ‘Reverse’ position. While parking on up- hill gradient, place the gear lever in the ‘1st’ position.\\n\\nWARNING\\n\\nNever leave children unsupervised in the parked vehicle. They could also op\\n\\nSTARTING AND DRIVING\\n\\nerate the vehicle’s equipment. There is a risk of an accident and injury.')"
            ]
          },
          "metadata": {}
        },
        {
          "output_type": "display_data",
          "data": {
            "text/plain": [
              "(unstructured.documents.elements.CompositeElement,\n",
              " 'NOTE\\n\\nDo not use parking brake for braking unless unavoidable circumstances like when service brake is not working prop- erly. The braking distance is consider- ably longer and the wheels could lock. There is an increased danger of skid- ding and accidents.\\n\\n139\\n\\nSTARTING AND DRIVING')"
            ]
          },
          "metadata": {}
        },
        {
          "output_type": "display_data",
          "data": {
            "text/plain": [
              "(unstructured.documents.elements.CompositeElement,\n",
              " 'REVERSE PARK ASSIST WITH SENSOR (if available)\\n\\nReverse Park Assist system is an elec- tronic parking aid that will assist you to park your vehicle safely when in reverse gear mode. It provides audio and visual in- formation through the vehicles infotain- ment system.\\n\\nAlways look out for kids, pets and elderly people behind the vehicle before revers- ing.\\n\\nThere are ultrasonic sensors placed on the rear bumper. Number of sensors may vary depending on the variant.')"
            ]
          },
          "metadata": {}
        },
        {
          "output_type": "display_data",
          "data": {
            "text/plain": [
              "(unstructured.documents.elements.CompositeElement,\n",
              " 'Once the system is activated, the sensors will detect how near the obstacle is from\\n\\n140\\n\\nthe bumper, and this information would be displayed on the vehicle’s infotainment system. In base variants, only audio warn- ing shall be given through a buzzer.\\n\\nWARNING\\n\\nDue to ultrasonic sensor technology limitation, detection of obstacles from 0- 25 cm is not guaranteed.\\n\\nApproximate Distance From Bumper (in Cm) 25 – 40 41 – 80 81 – 120\\n\\nTone Information')"
            ]
          },
          "metadata": {}
        },
        {
          "output_type": "display_data",
          "data": {
            "text/plain": [
              "(unstructured.documents.elements.CompositeElement,\n",
              " 'Continuous Beep Fast Beep Slow Beep\\n\\nVariant where infotainment display is not present and audio warning is given through a buzzer, on activating the Re- verse Park Assist system, a tone will be played within first two seconds to indicate the proper functioning of the system. After these two seconds, normal functioning of the system will continue. If no tone is heard for first two seconds, it shall mean')"
            ]
          },
          "metadata": {}
        },
        {
          "output_type": "display_data",
          "data": {
            "text/plain": [
              "(unstructured.documents.elements.CompositeElement,\n",
              " 'that RPAS system is faulty. The owner should, in that case, go to the nearest dealer for rectification.\\n\\nPark Assist Indications\\n\\nIn case reverse park assist system mal- functions, the following message may ap- pear on the infotainment screen.\\n\\nReason for this fault may be\\n\\n1.\\n\\nPark Assist Controller / Body Control Module Failure”\\n\\n2.\\n\\nSensor Malfunction\\n\\n3.\\n\\nPartner component such as Reverse park assist system is failure.')"
            ]
          },
          "metadata": {}
        },
        {
          "output_type": "display_data",
          "data": {
            "text/plain": [
              "(unstructured.documents.elements.CompositeElement,\n",
              " 'Operation\\n\\nThe reverse park assist system can also be activated manually through infotain- ment screen. Display will be seen on info- tainment screen.')"
            ]
          },
          "metadata": {}
        },
        {
          "output_type": "display_data",
          "data": {
            "text/plain": [
              "(unstructured.documents.elements.CompositeElement,\n",
              " 'Reverse Park Assist Limitations\\n\\nReverse Park Assist system is not a colli- sion avoiding system. It is solely the driver’s responsibility to park the vehicle safely.\\n\\nReverse Park Assist feature works on ultra sound echo technology, due to which per- formance is not guaranteed in following scenarios:\\n\\nIf the object has a sharp edge surface, where surface may divert echoes from sensor reception.\\n\\nIf object is mesh fence made up of thin wires, where echoes can’t be given by the surface.')"
            ]
          },
          "metadata": {}
        },
        {
          "output_type": "display_data",
          "data": {
            "text/plain": [
              "(unstructured.documents.elements.CompositeElement,\n",
              " 'Fast moving objects passes in the sen- sor’s field of detection, where echoes are not processed by the system.\\n\\nIf object is made/covered by foam or sponge or snow where ultrasonic sound signals are absorbed.\\n\\nObjects close to the rear bumper can go undetected by the Reverse Park field of detection. Driver Assist’s should use extreme caution while\\n\\nparking the vehicle.\\n\\nIf height of the bumper is changed due to alteration to the suspension or other causes')"
            ]
          },
          "metadata": {}
        },
        {
          "output_type": "display_data",
          "data": {
            "text/plain": [
              "(unstructured.documents.elements.CompositeElement,\n",
              " 'If the sensor areas are extremely hot from direct sunlight or cold due to freezing weather.\\n\\nIf Sensors are covered by a hand, sticker, accessory, etc.\\n\\nIf ultrasonic noise is present around Vehicle due to other vehicle sensors, horn, engine, air braking system (large vehicles), Exhaust Fans, Wireless transmitters or mobile phones\\n\\nIf the vehicle speed exceeds 10kmph, the system will not warn you even though objects are detected, error message ‘Vehicle Speed is high, drive slowly!’ will appear.')"
            ]
          },
          "metadata": {}
        },
        {
          "output_type": "display_data",
          "data": {
            "text/plain": [
              "(unstructured.documents.elements.CompositeElement,\n",
              " 'Driving on uneven road surfaces e.g. Gravel, unpaved roads, Artificial Speed Breakers, or gradient.\\n\\nPoles of square/rectangular cross sec- tion might not be detected\\n\\nSTARTING AND DRIVING\\n\\nWARNING\\n\\nDue to any reason, if the sensor gets misaligned or loses its intended fitment position, contact your dealer for refit- ment.\\n\\nNOTE\\n\\nTurning the ignition ‘OFF’ ‘while the park assist feature is active would disable it.')"
            ]
          },
          "metadata": {}
        },
        {
          "output_type": "display_data",
          "data": {
            "text/plain": [
              "(unstructured.documents.elements.CompositeElement,\n",
              " 'Reverse Park Assist System Preven- tive Maintenance\\n\\nRegularly clean the sensors and keep them free from dust, ice, mud, water, chewing gum etc. for proper working of the system. Use a smooth cloth for cleaning.\\n\\nDo not use water at high pressure for cleaning the sensor or camera.\\n\\nDo not cover the sensors surface with any additional fitment. This will inter- rupt park assist performance.\\n\\nDo not remove mud, snow on the sen- sors using stick or hard material. Use\\n\\n141\\n\\nSTARTING AND DRIVING')"
            ]
          },
          "metadata": {}
        },
        {
          "output_type": "display_data",
          "data": {
            "text/plain": [
              "(unstructured.documents.elements.CompositeElement,\n",
              " 'normal water and soft cloth.')"
            ]
          },
          "metadata": {}
        },
        {
          "output_type": "display_data",
          "data": {
            "text/plain": [
              "(unstructured.documents.elements.CompositeElement,\n",
              " 'General Warning\\n\\n1.\\n\\nIn low light conditions, the screen may darken or image may appear faint.\\n\\n2.\\n\\nIf the tire sizes are changed, the posi- tion of the fixed guidelines dis-played on the screen may change.\\n\\n3.\\n\\nIn case of damage of the rear portion of the vehicle, Reverse Park Assist sensors position may change which causes wrong visual information on display. In case of damage make sure that Reverse Park Assist sensors are fitted properly at the intended location.\\n\\n4.')"
            ]
          },
          "metadata": {}
        },
        {
          "output_type": "display_data",
          "data": {
            "text/plain": [
              "(unstructured.documents.elements.CompositeElement,\n",
              " 'In case of uneven road conditions or uphill or downhill conditions, do not de- pend on Reverse Park Assist aid.\\n\\n5.\\n\\nDo not apply any kind of force on the reverse park assist sensors.\\n\\n6.\\n\\nAlways use rear view mirrors along with Reverse Park Assist for con-firm- ing the safety of the rear and the sur- rounding conditions.\\n\\n142')"
            ]
          },
          "metadata": {}
        },
        {
          "output_type": "display_data",
          "data": {
            "text/plain": [
              "(unstructured.documents.elements.CompositeElement,\n",
              " 'REAR VIEW CAMERA (if available)\\n\\nRear View Camera is a visual reverse guiding system. When reversing or park- ing, make sure that there are no persons, animals or objects in the area where you are reversing.\\n\\nDisplay screen\\n\\nActivation\\n\\nReverse gear\\n\\nThis system will start, if reverse gear is en- gaged, or park assist button (if available) is pressed or manual activation is done through Infotainment screen.')"
            ]
          },
          "metadata": {}
        },
        {
          "output_type": "display_data",
          "data": {
            "text/plain": [
              "(unstructured.documents.elements.CompositeElement,\n",
              " 'Deactivation\\n\\nSystem will stop, if reverse gear is disen- gaged, or park assist button (if available) is pressed.\\n\\nIf started through infotainment, the system can be stopped using a cross button on in-\\n\\nfotainment screen.\\n\\nUnderstanding Guidelines Indication\\n\\nGreen Line\\n\\nYou can safely reverse the vehicle, but be cautious if objects fall in this zone.\\n\\nYellow Line\\n\\nYou have to take utmost care if objects fall in this zone. However, the objects may not hit vehicle.')"
            ]
          },
          "metadata": {}
        },
        {
          "output_type": "display_data",
          "data": {
            "text/plain": [
              "(unstructured.documents.elements.CompositeElement,\n",
              " 'Red Line\\n\\nRed line indicates that you have to stop re- versing the vehicle. If you still go back- wards, the car will hit the obstacle.')"
            ]
          },
          "metadata": {}
        },
        {
          "output_type": "display_data",
          "data": {
            "text/plain": [
              "(unstructured.documents.elements.CompositeElement,\n",
              " 'Do’s And Don’t\\n\\nDo not use camera when tailgate is open. If tailgate is open, visual infor-\\n\\nmation may not be the actual rear view of the vehicle & system will warn with message ‘Tail Gate Open, Please close.\\n\\nWhen the camera is operated under fluorescent lights, sodium light or mer- cury light etc., illuminated areas on the lens may appear to flicker in the dis- play.')"
            ]
          },
          "metadata": {}
        },
        {
          "output_type": "display_data",
          "data": {
            "text/plain": [
              "(unstructured.documents.elements.CompositeElement,\n",
              " 'Do not attach any advertisement or styling or any kind of stickers on top of camera. If this happens, camera can- not provide you the visual image and it may damage the camera.\\n\\nDo not add any accessory, which will cause blockage to the camera’s field of view.')"
            ]
          },
          "metadata": {}
        },
        {
          "output_type": "display_data",
          "data": {
            "text/plain": [
              "(unstructured.documents.elements.CompositeElement,\n",
              " 'Cleaning Camera\\n\\n1.\\n\\nDue to environmental reasons like snow, dust, mud or fog may accumu- late on the camera lens. So regularly clean the camera lens.\\n\\n2.\\n\\nUse water to clean the camera lens. Do not use extreme cold or hot water. Rapid changes in temperature may brittle the camera lens. Do not apply\\n\\n3.\\n\\n4.\\n\\n5.\\n\\n6.\\n\\n7.\\n\\nSTARTING AND DRIVING')"
            ]
          },
          "metadata": {}
        },
        {
          "output_type": "display_data",
          "data": {
            "text/plain": [
              "(unstructured.documents.elements.CompositeElement,\n",
              " 'High Pressure water for cleaning.\\n\\nWipe the camera lens with soft cloth.\\n\\nDo not use hard cloth or material to wipe the camera lens. This will cause scratches on the camera, and leads to deteriorated visual image on the dis- play.\\n\\nDo not apply organic solvent, car wax, window cleaner or glass coat to clean the camera. If this is applied, wipe it off as soon as possible.\\n\\nDo not apply heavy force on lens, while cleaning.')"
            ]
          },
          "metadata": {}
        },
        {
          "output_type": "display_data",
          "data": {
            "text/plain": [
              "(unstructured.documents.elements.CompositeElement,\n",
              " 'Do not remove mud, snow on the cam- era lens using stick or hard material. Use normal water and soft cloth.\\n\\nWARNING\\n\\nThe camera uses fish eye lens. So the size of the objects or in the dis- play may differ from the actual size and distance.\\n\\nIn low light conditions, the screen may darken or image may appear faint.\\n\\n143')"
            ]
          },
          "metadata": {}
        },
        {
          "output_type": "display_data",
          "data": {
            "text/plain": [
              "(unstructured.documents.elements.CompositeElement,\n",
              " 'STARTING AND DRIVING\\n\\nIf the tire sizes are changed, the po- sition of the fixed guidelines dis- played on the screen may change.\\n\\nDuring rainy conditions, image may get obscured. In such conditions, do not depend on camera view. The camera used in the vehicle, may not reproduce the same color of the real object.')"
            ]
          },
          "metadata": {}
        },
        {
          "output_type": "display_data",
          "data": {
            "text/plain": [
              "(unstructured.documents.elements.CompositeElement,\n",
              " 'In case of damage of the rear por- tion of the vehicle, camera position may change. Which causes wrong visual information on display. In case of damage, make sure that, camera is fitted properly at the in- tended location.\\n\\nIn case of uneven road conditions or up-hill or downhill conditions, do not depend on rear view camera park aid.\\n\\nDo not apply any kind of force on the camera.\\n\\nAlways use rear View mirrors along with Rear View Camera for confirm- ing the safety of the rear and the\\n\\n144')"
            ]
          },
          "metadata": {}
        },
        {
          "output_type": "display_data",
          "data": {
            "text/plain": [
              "(unstructured.documents.elements.CompositeElement,\n",
              " 'surrounding conditions.\\n\\nHigh humidity and variation in ambi- ent temperature may result into con- densation inside the camera lens, which may further result into degra- dation of camera video feed on the screen. It is recommended that not to rely on camera video feed for parking assistance in such scenario. This phenomenon is temporary and will be automatically recovered with reduction in humidity and less vari- ation in ambient temperature.')"
            ]
          },
          "metadata": {}
        },
        {
          "output_type": "display_data",
          "data": {
            "text/plain": [
              "(unstructured.documents.elements.CompositeElement,\n",
              " 'The area displayed by the rear view camera is limited. The camera does not display objects that are close to or below the bumper, underneath the vehicle, or objects out of the camera’s field of view. The area dis- played on the screen may vary ac- cording to vehicle orientation or road conditions.\\n\\nRear View Camera System Precau- tions')"
            ]
          },
          "metadata": {}
        },
        {
          "output_type": "display_data",
          "data": {
            "text/plain": [
              "(unstructured.documents.elements.CompositeElement,\n",
              " 'Area Displayed On Screen\\n\\nThe rear view camera system displays an image of the view from the bumper of the rear area of the vehicle.\\n\\nThe area displayed on the screen may vary according to vehicle orientation conditions.\\n\\nObjects, which are close to either cor- ner of the bumper or under the bumper, cannot be seen on the screen.\\n\\nThe camera may not display items that are located higher than the camera’s field of view.\\n\\nWhen Sharp Up Gradient Behind The Vehicle\\n\\nSTARTING AND DRIVING')"
            ]
          },
          "metadata": {}
        },
        {
          "output_type": "display_data",
          "data": {
            "text/plain": [
              "(unstructured.documents.elements.CompositeElement,\n",
              " 'NOTE\\n\\nThe distance guidelines will appear to be closer to the vehicle than the actual distance. Because of this, objects will appear to be farther away than they ac- tually are. In the same way, there will be a margin of error between the guide- lines and the actual distance/course on the road.\\n\\nWhen Sharp Down Gradient Behind The Vehicle\\n\\n145\\n\\nSTARTING AND DRIVING')"
            ]
          },
          "metadata": {}
        },
        {
          "output_type": "display_data",
          "data": {
            "text/plain": [
              "(unstructured.documents.elements.CompositeElement,\n",
              " 'NOTE\\n\\nThe distance guidelines will appear to be further from the vehicle than the ac- tual distance. Because of this, objects will appear to be closer than they actually are. In the same way, there will be a margin of error between the guidelines and the actual distance/course on the road.\\n\\n146')"
            ]
          },
          "metadata": {}
        },
        {
          "output_type": "display_data",
          "data": {
            "text/plain": [
              "(unstructured.documents.elements.CompositeElement,\n",
              " 'When Any Part Of The Vehicle Sags\\n\\nWhen any part of the vehicle sags due to the number of passengers or the distribu- tion of the load, there is a margin of error between the fixed guide lines on the screen and the actual distance/course on the road.')"
            ]
          },
          "metadata": {}
        },
        {
          "output_type": "display_data",
          "data": {
            "text/plain": [
              "(unstructured.documents.elements.CompositeElement,\n",
              " 'When Approaching Three-dimensional Objects\\n\\nThe distance guidelines are displayed ac- cording to flat surfaced objects (such as the road). It is not possible to determine the position of three-dimensional objects (such as vehicles) using the distance guidelines. When approaching a three-di- mensional object.')"
            ]
          },
          "metadata": {}
        },
        {
          "output_type": "display_data",
          "data": {
            "text/plain": [
              "(unstructured.documents.elements.CompositeElement,\n",
              " 'a. Distance guidelines\\n\\nVisually check the surroundings and the area behind the vehicle. On the screen, it appears that a truck is parked at point B. However, in reality if you back up to point A, you will hit the truck. On the screen, it appears that A is closest and C is furthest away. However, in reality, the distance to A and C is the same, and B is further away from A and C.\\n\\nb. Vehicle width guidelines')"
            ]
          },
          "metadata": {}
        },
        {
          "output_type": "display_data",
          "data": {
            "text/plain": [
              "(unstructured.documents.elements.CompositeElement,\n",
              " 'STARTING AND DRIVING\\n\\nVisually check the surroundings and the area behind the vehicle. In the case shown below, the truck appears to be outside of the vehicle width guidelines and the vehi- cle does not look as if it hits the truck. However, the rear body of the truck may actually cross over the vehicle width guidelines. In reality if you back up as guided by the vehicle width guidelines, the vehicle may hit the truck.\\n\\n147\\n\\n148')"
            ]
          },
          "metadata": {}
        },
        {
          "output_type": "display_data",
          "data": {
            "text/plain": [
              "(unstructured.documents.elements.CompositeElement,\n",
              " 'EMERGENCY EQUIPMENT\\n\\nYou should be familiar with the location of the emergency equipment provided in the vehicle and how to use it.\\n\\nDo a check of this equipment periodically and make sure that they are in proper working condition and stowed at their lo- cations.\\n\\nFirst Aid Kit\\n\\nThe first aid kit is kept inside the glove box compartment.\\n\\nThe kit contains items that can be used in case of minor injuries only.')"
            ]
          },
          "metadata": {}
        },
        {
          "output_type": "display_data",
          "data": {
            "text/plain": [
              "(unstructured.documents.elements.CompositeElement,\n",
              " 'NOTE\\n\\nExamine contents of the first aid kit pe- riodically and replenish consumed or expired items.\\n\\nEMERGENCY AND BREAKDOWN ASSISTANCE\\n\\nTool Kit, Tow Hook, Jack And Spare Wheel\\n\\nNOTE\\n\\nThe jack should be used only to change wheels. It is important to read the in- structions in this section before attempt- ing to use the jack.\\n\\nAdvance Warning Triangle\\n\\nAn advance warning triangle is kept near spare wheel.\\n\\nTool kit and Jack are accommodated in Tool kit bag located in the rear boot.')"
            ]
          },
          "metadata": {}
        },
        {
          "output_type": "display_data",
          "data": {
            "text/plain": [
              "(unstructured.documents.elements.CompositeElement,\n",
              " 'Tool kit bag contains\\n\\nJack handle\\n\\nTow hook\\n\\nWheel spanner\\n\\nJack\\n\\n149\\n\\nEMERGENCY AND BREAKDOWN ASSISTANCE\\n\\nNOTE\\n\\nAfter using the warning triangle tie it firmly and keep it inside the bag to avoid rattling noise.')"
            ]
          },
          "metadata": {}
        },
        {
          "output_type": "display_data",
          "data": {
            "text/plain": [
              "(unstructured.documents.elements.CompositeElement,\n",
              " 'Hazard Warning Switch\\n\\nUse advance warning triangle to warn the approaching traffic in case of vehicle break-down or during emergency, where your vehicle could become a potential traf- fic hazard.\\n\\nKeep the warning triangle at an approxi- mate distance of 50-150 m behind your vehicle in the same lane of traffic. The re- flecting side of the triangle should face the oncoming traffic and it should be free from any obstacles.')"
            ]
          },
          "metadata": {}
        },
        {
          "output_type": "display_data",
          "data": {
            "text/plain": [
              "(unstructured.documents.elements.CompositeElement,\n",
              " 'Press the hazard warning switch to acti- vate the hazard warning. All the turn signal lamps will flash simultaneously. To turn OFF, press the switch again.\\n\\nRemove the advance warning triangle carefully from the bag and assemble. Refer instructions given on the bag.\\n\\nUse the hazard warning to warn the traffic during emergency parking or when your vehicle could otherwise become a traffic\\n\\n150\\n\\nhazard.\\n\\nThe hazard warning lamps can operate even if the ignition is switched off.\\n\\nSPARE PROCESS')"
            ]
          },
          "metadata": {}
        },
        {
          "output_type": "display_data",
          "data": {
            "text/plain": [
              "(unstructured.documents.elements.CompositeElement,\n",
              " 'WHEEL\\n\\nREMOVAL\\n\\nTo access the spare wheel, operate live hinge by rotating the part at upside from live hinge lift the carpet up.\\n\\nAfter lifting, hold the carpet to access the spare wheel.\\n\\nRemove the Tool kit bag along with contents.\\n\\nTo remove the spare wheel, unscrew and remove the retaining bolt.\\n\\nEMERGENCY AND BREAKDOWN ASSISTANCE')"
            ]
          },
          "metadata": {}
        },
        {
          "output_type": "display_data",
          "data": {
            "text/plain": [
              "(unstructured.documents.elements.CompositeElement,\n",
              " 'IN CASE OF FLAT TYRE\\n\\nReduce vehicle speed gradually, Avoid sudden steering movement or braking.\\n\\nPay attention to the traffic conditions as you do so.\\n\\nSwitch on the hazard warning lamps.\\n\\nIf possible, bring the front wheels into the straight-ahead position.\\n\\nStop the vehicle on solid, non-slippery and level ground, as far away as pos- sible from traffic.\\n\\nSet the parking brake firmly and shift into “R” (Reverse) gear.\\n\\nWhen the vehicle is in uphill position, shift the gear in first gear.')"
            ]
          },
          "metadata": {}
        },
        {
          "output_type": "display_data",
          "data": {
            "text/plain": [
              "(unstructured.documents.elements.CompositeElement,\n",
              " 'Switch off the engine.\\n\\nSecure the vehicle against rolling away.\\n\\nKeep advance warning triangle at a suitable distance behind the vehicle as an indication of breakdown.\\n\\nClose all the doors.\\n\\nUse the Jack on level, hard ground. Avoid changing the wheel on uphill and\\n\\n151\\n\\nEMERGENCY AND BREAKDOWN ASSISTANCE\\n\\ndownhill slopes. Chock the wheels, if the deflated wheel needs to be changed on slope / ghat area.')"
            ]
          },
          "metadata": {}
        },
        {
          "output_type": "display_data",
          "data": {
            "text/plain": [
              "(unstructured.documents.elements.CompositeElement,\n",
              " 'WARNING\\n\\nIf you drive with a flat tyre, there is a risk of the following hazards: •\\n\\nA flat tyre affects the ability to steer or brake the vehicle.\\n\\nYou could lose control of the vehi- cle.\\n\\nContinued driving with a flat tyre will permanently damage the tyre and cause excessive heat buildup and possibly a fire. There is a risk of an accident.\\n\\nWheel nut removal\\n\\nNOTE')"
            ]
          },
          "metadata": {}
        },
        {
          "output_type": "display_data",
          "data": {
            "text/plain": [
              "(unstructured.documents.elements.CompositeElement,\n",
              " 'Changing Flat Tyre\\n\\nLoosen the nuts (as indicated) on the wheel in diagonal sequence. Do not un- screw the nuts completely before raising the vehicle using the jack.\\n\\nThe jack is designed only to raise and hold the vehicle for a short time while a wheel is being changed. It is not suited for performing mainte- nance work under the vehicle.')"
            ]
          },
          "metadata": {}
        },
        {
          "output_type": "display_data",
          "data": {
            "text/plain": [
              "(unstructured.documents.elements.CompositeElement,\n",
              " 'Use the jack on level, hard ground. Avoid changing the wheel on uphill and downhill slopes. Chock the wheels, if the deflated wheel needs to be changed on slope / ghat area.\\n\\n152\\n\\nReduce vehicle speed gradually, avoid sudden steering movement or braking.\\n\\nPay attention to the traffic conditions as you do so.')"
            ]
          },
          "metadata": {}
        },
        {
          "output_type": "display_data",
          "data": {
            "text/plain": [
              "(unstructured.documents.elements.CompositeElement,\n",
              " 'Switch on the Hazard warning lamps.\\n\\nStop the vehicle on solid, non-slip- pery and level ground, as far away as possible from traffic.\\n\\nBefore raising the vehicle, secure it from rolling away by applying the parking brake.\\n\\nDo not use wooden blocks or similar objects as a jack underlay.\\n\\nDo not place your hands and feet or lie under the raised vehicle when it is supported by a jack.')"
            ]
          },
          "metadata": {}
        },
        {
          "output_type": "display_data",
          "data": {
            "text/plain": [
              "(unstructured.documents.elements.CompositeElement,\n",
              " 'Do not run the engine when the ve- hicle is supported by the jack and never allow passengers to remain in the vehicle.\\n\\nDo not open or close a door or the tailgate when the vehicle is raised.\\n\\nUse the jack on level, hard ground. Avoid changing the wheel on uphill and downhill slopes. Chock the wheels, if the deflated wheel needs to be changed on slope /ghat area.\\n\\nIf possible, bring the front wheels in to the straight-ahead position.\\n\\nSecure the vehicle against rolling away.')"
            ]
          },
          "metadata": {}
        },
        {
          "output_type": "display_data",
          "data": {
            "text/plain": [
              "(unstructured.documents.elements.CompositeElement,\n",
              " 'Set the parking brake firmly and shift into “R” (Reverse gear) on level ground and while vehicle is in down- hill position.\\n\\nWhen the vehicle is in uphill posi- tion, shift the gear in first gear.\\n\\nAssemble the Jack handle and wheel spanner (as shown in fig.)\\n\\nPosition the jack vertically and raise it by turning the jack handle clockwise until the jack sits completely on the specified point and the base of the jack lies evenly on the ground.')"
            ]
          },
          "metadata": {}
        },
        {
          "output_type": "display_data",
          "data": {
            "text/plain": [
              "(unstructured.documents.elements.CompositeElement,\n",
              " 'The jack up points are indicated by cutouts on the front and rear.\\n\\nEMERGENCY AND BREAKDOWN ASSISTANCE\\n\\nJacking Point Location On Vehicle\\n\\nRear Jacking location\\n\\nFront Jacking location')"
            ]
          },
          "metadata": {}
        },
        {
          "output_type": "display_data",
          "data": {
            "text/plain": [
              "(unstructured.documents.elements.CompositeElement,\n",
              " 'WARNING\\n\\nIf you do not position the jack correctly at the appropriate jacking point of the vehicle, the jack could tip over with the vehicle raised. There is a risk of injury. Also jack can be damaged.\\n\\nContinue to raise the jack slowly and smoothly until the tyre clears the ground. Do not raise the vehicle more than re- quired.\\n\\n153')"
            ]
          },
          "metadata": {}
        },
        {
          "output_type": "display_data",
          "data": {
            "text/plain": [
              "(unstructured.documents.elements.CompositeElement,\n",
              " 'EMERGENCY AND BREAKDOWN ASSISTANCE\\n\\nLifting the front wheel using jack\\n\\nLifting the rear wheel using jack\\n\\nRemove wheel nuts with the help of wheel spanner and take out flat tyre.\\n\\nNOTE\\n\\nDo not place wheel nuts in sand or on a dirty surface. Do not apply oil or grease on it.\\n\\nRoll the spare wheel into position and align the holes in the wheel studs.')"
            ]
          },
          "metadata": {}
        },
        {
          "output_type": "display_data",
          "data": {
            "text/plain": [
              "(unstructured.documents.elements.CompositeElement,\n",
              " 'Tighten each nut by hand until the wheel\\n\\n154\\n\\nis securely seated on the hub.\\n\\nLower the jack completely then tighten the wheel nuts one by one using wheel span- ner.\\n\\nPress fit the wheel cover back (if applica- ble).\\n\\nRestore all the tools and jack at their re- spective locations.\\n\\nPlace the flat tyre at spare wheel location')"
            ]
          },
          "metadata": {}
        },
        {
          "output_type": "display_data",
          "data": {
            "text/plain": [
              "(unstructured.documents.elements.CompositeElement,\n",
              " 'NOTE\\n\\nDo a check and correct the tyre pressure and wheel nuts tightness of the changed wheel at nearest au- thorised service station. Get the flat tyre repaired at the earliest.\\n\\nPlace the jack only at recommended jacking locations.\\n\\nDo not put Jack under any part of Rear Axle.\\n\\nPUNCTURE REPAIR KIT (if avail- able)\\n\\nIntroduction')"
            ]
          },
          "metadata": {}
        },
        {
          "output_type": "display_data",
          "data": {
            "text/plain": [
              "(unstructured.documents.elements.CompositeElement,\n",
              " 'WARNING\\n\\nCompliance with these instructions is vital to ensure vehicle safety. Non-com- pliance with these instructions means risking tire damage, which can affect vehicle handling and lead to loss of ve- hicle control. This may result in serious injury or death. Inform all other users of the vehicle if standard items for dealing with a puncture (e.g. spare tire) have been replaced by the Puncture repair Kit.')"
            ]
          },
          "metadata": {}
        },
        {
          "output_type": "display_data",
          "data": {
            "text/plain": [
              "(unstructured.documents.elements.CompositeElement,\n",
              " 'The Puncture repair Kit seals most tire punctures to restore temporarily mobility. Recommended use only for passenger car ground tires only and vehicle tire inflation pressure up to 300 kPa (3 bar, 43 psi). The system consists of a compressor and a sealant, and serves to effectively and con- veniently seal punctures in car tires caused, for example, by nails or similar foreign objects with a diameter of up to ¼')"
            ]
          },
          "metadata": {}
        },
        {
          "output_type": "display_data",
          "data": {
            "text/plain": [
              "(unstructured.documents.elements.CompositeElement,\n",
              " 'EMERGENCY AND BREAKDOWN ASSISTANCE\\n\\n“ (6 mm).\\n\\nDepending on the type and extent of tire damage, some tires can only be partially sealed or not sealed at all. Loss of tire pressure can affect vehicle handling, lead- ing to loss of vehicle control. Ob-serve the following rules when using the Puncture repair Kit:\\n\\napplicable) shall be checked by an ex- pert and replaced if necessary.')"
            ]
          },
          "metadata": {}
        },
        {
          "output_type": "display_data",
          "data": {
            "text/plain": [
              "(unstructured.documents.elements.CompositeElement,\n",
              " 'These instructions provide a step-by-step explanation of how to use the Puncture re- pair Kit to temporarily repair a tire punc- ture.\\n\\nPlease read the section on “How to pro- ceed in the event of a tire puncture”.\\n\\nDrive with caution and avoid making sudden steering or driving maneuvers , maneuvers, especially if the vehicle is heavily loaded or you are towing a trailer.')"
            ]
          },
          "metadata": {}
        },
        {
          "output_type": "display_data",
          "data": {
            "text/plain": [
              "(unstructured.documents.elements.CompositeElement,\n",
              " 'The system will provide you with an emergency temporary repair, enabling you to continue your journey to the next vehicle or tire dealer, or to drive a maximum distance of 200 km (120 miles).')"
            ]
          },
          "metadata": {}
        },
        {
          "output_type": "display_data",
          "data": {
            "text/plain": [
              "(unstructured.documents.elements.CompositeElement,\n",
              " 'WARNING\\n\\nDo not use the Puncture repair Kit if the tire has already been damaged as a re- sult of being driven underinflated. Do not try to seal damage other than that located within the visible tread of the tire. Do not try to seal damage to the tire’s sidewall.\\n\\nDo not exceed a maximum speed of 80 km/h (50 mph).\\n\\nKeep the Puncture repair Kit out of the reach of children.\\n\\nOnce the Puncture repair Kit has been used for a temporary tire repair, the functionality of the TPMS module (if\\n\\n155')"
            ]
          },
          "metadata": {}
        },
        {
          "output_type": "display_data",
          "data": {
            "text/plain": [
              "(unstructured.documents.elements.CompositeElement,\n",
              " 'EMERGENCY AND BREAKDOWN ASSISTANCE\\n\\nLocation In Vehicle\\n\\nPuncture Repair Kit Removal Process\\n\\nTo access the puncture repair kit open the Tailgate.\\n\\nIn Luggage compartment\\n\\nRemove the two Velcro as shown in figure and take out the puncture repair kit.\\n\\n156\\n\\nStep\\n\\nEMERGENCY AND BREAKDOWN ASSISTANCE\\n\\n157\\n\\nEMERGENCY AND BREAKDOWN ASSISTANCE')"
            ]
          },
          "metadata": {}
        },
        {
          "output_type": "display_data",
          "data": {
            "text/plain": [
              "(unstructured.documents.elements.CompositeElement,\n",
              " 'Instructions On How To Use The Puncture Repair Kit Safely\\n\\nNever leave the Puncture repair Kit un- attended while in use.\\n\\nUse product with original vehicle ground tires only.\\n\\nOnly use the Puncture repair Kit with tubeless tires.\\n\\nIf used for other than its intended pur- pose, the Puncture repair Kit may cause severe accident or injury due to the fact that compressed air can act as an explosive or propellant.')"
            ]
          },
          "metadata": {}
        },
        {
          "output_type": "display_data",
          "data": {
            "text/plain": [
              "(unstructured.documents.elements.CompositeElement,\n",
              " 'Do not keep the compressor operating for more than 10 minutes otherwise there is a risk of it over-heating.\\n\\nReplace the sealant bottle with a new one before the expiration date is reached (see bottle label). In case that the sealant is expired the functionality cannot be fully guaranteed. Only use original Puncture re-pair Kit bottles which are pressure resistant.')"
            ]
          },
          "metadata": {}
        },
        {
          "output_type": "display_data",
          "data": {
            "text/plain": [
              "(unstructured.documents.elements.CompositeElement,\n",
              " 'Park your vehicle at the roadside so that you do not obstruct the flow of traf- fic and you are able to use the Punc- ture repair Kit without being in danger.\\n\\nEngage the hand brake, even if you have parked on a level road, to ensure that the vehicle will not move.\\n\\nDo not attempt to remove foreign ob- jects like nails or screws penetrating the tire. Leave them as they are.')"
            ]
          },
          "metadata": {}
        },
        {
          "output_type": "display_data",
          "data": {
            "text/plain": [
              "(unstructured.documents.elements.CompositeElement,\n",
              " 'Leave the engine running while the Puncture repair Kit is in use, but not if the vehicle is in an enclosed or poorly ventilated area.\\n\\nHow To Proceed In The Event Of Tyre Puncture\\n\\nYou can temporarily repair a tire puncture in two steps.')"
            ]
          },
          "metadata": {}
        },
        {
          "output_type": "display_data",
          "data": {
            "text/plain": [
              "(unstructured.documents.elements.CompositeElement,\n",
              " 'First pump the tire sealant and air into the tire (see Step 1). Immediately thereafter, drive a short distance (3-10 km / 2-6 miles) in order to distribute the sealant in the tire. After that, check the tire pressure and pump more air into the tire if necessary (see Step 2). Then you can proceed to drive with caution for a maximum distance of 200 km (120 miles) and at a maxi-mum speed of 80 km/h (50 mph).\\n\\n158')"
            ]
          },
          "metadata": {}
        },
        {
          "output_type": "display_data",
          "data": {
            "text/plain": [
              "(unstructured.documents.elements.CompositeElement,\n",
              " 'Inform all other users of the vehicle that the tire has been temporarily sealed with the Puncture repair Kit and make them aware of the special driving conditions to be observed.\\n\\nWARNING\\n\\nNeed to drain fluid from tire before re- pair.')"
            ]
          },
          "metadata": {}
        },
        {
          "output_type": "display_data",
          "data": {
            "text/plain": [
              "(unstructured.documents.elements.CompositeElement,\n",
              " 'Step 1 :pumping The Tyre Sealant And Air Into The Tyre\\n\\n1.\\n\\nPeel off the decal denoting the maxi- mum permissible speed (80 km/h | 50 mph) from the casing and attach it to the edge of the windscreen as shown on the picture.\\n\\n2.\\n\\nTake the hose and power plug with cable out of the Puncture repair Kit casing. Unscrew the orange cap of the bottle connector.\\n\\n3.\\n\\nUnscrew the red cap of the sealant bottle. (Shake sealant bottle well be- fore use.')"
            ]
          },
          "metadata": {}
        },
        {
          "output_type": "display_data",
          "data": {
            "text/plain": [
              "(unstructured.documents.elements.CompositeElement,\n",
              " 'WARNING\\n\\nLeave the bottle seal intact. Screwing the bottle onto the bottle holder will pierce the seal of the bottle. Avoid skin contact with the sealant which contains natural rubber latex. Do not open pres- sure “air release” valve. Please use pro- tective glove for safety purpose.\\n\\n4.\\n\\nScrew the bottle clockwise firmly against the slight resistance of the notches onto the sealing gasket of the bottle connector until it is screwed tight.\\n\\n5.')"
            ]
          },
          "metadata": {}
        },
        {
          "output_type": "display_data",
          "data": {
            "text/plain": [
              "(unstructured.documents.elements.CompositeElement,\n",
              " 'Remove the valve cap from the dam- aged tire. Pull the protective cap off the end of the hose and screw the hose firmly onto the valve of the damaged tire. Make sure that the compressor switch is switched to “0” and the pres- sure “air release” valve is closed.\\n\\n6.\\n\\nInsert power plug into the 12 volt power socket connection.\\n\\n7.\\n\\nStart the engine (only if the vehicle is outdoors or in a well ventilated area).\\n\\nEMERGENCY AND BREAKDOWN ASSISTANCE\\n\\nWARNING')"
            ]
          },
          "metadata": {}
        },
        {
          "output_type": "display_data",
          "data": {
            "text/plain": [
              "(unstructured.documents.elements.CompositeElement,\n",
              " 'NOTE\\n\\nAsphyxiation may occur if the engine is allowed to run in a non-ventilated or poorly ventilated area (e.g. inside a building)\\n\\nWhen pumping in the sealant through the tire valve, the pressure may rise up to 500 kPa (5 bar, 73 psi) but will drop again after about 30 seconds.\\n\\n8.\\n\\nPress compressor switch to “I”.')"
            ]
          },
          "metadata": {}
        },
        {
          "output_type": "display_data",
          "data": {
            "text/plain": [
              "(unstructured.documents.elements.CompositeElement,\n",
              " 'NOTE\\n\\nCheck the sidewall of the tire prior to in- flation. If there are any cracks, bumps or similar damage, do not attempt to in- flate the tire. Do not stand directly be- side the tire while the compressor is pumping. Watch the sidewall of the tire. If any cracks, bumps or similar damage appear, turn off the compressor and let the air out by means of the pressure “air release” valve. In this case, do not con- tinue to use the tire.\\n\\n9.')"
            ]
          },
          "metadata": {}
        },
        {
          "output_type": "display_data",
          "data": {
            "text/plain": [
              "(unstructured.documents.elements.CompositeElement,\n",
              " 'Inflate the tire within about 10 minutes to an inflation pressure of minimum 180 kPa, (1.8 bar, and 26 psi) and a maximum of 300 kPa (3 bar, 43 psi).\\n\\n10.\\n\\nSwitch off the compressor briefly in order to read the actual tire pressure from the pressure gauge.')"
            ]
          },
          "metadata": {}
        },
        {
          "output_type": "display_data",
          "data": {
            "text/plain": [
              "(unstructured.documents.elements.CompositeElement,\n",
              " 'WARNING\\n\\nIf heavy vibrations, unsteady steering behavior or noises should occur while driving, reduce your speed and drive with caution to a place where it is safe for you to stop the vehicle. Recheck the tire and its pressure. If the tire pressure is less than 130 kPa (1.3 bar, 19 psi) or if there are any visible cracks, bumps or similar damage on the side wall, do not continue to use the tire!\\n\\n159')"
            ]
          },
          "metadata": {}
        },
        {
          "output_type": "display_data",
          "data": {
            "text/plain": [
              "(unstructured.documents.elements.CompositeElement,\n",
              " 'EMERGENCY AND BREAKDOWN ASSISTANCE\\n\\n11, 12. Once a tire inflation pressure of at least 180 kPa (1.8 bar, 26 psi) has been reached.\\n\\nSwitch the compressor to “0”.\\n\\nPull the power plug from the 12 volt power socket connection.\\n\\nSlowly unscrew the hose from the tire valve (sealant residues may escape from the hose) and put the protective cap back onto the hose.')"
            ]
          },
          "metadata": {}
        },
        {
          "output_type": "display_data",
          "data": {
            "text/plain": [
              "(unstructured.documents.elements.CompositeElement,\n",
              " 'WARNING\\n\\nIf heavy vibrations, unsteady steering behavior or noises should occur while driving, reduce your speed and drive with caution to a place where it is safe for you to stop the vehicle. Recheck the tire and its pressure. If the tire pressure is less than 130 kPa (1.3 bar, 19 psi) or if there are any visible cracks, bumps or similar damage on the side wall, do not continue to use the tire!\\n\\nLeave the bottle in the holder. This avoids unexpected leakage of sealant residue.')"
            ]
          },
          "metadata": {}
        },
        {
          "output_type": "display_data",
          "data": {
            "text/plain": [
              "(unstructured.documents.elements.CompositeElement,\n",
              " 'Step 2 Checking The Tyre Pressure\\n\\nMake sure the Puncture repair Kit, the cap of the bottle and the orange cap are stored safely, but are still easily ac- cessible, in the vehicle.\\n\\nThe kit will be needed again when you check the tire pressure.\\n\\n15. Stop the vehicle after driving about 3-10 km (2-6 miles). Check and, where necessary, adjust the pressure of the dam- aged tire. Remove the protective cap from the end of the hose. Screw the hose firmly onto the valve of the damaged tire.')"
            ]
          },
          "metadata": {}
        },
        {
          "output_type": "display_data",
          "data": {
            "text/plain": [
              "(unstructured.documents.elements.CompositeElement,\n",
              " '13, 14. Immediately start and drive for about 3-10 km (2-6 miles) so that the sealant can seal the damaged area. Do not drive for more than 10 min and not any faster than 80 km/h (50 mph) (observe the decal indicating the permissible speed).\\n\\n16. Read the tire pressure from the pres- sure gauge. If the pressure of the sealant-filled tire is 130 kPa (1.3 bar, 19 psi) or more, it must now be adjusted to the pressure specified for your vehicle (Refer sticker on vehicle).\\n\\n160')"
            ]
          },
          "metadata": {}
        },
        {
          "output_type": "display_data",
          "data": {
            "text/plain": [
              "(unstructured.documents.elements.CompositeElement,\n",
              " 'WARNING\\n\\nIf the tire check shows that the pressure of the sealant-filled tire is less than 130 kPa (1.3 bar, 19 psi) or if there are any visible cracks, bumps or similar tire damage on the side wall, you must not continue to use that tire.\\n\\nMake sure that the compressor switch is switched off to “0”.\\n\\nInsert the power plug into the 12 volt power socket connection.\\n\\nStart the engine (only if the vehicle is outdoors or in a well ventilated area).')"
            ]
          },
          "metadata": {}
        },
        {
          "output_type": "display_data",
          "data": {
            "text/plain": [
              "(unstructured.documents.elements.CompositeElement,\n",
              " 'WARNING\\n\\nAsphyxiation may occur if the engine is allowed to run in a non-ventilated or poorly ventilated area (e.g. inside a building )\\n\\n17,18. Switch the compressor on to “I” and pump the tire up to the specified tire pressure within max. 10 minutes.')"
            ]
          },
          "metadata": {}
        },
        {
          "output_type": "display_data",
          "data": {
            "text/plain": [
              "(unstructured.documents.elements.CompositeElement,\n",
              " 'NOTE\\n\\nCompressor unit we can use for filling the air & checking the pressure of the normal tyre.\\n\\nSwitch the compressor off and check the tire pressure again. If tire pressure is too high, deflate the tire to the spec- ified pressure using the pressure “air release” valve.\\n\\nRest of the remaining sealant in the hose might leak out when opening pressure “air release” valve or taking off the protective cap of the hose. Please use protective glove for safety purpose.')"
            ]
          },
          "metadata": {}
        },
        {
          "output_type": "display_data",
          "data": {
            "text/plain": [
              "(unstructured.documents.elements.CompositeElement,\n",
              " 'Once you have inflated the tire to its correct tire pressure, switch off the compressor, pull the plug out of the socket, unscrew the hose, fasten the tire valve cap and put back on the pro-\\n\\nEMERGENCY AND BREAKDOWN ASSISTANCE\\n\\ntective cap of the hose.\\n\\nLeave the bottle in the holder and store the Puncture repair Kit away safely in the vehicle trunk.')"
            ]
          },
          "metadata": {}
        },
        {
          "output_type": "display_data",
          "data": {
            "text/plain": [
              "(unstructured.documents.elements.CompositeElement,\n",
              " 'WARNING\\n\\nAfter using the sealant you may drive no faster than 80 km/h (50 mph), and the damaged tire must be replaced as quickly as possible (with in a maximum driving distance of 200 km (120 miles)). You must not continue to drive if heavy vibrations, unsteady steering behavior or noises should occur while driving.')"
            ]
          },
          "metadata": {}
        },
        {
          "output_type": "display_data",
          "data": {
            "text/plain": [
              "(unstructured.documents.elements.CompositeElement,\n",
              " '19, 20. Drive to the nearest workshop to get the damaged tyre repaired and if the tyre repair is not possible, tyre should be removed from the car. Before the tire is re- moved from the rim, inform your tire dealer that the tire contains sealant. Sealant de- posits in a used hose may impair proper function of the Puncture repair Kit. Both the sealant bottle and the hose need to be replaced together after using the Puncture repair Kit.')"
            ]
          },
          "metadata": {}
        },
        {
          "output_type": "display_data",
          "data": {
            "text/plain": [
              "(unstructured.documents.elements.CompositeElement,\n",
              " 'NOTE\\n\\nRemember that emergency roadside tire repair kits only provide temporary mobility. Regulation concerning tire re- pair after usage of Puncture Repair Kit may differ from country to country. You should consult a tire specialist for ad- vice.')"
            ]
          },
          "metadata": {}
        },
        {
          "output_type": "display_data",
          "data": {
            "text/plain": [
              "(unstructured.documents.elements.CompositeElement,\n",
              " 'WARNING\\n\\nBefore driving, ensure tire is adjusted to recommended inflation pressure as in- dicated on vehicle placard. Monitor tire pressure until sealed tire is replaced. Proceed as described above from point 15 onwards.\\n\\nNew sealant and replacement parts can be purchased from your authorized repair shop or dealer. Sealant bottles can be dis- posed with house-hold waste.\\n\\n161\\n\\nEMERGENCY AND BREAKDOWN ASSISTANCE\\n\\nJUMP STARTING YOUR CAR')"
            ]
          },
          "metadata": {}
        },
        {
          "output_type": "display_data",
          "data": {
            "text/plain": [
              "(unstructured.documents.elements.CompositeElement,\n",
              " 'For Petrol NA Non IAC/ISS variants (if available)\\n\\nUse only a battery of same rating & capac- ity to jump start your vehicle. Position the booster battery close to your vehicle so that the jump leads will reach both batter- ies.\\n\\nMake the final connection (other end of the negative terminal) to an unpainted, heavy metal part (i.e. engine mounting stud/nut) of the vehicle of discharged battery.')"
            ]
          },
          "metadata": {}
        },
        {
          "output_type": "display_data",
          "data": {
            "text/plain": [
              "(unstructured.documents.elements.CompositeElement,\n",
              " 'When using a battery of another vehicle, do not let the vehicles touch. Apply the parking brake firmly and keep the gearshift lever in neutral.\\n\\nTurn off all vehicle accessories, except those necessary for safety like hazard warning lamps.\\n\\nMake jump lead connections as follows:\\n\\nConnect one end of the first jump lead to the positive (+) terminal of the dis- charged battery.\\n\\nConnect the other end to the positive (+) terminal of the booster battery.')"
            ]
          },
          "metadata": {}
        },
        {
          "output_type": "display_data",
          "data": {
            "text/plain": [
              "(unstructured.documents.elements.CompositeElement,\n",
              " 'Start the engine of the vehicle with the discharged battery.\\n\\nBefore disconnecting the jumper ca- bles, let the engine run for several min- utes.\\n\\nConnect one end of the second jump lead to the negative (–) terminal of the booster battery.\\n\\nIf the booster battery you are using is fitted to another vehicle, start the en- gine of the vehicle with the booster bat- tery. Run the engine at moderate\\n\\n162\\n\\nspeed.\\n\\nRemove the jump leads in the exact reverse order in which you connected them.')"
            ]
          },
          "metadata": {}
        },
        {
          "output_type": "display_data",
          "data": {
            "text/plain": [
              "(unstructured.documents.elements.CompositeElement,\n",
              " 'NOTE\\n\\nDo not disconnect the discharged bat- tery from the vehicle.\\n\\nWARNING\\n\\nDo not connect the jump lead di- rectly to the negative (–) terminal of the discharged battery. This may lead to an explosion.')"
            ]
          },
          "metadata": {}
        },
        {
          "output_type": "display_data",
          "data": {
            "text/plain": [
              "(unstructured.documents.elements.CompositeElement,\n",
              " 'Do not allow battery electrolyte to come in contact with eyes, skin, fab- rics or painted surfaces. The fluid contains acid which can cause in- jury and severe damage. Wear pro- tective apparel. Do not inhale any battery gases. Keep children away from batteries. In case if battery acid comes in contact with the skin, wash it off immediately with water and seek medical attention.')"
            ]
          },
          "metadata": {}
        },
        {
          "output_type": "display_data",
          "data": {
            "text/plain": [
              "(unstructured.documents.elements.CompositeElement,\n",
              " 'During charging and jump-starting, explosive gases can escape from the battery. There is a risk of an ex- plosion. Particularly avoid fire, open flames, creating sparks and smok- ing. Make sure that there is suffi- cient ventilation while charging and jump-starting. Do not lean over the battery.\\n\\nMake sure that the positive terminal of a connected battery does not come into contact with vehicle parts. Never place metal objects or tools on a battery.')"
            ]
          },
          "metadata": {}
        },
        {
          "output_type": "display_data",
          "data": {
            "text/plain": [
              "(unstructured.documents.elements.CompositeElement,\n",
              " 'It is important that you observe the described order of the battery termi- nals when connecting and discon- necting a battery. If you are in doubt, seek assistance from qualified spe- cialist workshop.\\n\\nDo not connect or disconnect the battery terminals while the engine is running.\\n\\nEMERGENCY AND BREAKDOWN ASSISTANCE')"
            ]
          },
          "metadata": {}
        },
        {
          "output_type": "display_data",
          "data": {
            "text/plain": [
              "(unstructured.documents.elements.CompositeElement,\n",
              " 'NOTE\\n\\nconnected to Battery Sensor out-put as shown below.\\n\\nIf your vehicle is equipped with a battery sensor, connect the jump start leads on output terminal of battery sensor. Do not connect the jump start leads on sensor surface or battery terminal. This will re- sult of function loss of battery sensor.')"
            ]
          },
          "metadata": {}
        },
        {
          "output_type": "display_data",
          "data": {
            "text/plain": [
              "(unstructured.documents.elements.CompositeElement,\n",
              " 'For Petrol NA IAC/ISS Variants\\n\\nFollowing method to be adopted while per- forming Battery disconnection for any service on Vehicle, Jump Start and exter- nal Battery charging.\\n\\nAlways remove the Battery negative from Battery Sensor output side. Never remove the Battery Sensor directly from Battery. This will result Battery learning loss and this act will switch off the ISS function.\\n\\nDo and Don’t')"
            ]
          },
          "metadata": {}
        },
        {
          "output_type": "display_data",
          "data": {
            "text/plain": [
              "(unstructured.documents.elements.CompositeElement,\n",
              " 'Do\\n\\nUse only authorized Battery sensor.\\n\\nUse only authorized Battery.\\n\\nWhile performing jump start, ensure that the jump start Battery negative ter- minal is connected to Battery Sensor output as shown below.\\n\\nWhile performing external charging, ensure that charging circuit ground is\\n\\nAlways disconnect the Battery sensor output for any service on vehicle.\\n\\nDon’t\\n\\nDo not remove the Battery sensor if it is not necessary.\\n\\nDo not mallet / hammer the Battery\\n\\n163')"
            ]
          },
          "metadata": {}
        },
        {
          "output_type": "display_data",
          "data": {
            "text/plain": [
              "(unstructured.documents.elements.CompositeElement,\n",
              " 'EMERGENCY AND BREAKDOWN ASSISTANCE\\n\\nsensor to fix on Battery Pole.\\n\\nDo not place the Battery sensor on Positive Pole.\\n\\nDo not remove the Battery Sensor con- nector.\\n\\nTATA Motors. Use of any other unauthorized Battery or Battery Sensor will result in to Intelligent Al- ternator Control (IAC) and Idle Stop Start (ISS )function deterioration.\\n\\nNOTE\\n\\nAmaron 60D23 (60Ah) Enhanced Flooded Battery to be replaced with Amaron 60D23 (60Ah) Enhanced Flooded Battery only.')"
            ]
          },
          "metadata": {}
        },
        {
          "output_type": "display_data",
          "data": {
            "text/plain": [
              "(unstructured.documents.elements.CompositeElement,\n",
              " 'Use only Authorised Battery and Battery Sensor recommended by\\n\\n164')"
            ]
          },
          "metadata": {}
        },
        {
          "output_type": "display_data",
          "data": {
            "text/plain": [
              "(unstructured.documents.elements.CompositeElement,\n",
              " 'TOWING\\n\\nWhen towing a break down vehicle, cer- tain precautions and procedures must be taken to prevent damage to the vehicle and/or components. Failure to use stan- dard towing precautionary measures when lifting or towing a break down vehicle could result in an unsafe operating condition.\\n\\nTo correctly tow and prevent accidental damage to your vehicle, take help of a TATA MOTORS authorized dealer or a commercial tow-truck service.')"
            ]
          },
          "metadata": {}
        },
        {
          "output_type": "display_data",
          "data": {
            "text/plain": [
              "(unstructured.documents.elements.CompositeElement,\n",
              " 'NOTE\\n\\nMake sure that the parking brake is re- leased; vehicle is in neutral and steering wheel is unlocked. The power steering functions only when engine is running. Hence, during towing the steering ef- forts will be more.')"
            ]
          },
          "metadata": {}
        },
        {
          "output_type": "display_data",
          "data": {
            "text/plain": [
              "(unstructured.documents.elements.CompositeElement,\n",
              " 'WARNING\\n\\nDo not get under your vehicle after it has been lifted by a tow truck.\\n\\nFor towing a vehicle, the best way is to use a wrecker. Alternatively use a rigid tow bar.\\n\\nSwitch ‘ON’ the hazard warning in- dicators of both the vehicles to warn other road users.\\n\\nLimit the speed to 20-30 kmph.\\n\\nIn case of brake failure, use the parking brake to control the vehicle.\\n\\nFasten the tow rope or tow bar at the towing eyes. Otherwise, the ve- hicle could be damaged.')"
            ]
          },
          "metadata": {}
        },
        {
          "output_type": "display_data",
          "data": {
            "text/plain": [
              "(unstructured.documents.elements.CompositeElement,\n",
              " 'EMERGENCY AND BREAKDOWN ASSISTANCE\\n\\nWhen towing, pull away slowly and smoothly. If the tractive power is too high, the vehicles could be dam- aged.\\n\\nRecommended Towing\\n\\nIn case of break down, we recommend that your vehicle be towed with the driving wheels off the ground or place the vehicle on a flatbed truck as shown.\\n\\nWARNING\\n\\nDo not tow your vehicle with the front wheels on the ground or four wheels on the ground (forward or backward), as this may cause seri- ous damage to the transmission.')"
            ]
          },
          "metadata": {}
        },
        {
          "output_type": "display_data",
          "data": {
            "text/plain": [
              "(unstructured.documents.elements.CompositeElement,\n",
              " 'Tow Hook Fitment\\n\\nWhen towing with the rear wheels on the ground or on towing dollies, place the ignition switch in the ‘ACC’ or ‘ON’ position, and secure the steering wheel in the straight-ahead position with a rope or similar de- vice.\\n\\nOpen the tailgate and remove tow hook from the tool kit.\\n\\n165')"
            ]
          },
          "metadata": {}
        },
        {
          "output_type": "display_data",
          "data": {
            "text/plain": [
              "(unstructured.documents.elements.CompositeElement,\n",
              " 'EMERGENCY AND BREAKDOWN ASSISTANCE\\n\\nOpen the tow hook cover provided on the front bumper by pressing it at the bottom part and simultaneously pulling it at the top (as shown in fig).\\n\\nScrew in and tighten the tow hook in clockwise direction.\\n\\nAfter towing, remove the towing hook and press fit the cover properly.\\n\\nPlace the towing hook in the vehicle tool kit.\\n\\n166')"
            ]
          },
          "metadata": {}
        },
        {
          "output_type": "display_data",
          "data": {
            "text/plain": [
              "(unstructured.documents.elements.CompositeElement,\n",
              " 'FUSES\\n\\nYour vehicle has fuse boxes at three loca- tions.\\n\\nThe vehicles electrical circuits have fuses to protect the wiring from short circuits or sustained overload.\\n\\n1.\\n\\nBattery Mounted Fuse Box.\\n\\n2.\\n\\nEngine Compartment Fuse Box.\\n\\n3.\\n\\nCabin Compartment Fuse Box.')"
            ]
          },
          "metadata": {}
        },
        {
          "output_type": "display_data",
          "data": {
            "text/plain": [
              "(unstructured.documents.elements.CompositeElement,\n",
              " 'Checking And Replacing Fuses\\n\\nIf any electrical unit in your vehicle is not functioning, check the fuses first.\\n\\nPlease follow the steps below that will guide you to check and replace them.\\n\\nApply parking brake\\n\\nSwitch off all electrical accessories.\\n\\nTurn the ignition key to the ‘LOCK’ po- sition.\\n\\nIn the fuse box, identify the defective fuse from its melted wire.\\n\\nRemove the defective fuse by “fuse puller”. The fuse puller and spare fuses are provided in the engine compart- ment fuse box.')"
            ]
          },
          "metadata": {}
        },
        {
          "output_type": "display_data",
          "data": {
            "text/plain": [
              "(unstructured.documents.elements.CompositeElement,\n",
              " 'Defective fuses must be replaced with\\n\\nEMERGENCY AND BREAKDOWN ASSISTANCE\\n\\nfuses of same rating, which you can recognize by color and value.\\n\\nBattery Mounted Fuse Box\\n\\nNOTE\\n\\nAlways make sure that the spare fuses are added.\\n\\nMake sure that all other fuses are pressed firmly in position.\\n\\nIf a newly inserted fuse also blows, have the cause traced and rectified at nearest TATA MOTORS Authorized Dealer/Service Center immediately.')"
            ]
          },
          "metadata": {}
        },
        {
          "output_type": "display_data",
          "data": {
            "text/plain": [
              "(unstructured.documents.elements.CompositeElement,\n",
              " 'WARNING\\n\\nIf you manipulate or bridge a faulty fuse or if you replace it with a fuse with higher amperage, the electric cables could be overloaded. This could result in a fire. There is a risk of an accident and injury.\\n\\nAlways replace faulty fuses with the specified new fuses having the cor- rect amperage.\\n\\n167\\n\\nEMERGENCY AND BREAKDOWN ASSISTANCE\\n\\nFuse No.\\n\\nPF1 PF2\\n\\nFunction\\n\\nSTARTER MOTOR IBS\\n\\nFuse Rat- ing 200 A 5A')"
            ]
          },
          "metadata": {}
        },
        {
          "output_type": "display_data",
          "data": {
            "text/plain": [
              "(unstructured.documents.elements.CompositeElement,\n",
              " 'WARNING\\n\\nIf Fuse box cover is removed for any reason, it should be refitted properly in its original position.\\n\\nFuses - Engine Compartment\\n\\nNOTE\\n\\nThe fuse box layout is for reference pur- pose only. Please refer the sticker pro- vided inside the fuse box cover.\\n\\n168\\n\\nFuse No.\\n\\nF0 F1 F2\\n\\nF3\\n\\nF4\\n\\nF5\\n\\nF6\\n\\nF7 F8 F9 F10 F11\\n\\nF12\\n\\nF13 F14 F15')"
            ]
          },
          "metadata": {}
        },
        {
          "output_type": "display_data",
          "data": {
            "text/plain": [
              "(unstructured.documents.elements.CompositeElement,\n",
              " 'Function\\n\\nCOCKPIT F/B SUPPLY RADIATOR FAN-1 STARTER SOLENOID BATT HEAD LAMP HIGH BEAM FUEL PUMP BATT HEAD LAMP LOW BEAM TCU BATTERY 2 - TCU EPAS - UNDER BONNET F/R BOX EMS BATT COMPRESSOR ABS ECU BATT\\n\\nFuse Rat- ing - 60A 40A\\n\\n25A\\n\\n15A\\n\\n15A\\n\\n15A\\n\\n10A - 30A 60A -\\n\\n60A\\n\\n10A 10A 25A\\n\\nFuse Rat- ing 15A 10A 40A 60A 60A 15A - - 5A 10A -\\n\\nFuse No.')"
            ]
          },
          "metadata": {}
        },
        {
          "output_type": "display_data",
          "data": {
            "text/plain": [
              "(unstructured.documents.elements.CompositeElement,\n",
              " 'Function\\n\\nHORN BATT BRAKE LAMP BATT ABS PUMP INTERIOR F/B BATT IGNITION LOAD IGNITION COIL - - ABS ECU IGNITION AMT IGN - EMS RELAY COILS & SENSORS 20A EMS ECU SUPPLY F28 10A EMS INJECTOR F29 F30 FRONT WIPER MOTOR 20A 10A F31 REAR WIPER 5A F32 STARTER MO-TOR F/B - F33 - F34\\n\\nF16 F17 F18 F19 F20 F21 F22 F23 F24 F25 F26\\n\\nF27\\n\\n15A\\n\\n-\\n\\nFuse No.\\n\\nF35\\n\\nF36 F37 F38\\n\\nEMERGENCY AND BREAKDOWN ASSISTANCE\\n\\nFunction\\n\\nFuse Rat- ing\\n\\nCabin Compartment Fuse Box')"
            ]
          },
          "metadata": {}
        },
        {
          "output_type": "display_data",
          "data": {
            "text/plain": [
              "(unstructured.documents.elements.CompositeElement,\n",
              " 'Cover Removal Procedure\\n\\nREVERSE LAMPS/BRAKE SWITCH - - -\\n\\n10A\\n\\n- -\\n\\nFuse box is located inside the cover below steering column. To access the fuse box, remove cover as per procedure given below.\\n\\n1.\\n\\nFuse box cover is mounted on dash board with the help of lugs at the top and bottom of the cover from inside.\\n\\n2.\\n\\nTo remove the cover, gently pull the cover from upper side.\\n\\n169\\n\\nEMERGENCY AND BREAKDOWN ASSISTANCE')"
            ]
          },
          "metadata": {}
        },
        {
          "output_type": "display_data",
          "data": {
            "text/plain": [
              "(unstructured.documents.elements.CompositeElement,\n",
              " 'Re-fitment Procedure\\n\\nAlign bottom lugs and push upper part with respective slots on dash board and press the cover firmly.\\n\\nFuses - Cabin Compartment\\n\\nFuse No. F1\\n\\nF2\\n\\nF3 F4 F4\\n\\nF5\\n\\nF6\\n\\nF7\\n\\nFunction\\n\\nTAILGATE RELEASE RPAS /TELEMATICS IGN ACC BATT/OBD ACCESSORIES FUSE PEPS/BLOWER RLY HEATED REAR SCREEN BCM HVAC/ FATC BCM2- BASE/MID BCM BCM3-MID BCM\\n\\nFuse Rating 10A\\n\\n5A\\n\\n15A 5A 5A\\n\\n25A\\n\\n10A\\n\\n20A\\n\\nF8 F9 F10\\n\\nF11\\n\\nF12\\n\\nF13\\n\\nF14')"
            ]
          },
          "metadata": {}
        },
        {
          "output_type": "display_data",
          "data": {
            "text/plain": [
              "(unstructured.documents.elements.CompositeElement,\n",
              " '20A BCM1-BASE/MID BCM 20A 10A\\n\\nIGN FUSE-2 IMMOB/EPAS/PEPS- IGN RESTRAINTS CON- TROL POWER SOCKET1 MIRROR ADJUST MOTOR POWER SOCKET-2\\n\\n5A\\n\\n10A\\n\\n15A\\n\\n5A\\n\\nF15\\n\\n15A\\n\\n170\\n\\nFuse No.\\n\\nF16\\n\\nF17 F18 F19 F20 F21\\n\\nF22\\n\\nFunction\\n\\nRELAY COIL PEPS/ESCL ECU- BATT IMMOBILISER CDL KEYIN / TELE BATT CLUSTER BLOWER MOTOR TRANSIST/INFOTAIN- MENT\\n\\nFuse Rating 5A\\n\\n10A\\n\\n5A 15A 5A 5A 30A\\n\\n20A\\n\\nBULB SPECIFICATION\\n\\nSn\\n\\nDescription\\n\\n1\\n\\nHIGH BEAM\\n\\n2\\n\\nLOW BEAM\\n\\n3\\n\\nTAIL/POSITION\\n\\n4')"
            ]
          },
          "metadata": {}
        },
        {
          "output_type": "display_data",
          "data": {
            "text/plain": [
              "(unstructured.documents.elements.CompositeElement,\n",
              " 'STOP\\n\\n5 6 7 8 9 10 11 12 13 14 15 16 17\\n\\nREVERSE (TAIL LAMP) TURN HMSL DRL POSITION TURN FRONT FOG ROOF LAMP GLOVE BOX LAMP REAR REVERSE LAMP PUDDLE LAMP REG. PLATE LAMP LUGGAGE LAMP')"
            ]
          },
          "metadata": {}
        },
        {
          "output_type": "display_data",
          "data": {
            "text/plain": [
              "(unstructured.documents.elements.CompositeElement,\n",
              " 'EMERGENCY AND BREAKDOWN ASSISTANCE\\n\\nRating 12V, 55W (HV) 12V, 60W (LV) 12V, 55W 6.5W LED (HV) 12V, 5W (LV) 5.76W LED (HV) 12V, 21W (LV) 12V, 16W 12V, 21W 12V, 25W 12V, 9.5W 12V, 1.2W (HV)/12V 5W (LV) 12V, 21W 12V, 19W 12V, 5W 12V, 5W 12V, 21W 12V, 5W 12V, 5W 12V, 5W\\n\\nType H7 (HV) H4 (LV) H7 (HV)/H4 (LV) DomiLED DWA-HKG27 (HV) P21W/5W (LV) DomiLED D6A-SKG 9 (HV) P21W/5W (LV) W16W WY21W BULB LED LED (HV)/BULB (LV) PY21W H16 BULB W5W W5W P21W BULB BULB BULB')"
            ]
          },
          "metadata": {}
        },
        {
          "output_type": "display_data",
          "data": {
            "text/plain": [
              "(unstructured.documents.elements.CompositeElement,\n",
              " 'Qty.\\n\\n2\\n\\n2\\n\\n2\\n\\n2\\n\\n2 2 1 2 2 2 2 1 1 1 2 1 1\\n\\n171\\n\\nEMERGENCY AND BREAKDOWN ASSISTANCE\\n\\nHead Lamp Bulb Replacements\\n\\nReplacing The Low Beam Bulb\\n\\nWARNING\\n\\n1.\\n\\nLift the bonnet to access the bulbs.\\n\\nDo not run the engine when you change bulbs.\\n\\nIf the engine has been running just prior to replacing bulbs in the head- light housing, please keep in mind that components in the engine com- partment will be hot.')"
            ]
          },
          "metadata": {}
        },
        {
          "output_type": "display_data",
          "data": {
            "text/plain": [
              "(unstructured.documents.elements.CompositeElement,\n",
              " 'NOTE\\n\\nYour vehicle’s headlamps have replace- able halogen bulbs.\\n\\n2.\\n\\nRemove the Bulb Access cover by ro- tating as per the direction arrow shown on the cover.\\n\\n3.\\n\\nPress the pin and pull the connect-or from the bulb.\\n\\n4.\\n\\nTo free the headlamp bulb from the socket, press and swing the retaining spring and pull it straight back.\\n\\n5.\\n\\nPull out the bulb from the socket.\\n\\n6.\\n\\nInsert the new bulb (without touching\\n\\n172\\n\\n7.\\n\\n8.')"
            ]
          },
          "metadata": {}
        },
        {
          "output_type": "display_data",
          "data": {
            "text/plain": [
              "(unstructured.documents.elements.CompositeElement,\n",
              " 'the glass) into the socket.\\n\\nMove the retaining spring up and push it slightly until it locks properly.\\n\\nRefit the connector in to the Bulb & ro- tate the Bulb Access Cover as per the direction arrow shown on the cover.')"
            ]
          },
          "metadata": {}
        },
        {
          "output_type": "display_data",
          "data": {
            "text/plain": [
              "(unstructured.documents.elements.CompositeElement,\n",
              " 'WARNING\\n\\nIt is dangerous if a halogen bulb breaks. These bulbs contain pres- surized gas and if broken, will ex- plode causing serious in-jury by the flying glass.\\n\\nHalogen bulbs can break if the glass portion is touched with bare hands, body oil could cause the bulb to heat unevenly and explode when lit.')"
            ]
          },
          "metadata": {}
        },
        {
          "output_type": "display_data",
          "data": {
            "text/plain": [
              "(unstructured.documents.elements.CompositeElement,\n",
              " 'Never touch the glass portion of the bulb with your bare hands and al- ways wear eye protection when handling or working around halogen bulbs. Always keep halogen bulbs out of the reach of children.')"
            ]
          },
          "metadata": {}
        },
        {
          "output_type": "display_data",
          "data": {
            "text/plain": [
              "(unstructured.documents.elements.CompositeElement,\n",
              " '24 X 7 ROAD ASSISTANCE\\n\\nDear Customer,\\n\\nIt is our responsibility and our endeavor to ensure that you have our complete service backup if ever, wherever and whenever you need the same. When you have a road network that spans wide area, the probability of a breakdown happening within hailing distance of a TATA MOTORS Authorized Workshop is very low.')"
            ]
          },
          "metadata": {}
        },
        {
          "output_type": "display_data",
          "data": {
            "text/plain": [
              "(unstructured.documents.elements.CompositeElement,\n",
              " 'It is precisely for this reason, we have tied up with TVS AA, who will provide break- down assistance including towing to the nearest TATA MOTORS Authorized Work- shop through their Authorized Service Providers (ASP).\\n\\nThe 24X7 On Road Assistance Program shall be automatically available to your ve- hicle for the duration of Warranty period. The program shall also be available, if you avail the same post warranty.\\n\\nEMERGENCY AND BREAKDOWN ASSISTANCE')"
            ]
          },
          "metadata": {}
        },
        {
          "output_type": "display_data",
          "data": {
            "text/plain": [
              "(unstructured.documents.elements.CompositeElement,\n",
              " 'Response Time ** For The On Road Assistance Program\\n\\nWithin City Limits 60 minutes On State or Na- tional Highways Ghat Roads and other places\\n\\n90 minutes\\n\\n120 minutes +/-\\n\\nPlace the advance warning triangle supplied with the vehicle approx. 3 m from the vehicle in the direction of on- coming traffic.\\n\\n** (The response time will depend on the location, terrain, traffic density and the time of the day.)\\n\\nStandard Procedure When Calling For On Road Assistance In Case Of A Breakdown')"
            ]
          },
          "metadata": {}
        },
        {
          "output_type": "display_data",
          "data": {
            "text/plain": [
              "(unstructured.documents.elements.CompositeElement,\n",
              " 'Dial the toll free help line number – 1800 209 8282\\n\\nIdentify your vehicle with the Vehicle chassis number that is available in the Owner’s Manual.\\n\\nExplain your exact location with land- marks and tell us about the problem you face with the vehicle.\\n\\nPark your vehicle on the edge of the road, open the bonnet and put on the hazard warning signal.\\n\\nCoverage Under 24 X 7 On Road As- sistance Program\\n\\nI. The 24x7 On Road Assistance Pro- gram Service covers the following services\\n\\n173')"
            ]
          },
          "metadata": {}
        },
        {
          "output_type": "display_data",
          "data": {
            "text/plain": [
              "(unstructured.documents.elements.CompositeElement,\n",
              " 'EMERGENCY AND BREAKDOWN ASSISTANCE\\n\\non your vehicle during warranty period.\\n\\nWheel change through spare wheel.\\n\\nArrangement of fuel. (Fuel cost will be chargeable at actual cost).\\n\\ninstance of assistance in one year for both the plans- Basic and Premium. In the pre- mium plan, this includes 2 instances of towing up to the nearest TATA MOTORS Authorized Dealer/Service Center.\\n\\nRe-opening the vehicle in cases of key lock out.')"
            ]
          },
          "metadata": {}
        },
        {
          "output_type": "display_data",
          "data": {
            "text/plain": [
              "(unstructured.documents.elements.CompositeElement,\n",
              " 'Exclusions\\n\\nRectification of electrical problems re- lated to battery, fuses etc.\\n\\n24 X 7 On Road Assistance Program Does Not Apply To')"
            ]
          },
          "metadata": {}
        },
        {
          "output_type": "display_data",
          "data": {
            "text/plain": [
              "(unstructured.documents.elements.CompositeElement,\n",
              " 'On spot repairs for complaints re- pairable at site. ^\\n\\nVehicle to vehicle towing or winching & towing for non-accident cases up to the nearest TATA MOTORS Authorized Dealer/Service Towing charges at actual cost beyond the same to be paid to the ASP in cash. (Any ferry or toll charges levied in re- lation to the vehicle being towed to be paid by the customers in actuals in cash).')"
            ]
          },
          "metadata": {}
        },
        {
          "output_type": "display_data",
          "data": {
            "text/plain": [
              "(unstructured.documents.elements.CompositeElement,\n",
              " 'Center.\\n\\nCost of parts consumables and labor for such repairs not covered under warranty*. These charges are to be settled with ASP in cash.\\n\\nToll or ferry charges paid by ASP in reaching to the breakdown site to be settled with ASP in actuals in cash.\\n\\nCases involving accident, fire, theft, vandalism, riots, lightening, earth- quake, windstorm, hail, tsunami, un- usual weather conditions, other acts of God, flood, etc.\\n\\nFor accident cases, towing charges to be borne by the customer.')"
            ]
          },
          "metadata": {}
        },
        {
          "output_type": "display_data",
          "data": {
            "text/plain": [
              "(unstructured.documents.elements.CompositeElement,\n",
              " 'Vehicles that are unattended, un-reg- istered, impounded or abandoned.\\n\\nII. The 24x7 On Road Assistance Pro- gram coverage on availing the 24X7 pol- icy, post warranty is upto maximum of 6\\n\\nBreakdown/defects caused by misuse, abuse, negligence, alterations or mod- ifications made to the vehicle.\\n\\n174\\n\\nLack of maintenance as per the main- tenance schedule as detailed in the owner’s manual.\\n\\nCases involving racing, rallies, vehicle testing or practice for such events.')"
            ]
          },
          "metadata": {}
        },
        {
          "output_type": "display_data",
          "data": {
            "text/plain": [
              "(unstructured.documents.elements.CompositeElement,\n",
              " 'Disclaimer\\n\\nThe Service is not available in Lak- shadweep.\\n\\n**The reach time is indicative & the ac- tual reach time will be conveyed by the call center at the time of breakdown call.\\n\\nThe reach time can vary depending on the traffic density & time of the day.')"
            ]
          },
          "metadata": {}
        },
        {
          "output_type": "display_data",
          "data": {
            "text/plain": [
              "(unstructured.documents.elements.CompositeElement,\n",
              " 'The reach time indicated does not ac- count for delays due to but not limited to acts of God, laws, rules & regula- tions for time being in force, orders of statutory or Govt. authorities, industrial disputes, inclement weather, heavy down pour, floods, storms, natural calamities, road blocks due to acci- dents, general strife and law & order conditions viz. fire, arson, riots, strikes, terrorist attacks, war etc.')"
            ]
          },
          "metadata": {}
        },
        {
          "output_type": "display_data",
          "data": {
            "text/plain": [
              "(unstructured.documents.elements.CompositeElement,\n",
              " '^ On spot repairs at breakdown site shall depend on nature of complaints & will be as per the discretion of the ASP. * The decision for free of charge re-pairs will be as per the warranty policy & proce- dures of TATA MOTORS PASSENGER VEHICLE LIMITED and as per the interpretation of the same by ASP. You will be duly informed by the ASP & call center for the change applicable if any. •\\n\\nAll charges wherever applicable need to be settled directly with the ASP.')"
            ]
          },
          "metadata": {}
        },
        {
          "output_type": "display_data",
          "data": {
            "text/plain": [
              "(unstructured.documents.elements.CompositeElement,\n",
              " 'Exclusion Of Liabilities\\n\\nIt is understood that TATA MOTORS shall be under no liability whatsoever in respect of any loss or dam-age aris- ing directly or indirectly out of any delay in or non-delivery of, defect/defi- ciency in service/parts provided by ASP.')"
            ]
          },
          "metadata": {}
        },
        {
          "output_type": "display_data",
          "data": {
            "text/plain": [
              "(unstructured.documents.elements.CompositeElement,\n",
              " 'In case vehicle cannot be repaired on- site, customers are advised to use the towing facility for taking their vehicle to the nearest TATA MOTORS authorized workshop only. In no condition shall the vehicle be towed to any unautho- rized work-shop. TATA MOTORS will\\n\\nEMERGENCY AND BREAKDOWN ASSISTANCE\\n\\nnot be responsible for any repairs car- ried out in such unauthorized work- shop.')"
            ]
          },
          "metadata": {}
        },
        {
          "output_type": "display_data",
          "data": {
            "text/plain": [
              "(unstructured.documents.elements.CompositeElement,\n",
              " 'Customer are advised to take acknowl- edgment from the ASP for the list of ac- cessories/extra fittings and other belongings in the vehicle as well as the to current dents/scratches of parts/fitments of the vehicle at the time of ASP taking possession of the vehi- cle & to verify these items when deliv- ery is taken back by them, Claim for loss of or damage to items, if any should be taken up with ASP directly. TATA MOTORS shall not be responsi- ble for any such claims, damages/loss or any')"
            ]
          },
          "metadata": {}
        },
        {
          "output_type": "display_data",
          "data": {
            "text/plain": [
              "(unstructured.documents.elements.CompositeElement,\n",
              " 'deficiency of service of the ASP.')"
            ]
          },
          "metadata": {}
        },
        {
          "output_type": "display_data",
          "data": {
            "text/plain": [
              "(unstructured.documents.elements.CompositeElement,\n",
              " 'condition\\n\\nrelated break-ages\\n\\ntation, malicious intent and refusal to pay the charges for any charges re- lated services and spare parts during service or on previous occasions on part of the customer.')"
            ]
          },
          "metadata": {}
        },
        {
          "output_type": "display_data",
          "data": {
            "text/plain": [
              "(unstructured.documents.elements.CompositeElement,\n",
              " 'On site repairs may be temporary in nature. The completion of repairs does not certify the road worthiness of the vehicle. The customer is advised to en- sure temporary re-pairs carried out on- site is followed by permanent repairs at a TATA MOTORS Authorised Dealer/Service Center at the earliest. Terms and conditions and service cov- erage, exclusions etc. are subject to change without notice.')"
            ]
          },
          "metadata": {}
        },
        {
          "output_type": "display_data",
          "data": {
            "text/plain": [
              "(unstructured.documents.elements.CompositeElement,\n",
              " 'Vehicles will be handled, repaired & towed as per the customer’s risk & TATA MOTORS shall not be liable for any damages / claims as a result of the same.\\n\\nServices entitled to the customers can be refused or cancelled on account of abusive behavior, fraudulent represen-\\n\\n175\\n\\n176')"
            ]
          },
          "metadata": {}
        },
        {
          "output_type": "display_data",
          "data": {
            "text/plain": [
              "(unstructured.documents.elements.CompositeElement,\n",
              " 'MAINTENANCE AND SERVICE\\n\\nPeriodic maintenance is essential for en- suring long trouble free performance.\\n\\nHave your vehicle serviced regularly from TATA MOTORS Authorized Dealer/Service Center.\\n\\nThere is a large network of TATA MO- TORS Authorized Service Centre to help you with their professional servicing ex- pertise. Scheduled maintenance informa- tion is provided which makes tracking routine service easy.')"
            ]
          },
          "metadata": {}
        },
        {
          "output_type": "display_data",
          "data": {
            "text/plain": [
              "(unstructured.documents.elements.CompositeElement,\n",
              " 'The following checks can be carried out between the recommended scheduled maintenance services. Take help of our authorized service center for assistance.\\n\\nEngine oil level\\n\\nEngine coolant level\\n\\nBrake fluid level\\n\\nWasher fluid level checking & top-ping up\\n\\nBattery electrolyte level\\n\\nTyre inflation pressure including spare wheel\\n\\nNOTE\\n\\nRefer “Opening and Closing” section for engine bonnet opening.\\n\\nMAINTENANCE')"
            ]
          },
          "metadata": {}
        },
        {
          "output_type": "display_data",
          "data": {
            "text/plain": [
              "(unstructured.documents.elements.CompositeElement,\n",
              " 'WARNING\\n\\nBe careful not to touch a hot engine, exhaust manifold and pipes, muffler, radiator and water hoses.\\n\\nDo not work on a vehicle with the engine running in an enclosed space, unless you are sure of enough ventilation.\\n\\nKeep all open flames and other burning material (such as ciga- rettes) away from the battery and all fuel related parts.\\n\\nIf you need to do any work inside the engine compartment, •\\n\\nSwitch off the ignition')"
            ]
          },
          "metadata": {}
        },
        {
          "output_type": "display_data",
          "data": {
            "text/plain": [
              "(unstructured.documents.elements.CompositeElement,\n",
              " 'Never reach into the area where there is a risk of danger from mov- ing components, such as the fan ro- tation area.\\n\\nKeep clothing away from moving parts.\\n\\n177\\n\\nMAINTENANCE\\n\\nENGINE COMPARTMENT (MT)\\n\\n&hTab\\n\\n1.\\n\\nBrake fluid reservoir\\n\\n2.\\n\\nDipstick – Engine oil\\n\\n3.\\n\\nWindshield washer container\\n\\n178\\n\\n4.\\n\\n5.\\n\\n6.\\n\\nEngine oil filling cap\\n\\nRadiator Cap\\n\\nFuse Box\\n\\n7.\\n\\nBattery\\n\\nENGINE COMPARTMENT (AMT)\\n\\n&hTab\\n\\n1.\\n\\nBrake fluid reservoir\\n\\n2.\\n\\nDipstick – Engine oil\\n\\n3.')"
            ]
          },
          "metadata": {}
        },
        {
          "output_type": "display_data",
          "data": {
            "text/plain": [
              "(unstructured.documents.elements.CompositeElement,\n",
              " 'Windshield washer container\\n\\n4.\\n\\n5.\\n\\n6.\\n\\nEngine oil filling cap\\n\\nRadiator Cap\\n\\nFuse Box\\n\\n7.\\n\\n8.\\n\\nBattery\\n\\nAMT oil reservoir\\n\\nMAINTENANCE\\n\\n179\\n\\nMAINTENANCE\\n\\nENGINE OIL LEVEL\\n\\nDipstick location Engine oil')"
            ]
          },
          "metadata": {}
        },
        {
          "output_type": "display_data",
          "data": {
            "text/plain": [
              "(unstructured.documents.elements.CompositeElement,\n",
              " 'Warm up the engine to normal operating temperature.\\n\\nTurn it ‘OFF’ and wait for 5 minutes for the oil to return to the oil pan. Be sure the ve- hicle is on a level surface.\\n\\nTake out the dipstick, wipe it clean, and reinsert it fully. Pull it out again and exam- ine the oil level. It should be between ‘MIN’ and ‘MAX’ level. If not, top up with recom- mended engine oil.\\n\\n180\\n\\nNOTE\\n\\nThe oil consumption depends upon the driving style and the conditions under which the vehicle is used.\\n\\nDipstick')"
            ]
          },
          "metadata": {}
        },
        {
          "output_type": "display_data",
          "data": {
            "text/plain": [
              "(unstructured.documents.elements.CompositeElement,\n",
              " 'NOTE\\n\\nDo not remove the filler cap when the engine is running. Do not add oil above than the MAX. mark. Oil level above the MAX. mark may cause engine damage.\\n\\nFor location of Engine oil filling cap and dip stick, please refer image of the re- spective Engine Compartment.\\n\\nBRAKE FLUID LEVEL\\n\\nBrake fluid reservoir')"
            ]
          },
          "metadata": {}
        },
        {
          "output_type": "display_data",
          "data": {
            "text/plain": [
              "(unstructured.documents.elements.CompositeElement,\n",
              " 'Brake fluid level\\n\\nThe level of the brake fluid should be be-\\n\\ntween the ‘MIN’ and ‘MAX’ marks provided on the side of the brake fluid container. If the level falls below the ‘MIN’ mark, add recommended brake fluid.')"
            ]
          },
          "metadata": {}
        },
        {
          "output_type": "display_data",
          "data": {
            "text/plain": [
              "(unstructured.documents.elements.CompositeElement,\n",
              " 'NOTE\\n\\nDo not allow brake fluid to make contact with the skin or eyes. Do not allow brake fluid to splash or spill on the paint surface as it will damage the paint. In case of spillage, wipe it off immediately.\\n\\nFor location of Brake Fluid Container and filling cap, please refer respective Engine Compartment.\\n\\nMAINTENANCE')"
            ]
          },
          "metadata": {}
        },
        {
          "output_type": "display_data",
          "data": {
            "text/plain": [
              "(unstructured.documents.elements.CompositeElement,\n",
              " 'ENGINE COOLANT LEVEL\\n\\nExamine whether the coolant level is be- tween the ‘MIN’ and ‘MAX’ marks provided on the coolant reservoir.\\n\\nWhen the coolant level is low, top up with recommended coolant through filler of No loss tank until the level approaches the max level line. Refer ‘Technical informa- tion’ section.\\n\\n181\\n\\nMAINTENANCE')"
            ]
          },
          "metadata": {}
        },
        {
          "output_type": "display_data",
          "data": {
            "text/plain": [
              "(unstructured.documents.elements.CompositeElement,\n",
              " 'NOTE\\n\\nIn case of emergency, a large amount of water without engine coolant may be added in order to reach a vehicle serv- ice location.\\n\\nWhenever coolant has been added, the coolant level in the coolant reservoir should be checked the next few times you drive the vehicle to confirm correct level.\\n\\nFor location of Engine coolant con- tainer and filler cap, please refer image of Engine Compartment.')"
            ]
          },
          "metadata": {}
        },
        {
          "output_type": "display_data",
          "data": {
            "text/plain": [
              "(unstructured.documents.elements.CompositeElement,\n",
              " 'NOTE\\n\\nTopping up of the coolant should be done in the auxiliary tank only.\\n\\nMake sure that only TATA MOTORS rec- ommended coolant is used. Mixing of dif- ferent coolants may harm your engine’s cooling system and its components. Do not add extra inhibitors or additives to the coolant. These can be harmful and com- promise the corrosion protection of the en- gine coolant.\\n\\n182')"
            ]
          },
          "metadata": {}
        },
        {
          "output_type": "display_data",
          "data": {
            "text/plain": [
              "(unstructured.documents.elements.CompositeElement,\n",
              " 'WARNING\\n\\nThe engine cooling system is pressur- ized, particularly when the engine is warm. When opening the cap, you could be scalded by hot coolant spray- ing out. There is a risk of injury. Let the engine cool down before open- ing the cap. Wear eye and hand protec- tion when opening the cap. Open the cap slowly half a turn to allow pressure to escape.')"
            ]
          },
          "metadata": {}
        },
        {
          "output_type": "display_data",
          "data": {
            "text/plain": [
              "(unstructured.documents.elements.CompositeElement,\n",
              " 'CHECKING AMT OIL RESERVOIR LEVEL\\n\\nThe level of the AMT oil reservoir level should be between the ‘MIN’ and ‘MAX’ marks on the side of the container. If the level falls below the ‘MIN’ mark, add rec- ommended oil.\\n\\nWINDSHIELD WASHER FLUID LEVEL\\n\\nExamine if there is washer fluid in the tank. Fill it if necessary. Use a good quality windshield washer fluid, diluted with water as necessary.')"
            ]
          },
          "metadata": {}
        },
        {
          "output_type": "display_data",
          "data": {
            "text/plain": [
              "(unstructured.documents.elements.CompositeElement,\n",
              " 'NOTE\\n\\nDo not use detergent or any other additive in the windshield washer reservoir. This can severely impair visibility when sprayed on the wind- shield, and can also damage your\\n\\nvehicle’s paint.\\n\\nDo not operate washer motor with no fluid in washer tank, washer motor will be damaged\\n\\nFor location of Windshield Washer Container and filling cap, please refer image of the respective Engine Com- partment.\\n\\nMAINTENANCE')"
            ]
          },
          "metadata": {}
        },
        {
          "output_type": "display_data",
          "data": {
            "text/plain": [
              "(unstructured.documents.elements.CompositeElement,\n",
              " 'BATTERY\\n\\nExamine the battery for electrolyte level against the marking on the bat- tery outer case.\\n\\nExamine the battery terminals for cor- rosion (a white or yellowish powder). To remove it, wash the terminals with a solution of baking soda. It will bubble up and turn brown.\\n\\nWhen this stops, wash it off with plain water. Dry off the battery with a cloth or paper towel.\\n\\nApply petroleum jelly to the terminals to prevent further corrosion.')"
            ]
          },
          "metadata": {}
        },
        {
          "output_type": "display_data",
          "data": {
            "text/plain": [
              "(unstructured.documents.elements.CompositeElement,\n",
              " 'Use a proper wrench to loosen and re- move cables from the terminals.\\n\\nAlways disconnect the negative (-ve) cable first and reconnect it last.\\n\\nIf your vehicle is equipped with Battery Sensor, then disconnect only the Sen- sor Output Cable. Do not remove the Sensor, Sensor connector completely as this will result in the loss of sensor function temporarily. Sensor function- ality will be restored when the Vehicle\\n\\n183')"
            ]
          },
          "metadata": {}
        },
        {
          "output_type": "display_data",
          "data": {
            "text/plain": [
              "(unstructured.documents.elements.CompositeElement,\n",
              " 'MAINTENANCE\\n\\nis parked for 3 hours without any oper- ation.\\n\\nClean the battery terminals with a ter- minal cleaning tool or wire brush.\\n\\nReconnect and tighten the cables, coat the terminals with petroleum jelly.\\n\\nMake sure that the battery is securely mounted.\\n\\nIf you need to connect the battery to a charger, disconnect both cables to pre- vent damage to the vehicle’s electrical system.\\n\\nIf your vehicle is equipped with Battery\\n\\n184')"
            ]
          },
          "metadata": {}
        },
        {
          "output_type": "display_data",
          "data": {
            "text/plain": [
              "(unstructured.documents.elements.CompositeElement,\n",
              " 'Sensor, connect the jump start leads on output terminal of Battery Sensor. Do not connect the jump start leads on Sensor surface or Battery terminal. This will result of function loss of Bat- tery sensor. Refer the Battery Sensor image for do’s and don’ts.\\n\\nNOTE\\n\\nUse For petrol MT 60Ah Enhanced flooded Battery to be replaced with enhanced flooded battery (60 Ah) of the respective supplier only.\\n\\nFor location of battery, please refer image of the respective Engine Com- partment.')"
            ]
          },
          "metadata": {}
        },
        {
          "output_type": "display_data",
          "data": {
            "text/plain": [
              "(unstructured.documents.elements.CompositeElement,\n",
              " 'NOTE\\n\\nUse only authorized Battery recom- mended by TATA Motors. Use of any other unauthorized Battery will result into Engine Start-Stop ,Intelligent Alter- nator control function detoriation.\\n\\nNOTE\\n\\nDuring normal operation, the battery generates gas which is explosive in nature. A spark or open flame can cause the battery to explode caus\\n\\ning very serious injuries.\\n\\nKeep all sparks, open flames and smoking materials away from the battery.')"
            ]
          },
          "metadata": {}
        },
        {
          "output_type": "display_data",
          "data": {
            "text/plain": [
              "(unstructured.documents.elements.CompositeElement,\n",
              " 'The battery contains sulphuric acid (electrolyte) which is poisonous and highly corrosive in nature. Getting electrolyte in your eyes or on the skin can cause severe burns. Wear protective clothing and a face shield or have a skilled technician to do the battery maintenance.\\n\\nSPARK PLUG (PETROL)\\n\\nFor NG NA Engine\\n\\nSpark Plug Number Federal Mogul (Champion)\\n\\nRER8MC\\n\\nGap\\n\\n0.8 to 0.9 mm\\n\\nTightening Torque - 25 Nm\\n\\nNOTE\\n\\nUse spark plug of recommended make & type for replacement.\\n\\nMAINTENANCE')"
            ]
          },
          "metadata": {}
        },
        {
          "output_type": "display_data",
          "data": {
            "text/plain": [
              "(unstructured.documents.elements.CompositeElement,\n",
              " 'TYRES\\n\\n1\\n\\nUnder inflation\\n\\nExcessive side tread wear\\n\\n2\\n\\nCorrect tyre pres- sure\\n\\nUniform wear\\n\\n3\\n\\nOver inflation\\n\\nExcessive cen- ter tread wear\\n\\nInflation\\n\\nDo a check of the tyre pressure and the tyres condition periodically.\\n\\nExamine the pressure in the tyres when they are cold.\\n\\n185')"
            ]
          },
          "metadata": {}
        },
        {
          "output_type": "display_data",
          "data": {
            "text/plain": [
              "(unstructured.documents.elements.CompositeElement,\n",
              " 'MAINTENANCE\\n\\nKeep the correct pressure in the tyres for the best combination of riding comfort, handling, tyre life and optimum perform- ance.\\n\\nOver inflation of tyres makes the vehicle ride bumpy and harsh. Tyres are more prone to uneven wear and damage from road hazards.\\n\\nUnder inflated tyres reduce comfort, af- fects handling and increases the operating temperature, which can result in failure. They also cause uneven wear and bring down the performance of the car.')"
            ]
          },
          "metadata": {}
        },
        {
          "output_type": "display_data",
          "data": {
            "text/plain": [
              "(unstructured.documents.elements.CompositeElement,\n",
              " 'NOTE\\n\\nEvery time you check inflation pressure, you should also examine tyres for un- even wear, damage and trapping of for- eign objects in the treads and wear.\\n\\n186\\n\\nRecommended Tyre Pressures\\n\\nTyre Size\\n\\nFront (psi/bar)\\n\\nRear (psi/bar)\\n\\n185/70 R15 89H 195/60 R16 89H\\n\\n32 psi (2.2 bar)\\n\\nNOTE\\n\\nThis is for reference. Kindly refer Tyre pressure as indicated on tyre pressure sticker provided on vehicle.\\n\\nTyre Pressure Sticker Location')"
            ]
          },
          "metadata": {}
        },
        {
          "output_type": "display_data",
          "data": {
            "text/plain": [
              "(unstructured.documents.elements.CompositeElement,\n",
              " 'Tyre Rotation\\n\\nTo increase tyre life rotate the tyre at spec- ified intervals or earlier depending on the operation of vehicle. The illustrations shows how to rotate tyres.\\n\\nFor 185/70 R15 Tyres\\n\\nWith temporary spare wheel\\n\\nFor Tyre With Temporary Spare Wheel (if available)\\n\\nFor 195/60 R16 Tyres With Temporary Spare Wheel')"
            ]
          },
          "metadata": {}
        },
        {
          "output_type": "display_data",
          "data": {
            "text/plain": [
              "(unstructured.documents.elements.CompositeElement,\n",
              " 'NOTE\\n\\nDo not use spare wheel for tyre ro- tation, in case of temporary spare wheel used.\\n\\nTwo or more temporary tyres should not be used on one vehicle.\\n\\nTyre pressure of temporary wheel is to be checked at least once in in a month.\\n\\nWheel Covers (if available)\\n\\nInsert a piece of cloth between the spokes of the wheel cover and pull it outwards.')"
            ]
          },
          "metadata": {}
        },
        {
          "output_type": "display_data",
          "data": {
            "text/plain": [
              "(unstructured.documents.elements.CompositeElement,\n",
              " 'MAINTENANCE\\n\\nTake out detached wheel cover from the wheel rim.\\n\\nWhen installing the cover, make sure that it is positioned so that it does not cover the air filling valve. Apply equal pressure at the circumference of the wheel cover to fix it in the wheel rim.\\n\\nNOTE\\n\\nDo not use any sharp tools (such as screw driver etc.) to remove the wheel cover.')"
            ]
          },
          "metadata": {}
        },
        {
          "output_type": "display_data",
          "data": {
            "text/plain": [
              "(unstructured.documents.elements.CompositeElement,\n",
              " 'Wheel Balancing\\n\\nWheels of your vehicle are balanced for better ride comfort and longer tyre life. Bal- ancing needs to be done whenever tyre is removed from rim.\\n\\nWARNING\\n\\nIf the vehicle vibrates abnormally on a smooth road, have the wheel balanced done immediately.\\n\\nSpecial Care For Tubeless Tyres\\n\\nWhen you remove the tyre and install\\n\\n187')"
            ]
          },
          "metadata": {}
        },
        {
          "output_type": "display_data",
          "data": {
            "text/plain": [
              "(unstructured.documents.elements.CompositeElement,\n",
              " 'MAINTENANCE\\n\\nit back on the rim, take precautions not to damage tyre bead. Use tyre removal and assembly machines. Damage or cut on tyre bead may cause gradual loss of air and deflation of tyre.\\n\\nDo not scratch the inner surface of tubeless tyre with metallic or sharp ob- ject. Tubeless tyres are coated with im- permeable layer of rubber from the inner surface which holds the air in the tyre. Removal of this layer due to scratching may cause gradual loss of air and deflation.')"
            ]
          },
          "metadata": {}
        },
        {
          "output_type": "display_data",
          "data": {
            "text/plain": [
              "(unstructured.documents.elements.CompositeElement,\n",
              " 'If wheel rim gets damaged in service, get the wheel rim repaired/ replaced immediately. Running the vehicle with damaged rim may cause deflation of tyre and subsequent dislodging of tyre from rim.\\n\\nKeep the recommended inflation pres- sure. Over-inflation, in particular, may cause puncture or bursting of tyre.')"
            ]
          },
          "metadata": {}
        },
        {
          "output_type": "display_data",
          "data": {
            "text/plain": [
              "(unstructured.documents.elements.CompositeElement,\n",
              " 'NOTE\\n\\nLife and wear pattern of tyres depends on various parameters like tyre pres\\n\\n188\\n\\nsure, wheel alignment, wheel balanc- ing, tyre rotation, etc. It also largely de- pends on vehicle speed, load carried, usage, driving habits, road conditions, tyre quality, etc. In case fault is sus- pected to be due to poor quality of tyres, the same may be taken up with con- cerned tyre manufacturer.\\n\\nSMART KEY BATTERY REPLACE- MENT (For PEPS variant)')"
            ]
          },
          "metadata": {}
        },
        {
          "output_type": "display_data",
          "data": {
            "text/plain": [
              "(unstructured.documents.elements.CompositeElement,\n",
              " 'Procedure:\\n\\n1.\\n\\nOpen rear side of key (battery cover).\\n\\n2.\\n\\nReplace with new battery in the smart key battery slot.\\n\\n3.\\n\\nEnsure that the “+” symbol on the bat- tery is facing upwards. The correct po- larity is shown on the battery cover.\\n\\n4.\\n\\nClose the battery cover.\\n\\n5.\\n\\nMake sure that the key cover is intact properly.\\n\\nNOTE')"
            ]
          },
          "metadata": {}
        },
        {
          "output_type": "display_data",
          "data": {
            "text/plain": [
              "(unstructured.documents.elements.CompositeElement,\n",
              " 'Use CR 2032 battery only.\\n\\nAn inappropriately dis-posed battery can be harmful to the environment and human health. Dispose the bat- tery according to your local law(s) and regulation.')"
            ]
          },
          "metadata": {}
        },
        {
          "output_type": "display_data",
          "data": {
            "text/plain": [
              "(unstructured.documents.elements.CompositeElement,\n",
              " 'ON BOARD DIAGNOSTIC (OBD II) SYSTEM\\n\\nOn board Diagnostics or OBD, is an auto- motive term referring to a vehicle’s self-di- agnostic and reporting capability. The OBD system allows continuous diagnosis of the components of the vehicle corre- lated with emissions. This system warns the driver, by turning “ON” the Malfunction Indication lamp (MIL) on the instrument cluster, when a fault causes emission lev- els to increase.')"
            ]
          },
          "metadata": {}
        },
        {
          "output_type": "display_data",
          "data": {
            "text/plain": [
              "(unstructured.documents.elements.CompositeElement,\n",
              " 'The OBD system also has a diagnostic connector that can be interfaced with ap- propriate diagnostic tools, which makes it possible to read the fault codes stored in the Electronic Control Unit, together with a series of specific parameters for Engine operation and Diagnosis. This check can also be carried out by the traffic police.\\n\\nOn board diagnostic located in Engine compartment fuse box. (Refer below image)\\n\\nMAINTENANCE\\n\\nLocation of On board diagnostic (OBD II)\\n\\n189\\n\\nMAINTENANCE')"
            ]
          },
          "metadata": {}
        },
        {
          "output_type": "display_data",
          "data": {
            "text/plain": [
              "(unstructured.documents.elements.CompositeElement,\n",
              " 'SERVICE INSTRUCTIONS\\n\\nThe TATA PUNCH has been manufactured to give you econom- ical and trouble free performance. To achieve this, please follow the instructions as stated.\\n\\nYour vehicle is entitled to three free services (labour only). The free service coupons are attached to the sales invoice. Please present these coupons to the servicing dealer while availing free services.\\n\\n1st free service - At 1,000-2,000km. OR 2 months, whichever is earlier.')"
            ]
          },
          "metadata": {}
        },
        {
          "output_type": "display_data",
          "data": {
            "text/plain": [
              "(unstructured.documents.elements.CompositeElement,\n",
              " '2nd free service - At 7,000-8,000km. OR 6 months, whichever is earlier.\\n\\n3rd free service - At 14,500-15,500km. OR 12 months, which- ever is earlier.\\n\\nAll services other than free services are chargeable.\\n\\n190\\n\\nServicing of the vehicle can be done at any TATA MOTORS Au- thorised Dealer Workshop or TATA MOTORS Authorised Service Centre (TASC).\\n\\nWarranty claims can be settled by any TATA MOTORS Authorised Dealer Workshop or TATA MOTORS Authorised Service Centre (TASC).\\n\\nSERVICE SCHEDULE\\n\\nSr. No.')"
            ]
          },
          "metadata": {}
        },
        {
          "output_type": "display_data",
          "data": {
            "text/plain": [
              "(unstructured.documents.elements.CompositeElement,\n",
              " 'Operation\\n\\n1\\n\\n2\\n\\n3\\n\\n4\\n\\nGeneral Wash the vehicle & Clean Condenser Fins Check & Top up Fluids (If re- quired): Transaxle Oil, Coolant, Brake Fluid, Bat- tery Electrolyte, Wind Screen washer fluid Check Fuel Lines for Leak- ages Check and Capture all DTC’s Clear all faults and Erase the Codes.\\n\\n5\\n\\nCheck condition of rubber bushes/parts in lower con- trol arms, front and rear coil spring seats, front & rear bump stoppers, anti roll bar links, rear twist beam, rub\\n\\nMAINTENANCE\\n\\nm K\\n\\ni')"
            ]
          },
          "metadata": {}
        },
        {
          "output_type": "display_data",
          "data": {
            "text/plain": [
              "(unstructured.documents.elements.CompositeElement,\n",
              " 'd P\\n\\nk 0 0 5 1\\n\\nk 0 0 5 7\\n\\n0 0 0 5 1\\n\\n0 0 5 2 2\\n\\n0 0 0 0 3\\n\\n0 0 5 7 3\\n\\n0 0 0 5 4\\n\\n0 0 5 2 5\\n\\n0 0 0 0 6\\n\\n0 0 5 7 6\\n\\n0 0 0 5 7\\n\\n0 0 5 2 8\\n\\n0 0 0 0 9\\n\\n0 0 5 7 9\\n\\n0 0 0 5 0 1\\n\\n0 0 5 2 1 1\\n\\n0 0 0 0 2 1\\n\\n0 0 5 7 2 1\\n\\n0 0 0 5 3 1\\n\\n0 0 5 2 4 1\\n\\n0 0 0 0 5 1\\n\\nMonths 0 2 6\\n\\n2 1\\n\\n8 1\\n\\n4 2\\n\\n0 3\\n\\n6 3\\n\\n2 4\\n\\n8 4\\n\\n4 5\\n\\n0 6\\n\\n6 6\\n\\n2 7\\n\\n8 7\\n\\n4 8\\n\\n0 9\\n\\n6 9\\n\\n2 0 1\\n\\n8 0 1\\n\\n4 1 1\\n\\n0 2 1\\n\\nEvery Service\\n\\n● ● ● ● ● ● ● ● ● ● ● ● ● ● ● ● ● ● ● ● ●\\n\\nEvery Service\\n\\n● ● ● ● ● ● ● ● ● ● ● ● ● ● ● ● ● ● ● ● ●')"
            ]
          },
          "metadata": {}
        },
        {
          "output_type": "display_data",
          "data": {
            "text/plain": [
              "(unstructured.documents.elements.CompositeElement,\n",
              " 'Every Service\\n\\n● ● ● ● ● ● ● ● ● ● ● ● ● ● ● ● ● ● ● ● ●\\n\\nEvery Service\\n\\n● ● ● ● ● ● ● ● ● ● ● ● ● ● ● ● ● ● ● ● ●\\n\\n7.5K / 6M\\n\\n● ● ● ● ● ● ● ● ● ● ● ● ● ● ● ● ● ● ●\\n\\n191\\n\\nMAINTENANCE\\n\\nSr. No.')"
            ]
          },
          "metadata": {}
        },
        {
          "output_type": "display_data",
          "data": {
            "text/plain": [
              "(unstructured.documents.elements.CompositeElement,\n",
              " 'Operation\\n\\n6\\n\\n7\\n\\nber boots/dust cover/bellow in rack & pinion, steering and suspension ball joints, steering column. Replace if necessary. (First at 7.5K / 6M then at every service) (For severe usage, above checks to be done at every 5,000 km or after every se- vere usage event) Check & Replace if found damaged - Exhaust hanger Check All door latch & striker operations Adjust & Apply grease If required\\n\\n8 Check for all bolts & nuts\\n\\nENGINE (Gasoline) NA\\n\\n1')"
            ]
          },
          "metadata": {}
        },
        {
          "output_type": "display_data",
          "data": {
            "text/plain": [
              "(unstructured.documents.elements.CompositeElement,\n",
              " 'filter element Clean air (more frequently for vehicle\\n\\n192\\n\\nm K\\n\\ni\\n\\nd P\\n\\nk 0 0 5 1\\n\\nk 0 0 5 7\\n\\n0 0 0 5 1\\n\\n0 0 5 2 2\\n\\n0 0 0 0 3\\n\\n0 0 5 7 3\\n\\n0 0 0 5 4\\n\\n0 0 5 2 5\\n\\n0 0 0 0 6\\n\\n0 0 5 7 6\\n\\n0 0 0 5 7\\n\\n0 0 5 2 8\\n\\n0 0 0 0 9\\n\\n0 0 5 7 9\\n\\n0 0 0 5 0 1\\n\\n0 0 5 2 1 1\\n\\n0 0 0 0 2 1\\n\\n0 0 5 7 2 1\\n\\n0 0 0 5 3 1')"
            ]
          },
          "metadata": {}
        },
        {
          "output_type": "display_data",
          "data": {
            "text/plain": [
              "(unstructured.documents.elements.CompositeElement,\n",
              " 'Months 0 2 6\\n\\n2 1\\n\\n8 1\\n\\n4 2\\n\\n0 3\\n\\n6 3\\n\\n2 4\\n\\n8 4\\n\\n4 5\\n\\n0 6\\n\\n6 6\\n\\n2 7\\n\\n8 7\\n\\n4 8\\n\\n0 9\\n\\n6 9\\n\\n2 0 1\\n\\n8 0 1\\n\\n30K/24 M\\n\\n15K/12 M\\n\\n7.5K / 6M\\n\\n● ● ● ● ● ● ● ● ● ● ● ● ● ● ● ● ● ● ●\\n\\n15K / 12M\\n\\n0 0 5 2 4 1\\n\\n4 1 1\\n\\n0 0 0 0 5 1\\n\\n0 2 1\\n\\nSr. No.\\n\\nOperation\\n\\nm K\\n\\ni\\n\\nd P\\n\\nk 0 0 5 1\\n\\nk 0 0 5 7\\n\\nMonths 0 2 6')"
            ]
          },
          "metadata": {}
        },
        {
          "output_type": "display_data",
          "data": {
            "text/plain": [
              "(unstructured.documents.elements.CompositeElement,\n",
              " 'operating in severe condi- tion)\\n\\n2\\n\\n3\\n\\n4\\n\\n5\\n\\n6\\n\\nChange engine oil and Oil filter Gasoline - Replace Gaso- line Fuel Filter Change Spark plugs - Nat- ural Aspirated Engine Check accessory belt condi- tion visually, replace if found damage Replace air filter element (more frequently for vehicle operating in severe condi- tion)\\n\\n15K / 12M 75K/60 M 45K/36 M\\n\\n15K/12 M\\n\\n45K/36 M\\n\\n7 Change coolant\\n\\n# 60K/ 36M\\n\\n1')"
            ]
          },
          "metadata": {}
        },
        {
          "output_type": "display_data",
          "data": {
            "text/plain": [
              "(unstructured.documents.elements.CompositeElement,\n",
              " 'BRAKES Check front brake pads & 15K/12M\\n\\n0 0 0 5 1\\n\\n2 1\\n\\n0 0 5 2 2\\n\\n8 1\\n\\n0 0 0 0 3\\n\\n4 2\\n\\n0 0 5 7 3\\n\\n0 3\\n\\n0 0 0 5 4\\n\\n6 3\\n\\n0 0 5 2 5\\n\\n2 4\\n\\n0 0 0 0 6\\n\\n8 4\\n\\n0 0 5 7 6\\n\\n4 5\\n\\n0 0 0 5 7\\n\\n0 6\\n\\n0 0 5 2 8\\n\\n6 6\\n\\n0 0 0 0 9\\n\\n2 7\\n\\n0 0 5 7 9\\n\\n8 7\\n\\n0 0 0 5 0 1\\n\\n4 8\\n\\n0 0 5 2 1 1\\n\\n0 9\\n\\nMAINTENANCE\\n\\n0 0 0 0 2 1\\n\\n0 0 5 7 2 1\\n\\n0 0 0 5 3 1\\n\\n0 0 5 2 4 1\\n\\n0 0 0 0 5 1\\n\\n6 9\\n\\n2 0 1\\n\\n8 0 1\\n\\n4 1 1\\n\\n0 2 1\\n\\n193\\n\\nMAINTENANCE\\n\\nSr. No.')"
            ]
          },
          "metadata": {}
        },
        {
          "output_type": "display_data",
          "data": {
            "text/plain": [
              "(unstructured.documents.elements.CompositeElement,\n",
              " 'Operation\\n\\nrear brake linings. Replace if necessary\\n\\n2\\n\\n3\\n\\nRepalce brake fluid , Check brake system com- ponents for Leakages Inspect and if necessary adjust handbrake setting (First check @7.5K/6M then after every 15K/12M)\\n\\n1\\n\\n2\\n\\nWHEELS & TYRES Check & adjust wheel align- ment (For severe usage, above checks to be done at every 5,000 km or after every severe usage event) Check for Tyre pressure, condition & rotate\\n\\n194\\n\\nm K\\n\\ni')"
            ]
          },
          "metadata": {}
        },
        {
          "output_type": "display_data",
          "data": {
            "text/plain": [
              "(unstructured.documents.elements.CompositeElement,\n",
              " 'd P\\n\\nk 0 0 5 1\\n\\nk 0 0 5 7\\n\\n0 0 0 5 1\\n\\n0 0 5 2 2\\n\\n0 0 0 0 3\\n\\n0 0 5 7 3\\n\\n0 0 0 5 4\\n\\n0 0 5 2 5\\n\\n0 0 0 0 6\\n\\n0 0 5 7 6\\n\\n0 0 0 5 7\\n\\n0 0 5 2 8\\n\\n0 0 0 0 9\\n\\n0 0 5 7 9\\n\\n0 0 0 5 0 1\\n\\n0 0 5 2 1 1\\n\\n0 0 0 0 2 1\\n\\n0 0 5 7 2 1\\n\\n0 0 0 5 3 1\\n\\nMonths 0 2 6\\n\\n2 1\\n\\n8 1\\n\\n4 2\\n\\n0 3\\n\\n6 3\\n\\n2 4\\n\\n8 4\\n\\n4 5\\n\\n0 6\\n\\n6 6\\n\\n2 7\\n\\n8 7\\n\\n4 8\\n\\n0 9\\n\\n6 9\\n\\n2 0 1\\n\\n8 0 1\\n\\n# 45K / 24M\\n\\n15K / 12M\\n\\n●\\n\\n# 15K/18 M\\n\\n# 7.5 K/12M\\n\\n● ● ● ● ● ● ● ● ● ● ● ● ● ● ● ● ● ● ●\\n\\n0 0 5 2 4 1\\n\\n4 1 1\\n\\n0 0 0 0 5 1\\n\\n0 2 1\\n\\nMAINTENANCE\\n\\nSr. No.\\n\\nOperation\\n\\nm K\\n\\ni')"
            ]
          },
          "metadata": {}
        },
        {
          "output_type": "display_data",
          "data": {
            "text/plain": [
              "(unstructured.documents.elements.CompositeElement,\n",
              " 'd P\\n\\nk 0 0 5 1\\n\\nk 0 0 5 7\\n\\n0 0 0 5 1\\n\\n0 0 5 2 2\\n\\n0 0 0 0 3\\n\\n0 0 5 7 3\\n\\n0 0 0 5 4\\n\\n0 0 5 2 5\\n\\n0 0 0 0 6\\n\\n0 0 5 7 6\\n\\n0 0 0 5 7\\n\\n0 0 5 2 8\\n\\n0 0 0 0 9\\n\\n0 0 5 7 9\\n\\n0 0 0 5 0 1\\n\\n0 0 5 2 1 1\\n\\n0 0 0 0 2 1\\n\\n0 0 5 7 2 1\\n\\n0 0 0 5 3 1\\n\\n0 0 5 2 4 1\\n\\n0 0 0 0 5 1\\n\\nMonths 0 2 6\\n\\n2 1\\n\\n8 1\\n\\n4 2\\n\\n0 3\\n\\n6 3\\n\\n2 4\\n\\n8 4\\n\\n4 5\\n\\n0 6\\n\\n6 6\\n\\n2 7\\n\\n8 7\\n\\n4 8\\n\\n0 9\\n\\n6 9\\n\\n2 0 1\\n\\n8 0 1\\n\\n4 1 1\\n\\n0 2 1\\n\\nTRANSAXLE')"
            ]
          },
          "metadata": {}
        },
        {
          "output_type": "display_data",
          "data": {
            "text/plain": [
              "(unstructured.documents.elements.CompositeElement,\n",
              " '1 Replace transaxle oil\\n\\n75K/60 M\\n\\n2\\n\\n1\\n\\nCheck AMT Kit oil level, it should be in between min. & Max. level when the vehi- cle is in standstill and Ignition ON condition. Top up AMT kit oil if necessary. ELECTRICAL Check specific gravity of battery electrolyte')"
            ]
          },
          "metadata": {}
        },
        {
          "output_type": "display_data",
          "data": {
            "text/plain": [
              "(unstructured.documents.elements.CompositeElement,\n",
              " 'Every Service\\n\\n7.5K/6M\\n\\n● ● ● ● ● ● ● ● ● ● ● ● ● ● ● ● ● ● ● ● ●\\n\\n● ● ● ● ● ● ● ● ● ● ● ● ● ● ● ● ● ● ●\\n\\n2 Check headlamp focusing\\n\\n15K/12 M\\n\\n1\\n\\nA.C. SYSTEM Clean filter and check of Air- conditioning / HVAC System for satisfactory performance\\n\\nEvery Service\\n\\n● ● ● ● ● ● ● ● ● ● ● ● ● ● ● ● ● ● ● ● ●\\n\\n# Kms or months whichever occurs earlier.\\n\\n195\\n\\nMAINTENANCE')"
            ]
          },
          "metadata": {}
        },
        {
          "output_type": "display_data",
          "data": {
            "text/plain": [
              "(unstructured.documents.elements.CompositeElement,\n",
              " 'VEHICLE PARKING FOR LONG DU- RATION (Non - Use Maintenance)\\n\\nIf you want to park your vehicle at one place for long duration, following care is to be taken:\\n\\n1.\\n\\nPark the vehicle in covered, dry and if possible well-ventilated premises. En- gage a gear.\\n\\n2.\\n\\nRemove the battery terminal cables (first remove the cable from the nega- tive terminal). Ensure that battery is fully charged.\\n\\n3.\\n\\nUse wheel chocks to prevent move- ment of the car.\\n\\n4.')"
            ]
          },
          "metadata": {}
        },
        {
          "output_type": "display_data",
          "data": {
            "text/plain": [
              "(unstructured.documents.elements.CompositeElement,\n",
              " 'Clean and protect the painted parts using protective wax.\\n\\n5.\\n\\nClean and protect the shiny metal parts using commercially available special compounds.\\n\\n6.\\n\\nSprinkle talcum powder on the rubber windscreen wiper and lift them off the glass.\\n\\n7.\\n\\nSlightly open the windows.\\n\\n8.\\n\\nCover the vehicle with a cloth or perfo- rated plastic sheet. Do not use sheets\\n\\n196\\n\\n9.\\n\\n10.\\n\\n11.\\n\\nof imperforated plastic as they do not allow moisture on the vehicle body to evaporate.')"
            ]
          },
          "metadata": {}
        },
        {
          "output_type": "display_data",
          "data": {
            "text/plain": [
              "(unstructured.documents.elements.CompositeElement,\n",
              " 'Inflate the tyres to 0.5 bar above the normal specified pressure and check it at regular intervals.\\n\\nCheck the battery charge every six weeks.\\n\\nDo not drain the engine cooling sys- tem.\\n\\nFUEL SPECIFICATION\\n\\nFuel (petrol)\\n\\nUnleaded gasoline conforming IS 2796:2017 is recommended to be used as fuel. It is always recommended to use cor- rect fuel to get optimum emission perform- ance.\\n\\nto')"
            ]
          },
          "metadata": {}
        },
        {
          "output_type": "display_data",
          "data": {
            "text/plain": [
              "(unstructured.documents.elements.CompositeElement,\n",
              " 'NOTE\\n\\nAlways use petrol of a correct specifica- tion in a vehicle fitted with catalytic con- verter. Even single fill of leaded petrol will seriously damage the catalytic con- verter.\\n\\nTECHNICAL INFORMATION\\n\\n197\\n\\nTECHNICAL INFORMATION\\n\\nLUBRICANT SPECIFICATION\\n\\nUse following genuine fluids, coolants and lubricants recommended for optimum performance of your vehicle.\\n\\nItem\\n\\nEngine oil\\n\\nSpecification\\n\\n0W20, SS6588')"
            ]
          },
          "metadata": {}
        },
        {
          "output_type": "display_data",
          "data": {
            "text/plain": [
              "(unstructured.documents.elements.CompositeElement,\n",
              " 'Company Castrol Exxon Mobil Petronas\\n\\nBrand GTX T 0W20 Mobil Super 3000 TM 0W20 PETRONAS Syntium 7000 TM 0W20\\n\\nCoolant (Premixed) (Antifreeze agent + Softwater 40:60 ratio)\\n\\nTransaxle oil\\n\\nBrake fluid\\n\\nClass II/JIS K2234 TATA SS7700S1\\n\\nEP80WLL (Next Gen) TATA SS6582\\n\\nSAE J1703, DOT4\\n\\nAnsysco\\n\\nSunstar CCI\\n\\nIOCL\\n\\nCASTROL\\n\\nPetronas\\n\\nIOCL\\n\\nMobilube PETRONAS\\n\\nSunstar CCI\\n\\nPuroblue')"
            ]
          },
          "metadata": {}
        },
        {
          "output_type": "display_data",
          "data": {
            "text/plain": [
              "(unstructured.documents.elements.CompositeElement,\n",
              " 'Gloden Cruiser LLC2200NP\\n\\nTATA MOTORS GENUINE COOLANT KOOL PLUS EXTREME PRESSURE 80 EP (1LX20) PETRONAS TATA MOTORS Genuine -Gear oil New Gen 80 EP LL IOCL TATA MOTORS Genuine gear oil 80 WLL Mobilube GX - A 80W Tutela Brake fluid DOT 4 Golden Cruiser Tata Genuine Brake Fluid (DOT 4) Optional - CASTROL- Universal Brake Fluid DOT 4\\n\\nCASTROL\\n\\nRefrigerant Compressor oil\\n\\nR-134 A SP-10\\n\\nSanden Vikas SP10\\n\\n198\\n\\nQuantity\\n\\n3.5 L\\n\\n4 L\\n\\n1.8 L\\n\\nAs required\\n\\n450 ± 20gm 120 ± 15 ml\\n\\nTECHNICAL INFORMATION')"
            ]
          },
          "metadata": {}
        },
        {
          "output_type": "display_data",
          "data": {
            "text/plain": [
              "(unstructured.documents.elements.CompositeElement,\n",
              " 'Item AMT Kit oil\\n\\nSpecification Hydraulic Oil\\n\\nCompany PETRONAS\\n\\nBrand TUTELA Cs – Speed\\n\\nQuantity\\n\\nAs required\\n\\nNOTE\\n\\nCheck AMT Kit oil level at every service, it should be in between min. & max. level when the vehicle is in standstill and ignition ON condition. Top up AMT kit oil if necessary.”\\n\\n199\\n\\nTECHNICAL INFORMATION')"
            ]
          },
          "metadata": {}
        },
        {
          "output_type": "display_data",
          "data": {
            "text/plain": [
              "(unstructured.documents.elements.CompositeElement,\n",
              " 'TECHNICAL SPECIFICATIONS\\n\\nParameter Engine Model/type Capacity Max. Engine output Max. Torque Transaxle Model Type No. of gears Steering Type Brakes Brakes Parking brake Suspension\\n\\nPetrol\\n\\n1.2 Revotron Petrol NA Engine MT/AMT 1199 cc 63 kW @ 6000 rpm (86PS @ 6000 rpm) 113 Nm @ 3300+/-100 rpm\\n\\nTA 65* MT/AMT Synchromesh with Overdrive 5-Forward, 1-Reverse\\n\\nElectric Power Assisted Steering System\\n\\nFront (Disc); Rear (Drum) Hand Operated (Pull to Operate) on LHS of Driver\\n\\nType')"
            ]
          },
          "metadata": {}
        },
        {
          "output_type": "display_data",
          "data": {
            "text/plain": [
              "(unstructured.documents.elements.CompositeElement,\n",
              " 'Shock absorber Wheels & tyre\\n\\nFront: Independent, lower wishbone, Mcpherson strut with coil spring Rear: Semi-independent twist beam with coil spring and shock absorber Hydraulic; gas filled\\n\\nTyres\\n\\nOption I :195/60 R16 (Radial-Tubeless);\\n\\n200\\n\\nParameter')"
            ]
          },
          "metadata": {}
        },
        {
          "output_type": "display_data",
          "data": {
            "text/plain": [
              "(unstructured.documents.elements.CompositeElement,\n",
              " 'Wheel rims\\n\\nFuel tank Capacity Cab / body Type Electrical system System voltage Alternator capacity Battery Main chassis dimension (in mm) Wheel base Track front Track rear Overall length Overall height Max. Width without ORVM Max. Width with ORVM Ground clearance Performance Max. Speed\\n\\nTECHNICAL INFORMATION\\n\\nPetrol Option II :185/70 R15 (Radial-Tubeless); Option I : 5.5Jx15” Steel &Hyper style wheel\\n\\nOption II : 6Jx16” Alloy wheel\\n\\n37 litres')"
            ]
          },
          "metadata": {}
        },
        {
          "output_type": "display_data",
          "data": {
            "text/plain": [
              "(unstructured.documents.elements.CompositeElement,\n",
              " 'Steel Monocoque body\\n\\n12 V 60Ah ( MT) ; 12V,47Ah (AMT) 13.5 V, 110 A 12V,60 Ah\\n\\n2445 1510 1510 3827 1615 1742 1945 159 mm (with laden)\\n\\n155 kmph\\n\\n201\\n\\nTECHNICAL INFORMATION\\n\\nParameter Max. Recommended grad- ability Minimum Turning Circle Dia. in meter as per IS:12222 Minimum Turning Clear- ance circle dia. in meters Weight (in kg)\\n\\nGross vehicle weight (Laden)\\n\\nKerb weight (unladen)\\n\\n202')"
            ]
          },
          "metadata": {}
        },
        {
          "output_type": "display_data",
          "data": {
            "text/plain": [
              "(unstructured.documents.elements.CompositeElement,\n",
              " 'Petrol\\n\\n15.3 deg.\\n\\n10\\n\\n10.6\\n\\n1150 (MT) (Pure) 1435 (MT) ; 1440 (AMT) (Adventurous) 1448 (MT); 1453 (AMT) (Accomplished) 1460 (MT) (AMT) (Creative) 1000 (MT) (Pure) 1010 (MT) ; 1015 (AMT) (Adventurous) 1023 (MT); 1028 (AMT) (Accomplished) 1035 (MT) (AMT) (Creative)\\n\\nVEHICLE DIMENSIONS\\n\\nH=1615\\n\\nNOTE: Dimensions are in mm and under Unladen condition\\n\\nTECHNICAL INFORMATION\\n\\n203\\n\\nTECHNICAL INFORMATION\\n\\nAGGREGATE NUMBERS\\n\\nIDENTIFICATION\\n\\nChassis No. punching near driver seat\\n\\n204')"
            ]
          },
          "metadata": {}
        },
        {
          "output_type": "display_data",
          "data": {
            "text/plain": [
              "(unstructured.documents.elements.CompositeElement,\n",
              " 'VIN plate location near front passenger seat\\n\\nTransaxle No. Punching (TA 65*)\\n\\nEngine No. plate\\n\\nCAR CARE\\n\\nYour vehicle is subjected to many external influences such as climate, road condi- tions, industrial pollution and proximity to the sea. These conditions demand regular care of the vehicle body. Dirt, insects, bird droppings, oil, grease, fuel and stone chip- pings should be removed as soon as pos- sible.')"
            ]
          },
          "metadata": {}
        },
        {
          "output_type": "display_data",
          "data": {
            "text/plain": [
              "(unstructured.documents.elements.CompositeElement,\n",
              " 'Washing\\n\\nFollowing these tips while washing your vehicle.\\n\\nAlways wash your vehicle in shade and the surface is at room temperature.\\n\\nWash with mild vehicle wash soap like ‘Car Shampoo’ and use a soft bristle brush, sponge or soft cloth and rinse it fre- quently while washing to avoid scratches.\\n\\nTo avoid scratches, please wear soft gloves. Remove finger rings, nails, wrist watch while washing.')"
            ]
          },
          "metadata": {}
        },
        {
          "output_type": "display_data",
          "data": {
            "text/plain": [
              "(unstructured.documents.elements.CompositeElement,\n",
              " 'To remove stubborn stains and contami- nants like tar, use turpentine or cleaners like ‘Stain remover’ which are safe for paint surfaces.\\n\\nVEHICLE CARE AND VALUE ADDED SERVICES\\n\\nAvoid substances like petrol, diesel, kerosene, benzene, thinner, ac-ids or other solvents that cause damage to paint.')"
            ]
          },
          "metadata": {}
        },
        {
          "output_type": "display_data",
          "data": {
            "text/plain": [
              "(unstructured.documents.elements.CompositeElement,\n",
              " 'Dry your vehicle thoroughly to pre-vent any damp spots.\\n\\nRinse all surfaces thoroughly to prevent any traces of soap and other cleaners as this may lead to the formation of stains on the painted surface later.\\n\\nWARNING\\n\\nDo not direct high pressure washer fluid/ water jets (Pres-sure above 0.5 bar) at electrical devices and connecter during washing. This is to prevent mal- function / failure of electrical sys-tem due to water ingress.')"
            ]
          },
          "metadata": {}
        },
        {
          "output_type": "display_data",
          "data": {
            "text/plain": [
              "(unstructured.documents.elements.CompositeElement,\n",
              " 'NOTE\\n\\nAvoid parking the car under trees with- out proper cover, it will reduce the amount of bird droppings, tree sap and pollen contact on paint surface. Regu- larly remove the twigs, leaves and veg- etation near the windshield areas, to avoid water stagnation.\\n\\nAfter drying the vehicle, inspect it for chips and scratches that could allow corrosion to start. Apply touch up paint where nec- essary.')"
            ]
          },
          "metadata": {}
        },
        {
          "output_type": "display_data",
          "data": {
            "text/plain": [
              "(unstructured.documents.elements.CompositeElement,\n",
              " 'Cleaning of Carpets\\n\\nVacuum clean the carpet regularly to re- move dirt. Dirt will make the carpet wear out faster. Periodically, shampoo the car- pet to keep it looking new.\\n\\nUse carpet cleaners (preferably foam type). Follow the instructions that come with the cleaner. Apply it with a sponge or soft brush. Keep the carpeting as dry as possible by not adding water to the foam.\\n\\n205\\n\\nVEHICLE CARE AND VALUE ADDED SERVICES')"
            ]
          },
          "metadata": {}
        },
        {
          "output_type": "display_data",
          "data": {
            "text/plain": [
              "(unstructured.documents.elements.CompositeElement,\n",
              " 'NOTE\\n\\nAvoid wiping of painted surface in dry condition as it may leave scratches on the painted surface.\\n\\nthe painted surface that has oxidized and become dull. They normally contain mild abrasives and sol-vents that remove the top layer of the finish coat. Polish your ve- hicle, if the finish does not regain its origi- nal shine after using wax.\\n\\nCleaning of Windows, Front and Rear Glasses\\n\\nClean the windows inside and outside with commercially available glass cleaners.')"
            ]
          },
          "metadata": {}
        },
        {
          "output_type": "display_data",
          "data": {
            "text/plain": [
              "(unstructured.documents.elements.CompositeElement,\n",
              " 'Interior Fabric Cleaning Tips\\n\\n1.\\n\\nStains should be treated immediately. If left for a long time, they can leave a permanent mark.\\n\\nThis will remove the haze that builds up on the inside of windows. Use a soft cloth or paper towels to clean all glass and plastic surfaces.')"
            ]
          },
          "metadata": {}
        },
        {
          "output_type": "display_data",
          "data": {
            "text/plain": [
              "(unstructured.documents.elements.CompositeElement,\n",
              " 'Waxing\\n\\n2.\\n\\nCleaning the stains immediately is im- portant especially for stains, which contain artificial colors in the stain cre- ating liquid or semisolid substance. The colorant may leave a stain if kept for longer time.\\n\\nWaxing and polishing is recommended to maintain the gloss and wet-look appear- ance of your paint finish.\\n\\n1.')"
            ]
          },
          "metadata": {}
        },
        {
          "output_type": "display_data",
          "data": {
            "text/plain": [
              "(unstructured.documents.elements.CompositeElement,\n",
              " 'Use good quality polish and wax for your vehicle.\\n\\n3.\\n\\nStain should not be removed by rub- bing. As far as possible, try to blot or lift the stain with cloth or plastic spatula and then clean the remaining stain with cloth or sponge.\\n\\n2.\\n\\nRe-wax your vehicle when the water does not slip off the surface but col- lects over the surface in patches.\\n\\n4.\\n\\nIf the stain has dried, then gently brush off the material and then press with damp cloth or sponge till it disappears.')"
            ]
          },
          "metadata": {}
        },
        {
          "output_type": "display_data",
          "data": {
            "text/plain": [
              "(unstructured.documents.elements.CompositeElement,\n",
              " 'Polishing\\n\\nPolishes and cleaners can restore shine to\\n\\n5.\\n\\nDo not use household detergents to clean the fabric.\\n\\n206\\n\\n6.\\n\\nAlways use clean cotton cloth for cleaning.\\n\\nPaint Care\\n\\nFollowing guidelines will help you to pro- tect your vehicle from corrosion effectively.\\n\\nNOTE\\n\\nAvoid Spillage or Direct contact of Air freshener liquid/chemicals with painted plastic parts. These chemicals may cause damage to paint like blisters, peel off, wrinkles etc')"
            ]
          },
          "metadata": {}
        },
        {
          "output_type": "display_data",
          "data": {
            "text/plain": [
              "(unstructured.documents.elements.CompositeElement,\n",
              " 'Proper Cleaning\\n\\nIn order to protect your vehicle from corrosion it is recommended that you wash your vehicle thoroughly and fre- quently in case:\\n\\nThere is a heavy accumulation of dirt and mud especially on the underbody.\\n\\nIt is driven in areas having high atmos- pheric pollution due to smoke, soot, dust, iron dust and other chemical pol- lutants.\\n\\nIt is driven in coastal areas.\\n\\nThe underbody must be thoroughly pressure washed after every three months.')"
            ]
          },
          "metadata": {}
        },
        {
          "output_type": "display_data",
          "data": {
            "text/plain": [
              "(unstructured.documents.elements.CompositeElement,\n",
              " 'In addition to regularly washing your car, the following precautions need to be taken.\\n\\nPeriodic Inspection\\n\\nRegularly inspect your vehicle for any damage in the paint film such as deep scratches and immediately get them repaired from an authorized service outlet, as these defects tend to accel- erate corrosion.\\n\\nInspect mud liners for damages.\\n\\nKeep all drain holes clear from clog- ging.')"
            ]
          },
          "metadata": {}
        },
        {
          "output_type": "display_data",
          "data": {
            "text/plain": [
              "(unstructured.documents.elements.CompositeElement,\n",
              " 'Proper Parking\\n\\nAlways park your vehicle in shade to pro- tect it from harsh sunlight or in a well-ven- is no tilated garage so dampness on any part of the vehicle.\\n\\nthat\\n\\nthere\\n\\nWiper Care\\n\\nTo prevent damage to the wipers or wind- shield, do not operate the wipers when the windshield is dry.\\n\\nVEHICLE CARE AND VALUE ADDED SERVICES\\n\\nTo prevent damage to the wiper arms and other components, do not attempt to move the wipers manually')"
            ]
          },
          "metadata": {}
        },
        {
          "output_type": "display_data",
          "data": {
            "text/plain": [
              "(unstructured.documents.elements.CompositeElement,\n",
              " 'FAST TAG\\n\\nFAST TAG is pasted on front windshield from the inside. It enables Electronic toll collection.\\n\\nNOTE\\n\\nDo not attempt to rip or tamper the tag. It will disable the functionality of the tag\\n\\n207\\n\\nVEHICLE CARE AND VALUE ADDED SERVICES')"
            ]
          },
          "metadata": {}
        },
        {
          "output_type": "display_data",
          "data": {
            "text/plain": [
              "(unstructured.documents.elements.CompositeElement,\n",
              " 'VALUE CARE - AMC\\n\\nValue Care (AMC) is a fixed cost maintenance plan that guarantees protection against unexpected repairs & provides substantial savings through protection against inflation & price volatility of consumables during the running of the vehicle.\\n\\nOur customers can choose from Value Care Gold, Value Care Silver, Promise to Protect (P2P) and Protect plus plan as per the requirement & usage to ensure hassle free, reliable & economic maintenance of the vehicle.')"
            ]
          },
          "metadata": {}
        },
        {
          "output_type": "display_data",
          "data": {
            "text/plain": [
              "(unstructured.documents.elements.CompositeElement,\n",
              " 'Coverage – Schedule Service and Wear & Tear.\\n\\nAdvantages (Customer Benefits)\\n\\nPrice protection against rising prices of lubes and parts.\\n\\nA higher resale value for your vehicle.\\n\\nPeace of mind with Cashless repairs & services.\\n\\nVehicle servicing at a workshop of your choice pan India.\\n\\nCovers Repairs including Wear & Tear parts viz. Brakes, Suspension, Wiper, Clutch, Brake Pads, Brake Liners etc.')"
            ]
          },
          "metadata": {}
        },
        {
          "output_type": "display_data",
          "data": {
            "text/plain": [
              "(unstructured.documents.elements.CompositeElement,\n",
              " 'Covers Scheduled maintenance services including Lubricants, Parts, Wheel Alignment and Balancing Labour.\\n\\nAvailable at unmatched value…. Huge Savings!!!\\n\\nSavings on Goods & Services Tax whenever vehicle attend under AMC.\\n\\nAvailable Offers (Types of AMC )\\n\\nSilver AMC\\n\\nGold AMC\\n\\nPromise to Protect (P2P)\\n\\nProtect Plus\\n\\n208\\n\\nVEHICLE CARE AND VALUE ADDED SERVICES\\n\\nSilver AMC')"
            ]
          },
          "metadata": {}
        },
        {
          "output_type": "display_data",
          "data": {
            "text/plain": [
              "(unstructured.documents.elements.CompositeElement,\n",
              " 'Value Care Silver Plan covers the following:\\n\\nScheduled maintenance services at periodic interval of Kms for Labor, Parts & Consumables.\\n\\n1.\\n\\nChange of Oil Filter, Fuel Filter, Air Filter & Sedimenter.\\n\\n2.\\n\\nChange of Engine Oil, Transmission Oil.\\n\\n3.\\n\\nChange of Coolant, Brake Oil & Clutch Fluid*.\\n\\n4.\\n\\nGeneral Checkup, Wheel Alignment / Balancing (Excluding Balancing Weight).\\n\\n5.\\n\\nWashing of Vehicle, Wheel greasing as applicable.')"
            ]
          },
          "metadata": {}
        },
        {
          "output_type": "display_data",
          "data": {
            "text/plain": [
              "(unstructured.documents.elements.CompositeElement,\n",
              " 'Gold AMC\\n\\nThe value care Gold Plan extends your scheduled maintenance cover to include any normal wear and tear items identified during the scheduled service and other vehicle parts that need to replace during the period of cover arising from proper and uniform usage.\\n\\nScheduled maintenance services at periodic interval of Kms for Labor, Parts & Consumables.')"
            ]
          },
          "metadata": {}
        },
        {
          "output_type": "display_data",
          "data": {
            "text/plain": [
              "(unstructured.documents.elements.CompositeElement,\n",
              " 'In addition to coverage mentioned under Silver AMC, the Gold AMC also covers Repairs or Replacement of Wear & Tear Items for both Parts & Labour.\\n\\n1.\\n\\nBrake Pads, Brake Lines, Wheel Cylinders\\n\\n2.\\n\\nClutch Disc, Clutch Cover, Cables, Mountings.\\n\\n3.\\n\\nSuspension Bush, Wiper Blades, Auxiliary Belt & other Wear & Tear Items\\n\\n4.\\n\\nWashing of Vehicle, Wheel greasing as applicable.')"
            ]
          },
          "metadata": {}
        },
        {
          "output_type": "display_data",
          "data": {
            "text/plain": [
              "(unstructured.documents.elements.CompositeElement,\n",
              " 'Promise To Protect (P2P)\\n\\nValue Care – Promise to protect (P2P) is a maintenance plan that guarantees protection against unexpected wear & tear repairs to provide substantial saving through protection against inflation & price volatility during the running of the vehicle.\\n\\nNew Vehicle (under warranty vehicles) are eligible to avail this offer –Identified 13 wear & tear parts listed below Including Labour is\\n\\n209')"
            ]
          },
          "metadata": {}
        },
        {
          "output_type": "display_data",
          "data": {
            "text/plain": [
              "(unstructured.documents.elements.CompositeElement,\n",
              " 'VEHICLE CARE AND VALUE ADDED SERVICES\\n\\ncovered in this AMC with the price range of 11 to 14 paisa per Km .*applicable to selected models*\\n\\nList of Covered Parts\\n\\nClutch, Brake Pad, Brake Linings, Brake Disc, Wiper, Wheel Cylinder, Suspension Bushes, Engine Mountings, Ball Joints, Hoses, Auxiliary Belt, (Alternator & A/C Belt), Window Winder.')"
            ]
          },
          "metadata": {}
        },
        {
          "output_type": "display_data",
          "data": {
            "text/plain": [
              "(unstructured.documents.elements.CompositeElement,\n",
              " 'Protect Plus\\n\\nThe value care Protect plus Plan extends your scheduled maintenance cover to include coverage of P2P. It covers Scheduled main- tenance services – labour, parts & consumables + Identified 13 wear & tear parts of P2P plan Including Labour\\n\\nNew Vehicle (under warranty vehicles) are eligible to avail this offer.*applicable to selected models*.')"
            ]
          },
          "metadata": {}
        },
        {
          "output_type": "display_data",
          "data": {
            "text/plain": [
              "(unstructured.documents.elements.CompositeElement,\n",
              " 'NOTE\\n\\nAMC is available in the dealership from where you have purchased your vehicle.\\n\\nWe strongly recommend purchase of AMC at time of purchase of your vehicle to get benefit for coverage of Scheduled Services and Wear & Tear parts.\\n\\nThe Dealer Service Marketing Executive shall explain to you the Terms and conditions, Coverage and Owner’s responsibility.\\n\\nOne Time payment is to be made to avail AMC offer.')"
            ]
          },
          "metadata": {}
        },
        {
          "output_type": "display_data",
          "data": {
            "text/plain": [
              "(unstructured.documents.elements.CompositeElement,\n",
              " 'P2P & Protect plus offer valid on selected models & may vary from Model to Model, Variant to Variant.\\n\\nPlease read the offer eBooklet for further details about coverage and exclusions of various AMCs.\\n\\nTerms & condition apply.\\n\\nOwner’s Responsibility\\n\\nProper use, maintenance and care of the vehicle in accordance with the instructions contained in the Owner’s Manual and Service Booklet. The records of the same to be ensured in Owner’s Manual.\\n\\nRetention of maintenance service bills.\\n\\n210')"
            ]
          },
          "metadata": {}
        },
        {
          "output_type": "display_data",
          "data": {
            "text/plain": [
              "(unstructured.documents.elements.CompositeElement,\n",
              " 'VEHICLE CARE AND VALUE ADDED SERVICES\\n\\nI / We have been explained the Terms and conditions, Coverage and Owner’s responsibility by the Dealer Service Marketing Execu- tive.\\n\\nI wish to avail /\\n\\nDo not wish to avail Value care AMC policy.\\n\\nCustomer’s Signature\\n\\nDealer’s Signature\\n\\n211\\n\\nVEHICLE CARE AND VALUE ADDED SERVICES\\n\\nEXTENDED WARRANTY\\n\\nTATA MOTORS recommends the purchase of its extended warranty program.\\n\\nCoverage - Mechanical + Electrical')"
            ]
          },
          "metadata": {}
        },
        {
          "output_type": "display_data",
          "data": {
            "text/plain": [
              "(unstructured.documents.elements.CompositeElement,\n",
              " 'Benefits\\n\\nInsures you against unforeseen break down repair bills.\\n\\nDocumentation is simple and hassle free.\\n\\nNear cashless & speedy claim\\n\\nTerm\\n\\n24 + 12 months or 75,000 kms whichever occurs first\\n\\nOR\\n\\n24 + 24 months or 1,00,000 kms whichever occurs first\\n\\nOR')"
            ]
          },
          "metadata": {}
        },
        {
          "output_type": "display_data",
          "data": {
            "text/plain": [
              "(unstructured.documents.elements.CompositeElement,\n",
              " '24 + 36 months or 1,25,000 kms whichever occurs first\\n\\nExtended Warranty is available in the dealership from where you have purchased your vehicle. We strongly recommend purchase of Extended Warranty at time of purchase of your vehicle. Extended Warranty can be availed till warranty period from date of purchase of vehicle. The Dealer Service Marketing Executive shall explain to you the Terms and conditions, Coverage and Owner’s responsi- bility.')"
            ]
          },
          "metadata": {}
        },
        {
          "output_type": "display_data",
          "data": {
            "text/plain": [
              "(unstructured.documents.elements.CompositeElement,\n",
              " 'The 12 or 24 or 36 months extended warranty does not follow the 24 months Manufacturer’s warranty.\\n\\nThe extended warranty comes into force once the manufacturer’s warranty expires e.g. after 24 Months.\\n\\nIt is more restrictive as by the time it comes into force the vehicle is already 24 months old.\\n\\n212\\n\\nVEHICLE CARE AND VALUE ADDED SERVICES')"
            ]
          },
          "metadata": {}
        },
        {
          "output_type": "display_data",
          "data": {
            "text/plain": [
              "(unstructured.documents.elements.CompositeElement,\n",
              " 'What is Covered? Mechanical / Electrical break down as defined in this warranty and confirmed by the dealer within the stipulated terms and conditions. TATA MOTORS dealer shall either rep air or replace any part found to be defective with a new p art or an equivalent at no cost to the owner for p arts or labour. Such defective parts which have been replaced will become property of TATA MOTORS PASSENGER VEHICLE LIMITED Comprehensive list of parts covered is mentioned in the Extended Warranty')"
            ]
          },
          "metadata": {}
        },
        {
          "output_type": "display_data",
          "data": {
            "text/plain": [
              "(unstructured.documents.elements.CompositeElement,\n",
              " 'Booklet. What is not Covered? Please refer the Extended Warranty Booklet for details of the exclusion list. Soft copy of which will be provided by dealer. Owner’s Responsibility')"
            ]
          },
          "metadata": {}
        },
        {
          "output_type": "display_data",
          "data": {
            "text/plain": [
              "(unstructured.documents.elements.CompositeElement,\n",
              " 'Proper use, maintenance and care of the vehicle in accordance with the instructions contained in the Owner’s Manual and Service Booklet. The records of the same to be ensured in Owner’s Manual.\\n\\nRetention of maintenance service bills.\\n\\nI / We have been explained the Terms and conditions, Coverage and Owner’s responsibility by the Dealer Service Marketing Executive.\\n\\nI wish to avail /\\n\\nDo not wish to avail extended warrant policy.\\n\\nCustomer’s Signature\\n\\nDealer’s Signature\\n\\n213')"
            ]
          },
          "metadata": {}
        },
        {
          "output_type": "display_data",
          "data": {
            "text/plain": [
              "(unstructured.documents.elements.CompositeElement,\n",
              " 'VEHICLE CARE AND VALUE ADDED SERVICES\\n\\nVALUE ADDED SERVICES\\n\\nWhy are Corrosion Protection Waxes necessary?\\n\\nCorrosion is Caused by\\n\\nWater/salt water, acid rain and atmospheric fallouts.\\n\\nCritical Areas are')"
            ]
          },
          "metadata": {}
        },
        {
          "output_type": "display_data",
          "data": {
            "text/plain": [
              "(unstructured.documents.elements.CompositeElement,\n",
              " 'Cavities: joints, crevices, spot welds, underbody\\n\\nCorrosion is the most important factor when we talk about the vehicle life. If you treat your car well, you can prolong its life.\\n\\nIt is very dangerous to drive around in a corroded vehicle.\\n\\nCorrosion creeps onto the vehicle internally and externally as well. The most dangerous kind of corrosion is often not discovered until it is too late.')"
            ]
          },
          "metadata": {}
        },
        {
          "output_type": "display_data",
          "data": {
            "text/plain": [
              "(unstructured.documents.elements.CompositeElement,\n",
              " 'Benefits of Anti - Rust Treatment\\n\\nA professionally applied range of world class products offering real value to the new and used vehicle customer.\\n\\nThe treatment has been developed to withstand the harshest environmental and climatic conditions (rust. Pollutants, stone and gravel impact, etc.)\\n\\nInsulates the cabin from external noises..\\n\\nExpensive tin work, denting and painting can be avoided.\\n\\nHigher resale value for the vehicle.\\n\\nHigher safety – uncorroded vehicle')"
            ]
          },
          "metadata": {}
        },
        {
          "output_type": "display_data",
          "data": {
            "text/plain": [
              "(unstructured.documents.elements.CompositeElement,\n",
              " '10 free checkups available\\n\\nTATA MOTORS has tied up with M/s Wurth, M/s Autokrom, M/s 3M India Lt d & M/s Bardahl for these world class treatment at af-\\n\\n214')"
            ]
          },
          "metadata": {}
        },
        {
          "output_type": "display_data",
          "data": {
            "text/plain": [
              "(unstructured.documents.elements.CompositeElement,\n",
              " 'VEHICLE CARE AND VALUE ADDED SERVICES\\n\\nfordable prices. These treatments are available in all authorized workshops. The Dealer Service Marketing Executive will explain to you the benefits and terms and conditions of this treatment.\\n\\nI / We have been explained the Benefits, Terms and conditions and the prices of these treatments by the Dealer Service Marketing Executive.\\n\\nI wish to avail /\\n\\nDo not wish to avail extended warrant policy.\\n\\nCustomer’s Signature\\n\\nDealer’s Signature\\n\\n215')"
            ]
          },
          "metadata": {}
        },
        {
          "output_type": "display_data",
          "data": {
            "text/plain": [
              "(unstructured.documents.elements.CompositeElement,\n",
              " 'VEHICLE CARE AND VALUE ADDED SERVICES\\n\\nVEHICLE EXTERIOR ENRICHMENT\\n\\nWhy Vehicles are Painted?\\n\\nFor Corrosion protection of the metal surfaces.\\n\\nEase of application from other corrosion protection treatments.\\n\\nCheaper than other corrosion protection methods eg. Galvanizing, anodizing.\\n\\nFor decoration and identification.')"
            ]
          },
          "metadata": {}
        },
        {
          "output_type": "display_data",
          "data": {
            "text/plain": [
              "(unstructured.documents.elements.CompositeElement,\n",
              " 'Various Environmental Hazards Affecting Paints\\n\\nEnvironmental hazards: destroys your vehicle’s finish.\\n\\nEven as your new vehicle rolls off the assembly line, the paint is not protected.\\n\\nThe Enemy\\n\\nUltraviolet rays, pollution, tree sap, bird droppings, car wash chemicals, road salt and acid rain.\\n\\nBenefits')"
            ]
          },
          "metadata": {}
        },
        {
          "output_type": "display_data",
          "data": {
            "text/plain": [
              "(unstructured.documents.elements.CompositeElement,\n",
              " 'Vehicle Exterior Enrichment\\n\\nRemoval of medium scratches, orange peel, oxidation, dust nibs etc. & swirl marks from painted surface.\\n\\nRestoration of original gloss levels, UV protection after gloss is restored.')"
            ]
          },
          "metadata": {}
        },
        {
          "output_type": "display_data",
          "data": {
            "text/plain": [
              "(unstructured.documents.elements.CompositeElement,\n",
              " 'Cleaning & dressing of tyres, Bumpers and all exterior plastic moldings/trims.\\n\\nTATA MOTORS has tied up with M/s Autokrom, M/s 3M & M/s Wurth for this world class treatment at affordable prices.\\n\\nThis treatment is available in all authorized workshops. The Dealer Service Marketing Executive will explain to you the bene-fits and terms and conditions of this treatment.\\n\\n216\\n\\nVEHICLE CARE AND VALUE ADDED SERVICES\\n\\nVEHICLE INTERIOR ENRICHMENT')"
            ]
          },
          "metadata": {}
        },
        {
          "output_type": "display_data",
          "data": {
            "text/plain": [
              "(unstructured.documents.elements.CompositeElement,\n",
              " 'Why Protect Your New Car’s Fabric Interior\\n\\nSomeone may soil your vehicle’s fabric carpet or seats.\\n\\nA significant detractor from your vehicle’s resale value.\\n\\nA permanent stain on your vehicle’s interior fabric.\\n\\nThe Enemy\\n\\nDrink spills, food stains, mud, ultraviolet rays, traffic and pets\\n\\nBenefits: Vehicle Interior Enrichment\\n\\nRemoval of medium stains and dirt from all interior parts of the car i.e., carpet, upholstery and roof lining.')"
            ]
          },
          "metadata": {}
        },
        {
          "output_type": "display_data",
          "data": {
            "text/plain": [
              "(unstructured.documents.elements.CompositeElement,\n",
              " 'Cleaning of windshield and all windows (inner and outer surfaces)\\n\\nDressing of all internal plastics (e.g.: door pad trims) and rubber parts.\\n\\nThe treatment involves cleaning and dressing of all parts of the exposed interiors.\\n\\nSpecialised protection for seat fabric from liquid spills.')"
            ]
          },
          "metadata": {}
        },
        {
          "output_type": "display_data",
          "data": {
            "text/plain": [
              "(unstructured.documents.elements.CompositeElement,\n",
              " 'TATA MOTORS has tied up with M/s Wurth and M/s Autokrom for this world class treatment at affordable prices. This treatment is available in all authorized workshops. The Dealer Service Marketing Executive will explain to you the benefits and terms and conditions of this treatment.\\n\\nI / We have been explained the Terms and conditions, Coverage and Owner’s responsibility by the Dealer Service Marketing Executive.\\n\\nI wish to avail /\\n\\nDo not wish to avail Extended warrant policy.')"
            ]
          },
          "metadata": {}
        },
        {
          "output_type": "display_data",
          "data": {
            "text/plain": [
              "(unstructured.documents.elements.CompositeElement,\n",
              " 'Customer’s Signature\\n\\nDealer’s Signature\\n\\n217\\n\\n218\\n\\nVEHICLE WARRANTY: TERMS AND CONDITIONS\\n\\nWe WARRANT each TATA PUNCH vehi- cle and parts thereof manufactured by us to be free from defect in material and workmanship subject to the following terms and conditions:\\n\\n1.\\n\\nThis warranty shall be for a period of 2 years from the date of sale of the car or a mileage of 75,000 Kms whichever occurs earlier.\\n\\n2.')"
            ]
          },
          "metadata": {}
        },
        {
          "output_type": "display_data",
          "data": {
            "text/plain": [
              "(unstructured.documents.elements.CompositeElement,\n",
              " 'Our obligation under this warranty shall be limited to repairing or replacing, free of charge, such parts of the car which, in our opinion, are defective, on the car being brought to us or to our dealers within the period. The parts so repaired or replaced shall also be warranted for quality and workmanship but such war- ranty shall be co-terminus with this original warranty.\\n\\n3.\\n\\nAny part which is found to be defective and is replaced by us under the war- ranty shall be our property.\\n\\n4.')"
            ]
          },
          "metadata": {}
        },
        {
          "output_type": "display_data",
          "data": {
            "text/plain": [
              "(unstructured.documents.elements.CompositeElement,\n",
              " 'As for such parts as Tyres, Batteries, Audio and / or Video equipment (if\\n\\n5.\\n\\nWARRANTY - TERMS AND CONDITIONS\\n\\nany), etc. not manufactured by us but supplied by other parties, this warranty shall not apply, but buyers of the car shall be entitled to, so far as permissi- ble by law, all such rights as we may have against such parties under their warranties in respect of such parts.')"
            ]
          },
          "metadata": {}
        },
        {
          "output_type": "display_data",
          "data": {
            "text/plain": [
              "(unstructured.documents.elements.CompositeElement,\n",
              " 'This warranty shall not apply if the car or any part thereof is repaired or al- tered otherwise than in accordance with our standard repair procedure or by any person other than from our sales or service establishments, our authorized dealers, service centres or service points in any way so as, in our judgment which shall be final and bind- ing, to affect its reliability, nor shall it apply if, in our opinion which shall be final and binding, the car is subjected to misuse, negligence, improper')"
            ]
          },
          "metadata": {}
        },
        {
          "output_type": "display_data",
          "data": {
            "text/plain": [
              "(unstructured.documents.elements.CompositeElement,\n",
              " 'or in- adequate maintenance or accident or loading in excess of such carrying ca- pacity as certified by us, or such serv- ices as prescribed in our Owner’s Manual are not carried out by the buyer through our sales or service es- tablishments, our authorized dealers,')"
            ]
          },
          "metadata": {}
        },
        {
          "output_type": "display_data",
          "data": {
            "text/plain": [
              "(unstructured.documents.elements.CompositeElement,\n",
              " '6.\\n\\n7.\\n\\n8.\\n\\n9.\\n\\nservice centres or service points.\\n\\nThis warranty shall not apply to the replacement of normal wear parts, including without limitation, spark plugs, drive belts, hoses, wiper blades, fuses, clutch disc, brake shoes, brake pads, cables and all rubber parts (except oil seal and glass run).')"
            ]
          },
          "metadata": {}
        },
        {
          "output_type": "display_data",
          "data": {
            "text/plain": [
              "(unstructured.documents.elements.CompositeElement,\n",
              " 'This warranty shall not cover any in- herent normal deterioration of the car or any of its parts arising from the ac- tual use of the car or any damage due to negligent or improper operation or storage of the car.')"
            ]
          },
          "metadata": {}
        },
        {
          "output_type": "display_data",
          "data": {
            "text/plain": [
              "(unstructured.documents.elements.CompositeElement,\n",
              " 'This warranty shall not apply to normal maintenance services like oils & fluid changes, head lamps focusing, fas- tener retightening, wheel balancing and alignment, tyre rotation, adjust- ment of valve clearance, fuel timing, ig- nition timing and consumables like bulbs, fuel, air & oil filters and gas leaks in case of air conditioned cars.\\n\\nThis warranty shall not apply to any damage or deterioration caused by en-\\n\\n219')"
            ]
          },
          "metadata": {}
        },
        {
          "output_type": "display_data",
          "data": {
            "text/plain": [
              "(unstructured.documents.elements.CompositeElement,\n",
              " 'WARRANTY - TERMS AND CONDITIONS\\n\\nvironmental pollution or bird droppings. Slight irregularities not recognized as affecting the function or quality of the vehicle or parts, such as slight noise or vibration, defects appearing only under particular or irregular operations are items considered characteristics of the vehicle.')"
            ]
          },
          "metadata": {}
        },
        {
          "output_type": "display_data",
          "data": {
            "text/plain": [
              "(unstructured.documents.elements.CompositeElement,\n",
              " 'in particular, no right to repudiate the sale, or any agreement or to claim any reduction in the purchase price of the car, or to demand any damages or compensation for losses, incidental or indirect, or inconvenience or conse- quential damages, loss of car, or loss of time, or otherwise, incurred or ac- crued.\\n\\n10.')"
            ]
          },
          "metadata": {}
        },
        {
          "output_type": "display_data",
          "data": {
            "text/plain": [
              "(unstructured.documents.elements.CompositeElement,\n",
              " 'This warranty shall be null and void if the car is subjected to abnormal use such as rallying, racing or participation in any other competitive sport. This warranty shall not apply to any repair or replacements as a result of accident or collision.\\n\\n13.\\n\\nAny claim arising from this warranty shall be recognized only if it is notified in writing to us or to our authorized dealer without any delay soon after such defects as covered & ascertained under this warranty.\\n\\n11.\\n\\n12.')"
            ]
          },
          "metadata": {}
        },
        {
          "output_type": "display_data",
          "data": {
            "text/plain": [
              "(unstructured.documents.elements.CompositeElement,\n",
              " 'This warranty is expressly in lieu of all warranties, whether by law or other- wise, expressed or implied, and all other obligations or liabilities on our part and we neither assume, nor au- thorize any person to assume on our behalf, any other liability arising from the sale of the car or any agreement in relation thereto.\\n\\nThe buyer shall have no other rights except those set out above and have,\\n\\n14.')"
            ]
          },
          "metadata": {}
        },
        {
          "output_type": "display_data",
          "data": {
            "text/plain": [
              "(unstructured.documents.elements.CompositeElement,\n",
              " 'This warranty is fully transferable to subsequent vehicle owner. Only un- expired remaining period of war- ranty applies.\\n\\nWe reserve our rights to make any change or modification in design of the car or its parts or to introduce any improvement therein or to incorporate in the car any ad- ditional part or accessory at any time with- out incurring any obligation to incorporate the same in the cars previously sold.\\n\\n220')"
            ]
          },
          "metadata": {}
        },
        {
          "output_type": "display_data",
          "data": {
            "text/plain": [
              "(unstructured.documents.elements.CompositeElement,\n",
              " 'ENVIRONMENTAL SAFETY\\n\\nTATA MOTORS PASSENGER VEHICLE LIMITED to pro-duce vehicles using environmentally sus- tainable technology. A number of features have been incorporated in TATA MOTORS passenger vehicles which have been de- signed to ensure environmental compati- bility throughout the life cycle of the vehicle. We would like to inform you that your vehicle meets BS VI emission norms and this is being regularly validated at the manufacturing stages.\\n\\nis committed')"
            ]
          },
          "metadata": {}
        },
        {
          "output_type": "display_data",
          "data": {
            "text/plain": [
              "(unstructured.documents.elements.CompositeElement,\n",
              " 'As a user you too can protect the environ-ment by operating your vehicle in a proac-tive manner. A lot depends on the way you your driving style and maintain your vehi-cle. We have given a few tips for your guidance.\\n\\nDriving •')"
            ]
          },
          "metadata": {}
        },
        {
          "output_type": "display_data",
          "data": {
            "text/plain": [
              "(unstructured.documents.elements.CompositeElement,\n",
              " 'Avoid frequent and violent accelera- tion.\\n\\nDo not carry any unnecessary weight in the vehicle as it overloads the en- gine. Avoid using devices requiring high power consumption during slow city traffic condition.\\n\\nMonitor the vehicle’s fuel consumption regularly and if showing rising trend get the vehicle immediately attended at the Company’s Authorised Service Outlets.')"
            ]
          },
          "metadata": {}
        },
        {
          "output_type": "display_data",
          "data": {
            "text/plain": [
              "(unstructured.documents.elements.CompositeElement,\n",
              " 'Switch off the engine during long stops at traffic jams or signals. If you need to keep the engine running, avoid unnec- essary revving it or stopping and start- ing.\\n\\nIt is not necessary to rev the engine before turning it off as it unnecessarily burns fuel.\\n\\nShift to higher gears as soon as it is possible. Use each gear upto 2/3rd of its maximum engine speed.\\n\\nA chart indicating gear shifting speeds is given in this book.')"
            ]
          },
          "metadata": {}
        },
        {
          "output_type": "display_data",
          "data": {
            "text/plain": [
              "(unstructured.documents.elements.CompositeElement,\n",
              " 'Maintenance\\n\\nEnsure that recommended mainte- nance is carried out on the vehicle reg- ularly at the Authorised Service Outlets.\\n\\nAs soon as you see any leakages of oil or fuel in the vehicle we recommend to')"
            ]
          },
          "metadata": {}
        },
        {
          "output_type": "display_data",
          "data": {
            "text/plain": [
              "(unstructured.documents.elements.CompositeElement,\n",
              " 'ENVIRONMENT SAFETY\\n\\nget it attended immediately.\\n\\nUse only recommended grades and specified quantity of lubricants.\\n\\nGet your vehicle checked for emission periodically by an authorised dealer.\\n\\nCheck Air filter, fuel filter and oil filter periodically and replaced, if required, as recommended by TATA MOTORS.\\n\\nDo not pour used oils or coolants into the sewage drains, garden soil or open streams. Dispose the used filters and batteries in compliance with the current legislation.')"
            ]
          },
          "metadata": {}
        },
        {
          "output_type": "display_data",
          "data": {
            "text/plain": [
              "(unstructured.documents.elements.CompositeElement,\n",
              " 'Do not allow unauthorized person to tamper with engine settings or to carry modifications on the vehicle.\\n\\nNever allow the vehicle to run out of fuel.\\n\\nParts like brake liners, clutch discs should be vacuum cleaned. Do not use compressed air for cleaning these parts, which may spread hazardous dust in the atmosphere.\\n\\n221')"
            ]
          },
          "metadata": {}
        },
        {
          "output_type": "display_data",
          "data": {
            "text/plain": [
              "(unstructured.documents.elements.CompositeElement,\n",
              " 'ENVIRONMENT SAFETY\\n\\nWhile carrying out servicing or repairs of your vehicle, you should pay keen attention to some of the important en- gine aggregates and wiring harnesses, which greatly affect emission. These components are:\\n\\n1.\\n\\nEngine Management System (EMS)\\n\\nECU\\n\\nEMS sensors & Corresponding wiring harness\\n\\nElectrical connections to all sen- sors & actuators\\n\\n2.\\n\\nFuel Injection System\\n\\nFuel Pump\\n\\nFuel filter\\n\\nFuel Injectors\\n\\n3.\\n\\nAir intake System\\n\\nAir filter & connecting pipes\\n\\n4.')"
            ]
          },
          "metadata": {}
        },
        {
          "output_type": "display_data",
          "data": {
            "text/plain": [
              "(unstructured.documents.elements.CompositeElement,\n",
              " 'Exhaust after Treatment System\\n\\nCatalytic Converter\\n\\n5.\\n\\nIgnition System\\n\\nIgnition coil\\n\\nSpark plug\\n\\n222\\n\\nThis Owner’s manual contains further in- formation on driving precautions and maintenance care leading to environment protection. Please familiarize yourself with these aspects before driving.\\n\\nCustomer’s copy\\n\\nPDI Coupon\\n\\nPre Delivery Inspection\\n\\nOwner’s Name:\\n\\nVIN No.:\\n\\nEngine / Motor No.:\\n\\nReg. No.:\\n\\nODO Reading:\\n\\nDate of Service:\\n\\nService Dealer’s Stamp & Signature\\n\\nDealer’s copy')"
            ]
          },
          "metadata": {}
        },
        {
          "output_type": "display_data",
          "data": {
            "text/plain": [
              "(unstructured.documents.elements.CompositeElement,\n",
              " 'PDI Coupon\\n\\nPre Delivery Inspection\\n\\nAVAIL ALL SERVICES TO GET BENEFIT OF WARRANTY\\n\\nThis Coupon entitles for free labour jobs.(Refer maintenance section)\\n\\nOwner’s Name:\\n\\nVIN No.:\\n\\nEngine / Motor No.:\\n\\nReg. No.:\\n\\nODO Reading:\\n\\nDate of Sale:\\n\\nDate of Service:\\n\\nService Dealer code:\\n\\nI hereby certify that the PDI has been carried out to my entire satisfaction.\\n\\nCustomer’s Signature\\n\\nService Dealer’s Stamp & Signature\\n\\n(Free Service coupons are valid at all TATA Authorized Service Centers in India)')"
            ]
          },
          "metadata": {}
        },
        {
          "output_type": "display_data",
          "data": {
            "text/plain": [
              "(unstructured.documents.elements.CompositeElement,\n",
              " 'Customer’s copy\\n\\n1st Free Service Coupon\\n\\nValid for 1000 - 2000 kms. OR 2 months, Whichever is earlier\\n\\nOwner’s Name:\\n\\nVIN No.:\\n\\nEngine / Motor No.:\\n\\nReg. No.:\\n\\nODO Reading:\\n\\nDate of Service:\\n\\nService Dealer’s Stamp & Signature\\n\\nDealer’s copy\\n\\n1st Free Service Coupon\\n\\nValid for 1000 - 2000 kms. OR 2 months, whichever is earlier.\\n\\nAVAIL ALL SERVICES TO GET BENEFIT OF WARRANTY\\n\\nThis Coupon entitles for free labour jobs.(Refer maintenance section)\\n\\nOwner’s Name:\\n\\nVIN No.:\\n\\nEngine / Motor No.:')"
            ]
          },
          "metadata": {}
        },
        {
          "output_type": "display_data",
          "data": {
            "text/plain": [
              "(unstructured.documents.elements.CompositeElement,\n",
              " 'Reg. No.:\\n\\nODO Reading:\\n\\nDate of Sale:\\n\\nDate of Service:\\n\\nService Dealer code:\\n\\nI hereby certify that the service has been carried out to my entire satisfaction.\\n\\nCustomer’s Signature\\n\\nService Dealer’s Stamp & Signature\\n\\n(Free Service coupons are valid at all TATA Authorized Service Centers in India)\\n\\nCustomer’s copy\\n\\n2nd Free Service Coupon\\n\\nValid for 7000 - 8000 kms. OR 6 months, whichever is earlier\\n\\nOwner’s Name:\\n\\nVIN No.:\\n\\nEngine / Motor No.:\\n\\nReg. No.:\\n\\nODO Reading:\\n\\nDate of Service:')"
            ]
          },
          "metadata": {}
        },
        {
          "output_type": "display_data",
          "data": {
            "text/plain": [
              "(unstructured.documents.elements.CompositeElement,\n",
              " 'Service Dealer’s Stamp & Signature\\n\\nDealer’s copy\\n\\n2nd Free Service Coupon\\n\\nValid for 7000 - 8000 kms. OR 6 months, whichever is earlier.\\n\\nAVAIL ALL SERVICES TO GET BENEFIT OF WARRANTY\\n\\nThis Coupon entitles for free labour jobs.(Refer maintenance section)\\n\\nOwner’s Name:\\n\\nVIN No.:\\n\\nEngine / Motor No.:\\n\\nReg. No.:\\n\\nODO Reading:\\n\\nDate of Sale:\\n\\nDate of Service:\\n\\nService Dealer code:\\n\\nI hereby certify that the service has been carried out to my entire satisfaction.\\n\\nCustomer’s Signature')"
            ]
          },
          "metadata": {}
        },
        {
          "output_type": "display_data",
          "data": {
            "text/plain": [
              "(unstructured.documents.elements.CompositeElement,\n",
              " 'Service Dealer’s Stamp & Signature\\n\\n(Free Service coupons are valid at all TATA Authorized Service Centers in India)\\n\\nCustomer’s copy\\n\\n3rd Free Service Coupon\\n\\nValid for 14,500 – 15,500 kms. OR 12 months, whichever is earlier\\n\\nOwner’s Name:\\n\\nVIN No.:\\n\\nEngine / Motor No.:\\n\\nReg. No.:\\n\\nODO Reading:\\n\\nDate of Service:\\n\\nService Dealer’s Stamp & Signature\\n\\nDealer’s copy\\n\\n3rd Free Service Coupon\\n\\nValid for 14,500 – 15,500 kms. OR 12 months, whichever is earlier.')"
            ]
          },
          "metadata": {}
        },
        {
          "output_type": "display_data",
          "data": {
            "text/plain": [
              "(unstructured.documents.elements.CompositeElement,\n",
              " 'AVAIL ALL SERVICES TO GET BENEFIT OF WARRANTY\\n\\nThis Coupon entitles for free labour jobs.(Refer maintenance section)\\n\\nOwner’s Name:\\n\\nVIN No.:\\n\\nEngine / Motor No.:\\n\\nReg. No.:\\n\\nODO Reading:\\n\\nDate of Sale:\\n\\nDate of Service:\\n\\nService Dealer code:\\n\\nI hereby certify that the service has been carried out to my entire satisfaction.\\n\\nCustomer’s Signature\\n\\nService Dealer’s Stamp & Signature\\n\\n(Free Service coupons are valid at all TATA Authorized Service Centers in India)')"
            ]
          },
          "metadata": {}
        }
      ]
    },
    {
      "cell_type": "markdown",
      "metadata": {
        "id": "5Iq8hR-x9Ti1"
      },
      "source": [
        "Let's display the type and text of some of the elements in the document:"
      ]
    },
    {
      "cell_type": "markdown",
      "metadata": {
        "id": "IlBJ9SB9MIEv"
      },
      "source": [
        "You can see that the parser also successfully differentiated between titles and narrative text from a PDF file. However, be aware that element classification is improving as the library evolves, tends to be more accurate with the \"hi_res\" strategy, and may not always correct.\n",
        "\n",
        "Now we can join the elements and print the extracted texts from the PDF"
      ]
    },
    {
      "cell_type": "code",
      "execution_count": 9,
      "metadata": {
        "id": "sB8UAQPQHDT5",
        "colab": {
          "base_uri": "https://localhost:8080/"
        },
        "outputId": "900fbfef-fd97-477b-da8b-4b7f6ba4d885"
      },
      "outputs": [
        {
          "output_type": "stream",
          "name": "stdout",
          "text": [
            "Dikshant Khandelwal Roll No.:CS22BTECH11017 B.Tech - Compute Science and Engineering Indian Institute Of Technology, Hyderabad\n",
            "\n",
            "+91-7014393414 cs22btech11017@iith.ac.in dikkpsd@gmail.com Github | linkedin\n",
            "\n",
            "Education\n",
            "\n",
            "Degree/Certificate B.Tech. CSE Senior Secondary Secondary\n",
            "\n",
            "Institute/Board Indian Institute of Technology, Hyderabad Noble Kingdom Public School Noble Kingdom Public School\n",
            "\n",
            "CGPA/Percentage 9.65 96.2% 96.83%\n",
            "\n",
            "Year 2022-Present 2022 2020\n",
            "\n",
            "Achievements\n",
            "\n",
            "JEE Advanced , Secured AIR 608 • JEE Mains, Secured AIR 1193\n",
            "\n",
            "2022 2022\n",
            "\n",
            "Experience\n",
            "\n",
            "– Teaching Assistant\n",
            "\n",
            "JUL23-NOV23\n",
            "\n",
            "∗Worked as a TA for the course Discrete Mathematics\n",
            "\n",
            "Skills & Interests\n",
            "\n",
            "– Programming Languages: Python, C/C++, Dart, Kotlin, Rust, Javscript – Frameworks: Flutter, ExpressJS, FastAPI, Tensorflow, Selenium – Interests: Android Developement, Backend Developement, Reinforcement Learning, Web Scraping – Operating Systems: Windows, Linux – Soft Skills: Communication, team-work, problem-solving\n",
            "\n",
            "Projects\n",
            "\n",
            "– StackOverFlow Backend: Built a backend for stackoverflow using FastAPI and postgreSQL as database.\n",
            "\n",
            "– E-Commerce Website: Build a MERN based E-Commerce Website where you can buy products. ALso made a\n",
            "\n",
            "Selenium based scraper to scrape product details from amazon for the website.\n",
            "\n",
            "– Notes App: A flutter based android application where you can store notes. Used Firebase for authentication and\n",
            "\n",
            "SQL as a database for storing notes.\n",
            "\n",
            "– Hitch Backend: Worked on the backend of the website Hitch, for the open source competition, OpenCode. Involved\n",
            "\n",
            "using ExpressJS and MongoDB.\n",
            "\n",
            "– Handwritten Equation Solver: A TensorFlow based model which accepts Numerical Equations from image and\n",
            "\n",
            "predicts the symbol which is used to solve the equation. Involves OpenCV for Image Segmentation.\n",
            "\n",
            "Key courses taken\n",
            "\n",
            "∗Mathematics: Linear Algebra, Basic Calculus, Discrete Mathematics, Probability & Random Variables ∗CSE: Data Structures, Computer Architecture, Software Developement Fundamentals\n",
            "\n",
            "Positions of Responsibility\n",
            "\n",
            "∗ Lambda,Core\n",
            "\n",
            "JUL23 - APR24\n",
            "\n",
            "Worked on development related projects, like StackOverFlow Backend\n",
            "\n",
            "∗ Infero,Core\n",
            "\n",
            "JUL23 - APR24\n",
            "\n",
            "Did competitive programming to improve problem-solving skills\n",
            "\n",
            "∗ Tinkerer’s Lab,ML Core\n",
            "\n",
            "JUL23 - APR24\n",
            "\n",
            "Explored Reinforcement Learning and worked on automating RoboSoccer using RL\n",
            "\n",
            "∗ Epoch,Computer Vision Core\n",
            "\n",
            "JUL23 - APR24\n",
            "\n",
            "Learnt Computer Vision Techniques and Deep Learning\n"
          ]
        }
      ],
      "source": [
        "print(\"\\n\\n\".join([str(el) for el in elements]))"
      ]
    },
    {
      "cell_type": "code",
      "source": [],
      "metadata": {
        "id": "J7gIbLhxmXbB"
      },
      "execution_count": null,
      "outputs": []
    }
  ],
  "metadata": {
    "colab": {
      "provenance": []
    },
    "kernelspec": {
      "display_name": "Python 3",
      "name": "python3"
    },
    "language_info": {
      "name": "python"
    },
    "widgets": {
      "application/vnd.jupyter.widget-state+json": {
        "6a8777b297dc4ac2960f20492abd4d89": {
          "model_module": "@jupyter-widgets/controls",
          "model_name": "HBoxModel",
          "model_module_version": "1.5.0",
          "state": {
            "_dom_classes": [],
            "_model_module": "@jupyter-widgets/controls",
            "_model_module_version": "1.5.0",
            "_model_name": "HBoxModel",
            "_view_count": null,
            "_view_module": "@jupyter-widgets/controls",
            "_view_module_version": "1.5.0",
            "_view_name": "HBoxView",
            "box_style": "",
            "children": [
              "IPY_MODEL_a01cad02053249d6981e6add2e368e18",
              "IPY_MODEL_f26fd77b87e546e0a9aca43b5ea8c79b",
              "IPY_MODEL_cf16412b1ccf4bb6b1f68f5a69378580"
            ],
            "layout": "IPY_MODEL_d3eda0b269e14d669b05441dd2b16acd"
          }
        },
        "a01cad02053249d6981e6add2e368e18": {
          "model_module": "@jupyter-widgets/controls",
          "model_name": "HTMLModel",
          "model_module_version": "1.5.0",
          "state": {
            "_dom_classes": [],
            "_model_module": "@jupyter-widgets/controls",
            "_model_module_version": "1.5.0",
            "_model_name": "HTMLModel",
            "_view_count": null,
            "_view_module": "@jupyter-widgets/controls",
            "_view_module_version": "1.5.0",
            "_view_name": "HTMLView",
            "description": "",
            "description_tooltip": null,
            "layout": "IPY_MODEL_58f74fce72924e82b54cd74e823842b7",
            "placeholder": "​",
            "style": "IPY_MODEL_df19b3f0297d4488a4287477463b6f4d",
            "value": "yolox_l0.05.onnx: 100%"
          }
        },
        "f26fd77b87e546e0a9aca43b5ea8c79b": {
          "model_module": "@jupyter-widgets/controls",
          "model_name": "FloatProgressModel",
          "model_module_version": "1.5.0",
          "state": {
            "_dom_classes": [],
            "_model_module": "@jupyter-widgets/controls",
            "_model_module_version": "1.5.0",
            "_model_name": "FloatProgressModel",
            "_view_count": null,
            "_view_module": "@jupyter-widgets/controls",
            "_view_module_version": "1.5.0",
            "_view_name": "ProgressView",
            "bar_style": "success",
            "description": "",
            "description_tooltip": null,
            "layout": "IPY_MODEL_c00081e86d4943f4973cd037fcc35343",
            "max": 216625723,
            "min": 0,
            "orientation": "horizontal",
            "style": "IPY_MODEL_f717638b6ba74e84afc9f99f2e4afdb4",
            "value": 216625723
          }
        },
        "cf16412b1ccf4bb6b1f68f5a69378580": {
          "model_module": "@jupyter-widgets/controls",
          "model_name": "HTMLModel",
          "model_module_version": "1.5.0",
          "state": {
            "_dom_classes": [],
            "_model_module": "@jupyter-widgets/controls",
            "_model_module_version": "1.5.0",
            "_model_name": "HTMLModel",
            "_view_count": null,
            "_view_module": "@jupyter-widgets/controls",
            "_view_module_version": "1.5.0",
            "_view_name": "HTMLView",
            "description": "",
            "description_tooltip": null,
            "layout": "IPY_MODEL_ece89bc313094d18b062ab1880e47329",
            "placeholder": "​",
            "style": "IPY_MODEL_e8a31fd6f14143bc8486b80218999726",
            "value": " 217M/217M [00:05&lt;00:00, 35.2MB/s]"
          }
        },
        "d3eda0b269e14d669b05441dd2b16acd": {
          "model_module": "@jupyter-widgets/base",
          "model_name": "LayoutModel",
          "model_module_version": "1.2.0",
          "state": {
            "_model_module": "@jupyter-widgets/base",
            "_model_module_version": "1.2.0",
            "_model_name": "LayoutModel",
            "_view_count": null,
            "_view_module": "@jupyter-widgets/base",
            "_view_module_version": "1.2.0",
            "_view_name": "LayoutView",
            "align_content": null,
            "align_items": null,
            "align_self": null,
            "border": null,
            "bottom": null,
            "display": null,
            "flex": null,
            "flex_flow": null,
            "grid_area": null,
            "grid_auto_columns": null,
            "grid_auto_flow": null,
            "grid_auto_rows": null,
            "grid_column": null,
            "grid_gap": null,
            "grid_row": null,
            "grid_template_areas": null,
            "grid_template_columns": null,
            "grid_template_rows": null,
            "height": null,
            "justify_content": null,
            "justify_items": null,
            "left": null,
            "margin": null,
            "max_height": null,
            "max_width": null,
            "min_height": null,
            "min_width": null,
            "object_fit": null,
            "object_position": null,
            "order": null,
            "overflow": null,
            "overflow_x": null,
            "overflow_y": null,
            "padding": null,
            "right": null,
            "top": null,
            "visibility": null,
            "width": null
          }
        },
        "58f74fce72924e82b54cd74e823842b7": {
          "model_module": "@jupyter-widgets/base",
          "model_name": "LayoutModel",
          "model_module_version": "1.2.0",
          "state": {
            "_model_module": "@jupyter-widgets/base",
            "_model_module_version": "1.2.0",
            "_model_name": "LayoutModel",
            "_view_count": null,
            "_view_module": "@jupyter-widgets/base",
            "_view_module_version": "1.2.0",
            "_view_name": "LayoutView",
            "align_content": null,
            "align_items": null,
            "align_self": null,
            "border": null,
            "bottom": null,
            "display": null,
            "flex": null,
            "flex_flow": null,
            "grid_area": null,
            "grid_auto_columns": null,
            "grid_auto_flow": null,
            "grid_auto_rows": null,
            "grid_column": null,
            "grid_gap": null,
            "grid_row": null,
            "grid_template_areas": null,
            "grid_template_columns": null,
            "grid_template_rows": null,
            "height": null,
            "justify_content": null,
            "justify_items": null,
            "left": null,
            "margin": null,
            "max_height": null,
            "max_width": null,
            "min_height": null,
            "min_width": null,
            "object_fit": null,
            "object_position": null,
            "order": null,
            "overflow": null,
            "overflow_x": null,
            "overflow_y": null,
            "padding": null,
            "right": null,
            "top": null,
            "visibility": null,
            "width": null
          }
        },
        "df19b3f0297d4488a4287477463b6f4d": {
          "model_module": "@jupyter-widgets/controls",
          "model_name": "DescriptionStyleModel",
          "model_module_version": "1.5.0",
          "state": {
            "_model_module": "@jupyter-widgets/controls",
            "_model_module_version": "1.5.0",
            "_model_name": "DescriptionStyleModel",
            "_view_count": null,
            "_view_module": "@jupyter-widgets/base",
            "_view_module_version": "1.2.0",
            "_view_name": "StyleView",
            "description_width": ""
          }
        },
        "c00081e86d4943f4973cd037fcc35343": {
          "model_module": "@jupyter-widgets/base",
          "model_name": "LayoutModel",
          "model_module_version": "1.2.0",
          "state": {
            "_model_module": "@jupyter-widgets/base",
            "_model_module_version": "1.2.0",
            "_model_name": "LayoutModel",
            "_view_count": null,
            "_view_module": "@jupyter-widgets/base",
            "_view_module_version": "1.2.0",
            "_view_name": "LayoutView",
            "align_content": null,
            "align_items": null,
            "align_self": null,
            "border": null,
            "bottom": null,
            "display": null,
            "flex": null,
            "flex_flow": null,
            "grid_area": null,
            "grid_auto_columns": null,
            "grid_auto_flow": null,
            "grid_auto_rows": null,
            "grid_column": null,
            "grid_gap": null,
            "grid_row": null,
            "grid_template_areas": null,
            "grid_template_columns": null,
            "grid_template_rows": null,
            "height": null,
            "justify_content": null,
            "justify_items": null,
            "left": null,
            "margin": null,
            "max_height": null,
            "max_width": null,
            "min_height": null,
            "min_width": null,
            "object_fit": null,
            "object_position": null,
            "order": null,
            "overflow": null,
            "overflow_x": null,
            "overflow_y": null,
            "padding": null,
            "right": null,
            "top": null,
            "visibility": null,
            "width": null
          }
        },
        "f717638b6ba74e84afc9f99f2e4afdb4": {
          "model_module": "@jupyter-widgets/controls",
          "model_name": "ProgressStyleModel",
          "model_module_version": "1.5.0",
          "state": {
            "_model_module": "@jupyter-widgets/controls",
            "_model_module_version": "1.5.0",
            "_model_name": "ProgressStyleModel",
            "_view_count": null,
            "_view_module": "@jupyter-widgets/base",
            "_view_module_version": "1.2.0",
            "_view_name": "StyleView",
            "bar_color": null,
            "description_width": ""
          }
        },
        "ece89bc313094d18b062ab1880e47329": {
          "model_module": "@jupyter-widgets/base",
          "model_name": "LayoutModel",
          "model_module_version": "1.2.0",
          "state": {
            "_model_module": "@jupyter-widgets/base",
            "_model_module_version": "1.2.0",
            "_model_name": "LayoutModel",
            "_view_count": null,
            "_view_module": "@jupyter-widgets/base",
            "_view_module_version": "1.2.0",
            "_view_name": "LayoutView",
            "align_content": null,
            "align_items": null,
            "align_self": null,
            "border": null,
            "bottom": null,
            "display": null,
            "flex": null,
            "flex_flow": null,
            "grid_area": null,
            "grid_auto_columns": null,
            "grid_auto_flow": null,
            "grid_auto_rows": null,
            "grid_column": null,
            "grid_gap": null,
            "grid_row": null,
            "grid_template_areas": null,
            "grid_template_columns": null,
            "grid_template_rows": null,
            "height": null,
            "justify_content": null,
            "justify_items": null,
            "left": null,
            "margin": null,
            "max_height": null,
            "max_width": null,
            "min_height": null,
            "min_width": null,
            "object_fit": null,
            "object_position": null,
            "order": null,
            "overflow": null,
            "overflow_x": null,
            "overflow_y": null,
            "padding": null,
            "right": null,
            "top": null,
            "visibility": null,
            "width": null
          }
        },
        "e8a31fd6f14143bc8486b80218999726": {
          "model_module": "@jupyter-widgets/controls",
          "model_name": "DescriptionStyleModel",
          "model_module_version": "1.5.0",
          "state": {
            "_model_module": "@jupyter-widgets/controls",
            "_model_module_version": "1.5.0",
            "_model_name": "DescriptionStyleModel",
            "_view_count": null,
            "_view_module": "@jupyter-widgets/base",
            "_view_module_version": "1.2.0",
            "_view_name": "StyleView",
            "description_width": ""
          }
        }
      }
    }
  },
  "nbformat": 4,
  "nbformat_minor": 0
}