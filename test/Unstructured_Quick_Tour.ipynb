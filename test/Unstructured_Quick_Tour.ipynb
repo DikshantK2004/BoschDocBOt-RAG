{
  "cells": [
    {
      "cell_type": "markdown",
      "metadata": {
        "id": "BP8bdWSbBRqw"
      },
      "source": [
        "## Quick Tour\n",
        "\n",
        "The following examples show how to get started with the `unstructured` library. See\n",
        "our [documentation page](https://unstructured-io.github.io/unstructured) for a full description\n",
        "of the features in the library.\n",
        "\n",
        "Another way to try out the `unstructured` library is by running a docker container -- compatible with either Intel/AMD or Apple Silicon! Check out the [instructions for using the docker image](https://github.com/Unstructured-IO/unstructured#dizzy-instructions-for-using-the-docker-image)."
      ]
    },
    {
      "cell_type": "code",
      "execution_count": 1,
      "metadata": {
        "colab": {
          "base_uri": "https://localhost:8080/"
        },
        "id": "jZp37lfueaeZ",
        "outputId": "12b23b34-332f-4fb2-f7b1-6adb0b0357ae"
      },
      "outputs": [
        {
          "name": "stdout",
          "output_type": "stream",
          "text": [
            "/bin/bash: line 1: apt-get: command not found\n",
            "Note: you may need to restart the kernel to use updated packages.\n",
            "Note: you may need to restart the kernel to use updated packages.\n"
          ]
        }
      ],
      "source": [
        "# Install Requirements\n",
        "!apt-get -qq install poppler-utils tesseract-ocr\n",
        "# Upgrade Pillow to latest version\n",
        "%pip install -q --user --upgrade pillow\n",
        "# Install Python Packages\n",
        "%pip install -q unstructured[\"all-docs\"]==0.12.5\n",
        "# NOTE: you may also upgrade to the latest version with the command below,\n",
        "#       though a more recent version of unstructured will not have been tested with this notebook\n",
        "# %pip install -q --upgrade unstructured"
      ]
    },
    {
      "cell_type": "markdown",
      "metadata": {
        "id": "Aq7KaO6NtYXY"
      },
      "source": [
        "See our [example docs page](https://github.com/Unstructured-IO/unstructured/tree/main/example-docs) to find example docs used in this tutorial. You can also upload your own files by clicking on “Choose Files” on the left panel then select and upload the file to Colab."
      ]
    },
    {
      "cell_type": "code",
      "execution_count": 2,
      "metadata": {
        "colab": {
          "base_uri": "https://localhost:8080/"
        },
        "id": "F2JBqRZgtq2Z",
        "outputId": "431646bf-fb3a-4ee4-c42a-8e049809b5e9"
      },
      "outputs": [
        {
          "name": "stdout",
          "output_type": "stream",
          "text": [
            "--2024-05-23 22:45:01--  https://raw.githubusercontent.com/Unstructured-IO/unstructured/main/example-docs/example-10k.html\n",
            "Resolving raw.githubusercontent.com (raw.githubusercontent.com)... 2606:50c0:8003::154, 2606:50c0:8002::154, 2606:50c0:8001::154, ...\n",
            "Connecting to raw.githubusercontent.com (raw.githubusercontent.com)|2606:50c0:8003::154|:443... connected.\n",
            "HTTP request sent, awaiting response... 200 OK\n",
            "Length: 2456707 (2.3M) [text/plain]\n",
            "Saving to: ‘example-docs/example-10k.html’\n",
            "\n",
            "example-10k.html    100%[===================>]   2.34M  1.31MB/s    in 1.8s    \n",
            "\n",
            "2024-05-23 22:45:03 (1.31 MB/s) - ‘example-docs/example-10k.html’ saved [2456707/2456707]\n",
            "\n",
            "--2024-05-23 22:45:03--  https://raw.githubusercontent.com/Unstructured-IO/unstructured/main/example-docs/layout-parser-paper-fast.pdf\n",
            "Resolving raw.githubusercontent.com (raw.githubusercontent.com)... 2606:50c0:8000::154, 2606:50c0:8001::154, 2606:50c0:8002::154, ...\n",
            "Connecting to raw.githubusercontent.com (raw.githubusercontent.com)|2606:50c0:8000::154|:443... connected.\n",
            "HTTP request sent, awaiting response... 200 OK\n",
            "Length: 172270 (168K) [application/octet-stream]\n",
            "Saving to: ‘example-docs/layout-parser-paper-fast.pdf’\n",
            "\n",
            "layout-parser-paper 100%[===================>] 168.23K   756KB/s    in 0.2s    \n",
            "\n",
            "2024-05-23 22:45:04 (756 KB/s) - ‘example-docs/layout-parser-paper-fast.pdf’ saved [172270/172270]\n",
            "\n"
          ]
        }
      ],
      "source": [
        "!mkdir -p example-docs\n",
        "# Install example-10k.html and layout-parser-paper.pdf\n",
        "!wget  https://raw.githubusercontent.com/Unstructured-IO/unstructured/main/example-docs/example-10k.html -P example-docs\n",
        "!wget  https://raw.githubusercontent.com/Unstructured-IO/unstructured/main/example-docs/layout-parser-paper-fast.pdf -P example-docs"
      ]
    },
    {
      "cell_type": "code",
      "execution_count": 1,
      "metadata": {
        "colab": {
          "base_uri": "https://localhost:8080/"
        },
        "id": "huxQF-koB_8t",
        "outputId": "fbee17c5-00a9-4675-ba6b-29c3b12db7e3"
      },
      "outputs": [
        {
          "name": "stderr",
          "output_type": "stream",
          "text": [
            "[nltk_data] Downloading package punkt to /home/dikshant/nltk_data...\n",
            "[nltk_data]   Package punkt is already up-to-date!\n",
            "[nltk_data] Downloading package averaged_perceptron_tagger to\n",
            "[nltk_data]     /home/dikshant/nltk_data...\n",
            "[nltk_data]   Package averaged_perceptron_tagger is already up-to-\n",
            "[nltk_data]       date!\n"
          ]
        },
        {
          "data": {
            "text/plain": [
              "True"
            ]
          },
          "execution_count": 1,
          "metadata": {},
          "output_type": "execute_result"
        }
      ],
      "source": [
        "# Install NLTK Data\n",
        "import nltk\n",
        "nltk.download('punkt')\n",
        "nltk.download('averaged_perceptron_tagger')"
      ]
    },
    {
      "cell_type": "markdown",
      "metadata": {
        "id": "zNtvbgOeCHg0"
      },
      "source": [
        "### HTML Parsing\n",
        "\n",
        "You can parse an HTML document using the following workflow:"
      ]
    },
    {
      "cell_type": "code",
      "execution_count": null,
      "metadata": {
        "colab": {
          "base_uri": "https://localhost:8080/",
          "height": 35
        },
        "id": "4JpZp1Cy8kFC",
        "outputId": "ad981712-00d1-428c-ea4c-4aeb87009fe7"
      },
      "outputs": [
        {
          "data": {
            "application/vnd.google.colaboratory.intrinsic+json": {
              "type": "string"
            },
            "text/plain": [
              "'\\nfrom google.colab import drive\\ndrive.mount(\\'/content/drive/\\')\\ndoc = HTMLDocument.from_file(\"drive/MyDrive/your-filename.html\")\\n'"
            ]
          },
          "execution_count": 4,
          "metadata": {},
          "output_type": "execute_result"
        }
      ],
      "source": [
        "from unstructured.documents.html import HTMLDocument\n",
        "\n",
        "doc = HTMLDocument.from_file(\"example-docs/example-10k.html\")\n",
        "\n",
        "# This is how you would use a document from your google Drive\n",
        "\"\"\"\n",
        "from google.colab import drive\n",
        "drive.mount('/content/drive/')\n",
        "doc = HTMLDocument.from_file(\"drive/MyDrive/your-filename.html\")\n",
        "\"\"\""
      ]
    },
    {
      "cell_type": "markdown",
      "metadata": {
        "id": "ZhUj4fniKBKN"
      },
      "source": [
        "The third page of output looks like the following:"
      ]
    },
    {
      "cell_type": "code",
      "execution_count": null,
      "metadata": {
        "colab": {
          "base_uri": "https://localhost:8080/"
        },
        "id": "a3wq02uiKGoa",
        "outputId": "13849fe3-b6e2-4e5f-ed28-69b69a241130"
      },
      "outputs": [
        {
          "name": "stdout",
          "output_type": "stream",
          "text": [
            "SPECIAL NOTE REGARDING FORWARD-LOOKING STATEMENTS\n",
            "\n",
            "This report contains statements that do not relate to historical or current facts but are “forward-looking” statements. These statements relate to analyses and other information based on forecasts of future results and estimates of amounts not yet determinable. These statements may also relate to future events or trends, our future prospects and proposed new products, services, developments or business strategies, among other things. These statements can generally (although not always) be identified by their use of terms and phrases such as anticipate, appear, believe, could, would, estimate, expect, indicate, intent, may, plan, predict, project, pursue, will continue and other similar terms and phrases, as well as the use of the future tense.\n",
            "\n",
            "Actual results could differ materially from those expressed or implied in our forward-looking statements. Our future financial condition and results of operations, as well as any forward-looking statements, are subject to change and to inherent known and unknown risks and uncertainties. You should not assume at any point in the future that the forward-looking statements in this report are still valid. We do not intend, and undertake no obligation, to update our forward-looking statements to reflect future events or circumstances.\n"
          ]
        }
      ],
      "source": [
        "print(doc.pages[2])"
      ]
    },
    {
      "cell_type": "code",
      "execution_count": null,
      "metadata": {
        "colab": {
          "base_uri": "https://localhost:8080/"
        },
        "id": "X2jIJGn6GM-d",
        "outputId": "58856d74-a183-44da-db39-f252dd8d11a4"
      },
      "outputs": [
        {
          "data": {
            "text/plain": [
              "[<unstructured.documents.html.HTMLTitle at 0x7fc2ebf462c0>,\n",
              " <unstructured.documents.html.HTMLNarrativeText at 0x7fc2ebf46410>,\n",
              " <unstructured.documents.html.HTMLNarrativeText at 0x7fc2ebf464a0>]"
            ]
          },
          "execution_count": 6,
          "metadata": {},
          "output_type": "execute_result"
        }
      ],
      "source": [
        "doc.pages[2].elements"
      ]
    },
    {
      "cell_type": "markdown",
      "metadata": {
        "id": "ab9bqf94GO9Z"
      },
      "source": [
        "You can see that the parser successfully differentiated between titles and narrative text."
      ]
    },
    {
      "cell_type": "markdown",
      "metadata": {
        "id": "vfurRdAnGagZ"
      },
      "source": [
        "### PDF Parsing\n",
        "\n",
        "There are two strategies availalbe for parsing PDF documents: \"fast\" and \"hi_res.\" The default strategy is \"hi_res\"\n",
        "\n",
        "If your main objective is extracting text from a \"clean\" PDF, i.e. one that does not include text in images that require OCR), go with the \"fast\" option.\n",
        "\n",
        "Otherwise, if your PDF may have images with text to extract, or, you prefer to have better structured Elements that better characterize the text items within the document, go with with the \"hi_res\" option.\n",
        "\n",
        "Naturally, \"fast\" is faster than \"hi_res\" -- by an order of magnitude!"
      ]
    },
    {
      "cell_type": "code",
      "execution_count": 2,
      "metadata": {
        "colab": {
          "base_uri": "https://localhost:8080/",
          "height": 86,
          "referenced_widgets": [
            "6a8777b297dc4ac2960f20492abd4d89",
            "a01cad02053249d6981e6add2e368e18",
            "f26fd77b87e546e0a9aca43b5ea8c79b",
            "cf16412b1ccf4bb6b1f68f5a69378580",
            "d3eda0b269e14d669b05441dd2b16acd",
            "58f74fce72924e82b54cd74e823842b7",
            "df19b3f0297d4488a4287477463b6f4d",
            "c00081e86d4943f4973cd037fcc35343",
            "f717638b6ba74e84afc9f99f2e4afdb4",
            "ece89bc313094d18b062ab1880e47329",
            "e8a31fd6f14143bc8486b80218999726"
          ]
        },
        "id": "E_WN7p3JGcLJ",
        "outputId": "fa68bd30-e37a-4db3-e688-513625352ad3"
      },
      "outputs": [
        {
          "ename": "ModuleNotFoundError",
          "evalue": "No module named 'unstructured.partition'; 'unstructured' is not a package",
          "output_type": "error",
          "traceback": [
            "\u001b[0;31m---------------------------------------------------------------------------\u001b[0m",
            "\u001b[0;31mModuleNotFoundError\u001b[0m                       Traceback (most recent call last)",
            "Cell \u001b[0;32mIn[2], line 1\u001b[0m\n\u001b[0;32m----> 1\u001b[0m \u001b[38;5;28;01mfrom\u001b[39;00m \u001b[38;5;21;01munstructured\u001b[39;00m\u001b[38;5;21;01m.\u001b[39;00m\u001b[38;5;21;01mpartition\u001b[39;00m\u001b[38;5;21;01m.\u001b[39;00m\u001b[38;5;21;01mpdf\u001b[39;00m \u001b[38;5;28;01mimport\u001b[39;00m partition_pdf\n\u001b[1;32m      3\u001b[0m \u001b[38;5;66;03m# elements = partition_pdf(\"tata.pdf\")\u001b[39;00m\n\u001b[1;32m      5\u001b[0m elements_fast \u001b[38;5;241m=\u001b[39m partition_pdf(\u001b[38;5;124m\"\u001b[39m\u001b[38;5;124m/home/dikshant/BOSCH/Round1/tata.pdf\u001b[39m\u001b[38;5;124m\"\u001b[39m,\n\u001b[1;32m      6\u001b[0m     chunking_strategy\u001b[38;5;241m=\u001b[39m\u001b[38;5;124m\"\u001b[39m\u001b[38;5;124mby_title\u001b[39m\u001b[38;5;124m\"\u001b[39m,\n\u001b[1;32m      7\u001b[0m     strategy\u001b[38;5;241m=\u001b[39m\u001b[38;5;124m\"\u001b[39m\u001b[38;5;124mfast\u001b[39m\u001b[38;5;124m\"\u001b[39m,\n\u001b[0;32m   (...)\u001b[0m\n\u001b[1;32m     10\u001b[0m     overlap_all\u001b[38;5;241m=\u001b[39m \u001b[38;5;28;01mTrue\u001b[39;00m\n\u001b[1;32m     11\u001b[0m   )\n",
            "File \u001b[0;32m~/BOSCH/Round1/better_model_v2/test/unstructured.py:1\u001b[0m\n\u001b[0;32m----> 1\u001b[0m \u001b[38;5;28;01mfrom\u001b[39;00m \u001b[38;5;21;01munstructured\u001b[39;00m\u001b[38;5;21;01m.\u001b[39;00m\u001b[38;5;21;01mpartition\u001b[39;00m\u001b[38;5;21;01m.\u001b[39;00m\u001b[38;5;21;01mpdf\u001b[39;00m \u001b[38;5;28;01mimport\u001b[39;00m partition_pdf\n\u001b[1;32m      3\u001b[0m \u001b[38;5;66;03m# elements = partition_pdf(\"tata.pdf\")\u001b[39;00m\n\u001b[1;32m      5\u001b[0m elements_fast \u001b[38;5;241m=\u001b[39m partition_pdf(\u001b[38;5;124m\"\u001b[39m\u001b[38;5;124m/home/dikshant/BOSCH/Round1/resume.pdf\u001b[39m\u001b[38;5;124m\"\u001b[39m,\n\u001b[1;32m      6\u001b[0m     chunking_strategy\u001b[38;5;241m=\u001b[39m\u001b[38;5;124m\"\u001b[39m\u001b[38;5;124mby_title\u001b[39m\u001b[38;5;124m\"\u001b[39m,\n\u001b[1;32m      7\u001b[0m     strategy\u001b[38;5;241m=\u001b[39m\u001b[38;5;124m\"\u001b[39m\u001b[38;5;124mfast\u001b[39m\u001b[38;5;124m\"\u001b[39m,\n\u001b[0;32m   (...)\u001b[0m\n\u001b[1;32m     10\u001b[0m     overlap_all\u001b[38;5;241m=\u001b[39m \u001b[38;5;28;01mTrue\u001b[39;00m\n\u001b[1;32m     11\u001b[0m   )\n",
            "\u001b[0;31mModuleNotFoundError\u001b[0m: No module named 'unstructured.partition'; 'unstructured' is not a package"
          ]
        }
      ],
      "source": [
        "from unstructured.partition.pdf import partition_pdf\n",
        "\n",
        "# elements = partition_pdf(\"tata.pdf\")\n",
        "\n",
        "elements_fast = partition_pdf(\"/home/dikshant/BOSCH/Round1/tata.pdf\",\n",
        "    chunking_strategy=\"by_title\",\n",
        "    strategy=\"fast\",\n",
        "    max_characters=1500,\n",
        "    overlap=300,\n",
        "    overlap_all= True\n",
        "  )"
      ]
    },
    {
      "cell_type": "markdown",
      "metadata": {
        "id": "Z0CELStYKNUD"
      },
      "source": [
        "Let's examine the types of elements returned for both the \"hi_res\" and \"fast\" strategies:"
      ]
    },
    {
      "cell_type": "code",
      "execution_count": 19,
      "metadata": {
        "colab": {
          "base_uri": "https://localhost:8080/",
          "height": 34
        },
        "id": "peiuDBlv2imF",
        "outputId": "78e3541b-f075-4ef4-aaa7-3a241e79025c"
      },
      "outputs": [
        {
          "data": {
            "text/plain": [
              "Counter({unstructured.documents.elements.CompositeElement: 692})"
            ]
          },
          "metadata": {},
          "output_type": "display_data"
        }
      ],
      "source": [
        "from collections import Counter\n",
        "\n",
        "# display(Counter(type(element) for element in elements))\n",
        "# print(\"\")\n",
        "# The composition of elements can be different for elements derived with the \"fast\" strategy\n",
        "display(Counter(type(element) for element in elements_fast))"
      ]
    },
    {
      "cell_type": "code",
      "execution_count": null,
      "metadata": {
        "colab": {
          "base_uri": "https://localhost:8080/",
          "height": 1000
        },
        "id": "lAApaXf2ZCEI",
        "outputId": "38c98b1d-edf1-4d77-9fce-f3cb018a5f92"
      },
      "outputs": [],
      "source": [
        "display(*[(type(element), element.text) for element in elements_fast])"
      ]
    },
    {
      "cell_type": "markdown",
      "metadata": {
        "id": "5Iq8hR-x9Ti1"
      },
      "source": [
        "Let's display the type and text of some of the elements in the document:"
      ]
    },
    {
      "cell_type": "markdown",
      "metadata": {
        "id": "IlBJ9SB9MIEv"
      },
      "source": [
        "You can see that the parser also successfully differentiated between titles and narrative text from a PDF file. However, be aware that element classification is improving as the library evolves, tends to be more accurate with the \"hi_res\" strategy, and may not always correct.\n",
        "\n",
        "Now we can join the elements and print the extracted texts from the PDF"
      ]
    },
    {
      "cell_type": "code",
      "execution_count": 9,
      "metadata": {
        "colab": {
          "base_uri": "https://localhost:8080/"
        },
        "id": "sB8UAQPQHDT5",
        "outputId": "900fbfef-fd97-477b-da8b-4b7f6ba4d885"
      },
      "outputs": [
        {
          "name": "stdout",
          "output_type": "stream",
          "text": [
            "Dikshant Khandelwal Roll No.:CS22BTECH11017 B.Tech - Compute Science and Engineering Indian Institute Of Technology, Hyderabad\n",
            "\n",
            "+91-7014393414 cs22btech11017@iith.ac.in dikkpsd@gmail.com Github | linkedin\n",
            "\n",
            "Education\n",
            "\n",
            "Degree/Certificate B.Tech. CSE Senior Secondary Secondary\n",
            "\n",
            "Institute/Board Indian Institute of Technology, Hyderabad Noble Kingdom Public School Noble Kingdom Public School\n",
            "\n",
            "CGPA/Percentage 9.65 96.2% 96.83%\n",
            "\n",
            "Year 2022-Present 2022 2020\n",
            "\n",
            "Achievements\n",
            "\n",
            "JEE Advanced , Secured AIR 608 • JEE Mains, Secured AIR 1193\n",
            "\n",
            "2022 2022\n",
            "\n",
            "Experience\n",
            "\n",
            "– Teaching Assistant\n",
            "\n",
            "JUL23-NOV23\n",
            "\n",
            "∗Worked as a TA for the course Discrete Mathematics\n",
            "\n",
            "Skills & Interests\n",
            "\n",
            "– Programming Languages: Python, C/C++, Dart, Kotlin, Rust, Javscript – Frameworks: Flutter, ExpressJS, FastAPI, Tensorflow, Selenium – Interests: Android Developement, Backend Developement, Reinforcement Learning, Web Scraping – Operating Systems: Windows, Linux – Soft Skills: Communication, team-work, problem-solving\n",
            "\n",
            "Projects\n",
            "\n",
            "– StackOverFlow Backend: Built a backend for stackoverflow using FastAPI and postgreSQL as database.\n",
            "\n",
            "– E-Commerce Website: Build a MERN based E-Commerce Website where you can buy products. ALso made a\n",
            "\n",
            "Selenium based scraper to scrape product details from amazon for the website.\n",
            "\n",
            "– Notes App: A flutter based android application where you can store notes. Used Firebase for authentication and\n",
            "\n",
            "SQL as a database for storing notes.\n",
            "\n",
            "– Hitch Backend: Worked on the backend of the website Hitch, for the open source competition, OpenCode. Involved\n",
            "\n",
            "using ExpressJS and MongoDB.\n",
            "\n",
            "– Handwritten Equation Solver: A TensorFlow based model which accepts Numerical Equations from image and\n",
            "\n",
            "predicts the symbol which is used to solve the equation. Involves OpenCV for Image Segmentation.\n",
            "\n",
            "Key courses taken\n",
            "\n",
            "∗Mathematics: Linear Algebra, Basic Calculus, Discrete Mathematics, Probability & Random Variables ∗CSE: Data Structures, Computer Architecture, Software Developement Fundamentals\n",
            "\n",
            "Positions of Responsibility\n",
            "\n",
            "∗ Lambda,Core\n",
            "\n",
            "JUL23 - APR24\n",
            "\n",
            "Worked on development related projects, like StackOverFlow Backend\n",
            "\n",
            "∗ Infero,Core\n",
            "\n",
            "JUL23 - APR24\n",
            "\n",
            "Did competitive programming to improve problem-solving skills\n",
            "\n",
            "∗ Tinkerer’s Lab,ML Core\n",
            "\n",
            "JUL23 - APR24\n",
            "\n",
            "Explored Reinforcement Learning and worked on automating RoboSoccer using RL\n",
            "\n",
            "∗ Epoch,Computer Vision Core\n",
            "\n",
            "JUL23 - APR24\n",
            "\n",
            "Learnt Computer Vision Techniques and Deep Learning\n"
          ]
        }
      ],
      "source": [
        "print(\"\\n\\n\".join([str(el) for el in elements]))"
      ]
    },
    {
      "cell_type": "code",
      "execution_count": 2,
      "metadata": {},
      "outputs": [
        {
          "name": "stdout",
          "output_type": "stream",
          "text": [
            "Collecting PyMuPDF\n",
            "  Downloading PyMuPDF-1.24.4-cp38-none-manylinux2014_x86_64.whl.metadata (3.4 kB)\n",
            "Requirement already satisfied: Pillow in /home/dikshant/.conda/envs/new_env/lib/python3.8/site-packages (10.3.0)\n",
            "Collecting PyMuPDFb==1.24.3 (from PyMuPDF)\n",
            "  Using cached PyMuPDFb-1.24.3-py3-none-manylinux2014_x86_64.manylinux_2_17_x86_64.whl.metadata (1.4 kB)\n",
            "Downloading PyMuPDF-1.24.4-cp38-none-manylinux2014_x86_64.whl (3.4 MB)\n",
            "\u001b[2K   \u001b[90m━━━━━━━━━━━━━━━━━━━━━━━━━━━━━━━━━━━━━━━━\u001b[0m \u001b[32m3.4/3.4 MB\u001b[0m \u001b[31m1.2 MB/s\u001b[0m eta \u001b[36m0:00:00\u001b[0m00:01\u001b[0m00:01\u001b[0m0m\n",
            "\u001b[?25hUsing cached PyMuPDFb-1.24.3-py3-none-manylinux2014_x86_64.manylinux_2_17_x86_64.whl (15.8 MB)\n",
            "Installing collected packages: PyMuPDFb, PyMuPDF\n",
            "Successfully installed PyMuPDF-1.24.4 PyMuPDFb-1.24.3\n"
          ]
        }
      ],
      "source": [
        "! pip install PyMuPDF Pillow"
      ]
    },
    {
      "cell_type": "code",
      "execution_count": 11,
      "metadata": {
        "id": "J7gIbLhxmXbB"
      },
      "outputs": [
        {
          "name": "stdout",
          "output_type": "stream",
          "text": [
            "[+] Found a total of 4 images in page 0\n",
            "[*] Image saved as page1_img1.png\n",
            "[*] Image saved as page1_img2.png\n",
            "[*] Image saved as page1_img3.png\n",
            "[*] Image saved as page1_img4.png\n",
            "[+] Found a total of 1 images in page 1\n",
            "[*] Image saved as page2_img1.png\n",
            "[+] Found a total of 1 images in page 2\n",
            "[*] Image saved as page3_img1.png\n",
            "[+] Found a total of 1 images in page 3\n",
            "[*] Image saved as page4_img1.png\n",
            "[!] No images found on page 4\n",
            "[!] No images found on page 5\n",
            "[!] No images found on page 6\n",
            "[!] No images found on page 7\n",
            "[+] Found a total of 2 images in page 8\n",
            "[*] Image saved as page9_img1.png\n",
            "[*] Image saved as page9_img2.png\n",
            "[+] Found a total of 2 images in page 9\n",
            "[*] Image saved as page10_img1.png\n",
            "[*] Image saved as page10_img2.png\n",
            "[+] Found a total of 1 images in page 10\n",
            "[*] Image saved as page11_img1.png\n",
            "[+] Found a total of 2 images in page 11\n",
            "[*] Image saved as page12_img1.png\n",
            "[*] Image saved as page12_img2.png\n",
            "[+] Found a total of 1 images in page 12\n",
            "[*] Image saved as page13_img1.png\n",
            "[+] Found a total of 6 images in page 13\n",
            "[*] Image saved as page14_img1.png\n",
            "[*] Image saved as page14_img2.png\n",
            "[*] Image saved as page14_img3.png\n",
            "[*] Image saved as page14_img4.png\n",
            "[*] Image saved as page14_img5.png\n",
            "[*] Image saved as page14_img6.png\n",
            "[+] Found a total of 2 images in page 14\n"
          ]
        },
        {
          "ename": "OSError",
          "evalue": "broken data stream when reading image file",
          "output_type": "error",
          "traceback": [
            "\u001b[0;31m---------------------------------------------------------------------------\u001b[0m",
            "\u001b[0;31mOSError\u001b[0m                                   Traceback (most recent call last)",
            "Cell \u001b[0;32mIn[11], line 41\u001b[0m\n\u001b[1;32m     39\u001b[0m     \t\u001b[38;5;66;03m# save image\u001b[39;00m\n\u001b[1;32m     40\u001b[0m \t\timage_filename \u001b[38;5;241m=\u001b[39m \u001b[38;5;124mf\u001b[39m\u001b[38;5;124m\"\u001b[39m\u001b[38;5;124mpage\u001b[39m\u001b[38;5;132;01m{\u001b[39;00mpage_index\u001b[38;5;241m+\u001b[39m\u001b[38;5;241m1\u001b[39m\u001b[38;5;132;01m}\u001b[39;00m\u001b[38;5;124m_img\u001b[39m\u001b[38;5;132;01m{\u001b[39;00mimg_index\u001b[38;5;132;01m}\u001b[39;00m\u001b[38;5;124m.png\u001b[39m\u001b[38;5;124m\"\u001b[39m\n\u001b[0;32m---> 41\u001b[0m \t\t\u001b[43mimage\u001b[49m\u001b[38;5;241;43m.\u001b[39;49m\u001b[43msave\u001b[49m\u001b[43m(\u001b[49m\u001b[43mos\u001b[49m\u001b[38;5;241;43m.\u001b[39;49m\u001b[43mpath\u001b[49m\u001b[38;5;241;43m.\u001b[39;49m\u001b[43mjoin\u001b[49m\u001b[43m(\u001b[49m\u001b[43moutput_dir\u001b[49m\u001b[43m,\u001b[49m\u001b[43m \u001b[49m\u001b[43mimage_filename\u001b[49m\u001b[43m)\u001b[49m\u001b[43m)\u001b[49m\n\u001b[1;32m     42\u001b[0m \t\t\u001b[38;5;28mprint\u001b[39m(\u001b[38;5;124mf\u001b[39m\u001b[38;5;124m\"\u001b[39m\u001b[38;5;124m[*] Image saved as \u001b[39m\u001b[38;5;132;01m{\u001b[39;00mimage_filename\u001b[38;5;132;01m}\u001b[39;00m\u001b[38;5;124m\"\u001b[39m)\n\u001b[1;32m     43\u001b[0m \t\t\u001b[38;5;66;03m# get the image extension \u001b[39;00m\n",
            "File \u001b[0;32m~/.conda/envs/new_env/lib/python3.8/site-packages/PIL/Image.py:2421\u001b[0m, in \u001b[0;36mImage.save\u001b[0;34m(self, fp, format, **params)\u001b[0m\n\u001b[1;32m   2418\u001b[0m     filename \u001b[38;5;241m=\u001b[39m os\u001b[38;5;241m.\u001b[39mpath\u001b[38;5;241m.\u001b[39mrealpath(os\u001b[38;5;241m.\u001b[39mfspath(fp\u001b[38;5;241m.\u001b[39mname))\n\u001b[1;32m   2420\u001b[0m \u001b[38;5;66;03m# may mutate self!\u001b[39;00m\n\u001b[0;32m-> 2421\u001b[0m \u001b[38;5;28;43mself\u001b[39;49m\u001b[38;5;241;43m.\u001b[39;49m\u001b[43m_ensure_mutable\u001b[49m\u001b[43m(\u001b[49m\u001b[43m)\u001b[49m\n\u001b[1;32m   2423\u001b[0m save_all \u001b[38;5;241m=\u001b[39m params\u001b[38;5;241m.\u001b[39mpop(\u001b[38;5;124m\"\u001b[39m\u001b[38;5;124msave_all\u001b[39m\u001b[38;5;124m\"\u001b[39m, \u001b[38;5;28;01mFalse\u001b[39;00m)\n\u001b[1;32m   2424\u001b[0m \u001b[38;5;28mself\u001b[39m\u001b[38;5;241m.\u001b[39mencoderinfo \u001b[38;5;241m=\u001b[39m params\n",
            "File \u001b[0;32m~/.conda/envs/new_env/lib/python3.8/site-packages/PIL/Image.py:595\u001b[0m, in \u001b[0;36mImage._ensure_mutable\u001b[0;34m(self)\u001b[0m\n\u001b[1;32m    593\u001b[0m \u001b[38;5;28;01mdef\u001b[39;00m \u001b[38;5;21m_ensure_mutable\u001b[39m(\u001b[38;5;28mself\u001b[39m) \u001b[38;5;241m-\u001b[39m\u001b[38;5;241m>\u001b[39m \u001b[38;5;28;01mNone\u001b[39;00m:\n\u001b[1;32m    594\u001b[0m     \u001b[38;5;28;01mif\u001b[39;00m \u001b[38;5;28mself\u001b[39m\u001b[38;5;241m.\u001b[39mreadonly:\n\u001b[0;32m--> 595\u001b[0m         \u001b[38;5;28;43mself\u001b[39;49m\u001b[38;5;241;43m.\u001b[39;49m\u001b[43m_copy\u001b[49m\u001b[43m(\u001b[49m\u001b[43m)\u001b[49m\n\u001b[1;32m    596\u001b[0m     \u001b[38;5;28;01melse\u001b[39;00m:\n\u001b[1;32m    597\u001b[0m         \u001b[38;5;28mself\u001b[39m\u001b[38;5;241m.\u001b[39mload()\n",
            "File \u001b[0;32m~/.conda/envs/new_env/lib/python3.8/site-packages/PIL/Image.py:588\u001b[0m, in \u001b[0;36mImage._copy\u001b[0;34m(self)\u001b[0m\n\u001b[1;32m    587\u001b[0m \u001b[38;5;28;01mdef\u001b[39;00m \u001b[38;5;21m_copy\u001b[39m(\u001b[38;5;28mself\u001b[39m) \u001b[38;5;241m-\u001b[39m\u001b[38;5;241m>\u001b[39m \u001b[38;5;28;01mNone\u001b[39;00m:\n\u001b[0;32m--> 588\u001b[0m     \u001b[38;5;28;43mself\u001b[39;49m\u001b[38;5;241;43m.\u001b[39;49m\u001b[43mload\u001b[49m\u001b[43m(\u001b[49m\u001b[43m)\u001b[49m\n\u001b[1;32m    589\u001b[0m     \u001b[38;5;28mself\u001b[39m\u001b[38;5;241m.\u001b[39mim \u001b[38;5;241m=\u001b[39m \u001b[38;5;28mself\u001b[39m\u001b[38;5;241m.\u001b[39mim\u001b[38;5;241m.\u001b[39mcopy()\n\u001b[1;32m    590\u001b[0m     \u001b[38;5;28mself\u001b[39m\u001b[38;5;241m.\u001b[39mpyaccess \u001b[38;5;241m=\u001b[39m \u001b[38;5;28;01mNone\u001b[39;00m\n",
            "File \u001b[0;32m~/.conda/envs/new_env/lib/python3.8/site-packages/PIL/Jpeg2KImagePlugin.py:313\u001b[0m, in \u001b[0;36mJpeg2KImageFile.load\u001b[0;34m(self)\u001b[0m\n\u001b[1;32m    310\u001b[0m     t3 \u001b[38;5;241m=\u001b[39m (t[\u001b[38;5;241m3\u001b[39m][\u001b[38;5;241m0\u001b[39m], \u001b[38;5;28mself\u001b[39m\u001b[38;5;241m.\u001b[39m_reduce, \u001b[38;5;28mself\u001b[39m\u001b[38;5;241m.\u001b[39mlayers, t[\u001b[38;5;241m3\u001b[39m][\u001b[38;5;241m3\u001b[39m], t[\u001b[38;5;241m3\u001b[39m][\u001b[38;5;241m4\u001b[39m])\n\u001b[1;32m    311\u001b[0m     \u001b[38;5;28mself\u001b[39m\u001b[38;5;241m.\u001b[39mtile \u001b[38;5;241m=\u001b[39m [(t[\u001b[38;5;241m0\u001b[39m], (\u001b[38;5;241m0\u001b[39m, \u001b[38;5;241m0\u001b[39m) \u001b[38;5;241m+\u001b[39m \u001b[38;5;28mself\u001b[39m\u001b[38;5;241m.\u001b[39msize, t[\u001b[38;5;241m2\u001b[39m], t3)]\n\u001b[0;32m--> 313\u001b[0m \u001b[38;5;28;01mreturn\u001b[39;00m \u001b[43mImageFile\u001b[49m\u001b[38;5;241;43m.\u001b[39;49m\u001b[43mImageFile\u001b[49m\u001b[38;5;241;43m.\u001b[39;49m\u001b[43mload\u001b[49m\u001b[43m(\u001b[49m\u001b[38;5;28;43mself\u001b[39;49m\u001b[43m)\u001b[49m\n",
            "File \u001b[0;32m~/.conda/envs/new_env/lib/python3.8/site-packages/PIL/ImageFile.py:310\u001b[0m, in \u001b[0;36mImageFile.load\u001b[0;34m(self)\u001b[0m\n\u001b[1;32m    306\u001b[0m \u001b[38;5;28mself\u001b[39m\u001b[38;5;241m.\u001b[39mfp \u001b[38;5;241m=\u001b[39m \u001b[38;5;28;01mNone\u001b[39;00m\n\u001b[1;32m    308\u001b[0m \u001b[38;5;28;01mif\u001b[39;00m \u001b[38;5;129;01mnot\u001b[39;00m \u001b[38;5;28mself\u001b[39m\u001b[38;5;241m.\u001b[39mmap \u001b[38;5;129;01mand\u001b[39;00m \u001b[38;5;129;01mnot\u001b[39;00m LOAD_TRUNCATED_IMAGES \u001b[38;5;129;01mand\u001b[39;00m err_code \u001b[38;5;241m<\u001b[39m \u001b[38;5;241m0\u001b[39m:\n\u001b[1;32m    309\u001b[0m     \u001b[38;5;66;03m# still raised if decoder fails to return anything\u001b[39;00m\n\u001b[0;32m--> 310\u001b[0m     \u001b[38;5;28;01mraise\u001b[39;00m _get_oserror(err_code, encoder\u001b[38;5;241m=\u001b[39m\u001b[38;5;28;01mFalse\u001b[39;00m)\n\u001b[1;32m    312\u001b[0m \u001b[38;5;28;01mreturn\u001b[39;00m Image\u001b[38;5;241m.\u001b[39mImage\u001b[38;5;241m.\u001b[39mload(\u001b[38;5;28mself\u001b[39m)\n",
            "\u001b[0;31mOSError\u001b[0m: broken data stream when reading image file"
          ]
        }
      ],
      "source": [
        "# STEP 1 \n",
        "# import libraries \n",
        "import fitz \n",
        "import io \n",
        "import os\n",
        "from PIL import Image \n",
        "\n",
        "# STEP 2 \n",
        "# file path you want to extract images from \n",
        "file = \"/home/dikshant/BOSCH/Round1/tata.pdf\"\n",
        "\n",
        "# open the file \n",
        "pdf_file = fitz.open(file) \n",
        "\n",
        "# STEP 3 \n",
        "output_dir = './images'\n",
        "# iterate over PDF pages \n",
        "for page_index in range(len(pdf_file)): \n",
        "\n",
        "\t# get the page itself \n",
        "\tpage = pdf_file[page_index] \n",
        "\timage_list = page.get_images()\n",
        "\n",
        "\t# printing number of images found in this page \n",
        "\tif image_list: \n",
        "\t\tprint( \n",
        "\t\t\tf\"[+] Found a total of {len(image_list)} images in page {page_index}\") \n",
        "\telse: \n",
        "\t\tprint(\"[!] No images found on page\", page_index) \n",
        "\tfor img_index, img in enumerate(page.get_images(), start=1): \n",
        "\n",
        "\t\t# get the XREF of the image \n",
        "\t\txref = img[0] \n",
        "\t\t# extract the image bytes \n",
        "\t\tbase_image = pdf_file.extract_image(xref)\n",
        "\t\timage_bytes = base_image[\"image\"] \n",
        "\t\timage = Image.open(io.BytesIO(image_bytes))\n",
        "\n",
        "    \t# save image\n",
        "\t\timage_filename = f\"page{page_index+1}_img{img_index}.png\"\n",
        "\t\timage.save(os.path.join(output_dir, image_filename))\n",
        "\t\tprint(f\"[*] Image saved as {image_filename}\")\n",
        "\t\t# get the image extension \n"
      ]
    }
  ],
  "metadata": {
    "colab": {
      "provenance": []
    },
    "kernelspec": {
      "display_name": "Python 3",
      "name": "python3"
    },
    "language_info": {
      "codemirror_mode": {
        "name": "ipython",
        "version": 3
      },
      "file_extension": ".py",
      "mimetype": "text/x-python",
      "name": "python",
      "nbconvert_exporter": "python",
      "pygments_lexer": "ipython3",
      "version": "3.9.19"
    },
    "widgets": {
      "application/vnd.jupyter.widget-state+json": {
        "58f74fce72924e82b54cd74e823842b7": {
          "model_module": "@jupyter-widgets/base",
          "model_module_version": "1.2.0",
          "model_name": "LayoutModel",
          "state": {
            "_model_module": "@jupyter-widgets/base",
            "_model_module_version": "1.2.0",
            "_model_name": "LayoutModel",
            "_view_count": null,
            "_view_module": "@jupyter-widgets/base",
            "_view_module_version": "1.2.0",
            "_view_name": "LayoutView",
            "align_content": null,
            "align_items": null,
            "align_self": null,
            "border": null,
            "bottom": null,
            "display": null,
            "flex": null,
            "flex_flow": null,
            "grid_area": null,
            "grid_auto_columns": null,
            "grid_auto_flow": null,
            "grid_auto_rows": null,
            "grid_column": null,
            "grid_gap": null,
            "grid_row": null,
            "grid_template_areas": null,
            "grid_template_columns": null,
            "grid_template_rows": null,
            "height": null,
            "justify_content": null,
            "justify_items": null,
            "left": null,
            "margin": null,
            "max_height": null,
            "max_width": null,
            "min_height": null,
            "min_width": null,
            "object_fit": null,
            "object_position": null,
            "order": null,
            "overflow": null,
            "overflow_x": null,
            "overflow_y": null,
            "padding": null,
            "right": null,
            "top": null,
            "visibility": null,
            "width": null
          }
        },
        "6a8777b297dc4ac2960f20492abd4d89": {
          "model_module": "@jupyter-widgets/controls",
          "model_module_version": "1.5.0",
          "model_name": "HBoxModel",
          "state": {
            "_dom_classes": [],
            "_model_module": "@jupyter-widgets/controls",
            "_model_module_version": "1.5.0",
            "_model_name": "HBoxModel",
            "_view_count": null,
            "_view_module": "@jupyter-widgets/controls",
            "_view_module_version": "1.5.0",
            "_view_name": "HBoxView",
            "box_style": "",
            "children": [
              "IPY_MODEL_a01cad02053249d6981e6add2e368e18",
              "IPY_MODEL_f26fd77b87e546e0a9aca43b5ea8c79b",
              "IPY_MODEL_cf16412b1ccf4bb6b1f68f5a69378580"
            ],
            "layout": "IPY_MODEL_d3eda0b269e14d669b05441dd2b16acd"
          }
        },
        "a01cad02053249d6981e6add2e368e18": {
          "model_module": "@jupyter-widgets/controls",
          "model_module_version": "1.5.0",
          "model_name": "HTMLModel",
          "state": {
            "_dom_classes": [],
            "_model_module": "@jupyter-widgets/controls",
            "_model_module_version": "1.5.0",
            "_model_name": "HTMLModel",
            "_view_count": null,
            "_view_module": "@jupyter-widgets/controls",
            "_view_module_version": "1.5.0",
            "_view_name": "HTMLView",
            "description": "",
            "description_tooltip": null,
            "layout": "IPY_MODEL_58f74fce72924e82b54cd74e823842b7",
            "placeholder": "​",
            "style": "IPY_MODEL_df19b3f0297d4488a4287477463b6f4d",
            "value": "yolox_l0.05.onnx: 100%"
          }
        },
        "c00081e86d4943f4973cd037fcc35343": {
          "model_module": "@jupyter-widgets/base",
          "model_module_version": "1.2.0",
          "model_name": "LayoutModel",
          "state": {
            "_model_module": "@jupyter-widgets/base",
            "_model_module_version": "1.2.0",
            "_model_name": "LayoutModel",
            "_view_count": null,
            "_view_module": "@jupyter-widgets/base",
            "_view_module_version": "1.2.0",
            "_view_name": "LayoutView",
            "align_content": null,
            "align_items": null,
            "align_self": null,
            "border": null,
            "bottom": null,
            "display": null,
            "flex": null,
            "flex_flow": null,
            "grid_area": null,
            "grid_auto_columns": null,
            "grid_auto_flow": null,
            "grid_auto_rows": null,
            "grid_column": null,
            "grid_gap": null,
            "grid_row": null,
            "grid_template_areas": null,
            "grid_template_columns": null,
            "grid_template_rows": null,
            "height": null,
            "justify_content": null,
            "justify_items": null,
            "left": null,
            "margin": null,
            "max_height": null,
            "max_width": null,
            "min_height": null,
            "min_width": null,
            "object_fit": null,
            "object_position": null,
            "order": null,
            "overflow": null,
            "overflow_x": null,
            "overflow_y": null,
            "padding": null,
            "right": null,
            "top": null,
            "visibility": null,
            "width": null
          }
        },
        "cf16412b1ccf4bb6b1f68f5a69378580": {
          "model_module": "@jupyter-widgets/controls",
          "model_module_version": "1.5.0",
          "model_name": "HTMLModel",
          "state": {
            "_dom_classes": [],
            "_model_module": "@jupyter-widgets/controls",
            "_model_module_version": "1.5.0",
            "_model_name": "HTMLModel",
            "_view_count": null,
            "_view_module": "@jupyter-widgets/controls",
            "_view_module_version": "1.5.0",
            "_view_name": "HTMLView",
            "description": "",
            "description_tooltip": null,
            "layout": "IPY_MODEL_ece89bc313094d18b062ab1880e47329",
            "placeholder": "​",
            "style": "IPY_MODEL_e8a31fd6f14143bc8486b80218999726",
            "value": " 217M/217M [00:05&lt;00:00, 35.2MB/s]"
          }
        },
        "d3eda0b269e14d669b05441dd2b16acd": {
          "model_module": "@jupyter-widgets/base",
          "model_module_version": "1.2.0",
          "model_name": "LayoutModel",
          "state": {
            "_model_module": "@jupyter-widgets/base",
            "_model_module_version": "1.2.0",
            "_model_name": "LayoutModel",
            "_view_count": null,
            "_view_module": "@jupyter-widgets/base",
            "_view_module_version": "1.2.0",
            "_view_name": "LayoutView",
            "align_content": null,
            "align_items": null,
            "align_self": null,
            "border": null,
            "bottom": null,
            "display": null,
            "flex": null,
            "flex_flow": null,
            "grid_area": null,
            "grid_auto_columns": null,
            "grid_auto_flow": null,
            "grid_auto_rows": null,
            "grid_column": null,
            "grid_gap": null,
            "grid_row": null,
            "grid_template_areas": null,
            "grid_template_columns": null,
            "grid_template_rows": null,
            "height": null,
            "justify_content": null,
            "justify_items": null,
            "left": null,
            "margin": null,
            "max_height": null,
            "max_width": null,
            "min_height": null,
            "min_width": null,
            "object_fit": null,
            "object_position": null,
            "order": null,
            "overflow": null,
            "overflow_x": null,
            "overflow_y": null,
            "padding": null,
            "right": null,
            "top": null,
            "visibility": null,
            "width": null
          }
        },
        "df19b3f0297d4488a4287477463b6f4d": {
          "model_module": "@jupyter-widgets/controls",
          "model_module_version": "1.5.0",
          "model_name": "DescriptionStyleModel",
          "state": {
            "_model_module": "@jupyter-widgets/controls",
            "_model_module_version": "1.5.0",
            "_model_name": "DescriptionStyleModel",
            "_view_count": null,
            "_view_module": "@jupyter-widgets/base",
            "_view_module_version": "1.2.0",
            "_view_name": "StyleView",
            "description_width": ""
          }
        },
        "e8a31fd6f14143bc8486b80218999726": {
          "model_module": "@jupyter-widgets/controls",
          "model_module_version": "1.5.0",
          "model_name": "DescriptionStyleModel",
          "state": {
            "_model_module": "@jupyter-widgets/controls",
            "_model_module_version": "1.5.0",
            "_model_name": "DescriptionStyleModel",
            "_view_count": null,
            "_view_module": "@jupyter-widgets/base",
            "_view_module_version": "1.2.0",
            "_view_name": "StyleView",
            "description_width": ""
          }
        },
        "ece89bc313094d18b062ab1880e47329": {
          "model_module": "@jupyter-widgets/base",
          "model_module_version": "1.2.0",
          "model_name": "LayoutModel",
          "state": {
            "_model_module": "@jupyter-widgets/base",
            "_model_module_version": "1.2.0",
            "_model_name": "LayoutModel",
            "_view_count": null,
            "_view_module": "@jupyter-widgets/base",
            "_view_module_version": "1.2.0",
            "_view_name": "LayoutView",
            "align_content": null,
            "align_items": null,
            "align_self": null,
            "border": null,
            "bottom": null,
            "display": null,
            "flex": null,
            "flex_flow": null,
            "grid_area": null,
            "grid_auto_columns": null,
            "grid_auto_flow": null,
            "grid_auto_rows": null,
            "grid_column": null,
            "grid_gap": null,
            "grid_row": null,
            "grid_template_areas": null,
            "grid_template_columns": null,
            "grid_template_rows": null,
            "height": null,
            "justify_content": null,
            "justify_items": null,
            "left": null,
            "margin": null,
            "max_height": null,
            "max_width": null,
            "min_height": null,
            "min_width": null,
            "object_fit": null,
            "object_position": null,
            "order": null,
            "overflow": null,
            "overflow_x": null,
            "overflow_y": null,
            "padding": null,
            "right": null,
            "top": null,
            "visibility": null,
            "width": null
          }
        },
        "f26fd77b87e546e0a9aca43b5ea8c79b": {
          "model_module": "@jupyter-widgets/controls",
          "model_module_version": "1.5.0",
          "model_name": "FloatProgressModel",
          "state": {
            "_dom_classes": [],
            "_model_module": "@jupyter-widgets/controls",
            "_model_module_version": "1.5.0",
            "_model_name": "FloatProgressModel",
            "_view_count": null,
            "_view_module": "@jupyter-widgets/controls",
            "_view_module_version": "1.5.0",
            "_view_name": "ProgressView",
            "bar_style": "success",
            "description": "",
            "description_tooltip": null,
            "layout": "IPY_MODEL_c00081e86d4943f4973cd037fcc35343",
            "max": 216625723,
            "min": 0,
            "orientation": "horizontal",
            "style": "IPY_MODEL_f717638b6ba74e84afc9f99f2e4afdb4",
            "value": 216625723
          }
        },
        "f717638b6ba74e84afc9f99f2e4afdb4": {
          "model_module": "@jupyter-widgets/controls",
          "model_module_version": "1.5.0",
          "model_name": "ProgressStyleModel",
          "state": {
            "_model_module": "@jupyter-widgets/controls",
            "_model_module_version": "1.5.0",
            "_model_name": "ProgressStyleModel",
            "_view_count": null,
            "_view_module": "@jupyter-widgets/base",
            "_view_module_version": "1.2.0",
            "_view_name": "StyleView",
            "bar_color": null,
            "description_width": ""
          }
        }
      }
    }
  },
  "nbformat": 4,
  "nbformat_minor": 0
}
